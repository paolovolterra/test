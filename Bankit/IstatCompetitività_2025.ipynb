{
 "cells": [
  {
   "cell_type": "code",
   "execution_count": null,
   "metadata": {},
   "outputs": [],
   "source": [
    "import os\n",
    "import pandas as pd\n",
    "os.chdir('D:/xlsx2025')\n",
    "folder_path = \"D:/xlsx2025\""
   ]
  },
  {
   "cell_type": "code",
   "execution_count": null,
   "metadata": {},
   "outputs": [
    {
     "name": "stdout",
     "output_type": "stream",
     "text": [
      "File CSV salvato in: 2025_Indicatori_principali.csv\n"
     ]
    }
   ],
   "source": [
    "# 'Indicatori principali'\n",
    "file_paths = [os.path.join(folder_path, f) for f in os.listdir(folder_path) if f.endswith(\".xlsx\")]\n",
    "\n",
    "# Lista per accumulare i dati\n",
    "data_frames = []\n",
    "\n",
    "# Elaborazione dei file\n",
    "for file_path in file_paths:\n",
    "    # Carica il file Excel\n",
    "    xls = pd.ExcelFile(file_path)\n",
    "    \n",
    "    # Controlla se lo sheet \"Indicatori principali\" esiste\n",
    "    if \"Indicatori principali\" in xls.sheet_names:\n",
    "        df = pd.read_excel(xls, sheet_name=\"Indicatori principali\", header=1)  # Usa la seconda riga come header\n",
    "        \n",
    "        # Se il foglio ha dati, lo aggiungo alla lista\n",
    "        if not df.empty:\n",
    "            df = df.iloc[1:]  # I dati partono dalla riga 3\n",
    "            df.insert(0, \"Excel_File\", os.path.basename(file_path))  # Aggiunge il nome del file\n",
    "            df.insert(1, \"Sheet_Name\", \"Indicatori principali\")  # Aggiunge il nome del foglio\n",
    "            \n",
    "            # Pulizia della colonna \"Note\" rimuovendo \\r\\n\n",
    "            if \"Note\" in df.columns:\n",
    "                df[\"Note\"] = df[\"Note\"].astype(str).str.replace(\"\\r\\n|\\n|\\r\", \" \", regex=True)\n",
    "            \n",
    "            data_frames.append(df)\n",
    "\n",
    "# Concatenazione di tutti i dataframe raccolti\n",
    "if data_frames:\n",
    "    merged_df = pd.concat(data_frames, ignore_index=True)\n",
    "    \n",
    "    # Salvataggio in CSV\n",
    "    output_csv_path = \"2025_Indicatori_principali.csv\"\n",
    "    merged_df.to_csv(output_csv_path, index=False, sep='|', decimal=',')\n",
    "    print(f\"File CSV salvato in: {output_csv_path}\")\n",
    "else:\n",
    "    print(\"Nessun dato valido trovato nei file Excel.\")\n",
    "\n"
   ]
  },
  {
   "cell_type": "code",
   "execution_count": null,
   "metadata": {},
   "outputs": [
    {
     "name": "stdout",
     "output_type": "stream",
     "text": [
      "File CSV salvato in: 2025_Indicatori_regionali.csv\n"
     ]
    }
   ],
   "source": [
    "# indicatori principali\n",
    "file_paths = [os.path.join(folder_path, f) for f in os.listdir(folder_path) if f.endswith(\".xlsx\")]\n",
    "\n",
    "# Lista per accumulare i dati\n",
    "data_frames = []\n",
    "\n",
    "# Elaborazione dei file\n",
    "for file_path in file_paths:\n",
    "    # Carica il file Excel\n",
    "    xls = pd.ExcelFile(file_path)\n",
    "    \n",
    "    # Controlla se lo sheet \"Indicatori principali\" esiste\n",
    "    if \"Indicatori principali\" in xls.sheet_names:\n",
    "        df = pd.read_excel(xls, sheet_name=\"Indicatori regionali\", header=1)  # Usa la seconda riga come header\n",
    "        \n",
    "        # Se il foglio ha dati, lo aggiungo alla lista\n",
    "        if not df.empty:\n",
    "            df = df.iloc[1:]  # I dati partono dalla riga 3\n",
    "            df.insert(0, \"Excel_File\", os.path.basename(file_path))  # Aggiunge il nome del file\n",
    "            df.insert(1, \"Sheet_Name\", \"Indicatori principali\")  # Aggiunge il nome del foglio\n",
    "            \n",
    "            # Pulizia della colonna \"Note\" rimuovendo \\r\\n\n",
    "            if \"Note\" in df.columns:\n",
    "                df[\"Note\"] = df[\"Note\"].astype(str).str.replace(\"\\r\\n|\\n|\\r\", \" \", regex=True)\n",
    "            \n",
    "            data_frames.append(df)\n",
    "\n",
    "# Concatenazione di tutti i dataframe raccolti\n",
    "if data_frames:\n",
    "    merged_df = pd.concat(data_frames, ignore_index=True)\n",
    "    \n",
    "    # Salvataggio in CSV\n",
    "    output_csv_path = \"2025_Indicatori_regionali.csv\"\n",
    "    merged_df.to_csv(output_csv_path, index=False, sep='|', decimal=',')\n",
    "    print(f\"File CSV salvato in: {output_csv_path}\")\n",
    "else:\n",
    "    print(\"Nessun dato valido trovato nei file Excel.\")\n",
    "\n"
   ]
  },
  {
   "cell_type": "code",
   "execution_count": null,
   "metadata": {},
   "outputs": [
    {
     "name": "stdout",
     "output_type": "stream",
     "text": [
      "File CSV salvato in: 2025_Indicatori_regionali.csv\n"
     ]
    }
   ],
   "source": [
    "# Indicatori regionali\n",
    "file_paths = [os.path.join(folder_path, f) for f in os.listdir(folder_path) if f.endswith(\".xlsx\")]\n",
    "\n",
    "# Lista per accumulare i dati\n",
    "data_frames = []\n",
    "\n",
    "# Elaborazione dei file\n",
    "for file_path in file_paths:\n",
    "    # Carica il file Excel\n",
    "    xls = pd.ExcelFile(file_path)\n",
    "    \n",
    "    # Controlla se lo sheet \"Indicatori principali\" esiste\n",
    "    if \"Indicatori principali\" in xls.sheet_names:\n",
    "        df = pd.read_excel(xls, sheet_name=\"Indicatori regionali\", header=1)  # Usa la seconda riga come header\n",
    "        \n",
    "        # Se il foglio ha dati, lo aggiungo alla lista\n",
    "        if not df.empty:\n",
    "            df = df.iloc[1:]  # I dati partono dalla riga 3\n",
    "            df.insert(0, \"Excel_File\", os.path.basename(file_path))  # Aggiunge il nome del file\n",
    "            df.insert(1, \"Sheet_Name\", \"Indicatori principali\")  # Aggiunge il nome del foglio\n",
    "            \n",
    "            # Pulizia della colonna \"Note\" rimuovendo \\r\\n\n",
    "            if \"Note\" in df.columns:\n",
    "                df[\"Note\"] = df[\"Note\"].astype(str).str.replace(\"\\r\\n|\\n|\\r\", \" \", regex=True)\n",
    "            \n",
    "            data_frames.append(df)\n",
    "\n",
    "# Concatenazione di tutti i dataframe raccolti\n",
    "if data_frames:\n",
    "    merged_df = pd.concat(data_frames, ignore_index=True)\n",
    "    \n",
    "    # Salvataggio in CSV\n",
    "    output_csv_path = \"2025_Indicatori_regionali.csv\"\n",
    "    merged_df.to_csv(output_csv_path, index=False, sep='|', decimal=',')\n",
    "    print(f\"File CSV salvato in: {output_csv_path}\")\n",
    "else:\n",
    "    print(\"Nessun dato valido trovato nei file Excel.\")\n",
    "\n"
   ]
  },
  {
   "cell_type": "code",
   "execution_count": null,
   "metadata": {},
   "outputs": [
    {
     "name": "stdout",
     "output_type": "stream",
     "text": [
      "File CSV salvato in: 2025_FocusIndicatori.csv\n"
     ]
    }
   ],
   "source": [
    "# Focus indicatori\n",
    "file_paths = [os.path.join(folder_path, f) for f in os.listdir(folder_path) if f.endswith(\".xlsx\")]\n",
    "\n",
    "# Lista per accumulare i dati\n",
    "data_frames = []\n",
    "\n",
    "# Elaborazione dei file\n",
    "for file_path in file_paths:\n",
    "    # Carica il file Excel\n",
    "    xls = pd.ExcelFile(file_path)\n",
    "    \n",
    "    # Controlla se lo sheet \"Focus indicatori\" esiste\n",
    "    if \"Indicatori principali\" in xls.sheet_names:\n",
    "        df = pd.read_excel(xls, sheet_name=\"Indicatori regionali\", header=1)  # Usa la seconda riga come header\n",
    "        \n",
    "        # Se il foglio ha dati, lo aggiungo alla lista\n",
    "        if not df.empty:\n",
    "            df = df.iloc[1:]  # I dati partono dalla riga 3\n",
    "            df.insert(0, \"Excel_File\", os.path.basename(file_path))  # Aggiunge il nome del file\n",
    "            df.insert(1, \"Sheet_Name\", \"Indicatori principali\")  # Aggiunge il nome del foglio\n",
    "            \n",
    "            # Pulizia della colonna \"Note\" rimuovendo \\r\\n\n",
    "            if \"Note\" in df.columns:\n",
    "                df[\"Note\"] = df[\"Note\"].astype(str).str.replace(\"\\r\\n|\\n|\\r\", \" \", regex=True)\n",
    "            \n",
    "            data_frames.append(df)\n",
    "\n",
    "# Concatenazione di tutti i dataframe raccolti\n",
    "if data_frames:\n",
    "    merged_df = pd.concat(data_frames, ignore_index=True)\n",
    "    \n",
    "    # Salvataggio in CSV\n",
    "    output_csv_path = \"2025_FocusIndicatori.csv\"\n",
    "    merged_df.to_csv(output_csv_path, index=False, sep='|', decimal=',')\n",
    "    print(f\"File CSV salvato in: {output_csv_path}\")\n",
    "else:\n",
    "    print(\"Nessun dato valido trovato nei file Excel.\")\n",
    "\n"
   ]
  }
 ],
 "metadata": {
  "kernelspec": {
   "display_name": "Python 3",
   "language": "python",
   "name": "python3"
  },
  "language_info": {
   "codemirror_mode": {
    "name": "ipython",
    "version": 3
   },
   "file_extension": ".py",
   "mimetype": "text/x-python",
   "name": "python",
   "nbconvert_exporter": "python",
   "pygments_lexer": "ipython3",
   "version": "3.11.7"
  }
 },
 "nbformat": 4,
 "nbformat_minor": 2
}
