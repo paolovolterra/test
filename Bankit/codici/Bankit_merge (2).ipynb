{
 "cells": [
  {
   "cell_type": "markdown",
   "id": "32076498-6a00-46e3-a3e4-b2f2d853fb05",
   "metadata": {},
   "source": [
    "# Bankit - append di tutti i files csv e trasformazione in un unico parquet"
   ]
  },
  {
   "cell_type": "code",
   "execution_count": 1,
   "id": "c7a95a7b-4664-4aa0-9828-eb482636e1bc",
   "metadata": {},
   "outputs": [],
   "source": [
    "import pandas as pd\n",
    "import os\n",
    "import glob\n",
    "import numpy as np\n",
    "pd.options.display.float_format = \"{:,.2f}\".format"
   ]
  },
  {
   "cell_type": "markdown",
   "id": "ca38bdb0-cf32-436b-9e72-c56ca656d02e",
   "metadata": {},
   "source": [
    "## creazione unico parquet"
   ]
  },
  {
   "cell_type": "code",
   "execution_count": 95,
   "id": "7cd4df7c-09ee-40c6-8df8-df52cfe86c55",
   "metadata": {},
   "outputs": [
    {
     "data": {
      "text/plain": [
       "(2551968, 26)"
      ]
     },
     "execution_count": 95,
     "metadata": {},
     "output_type": "execute_result"
    }
   ],
   "source": [
    "date_column = ['DATA_OSS']\n",
    "df_append = pd.DataFrame() #append all files together\n",
    "\n",
    "os.chdir('D:/files/csv/Bankit/STAFINRA')\n",
    "csv_files = glob.glob('*TFR*.{}'.format('csv')) \n",
    "for file in csv_files:\n",
    "            df_temp = pd.read_csv( file, encoding='utf-8',sep=';',\n",
    "                                  dtype={'VALORE':'float', 'SET_CTP':'str','LOC_SPORT':'str','COMP_TIT':'str'},\n",
    "                                  parse_dates=date_column, dayfirst=False,decimal=\",\")\n",
    "            df_temp['tabella'] = file.split('.')[0].split('-')[-1]\n",
    "            df_temp['fonte'] = \"STAFINRA\"\n",
    "            df_append = pd.concat([df_append, df_temp],ignore_index=True)        \n",
    "#df_append = df_append.fillna(value=np.nan)\n",
    "#df_append = df_append.replace([None], ['VOID'], regex=True)\n",
    "df_append.to_parquet('D:/files/csv/Bankit/STAFINRA.parquet', engine='fastparquet') # pip install fastparquet ,  object_encoding={'SET_CTP': 'bytes'}\n",
    "df_append.shape\n",
    "\n",
    "# df = pd.concat([df, pd.DataFrame([new_row])], ignore_index=True)"
   ]
  },
  {
   "cell_type": "code",
   "execution_count": 39,
   "id": "e7d606c2-464c-4947-9338-ce4fb744d585",
   "metadata": {},
   "outputs": [
    {
     "data": {
      "text/plain": [
       "(7044671, 36)"
      ]
     },
     "execution_count": 39,
     "metadata": {},
     "output_type": "execute_result"
    }
   ],
   "source": [
    "date_column = ['DATA_OSS']\n",
    "df_append = pd.DataFrame() #append all files together\n",
    "\n",
    "os.chdir('D:/files/csv/Bankit/STABOL')\n",
    "csv_files = glob.glob('*TDB*.{}'.format('csv')) \n",
    "for file in csv_files:\n",
    "            df_temp = pd.read_csv(file, sep=';',dtype={'VALORE':'float'},parse_dates=date_column, dayfirst=False,decimal=\",\")\n",
    "            df_temp['tabella'] = file.split('.')[0].split('-')[-1]\n",
    "            df_temp['fonte'] = \"STABOL\"\n",
    "            df_append = pd.concat([df_append, df_temp],ignore_index=True)  \n",
    "df_append.shape"
   ]
  },
  {
   "cell_type": "code",
   "execution_count": null,
   "id": "6c717eb4-879e-49d4-a0a2-14beca0ccb10",
   "metadata": {},
   "outputs": [],
   "source": [
    "date_column = ['DATA_OSS']\n",
    "df_append = pd.DataFrame() #append all files together\n",
    "\n",
    "os.chdir('D:/files/csv/Bankit/STACORIS')\n",
    "csv_files = glob.glob('*TRI*.{}'.format('csv')) \n",
    "for file in csv_files:\n",
    "            df_temp = pd.read_csv(file, sep=';',dtype={'VALORE':'float'},parse_dates=date_column, dayfirst=False,decimal=\",\")\n",
    "            df_temp['tabella'] = file.split('.')[0].split('-')[-1]\n",
    "            df_temp['fonte'] = \"STACORIS\"\n",
    "            df_append = pd.concat([df_append, df_temp],ignore_index=True)  \n",
    "df_append.shape"
   ]
  },
  {
   "cell_type": "code",
   "execution_count": null,
   "id": "e3776c71-5bff-4ed7-b605-8578cb110239",
   "metadata": {},
   "outputs": [],
   "source": [
    "date_column = ['DATA_OSS']\n",
    "df_append = pd.DataFrame() #append all files together\n",
    "\n",
    "os.chdir('D:/files/csv/Bankit/STAMEN')\n",
    "csv_files = glob.glob('*TDB*.{}'.format('csv')) \n",
    "for file in csv_files:\n",
    "            df_temp = pd.read_csv(file, sep=';',dtype={'VALORE':'float'},parse_dates=date_column, dayfirst=False,decimal=\",\")\n",
    "            df_temp['tabella'] = file.split('.')[0].split('-')[-1]\n",
    "            df_temp['fonte'] = \"STAMEN\"\n",
    "            df_append = pd.concat([df_append, df_temp],ignore_index=True)  \n",
    "df_append.shape"
   ]
  },
  {
   "cell_type": "code",
   "execution_count": null,
   "id": "281877b7-9c46-4c88-b1cc-adb84d289692",
   "metadata": {},
   "outputs": [],
   "source": [
    "date_column = ['DATA_OSS']\n",
    "df_append = pd.DataFrame() #append all files together\n",
    "\n",
    "os.chdir('D:/files/csv/Bankit/STAATER')\n",
    "csv_files = glob.glob('*TDB*.{}'.format('csv')) \n",
    "for file in csv_files:\n",
    "            df_temp = pd.read_csv(file, sep=';',dtype={'VALORE':'float'},parse_dates=date_column, dayfirst=False,decimal=\",\")\n",
    "            df_temp['tabella'] = file.split('.')[0].split('-')[-1]\n",
    "            df_temp['fonte'] = \"STAATER\"\n",
    "            df_append = pd.concat([df_append, df_temp],ignore_index=True)  \n",
    "df_append.shape"
   ]
  },
  {
   "cell_type": "code",
   "execution_count": null,
   "id": "ae9d6415-72cf-48ec-81af-8ce26833790e",
   "metadata": {},
   "outputs": [],
   "source": [
    "df_append[['fonte','tabella','DATA_OSS','VALORE']].sort_values(by='VALORE', ascending=False).head(20)"
   ]
  },
  {
   "cell_type": "code",
   "execution_count": null,
   "id": "84590d54-d4d1-42d5-a4fc-35cf313ccaec",
   "metadata": {},
   "outputs": [],
   "source": [
    "df_append.to_parquet('D:/Bankit.parquet')"
   ]
  },
  {
   "cell_type": "markdown",
   "id": "d177622e-85ff-4e1f-bb90-88b3bea779af",
   "metadata": {},
   "source": [
    "## creazione DB"
   ]
  },
  {
   "cell_type": "code",
   "execution_count": 3,
   "id": "5e24ef71-63f8-4d12-8dd4-2d8a1fcdfd9a",
   "metadata": {},
   "outputs": [
    {
     "data": {
      "text/plain": [
       "<duckdb.duckdb.DuckDBPyConnection at 0x203b22fd370>"
      ]
     },
     "execution_count": 3,
     "metadata": {},
     "output_type": "execute_result"
    }
   ],
   "source": [
    "import pyarrow.parquet as pq # pip install pyarrow\n",
    "import duckdb\n",
    "con = duckdb.connect()\n",
    "con.execute(\"PRAGMA threads=8\") # enable automatic query parallelization\n",
    "con.execute(\"PRAGMA enable_object_cache\") # enable caching of parquet metadata"
   ]
  },
  {
   "cell_type": "code",
   "execution_count": 5,
   "id": "b8eea6a6-ad90-4e6a-8f3f-e680706cd290",
   "metadata": {},
   "outputs": [],
   "source": [
    "# tabella dati\n",
    "conn = duckdb.connect(database='D:/Bankit.duckdb', read_only=False)"
   ]
  },
  {
   "cell_type": "code",
   "execution_count": 4,
   "id": "758f9cf5-ca9b-4816-9ed1-00c89c6564cd",
   "metadata": {},
   "outputs": [
    {
     "data": {
      "text/plain": [
       "(444698, 41)"
      ]
     },
     "execution_count": 4,
     "metadata": {},
     "output_type": "execute_result"
    }
   ],
   "source": [
    "df = (con.execute(\"SELECT * FROM 'D:/Bankit.parquet' where tabella = 'TFR10194'\").df())\n",
    "## read parquet file\n",
    "df_append = pd.read_parquet('d:/Bankit.parquet')\n",
    "df.shape"
   ]
  },
  {
   "cell_type": "markdown",
   "id": "69b2f11c-b154-41e0-9084-791508d9ea94",
   "metadata": {},
   "source": [
    "### tabelle"
   ]
  },
  {
   "cell_type": "code",
   "execution_count": null,
   "id": "19f0ed96-0488-476f-bc31-78c690d98fb3",
   "metadata": {},
   "outputs": [],
   "source": [
    "# crezione tabella completa\n",
    "conn.execute(f'''CREATE TABLE tabelle AS SELECT * FROM read_parquet('D:/Bankit.parquet');''').df()"
   ]
  },
  {
   "cell_type": "code",
   "execution_count": null,
   "id": "94acaac4-0dd8-484d-80d6-6ac57e2d1eda",
   "metadata": {},
   "outputs": [],
   "source": [
    "# creazione tabella dimensioni stafinra\n",
    "conn.execute(f'''CREATE TABLE IF NOT EXISTS  stafinra (Dominio VARCHAR, Elemento VARCHAR, Descrizione VARCHAR);''').df()\n",
    "conn.execute(f'''COPY stafinra FROM 'D:/files/csv/Bankit/stafinra/20240403_125435-DOMAIN-STAFINRA-MULTICUBE.csv' WITH (HEADER, DELIMITER ';');''').df()"
   ]
  },
  {
   "cell_type": "code",
   "execution_count": 5,
   "id": "816bf32a-a22e-4657-ab03-f7b1c91bfac2",
   "metadata": {},
   "outputs": [
    {
     "data": {
      "text/html": [
       "<div>\n",
       "<style scoped>\n",
       "    .dataframe tbody tr th:only-of-type {\n",
       "        vertical-align: middle;\n",
       "    }\n",
       "\n",
       "    .dataframe tbody tr th {\n",
       "        vertical-align: top;\n",
       "    }\n",
       "\n",
       "    .dataframe thead th {\n",
       "        text-align: right;\n",
       "    }\n",
       "</style>\n",
       "<table border=\"1\" class=\"dataframe\">\n",
       "  <thead>\n",
       "    <tr style=\"text-align: right;\">\n",
       "      <th></th>\n",
       "      <th>Count</th>\n",
       "    </tr>\n",
       "  </thead>\n",
       "  <tbody>\n",
       "    <tr>\n",
       "      <th>0</th>\n",
       "      <td>211</td>\n",
       "    </tr>\n",
       "  </tbody>\n",
       "</table>\n",
       "</div>"
      ],
      "text/plain": [
       "   Count\n",
       "0    211"
      ]
     },
     "execution_count": 5,
     "metadata": {},
     "output_type": "execute_result"
    }
   ],
   "source": [
    "# creazione tabella dimensioni stamen\n",
    "conn.execute(f'''CREATE TABLE IF NOT EXISTS  stamen (Dominio VARCHAR, Elemento VARCHAR, Descrizione VARCHAR);''').df()\n",
    "conn.execute(f'''COPY stamen FROM 'D:/files/csv/Bankit/stamen/DOMAIN-stamen-MULTICUBE.csv' WITH (HEADER, DELIMITER ';');''').df()"
   ]
  },
  {
   "cell_type": "raw",
   "id": "848a3fa1-6484-4a3b-b017-f37cdc1257e1",
   "metadata": {},
   "source": [
    "conn.execute(f'''drop table stafinra;''').df()"
   ]
  },
  {
   "cell_type": "raw",
   "id": "cc2c35bd-091b-40f4-bc36-af4152f4737b",
   "metadata": {},
   "source": [
    "conn.execute(f'''show tables;''').df()"
   ]
  },
  {
   "cell_type": "markdown",
   "id": "ba6f5f4f-854d-4afb-b01c-43fb27c5ee85",
   "metadata": {},
   "source": [
    "### estrazione TFR10194"
   ]
  },
  {
   "cell_type": "code",
   "execution_count": 8,
   "id": "eeca8751-709c-42c8-b3f6-a7d1b695d412",
   "metadata": {},
   "outputs": [],
   "source": [
    "TFR10194 = conn.execute(f'''Select DATA_OSS,  VALORE from tabelle where tabella = 'TFR10194';''').df()\n",
    "TFR10194.shape"
   ]
  },
  {
   "cell_type": "code",
   "execution_count": 35,
   "id": "b3092f14-0e09-4d0e-a871-1bfec9628232",
   "metadata": {},
   "outputs": [
    {
     "data": {
      "text/html": [
       "<div>\n",
       "<style scoped>\n",
       "    .dataframe tbody tr th:only-of-type {\n",
       "        vertical-align: middle;\n",
       "    }\n",
       "\n",
       "    .dataframe tbody tr th {\n",
       "        vertical-align: top;\n",
       "    }\n",
       "\n",
       "    .dataframe thead th {\n",
       "        text-align: right;\n",
       "    }\n",
       "</style>\n",
       "<table border=\"1\" class=\"dataframe\">\n",
       "  <thead>\n",
       "    <tr style=\"text-align: right;\">\n",
       "      <th></th>\n",
       "      <th>Dominio</th>\n",
       "      <th>Elemento</th>\n",
       "      <th>Descrizione</th>\n",
       "    </tr>\n",
       "  </thead>\n",
       "  <tbody>\n",
       "    <tr>\n",
       "      <th>0</th>\n",
       "      <td>ATECO</td>\n",
       "      <td>000000</td>\n",
       "      <td>Informazione non prevista o non applicabile</td>\n",
       "    </tr>\n",
       "    <tr>\n",
       "      <th>1</th>\n",
       "      <td>ATECO</td>\n",
       "      <td>1000055</td>\n",
       "      <td>Prodotti chimici e farmaceutici</td>\n",
       "    </tr>\n",
       "    <tr>\n",
       "      <th>2</th>\n",
       "      <td>ATECO</td>\n",
       "      <td>1000060</td>\n",
       "      <td>Fabbricazione di autoveicoli e altri mezzi di ...</td>\n",
       "    </tr>\n",
       "    <tr>\n",
       "      <th>3</th>\n",
       "      <td>ATECO</td>\n",
       "      <td>1000061</td>\n",
       "      <td>Industrie alimentari, delle bevande e del tabacco</td>\n",
       "    </tr>\n",
       "    <tr>\n",
       "      <th>4</th>\n",
       "      <td>ATECO</td>\n",
       "      <td>1000062</td>\n",
       "      <td>Industrie tessili,  abbigliamento e articoli i...</td>\n",
       "    </tr>\n",
       "    <tr>\n",
       "      <th>5</th>\n",
       "      <td>ATECO</td>\n",
       "      <td>1000063</td>\n",
       "      <td>Carta, articoli di carta e prodotti della stampa</td>\n",
       "    </tr>\n",
       "    <tr>\n",
       "      <th>6</th>\n",
       "      <td>ATECO</td>\n",
       "      <td>1000065</td>\n",
       "      <td>Attività manifatturiera residuale (divisioni 1...</td>\n",
       "    </tr>\n",
       "    <tr>\n",
       "      <th>7</th>\n",
       "      <td>ATECO</td>\n",
       "      <td>1000074</td>\n",
       "      <td>Attività residuali (sezioni O P Q R S T)</td>\n",
       "    </tr>\n",
       "    <tr>\n",
       "      <th>8</th>\n",
       "      <td>ATECO</td>\n",
       "      <td>1004999</td>\n",
       "      <td>Totale ateco al netto della sez. U</td>\n",
       "    </tr>\n",
       "    <tr>\n",
       "      <th>9</th>\n",
       "      <td>ATECO</td>\n",
       "      <td>1005001</td>\n",
       "      <td>Attività industriali</td>\n",
       "    </tr>\n",
       "  </tbody>\n",
       "</table>\n",
       "</div>"
      ],
      "text/plain": [
       "  Dominio Elemento                                        Descrizione\n",
       "0   ATECO   000000        Informazione non prevista o non applicabile\n",
       "1   ATECO  1000055                    Prodotti chimici e farmaceutici\n",
       "2   ATECO  1000060  Fabbricazione di autoveicoli e altri mezzi di ...\n",
       "3   ATECO  1000061  Industrie alimentari, delle bevande e del tabacco\n",
       "4   ATECO  1000062  Industrie tessili,  abbigliamento e articoli i...\n",
       "5   ATECO  1000063   Carta, articoli di carta e prodotti della stampa\n",
       "6   ATECO  1000065  Attività manifatturiera residuale (divisioni 1...\n",
       "7   ATECO  1000074           Attività residuali (sezioni O P Q R S T)\n",
       "8   ATECO  1004999                 Totale ateco al netto della sez. U\n",
       "9   ATECO  1005001                               Attività industriali"
      ]
     },
     "execution_count": 35,
     "metadata": {},
     "output_type": "execute_result"
    }
   ],
   "source": [
    "conn.execute(f'''Select * from stafinra limit 10;''').df()"
   ]
  },
  {
   "cell_type": "code",
   "execution_count": 10,
   "id": "804d8507-15c0-4f5b-898b-ca475c754701",
   "metadata": {},
   "outputs": [
    {
     "data": {
      "text/html": [
       "<div>\n",
       "<style scoped>\n",
       "    .dataframe tbody tr th:only-of-type {\n",
       "        vertical-align: middle;\n",
       "    }\n",
       "\n",
       "    .dataframe tbody tr th {\n",
       "        vertical-align: top;\n",
       "    }\n",
       "\n",
       "    .dataframe thead th {\n",
       "        text-align: right;\n",
       "    }\n",
       "</style>\n",
       "<table border=\"1\" class=\"dataframe\">\n",
       "  <thead>\n",
       "    <tr style=\"text-align: right;\">\n",
       "      <th></th>\n",
       "      <th>count_star()</th>\n",
       "    </tr>\n",
       "  </thead>\n",
       "  <tbody>\n",
       "    <tr>\n",
       "      <th>0</th>\n",
       "      <td>17093341</td>\n",
       "    </tr>\n",
       "  </tbody>\n",
       "</table>\n",
       "</div>"
      ],
      "text/plain": [
       "   count_star()\n",
       "0      17093341"
      ]
     },
     "execution_count": 10,
     "metadata": {},
     "output_type": "execute_result"
    }
   ],
   "source": [
    "conn.execute(f'''select count(*) from tabelle;''').df()"
   ]
  },
  {
   "cell_type": "markdown",
   "id": "30a1667c-4b09-4fab-9a93-45a1ae508003",
   "metadata": {},
   "source": [
    "## Query"
   ]
  },
  {
   "cell_type": "raw",
   "id": "fcc31e3d-8848-482c-b1f8-e07366a465ea",
   "metadata": {},
   "source": [
    "TFR10194 = df_append.query('tabella==\"TFR10194\"')\n",
    "TFR10194 = TFR10194.dropna(how= \"all\", axis=1)\n",
    "\n",
    "TFR10194.shape"
   ]
  },
  {
   "cell_type": "raw",
   "id": "4dd2de55-c74a-4839-abce-1cbbb8729961",
   "metadata": {},
   "source": [
    "df = conn.execute(f'''Select tabella,data_oss, ENTE_SEGN, ATECO_CTP, LOC_CTP, set_ctp, valore, b.descrizione NUT,c.descrizione target \\\n",
    "from tabelle a left JOIN stafinra b ON a.LOC_CTP = b.Elemento \\\n",
    "left JOIN stafinra c ON a.set_CTP = c.Elemento where LOC_CTP = 'IT' order by VALORE desc;''').df()"
   ]
  },
  {
   "cell_type": "code",
   "execution_count": 54,
   "id": "4c847288-1654-411c-86fe-d12efdab7c34",
   "metadata": {},
   "outputs": [
    {
     "data": {
      "text/plain": [
       "(1890, 8)"
      ]
     },
     "execution_count": 54,
     "metadata": {},
     "output_type": "execute_result"
    }
   ],
   "source": [
    "df = conn.execute(f'''Select data_oss, ENTE_SEGN, ATECO_CTP, LOC_CTP, set_ctp, valore, b.descrizione NUT,c.descrizione target \\\n",
    "from tabelle a left JOIN stafinra b ON a.LOC_CTP = b.Elemento \\\n",
    "left JOIN stafinra c ON a.set_CTP = c.Elemento where tabella = 'TFR20232' and data_oss = '2011-12-31';''').df()\n",
    "df['DATA_OSS'] = pd.to_datetime(df['DATA_OSS'])\n",
    "df['VALORE'] = df['VALORE'].astype(int)\n",
    "\n",
    "TFR20232 = df\n",
    "df.shape"
   ]
  },
  {
   "cell_type": "code",
   "execution_count": 6,
   "id": "ccbaac40-a598-4d82-8c92-a573783aa31f",
   "metadata": {},
   "outputs": [],
   "source": [
    "pd.set_option('display.max_colwidth', 500)"
   ]
  },
  {
   "cell_type": "code",
   "execution_count": 11,
   "id": "38e471b2-5f27-4794-9279-449bebeef418",
   "metadata": {},
   "outputs": [
    {
     "data": {
      "text/html": [
       "<div>\n",
       "<style scoped>\n",
       "    .dataframe tbody tr th:only-of-type {\n",
       "        vertical-align: middle;\n",
       "    }\n",
       "\n",
       "    .dataframe tbody tr th {\n",
       "        vertical-align: top;\n",
       "    }\n",
       "\n",
       "    .dataframe thead th {\n",
       "        text-align: right;\n",
       "    }\n",
       "</style>\n",
       "<table border=\"1\" class=\"dataframe\">\n",
       "  <thead>\n",
       "    <tr style=\"text-align: right;\">\n",
       "      <th></th>\n",
       "      <th>DATA_OSS</th>\n",
       "      <th>ENTE_SEGN</th>\n",
       "      <th>ATECO_CTP</th>\n",
       "      <th>LOC_CTP</th>\n",
       "      <th>SET_CTP</th>\n",
       "      <th>VALORE</th>\n",
       "      <th>NUT</th>\n",
       "      <th>target</th>\n",
       "    </tr>\n",
       "  </thead>\n",
       "  <tbody>\n",
       "    <tr>\n",
       "      <th>0</th>\n",
       "      <td>2011-12-31</td>\n",
       "      <td>1070001</td>\n",
       "      <td>1005009</td>\n",
       "      <td>ITI43</td>\n",
       "      <td>SBI42</td>\n",
       "      <td>366712344</td>\n",
       "      <td>Roma</td>\n",
       "      <td>Totale residenti al netto delle Istituzioni finanziarie monetarie</td>\n",
       "    </tr>\n",
       "    <tr>\n",
       "      <th>2</th>\n",
       "      <td>2011-12-31</td>\n",
       "      <td>1070001</td>\n",
       "      <td>1004999</td>\n",
       "      <td>ITI43</td>\n",
       "      <td>SBI25</td>\n",
       "      <td>95685337</td>\n",
       "      <td>Roma</td>\n",
       "      <td>Società non finanziarie e famiglie produttrici</td>\n",
       "    </tr>\n",
       "    <tr>\n",
       "      <th>4</th>\n",
       "      <td>2011-12-31</td>\n",
       "      <td>1070001</td>\n",
       "      <td>1005003</td>\n",
       "      <td>ITI43</td>\n",
       "      <td>SBI25</td>\n",
       "      <td>55692482</td>\n",
       "      <td>Roma</td>\n",
       "      <td>Società non finanziarie e famiglie produttrici</td>\n",
       "    </tr>\n",
       "    <tr>\n",
       "      <th>3</th>\n",
       "      <td>2011-12-31</td>\n",
       "      <td>1070001</td>\n",
       "      <td>1005001</td>\n",
       "      <td>ITI43</td>\n",
       "      <td>SBI25</td>\n",
       "      <td>20472203</td>\n",
       "      <td>Roma</td>\n",
       "      <td>Società non finanziarie e famiglie produttrici</td>\n",
       "    </tr>\n",
       "    <tr>\n",
       "      <th>1</th>\n",
       "      <td>2011-12-31</td>\n",
       "      <td>1070001</td>\n",
       "      <td>F</td>\n",
       "      <td>ITI43</td>\n",
       "      <td>SBI25</td>\n",
       "      <td>18769779</td>\n",
       "      <td>Roma</td>\n",
       "      <td>Società non finanziarie e famiglie produttrici</td>\n",
       "    </tr>\n",
       "  </tbody>\n",
       "</table>\n",
       "</div>"
      ],
      "text/plain": [
       "    DATA_OSS ENTE_SEGN ATECO_CTP LOC_CTP SET_CTP     VALORE   NUT  \\\n",
       "0 2011-12-31   1070001   1005009   ITI43   SBI42  366712344  Roma   \n",
       "2 2011-12-31   1070001   1004999   ITI43   SBI25   95685337  Roma   \n",
       "4 2011-12-31   1070001   1005003   ITI43   SBI25   55692482  Roma   \n",
       "3 2011-12-31   1070001   1005001   ITI43   SBI25   20472203  Roma   \n",
       "1 2011-12-31   1070001         F   ITI43   SBI25   18769779  Roma   \n",
       "\n",
       "                                                              target  \n",
       "0  Totale residenti al netto delle Istituzioni finanziarie monetarie  \n",
       "2                     Società non finanziarie e famiglie produttrici  \n",
       "4                     Società non finanziarie e famiglie produttrici  \n",
       "3                     Società non finanziarie e famiglie produttrici  \n",
       "1                     Società non finanziarie e famiglie produttrici  "
      ]
     },
     "execution_count": 11,
     "metadata": {},
     "output_type": "execute_result"
    }
   ],
   "source": [
    "# TDB20295\n",
    "df = conn.execute(f'''Select data_oss, ENTE_SEGN, ATECO_CTP, LOC_CTP, set_ctp, valore, b.descrizione NUT,c.descrizione target from tabelle a \\\n",
    "left JOIN stamen b ON a.LOC_CTP = b.Elemento left JOIN stamen c ON a.set_CTP = c.Elemento where tabella = 'TDB20224' and data_oss = '2011-12-31' \\\n",
    "and NUT IN ('Roma');''').df()   # and SET_CTP IN ('SBI59','600','','','','','')\n",
    "df['DATA_OSS'] = pd.to_datetime(df['DATA_OSS'])\n",
    "df['VALORE'] = df['VALORE'].astype(int)\n",
    "TDB20295 = df\n",
    "df.sort_values(by='VALORE', ascending = False)"
   ]
  },
  {
   "cell_type": "code",
   "execution_count": 10,
   "id": "3b8250d2-4401-44b4-bc31-74e96f6460ea",
   "metadata": {},
   "outputs": [],
   "source": [
    "df.to_excel('D:/butta.xlsx')"
   ]
  },
  {
   "cell_type": "code",
   "execution_count": 9,
   "id": "49e5a8fe-4b7d-47c6-9749-dbf8f9eb46fa",
   "metadata": {},
   "outputs": [
    {
     "ename": "CatalogException",
     "evalue": "Catalog Error: Copy Function with name gdal does not exist!\nDid you mean \"parquet\"?",
     "output_type": "error",
     "traceback": [
      "\u001b[1;31m---------------------------------------------------------------------------\u001b[0m",
      "\u001b[1;31mCatalogException\u001b[0m                          Traceback (most recent call last)",
      "Cell \u001b[1;32mIn[9], line 1\u001b[0m\n\u001b[1;32m----> 1\u001b[0m \u001b[43mconn\u001b[49m\u001b[38;5;241;43m.\u001b[39;49m\u001b[43mexecute\u001b[49m\u001b[43m(\u001b[49m\u001b[38;5;124;43mf\u001b[39;49m\u001b[38;5;124;43m'''\u001b[39;49m\u001b[38;5;124;43mCOPY (Select data_oss, ENTE_SEGN, ATECO_CTP, LOC_CTP, set_ctp, cast(valore as integer) valore from tabelle where tabella = \u001b[39;49m\u001b[38;5;124;43m'\u001b[39;49m\u001b[38;5;124;43mTFR20232\u001b[39;49m\u001b[38;5;124;43m'\u001b[39;49m\u001b[38;5;124;43m) \u001b[39;49m\u001b[38;5;130;43;01m\\\u001b[39;49;00m\n\u001b[0;32m      2\u001b[0m \u001b[38;5;124;43mTO \u001b[39;49m\u001b[38;5;124;43m'\u001b[39;49m\u001b[38;5;124;43mD:\u001b[39;49m\u001b[38;5;130;43;01m\\b\u001b[39;49;00m\u001b[38;5;124;43mutta.xlsx\u001b[39;49m\u001b[38;5;124;43m'\u001b[39;49m\u001b[38;5;124;43m WITH (FORMAT GDAL, DRIVER \u001b[39;49m\u001b[38;5;124;43m'\u001b[39;49m\u001b[38;5;124;43mxlsx\u001b[39;49m\u001b[38;5;124;43m'\u001b[39;49m\u001b[38;5;124;43m);\u001b[39;49m\u001b[38;5;124;43m'''\u001b[39;49m\u001b[43m)\u001b[49m\u001b[38;5;241m.\u001b[39mdf()\n",
      "\u001b[1;31mCatalogException\u001b[0m: Catalog Error: Copy Function with name gdal does not exist!\nDid you mean \"parquet\"?"
     ]
    }
   ],
   "source": [
    "conn.execute(f'''COPY (Select data_oss, ENTE_SEGN, ATECO_CTP, LOC_CTP, set_ctp, cast(valore as integer) valore from tabelle where tabella = 'TFR20232') \\\n",
    "TO 'D:\\butta.xlsx' WITH (FORMAT GDAL, DRIVER 'xlsx');''').df()"
   ]
  },
  {
   "cell_type": "code",
   "execution_count": null,
   "id": "651b9d87-97cb-42a5-a4ef-f006d3532781",
   "metadata": {},
   "outputs": [],
   "source": []
  },
  {
   "cell_type": "code",
   "execution_count": null,
   "id": "e2a52151-f44b-4055-91c4-abb1b0d6f4cf",
   "metadata": {},
   "outputs": [],
   "source": []
  },
  {
   "cell_type": "code",
   "execution_count": null,
   "id": "b876043c-7cc6-4a13-bac2-a84b064965ee",
   "metadata": {},
   "outputs": [],
   "source": []
  },
  {
   "cell_type": "code",
   "execution_count": null,
   "id": "3c0247d7-7a83-4469-b037-83067100e74d",
   "metadata": {},
   "outputs": [],
   "source": []
  }
 ],
 "metadata": {
  "kernelspec": {
   "display_name": "Python 3 (ipykernel)",
   "language": "python",
   "name": "python3"
  },
  "language_info": {
   "codemirror_mode": {
    "name": "ipython",
    "version": 3
   },
   "file_extension": ".py",
   "mimetype": "text/x-python",
   "name": "python",
   "nbconvert_exporter": "python",
   "pygments_lexer": "ipython3",
   "version": "3.11.4"
  }
 },
 "nbformat": 4,
 "nbformat_minor": 5
}
