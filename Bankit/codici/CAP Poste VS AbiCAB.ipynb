{
 "cells": [
  {
   "cell_type": "markdown",
   "id": "2b0a455d-2b05-4b09-8c2d-84ac93df5341",
   "metadata": {},
   "source": [
    "# CAP"
   ]
  },
  {
   "cell_type": "code",
   "execution_count": 19,
   "id": "6ac567fe",
   "metadata": {},
   "outputs": [
    {
     "name": "stdout",
     "output_type": "stream",
     "text": [
      "Elaboro: https://www.comuni-italiani.it/cap/80.html\n"
     ]
    },
    {
     "name": "stderr",
     "output_type": "stream",
     "text": [
      "C:\\Users\\PVolterr\\AppData\\Local\\Temp\\ipykernel_20504\\1503377621.py:18: FutureWarning: Passing literal html to 'read_html' is deprecated and will be removed in a future version. To read from a literal string, wrap it in a 'StringIO' object.\n",
      "  tables = pd.read_html(response.text)\n"
     ]
    },
    {
     "name": "stdout",
     "output_type": "stream",
     "text": [
      "Elaboro: https://www.comuni-italiani.it/cap/81.html\n"
     ]
    },
    {
     "name": "stderr",
     "output_type": "stream",
     "text": [
      "C:\\Users\\PVolterr\\AppData\\Local\\Temp\\ipykernel_20504\\1503377621.py:18: FutureWarning: Passing literal html to 'read_html' is deprecated and will be removed in a future version. To read from a literal string, wrap it in a 'StringIO' object.\n",
      "  tables = pd.read_html(response.text)\n"
     ]
    },
    {
     "name": "stdout",
     "output_type": "stream",
     "text": [
      "Elaboro: https://www.comuni-italiani.it/cap/82.html\n"
     ]
    },
    {
     "name": "stderr",
     "output_type": "stream",
     "text": [
      "C:\\Users\\PVolterr\\AppData\\Local\\Temp\\ipykernel_20504\\1503377621.py:18: FutureWarning: Passing literal html to 'read_html' is deprecated and will be removed in a future version. To read from a literal string, wrap it in a 'StringIO' object.\n",
      "  tables = pd.read_html(response.text)\n"
     ]
    },
    {
     "name": "stdout",
     "output_type": "stream",
     "text": [
      "Elaboro: https://www.comuni-italiani.it/cap/83.html\n"
     ]
    },
    {
     "name": "stderr",
     "output_type": "stream",
     "text": [
      "C:\\Users\\PVolterr\\AppData\\Local\\Temp\\ipykernel_20504\\1503377621.py:18: FutureWarning: Passing literal html to 'read_html' is deprecated and will be removed in a future version. To read from a literal string, wrap it in a 'StringIO' object.\n",
      "  tables = pd.read_html(response.text)\n"
     ]
    },
    {
     "name": "stdout",
     "output_type": "stream",
     "text": [
      "Elaboro: https://www.comuni-italiani.it/cap/84.html\n"
     ]
    },
    {
     "name": "stderr",
     "output_type": "stream",
     "text": [
      "C:\\Users\\PVolterr\\AppData\\Local\\Temp\\ipykernel_20504\\1503377621.py:18: FutureWarning: Passing literal html to 'read_html' is deprecated and will be removed in a future version. To read from a literal string, wrap it in a 'StringIO' object.\n",
      "  tables = pd.read_html(response.text)\n"
     ]
    },
    {
     "name": "stdout",
     "output_type": "stream",
     "text": [
      "Elaboro: https://www.comuni-italiani.it/cap/85.html\n"
     ]
    },
    {
     "name": "stderr",
     "output_type": "stream",
     "text": [
      "C:\\Users\\PVolterr\\AppData\\Local\\Temp\\ipykernel_20504\\1503377621.py:18: FutureWarning: Passing literal html to 'read_html' is deprecated and will be removed in a future version. To read from a literal string, wrap it in a 'StringIO' object.\n",
      "  tables = pd.read_html(response.text)\n"
     ]
    },
    {
     "name": "stdout",
     "output_type": "stream",
     "text": [
      "Elaboro: https://www.comuni-italiani.it/cap/86.html\n"
     ]
    },
    {
     "name": "stderr",
     "output_type": "stream",
     "text": [
      "C:\\Users\\PVolterr\\AppData\\Local\\Temp\\ipykernel_20504\\1503377621.py:18: FutureWarning: Passing literal html to 'read_html' is deprecated and will be removed in a future version. To read from a literal string, wrap it in a 'StringIO' object.\n",
      "  tables = pd.read_html(response.text)\n"
     ]
    },
    {
     "name": "stdout",
     "output_type": "stream",
     "text": [
      "Elaboro: https://www.comuni-italiani.it/cap/87.html\n"
     ]
    },
    {
     "name": "stderr",
     "output_type": "stream",
     "text": [
      "C:\\Users\\PVolterr\\AppData\\Local\\Temp\\ipykernel_20504\\1503377621.py:18: FutureWarning: Passing literal html to 'read_html' is deprecated and will be removed in a future version. To read from a literal string, wrap it in a 'StringIO' object.\n",
      "  tables = pd.read_html(response.text)\n"
     ]
    },
    {
     "name": "stdout",
     "output_type": "stream",
     "text": [
      "Elaboro: https://www.comuni-italiani.it/cap/88.html\n"
     ]
    },
    {
     "name": "stderr",
     "output_type": "stream",
     "text": [
      "C:\\Users\\PVolterr\\AppData\\Local\\Temp\\ipykernel_20504\\1503377621.py:18: FutureWarning: Passing literal html to 'read_html' is deprecated and will be removed in a future version. To read from a literal string, wrap it in a 'StringIO' object.\n",
      "  tables = pd.read_html(response.text)\n"
     ]
    },
    {
     "name": "stdout",
     "output_type": "stream",
     "text": [
      "Elaboro: https://www.comuni-italiani.it/cap/89.html\n"
     ]
    },
    {
     "name": "stderr",
     "output_type": "stream",
     "text": [
      "C:\\Users\\PVolterr\\AppData\\Local\\Temp\\ipykernel_20504\\1503377621.py:18: FutureWarning: Passing literal html to 'read_html' is deprecated and will be removed in a future version. To read from a literal string, wrap it in a 'StringIO' object.\n",
      "  tables = pd.read_html(response.text)\n"
     ]
    },
    {
     "name": "stdout",
     "output_type": "stream",
     "text": [
      "Elaboro: https://www.comuni-italiani.it/cap/90.html\n"
     ]
    },
    {
     "name": "stderr",
     "output_type": "stream",
     "text": [
      "C:\\Users\\PVolterr\\AppData\\Local\\Temp\\ipykernel_20504\\1503377621.py:18: FutureWarning: Passing literal html to 'read_html' is deprecated and will be removed in a future version. To read from a literal string, wrap it in a 'StringIO' object.\n",
      "  tables = pd.read_html(response.text)\n"
     ]
    },
    {
     "name": "stdout",
     "output_type": "stream",
     "text": [
      "Elaboro: https://www.comuni-italiani.it/cap/91.html\n"
     ]
    },
    {
     "name": "stderr",
     "output_type": "stream",
     "text": [
      "C:\\Users\\PVolterr\\AppData\\Local\\Temp\\ipykernel_20504\\1503377621.py:18: FutureWarning: Passing literal html to 'read_html' is deprecated and will be removed in a future version. To read from a literal string, wrap it in a 'StringIO' object.\n",
      "  tables = pd.read_html(response.text)\n"
     ]
    },
    {
     "name": "stdout",
     "output_type": "stream",
     "text": [
      "Elaboro: https://www.comuni-italiani.it/cap/92.html\n"
     ]
    },
    {
     "name": "stderr",
     "output_type": "stream",
     "text": [
      "C:\\Users\\PVolterr\\AppData\\Local\\Temp\\ipykernel_20504\\1503377621.py:18: FutureWarning: Passing literal html to 'read_html' is deprecated and will be removed in a future version. To read from a literal string, wrap it in a 'StringIO' object.\n",
      "  tables = pd.read_html(response.text)\n"
     ]
    },
    {
     "name": "stdout",
     "output_type": "stream",
     "text": [
      "Elaboro: https://www.comuni-italiani.it/cap/93.html\n"
     ]
    },
    {
     "name": "stderr",
     "output_type": "stream",
     "text": [
      "C:\\Users\\PVolterr\\AppData\\Local\\Temp\\ipykernel_20504\\1503377621.py:18: FutureWarning: Passing literal html to 'read_html' is deprecated and will be removed in a future version. To read from a literal string, wrap it in a 'StringIO' object.\n",
      "  tables = pd.read_html(response.text)\n"
     ]
    },
    {
     "name": "stdout",
     "output_type": "stream",
     "text": [
      "Elaboro: https://www.comuni-italiani.it/cap/94.html\n"
     ]
    },
    {
     "name": "stderr",
     "output_type": "stream",
     "text": [
      "C:\\Users\\PVolterr\\AppData\\Local\\Temp\\ipykernel_20504\\1503377621.py:18: FutureWarning: Passing literal html to 'read_html' is deprecated and will be removed in a future version. To read from a literal string, wrap it in a 'StringIO' object.\n",
      "  tables = pd.read_html(response.text)\n"
     ]
    },
    {
     "name": "stdout",
     "output_type": "stream",
     "text": [
      "Elaboro: https://www.comuni-italiani.it/cap/95.html\n"
     ]
    },
    {
     "name": "stderr",
     "output_type": "stream",
     "text": [
      "C:\\Users\\PVolterr\\AppData\\Local\\Temp\\ipykernel_20504\\1503377621.py:18: FutureWarning: Passing literal html to 'read_html' is deprecated and will be removed in a future version. To read from a literal string, wrap it in a 'StringIO' object.\n",
      "  tables = pd.read_html(response.text)\n"
     ]
    },
    {
     "name": "stdout",
     "output_type": "stream",
     "text": [
      "Elaboro: https://www.comuni-italiani.it/cap/96.html\n"
     ]
    },
    {
     "name": "stderr",
     "output_type": "stream",
     "text": [
      "C:\\Users\\PVolterr\\AppData\\Local\\Temp\\ipykernel_20504\\1503377621.py:18: FutureWarning: Passing literal html to 'read_html' is deprecated and will be removed in a future version. To read from a literal string, wrap it in a 'StringIO' object.\n",
      "  tables = pd.read_html(response.text)\n"
     ]
    },
    {
     "name": "stdout",
     "output_type": "stream",
     "text": [
      "Elaboro: https://www.comuni-italiani.it/cap/97.html\n"
     ]
    },
    {
     "name": "stderr",
     "output_type": "stream",
     "text": [
      "C:\\Users\\PVolterr\\AppData\\Local\\Temp\\ipykernel_20504\\1503377621.py:18: FutureWarning: Passing literal html to 'read_html' is deprecated and will be removed in a future version. To read from a literal string, wrap it in a 'StringIO' object.\n",
      "  tables = pd.read_html(response.text)\n"
     ]
    },
    {
     "name": "stdout",
     "output_type": "stream",
     "text": [
      "          0                        1      2                       3\n",
      "0     00010                   Casape   10.0     Gallicano nel Lazio\n",
      "1     00010               Marcellina   10.0             Monteflavio\n",
      "2     00010            Montelibretti   10.0         Montorio Romano\n",
      "3     00010                 Moricone   10.0                    Poli\n",
      "4     00010  San Gregorio da Sassola   10.0  San Polo dei Cavalieri\n",
      "...     ...                      ...    ...                     ...\n",
      "3961  97011                    Acate  97012       Chiaramonte Gulfi\n",
      "3962  97013                   Comiso  97014                  Ispica\n",
      "3963  97015                   Modica  97016                Pozzallo\n",
      "3964  97017     Santa Croce Camerina  97018                  Scicli\n",
      "3965  97019                 Vittoria  97100                  Ragusa\n",
      "\n",
      "[3966 rows x 4 columns]\n"
     ]
    }
   ],
   "source": [
    "import pandas as pd\n",
    "import requests\n",
    "import time\n",
    "\n",
    "# Lista per salvare i DataFrame ottenuti\n",
    "#dfs = []\n",
    "\n",
    "# Ciclo per le pagine da 00 a 97\n",
    "for i in range(80, 98):\n",
    "    url = f\"https://www.comuni-italiani.it/cap/{i:02d}.html\"\n",
    "    print(\"Elaboro:\", url)\n",
    "    \n",
    "    # Scarica la pagina e imposta l'encoding\n",
    "    response = requests.get(url)\n",
    "    response.encoding = 'ISO-8859-1'  # oppure 'latin1' se necessario\n",
    "    \n",
    "    # Legge tutte le tabelle presenti nella pagina\n",
    "    tables = pd.read_html(response.text)\n",
    "    \n",
    "    # Seleziona la tabella con indice 2 e la aggiunge alla lista\n",
    "    try:\n",
    "        df = tables[2]\n",
    "        dfs.append(df)\n",
    "    except IndexError:\n",
    "        print(f\"Tabella indice 2 non trovata in {url}\")\n",
    "    \n",
    "    # Pausa di 2 secondi prima della prossima iterazione\n",
    "    time.sleep(2)\n",
    "\n",
    "# Accoda tutti i DataFrame in uno solo\n",
    "final_df = pd.concat(dfs, ignore_index=True)\n",
    "\n",
    "# Visualizza il DataFrame finale\n",
    "print(final_df)\n",
    "\n"
   ]
  },
  {
   "cell_type": "code",
   "execution_count": 20,
   "id": "dab7445d",
   "metadata": {},
   "outputs": [
    {
     "data": {
      "text/html": [
       "<div>\n",
       "<style scoped>\n",
       "    .dataframe tbody tr th:only-of-type {\n",
       "        vertical-align: middle;\n",
       "    }\n",
       "\n",
       "    .dataframe tbody tr th {\n",
       "        vertical-align: top;\n",
       "    }\n",
       "\n",
       "    .dataframe thead th {\n",
       "        text-align: right;\n",
       "    }\n",
       "</style>\n",
       "<table border=\"1\" class=\"dataframe\">\n",
       "  <thead>\n",
       "    <tr style=\"text-align: right;\">\n",
       "      <th></th>\n",
       "      <th>Colonna1</th>\n",
       "      <th>Colonna2</th>\n",
       "    </tr>\n",
       "  </thead>\n",
       "  <tbody>\n",
       "    <tr>\n",
       "      <th>0</th>\n",
       "      <td>00010</td>\n",
       "      <td>Casape</td>\n",
       "    </tr>\n",
       "    <tr>\n",
       "      <th>1</th>\n",
       "      <td>00010</td>\n",
       "      <td>Marcellina</td>\n",
       "    </tr>\n",
       "    <tr>\n",
       "      <th>2</th>\n",
       "      <td>00010</td>\n",
       "      <td>Montelibretti</td>\n",
       "    </tr>\n",
       "    <tr>\n",
       "      <th>3</th>\n",
       "      <td>00010</td>\n",
       "      <td>Moricone</td>\n",
       "    </tr>\n",
       "    <tr>\n",
       "      <th>4</th>\n",
       "      <td>00010</td>\n",
       "      <td>San Gregorio da Sassola</td>\n",
       "    </tr>\n",
       "    <tr>\n",
       "      <th>...</th>\n",
       "      <td>...</td>\n",
       "      <td>...</td>\n",
       "    </tr>\n",
       "    <tr>\n",
       "      <th>7927</th>\n",
       "      <td>97012</td>\n",
       "      <td>Chiaramonte Gulfi</td>\n",
       "    </tr>\n",
       "    <tr>\n",
       "      <th>7928</th>\n",
       "      <td>97014</td>\n",
       "      <td>Ispica</td>\n",
       "    </tr>\n",
       "    <tr>\n",
       "      <th>7929</th>\n",
       "      <td>97016</td>\n",
       "      <td>Pozzallo</td>\n",
       "    </tr>\n",
       "    <tr>\n",
       "      <th>7930</th>\n",
       "      <td>97018</td>\n",
       "      <td>Scicli</td>\n",
       "    </tr>\n",
       "    <tr>\n",
       "      <th>7931</th>\n",
       "      <td>97100</td>\n",
       "      <td>Ragusa</td>\n",
       "    </tr>\n",
       "  </tbody>\n",
       "</table>\n",
       "<p>7932 rows × 2 columns</p>\n",
       "</div>"
      ],
      "text/plain": [
       "     Colonna1                 Colonna2\n",
       "0       00010                   Casape\n",
       "1       00010               Marcellina\n",
       "2       00010            Montelibretti\n",
       "3       00010                 Moricone\n",
       "4       00010  San Gregorio da Sassola\n",
       "...       ...                      ...\n",
       "7927    97012        Chiaramonte Gulfi\n",
       "7928    97014                   Ispica\n",
       "7929    97016                 Pozzallo\n",
       "7930    97018                   Scicli\n",
       "7931    97100                   Ragusa\n",
       "\n",
       "[7932 rows x 2 columns]"
      ]
     },
     "execution_count": 20,
     "metadata": {},
     "output_type": "execute_result"
    }
   ],
   "source": [
    "# Estrae le colonne originali\n",
    "col1 = final_df.iloc[:, 0]  # Prima colonna\n",
    "col2 = final_df.iloc[:, 1]  # Seconda colonna\n",
    "col3 = final_df.iloc[:, 2]  # Terza colonna\n",
    "col4 = final_df.iloc[:, 3]  # Quarta colonna\n",
    "\n",
    "# Concatena verticalmente la prima con la terza, e la seconda con la quarta\n",
    "new_col1 = pd.concat([col1, col3], ignore_index=True)\n",
    "new_col2 = pd.concat([col2, col4], ignore_index=True)\n",
    "\n",
    "# Crea il nuovo DataFrame a 2 colonne\n",
    "final_df_2 = pd.DataFrame({\n",
    "    'Colonna1': new_col1,\n",
    "    'Colonna2': new_col2\n",
    "})\n",
    "\n",
    "# Visualizza il DataFrame finale\n",
    "(final_df_2)\n"
   ]
  },
  {
   "cell_type": "code",
   "execution_count": 21,
   "id": "b8650b3d",
   "metadata": {},
   "outputs": [],
   "source": [
    "final_df_2.to_csv('D:/CAP.csv', sep='|', index = False)"
   ]
  }
 ],
 "metadata": {
  "kernelspec": {
   "display_name": "Python 3 (ipykernel)",
   "language": "python",
   "name": "python3"
  },
  "language_info": {
   "codemirror_mode": {
    "name": "ipython",
    "version": 3
   },
   "file_extension": ".py",
   "mimetype": "text/x-python",
   "name": "python",
   "nbconvert_exporter": "python",
   "pygments_lexer": "ipython3",
   "version": "3.11.4"
  }
 },
 "nbformat": 4,
 "nbformat_minor": 5
}
