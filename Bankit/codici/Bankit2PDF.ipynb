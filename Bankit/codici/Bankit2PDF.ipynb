{
 "cells": [
  {
   "cell_type": "code",
   "execution_count": null,
   "metadata": {},
   "outputs": [],
   "source": []
  },
  {
   "cell_type": "code",
   "execution_count": 4,
   "metadata": {},
   "outputs": [],
   "source": [
    "import os\n",
    "os.chdir('D:/Python/Bankit')"
   ]
  },
  {
   "cell_type": "code",
   "execution_count": 1,
   "metadata": {},
   "outputs": [],
   "source": [
    "import nbformat\n",
    "from nbconvert import HTMLExporter\n",
    "from traitlets.config import Config\n",
    "import pdfkit\n",
    "from pathlib import Path\n",
    "from IPython.display import Markdown, display, HTML\n",
    "\n",
    "# === CONFIG ===\n",
    "notebook_path = \"Bankit_duckdb.ipynb\"\n",
    "html_path = \"Bankit_duckdb.html\"\n",
    "pdf_path = \"Bankit_duckdb.pdf\""
   ]
  },
  {
   "cell_type": "code",
   "execution_count": 11,
   "metadata": {},
   "outputs": [
    {
     "name": "stdout",
     "output_type": "stream",
     "text": [
      "✅ PDF esportato come Bankit_duckdb.pdf\n"
     ]
    }
   ],
   "source": [
    "# === EXPORTER CONFIG ===\n",
    "c = Config()\n",
    "c.HTMLExporter.exclude_input = True\n",
    "c.HTMLExporter.exclude_input_prompt = True\n",
    "c.HTMLExporter.exclude_output_prompt = True\n",
    "\n",
    "# === CONVERTI IN HTML ===\n",
    "with open(notebook_path, encoding='utf-8') as f:\n",
    "    nb = nbformat.read(f, as_version=4)\n",
    "\n",
    "exporter = HTMLExporter(config=c)\n",
    "body, _ = exporter.from_notebook_node(nb)\n",
    "\n",
    "Path(html_path).write_text(body, encoding='utf-8')\n",
    "\n",
    "import pdfkit\n",
    "config = pdfkit.configuration(wkhtmltopdf=r\"C:\\Program Files\\wkhtmltopdf\\bin\\wkhtmltopdf.exe\")\n",
    "css_path = \"report_style.css\"\n",
    "\n",
    "pdfkit.from_file(\n",
    "    html_path,\n",
    "    pdf_path,\n",
    "    configuration=config,\n",
    "    css=css_path,\n",
    "    options={\n",
    "        'orientation': 'Landscape',\n",
    "        'page-size': 'A4',\n",
    "        'margin-top': '0mm',\n",
    "        'margin-bottom': '0mm',\n",
    "        'margin-left': '0mm',\n",
    "        'margin-right': '0mm',\n",
    "        'enable-local-file-access': ''\n",
    "    }\n",
    ")\n",
    "\n",
    "\n",
    "print(f\"✅ PDF esportato come {pdf_path}\")\n"
   ]
  },
  {
   "cell_type": "code",
   "execution_count": null,
   "metadata": {},
   "outputs": [],
   "source": []
  }
 ],
 "metadata": {
  "kernelspec": {
   "display_name": "Python 3",
   "language": "python",
   "name": "python3"
  },
  "language_info": {
   "codemirror_mode": {
    "name": "ipython",
    "version": 3
   },
   "file_extension": ".py",
   "mimetype": "text/x-python",
   "name": "python",
   "nbconvert_exporter": "python",
   "pygments_lexer": "ipython3",
   "version": "3.11.7"
  }
 },
 "nbformat": 4,
 "nbformat_minor": 2
}
