{
 "cells": [
  {
   "cell_type": "markdown",
   "metadata": {},
   "source": [
    "# TDB10295 Prestiti (esclusi PCT) per provincia, settore e sottosettore della clientela"
   ]
  },
  {
   "cell_type": "code",
   "execution_count": 1,
   "metadata": {},
   "outputs": [],
   "source": [
    "import sqlite3, pandas as pd\n",
    "sqlitecon = sqlite3.connect(\"D:/files/Bankit.sqlite\")"
   ]
  },
  {
   "cell_type": "code",
   "execution_count": 2,
   "metadata": {},
   "outputs": [],
   "source": [
    "abr = ['ITF11', 'ITF12', 'ITF13', 'ITF14', 'ITF1']\n",
    "mol = ['ITF22', 'ITF21',  'ITF2']\n",
    "cam = ['ITF31', 'ITF32', 'ITF33', 'ITF34', 'ITF35', 'ITF3']\n",
    "pug = ['ITF4', 'ITF43', 'ITF44', 'ITF45','ITF46','ITF47','ITF48'] # 'ITF41', 'ITF42',\n",
    "bas = ['ITF51', 'ITF52', 'ITF5']\n",
    "cal = ['ITF65','ITF63','ITF61', 'ITF62', 'ITF64', 'ITF6']\n",
    "sic = ['ITG11', 'ITG12', 'ITG13', 'ITG14', 'ITG15', 'ITG16', 'ITG17', 'ITG18', 'ITG19', 'ITG1']\n",
    "sar = ['ITG21', 'ITG22', 'ITG23', 'ITG24', 'ITG2']\n",
    "mezzogiorno = ['ITF1', 'ITF2', 'ITF3', 'ITF4', 'ITF5', 'ITF6', 'ITG1', 'ITG2']\n",
    "ita = ['ITC', 'ITH','ITI','ITF', 'ITG']\n"
   ]
  },
  {
   "cell_type": "code",
   "execution_count": 3,
   "metadata": {},
   "outputs": [],
   "source": [
    "nord = ['ITC','ITH','ITI']\n",
    "sud = ['ITF','ITG']\n",
    "ita = ['ITC', 'ITH','ITI','ITF', 'ITG']\n",
    "tabella = 'TDB10295_prestiti_p'\n",
    "periodo = '2024-12-31'\n",
    "ita_sql = \"(\" + \",\".join(f\"'{x}'\" for x in ita) + \")\"\n",
    "query = f\"\"\"\n",
    "    SELECT * FROM {tabella}\n",
    "    WHERE SET_CTP IN ('S11BI7','SBI25')\n",
    "    AND LOC_CTP IN {ita_sql}\n",
    "    AND DATA_OSS ='{periodo}'\n",
    "\"\"\"\n",
    "data = pd.read_sql(query, sqlitecon)"
   ]
  },
  {
   "cell_type": "code",
   "execution_count": 4,
   "metadata": {},
   "outputs": [
    {
     "data": {
      "text/plain": [
       "'2024-12-31'"
      ]
     },
     "execution_count": null,
     "metadata": {},
     "output_type": "execute_result"
    }
   ],
   "source": [
    "data['DATA_OSS'].max()"
   ]
  },
  {
   "cell_type": "code",
   "execution_count": 8,
   "metadata": {},
   "outputs": [
    {
     "data": {
      "text/html": [
       "<div>\n",
       "<style scoped>\n",
       "    .dataframe tbody tr th:only-of-type {\n",
       "        vertical-align: middle;\n",
       "    }\n",
       "\n",
       "    .dataframe tbody tr th {\n",
       "        vertical-align: top;\n",
       "    }\n",
       "\n",
       "    .dataframe thead th {\n",
       "        text-align: right;\n",
       "    }\n",
       "</style>\n",
       "<table border=\"1\" class=\"dataframe\">\n",
       "  <thead>\n",
       "    <tr style=\"text-align: right;\">\n",
       "      <th></th>\n",
       "      <th>target</th>\n",
       "      <th>NORD</th>\n",
       "      <th>SUD</th>\n",
       "    </tr>\n",
       "  </thead>\n",
       "  <tbody>\n",
       "    <tr>\n",
       "      <th>0</th>\n",
       "      <td>Quasi-società non finanziarie artigiane</td>\n",
       "      <td>10270489</td>\n",
       "      <td>1729044</td>\n",
       "    </tr>\n",
       "    <tr>\n",
       "      <th>1</th>\n",
       "      <td>Società non finanziarie e famiglie produttrici</td>\n",
       "      <td>564467557</td>\n",
       "      <td>96757703</td>\n",
       "    </tr>\n",
       "  </tbody>\n",
       "</table>\n",
       "</div>"
      ],
      "text/plain": [
       "                                           target       NORD       SUD\n",
       "0         Quasi-società non finanziarie artigiane   10270489   1729044\n",
       "1  Società non finanziarie e famiglie produttrici  564467557  96757703"
      ]
     },
     "execution_count": null,
     "metadata": {},
     "output_type": "execute_result"
    }
   ],
   "source": [
    "# Aggiungi colonna AREA in base a LOC_CTP\n",
    "data['AREA'] = data['LOC_CTP'].apply(lambda x: 'NORD' if x in nord else 'SUD' if x in sud else 'ALTRO')\n",
    "\n",
    "# Raggruppa per AREA e target (opzionale, se vuoi distinguere i due SET_CTP)\n",
    "risultato = data.groupby(['AREA', 'target'], as_index=False)['VALORE'].sum()\n",
    "pivot = risultato.pivot(index='target', columns='AREA', values='VALORE')\n",
    "pivot.columns.name = None  # rimuove il nome \"AREA\" dalle colonne\n",
    "pivot.reset_index()\n",
    "\n"
   ]
  },
  {
   "cell_type": "code",
   "execution_count": null,
   "metadata": {},
   "outputs": [],
   "source": []
  }
 ],
 "metadata": {
  "kernelspec": {
   "display_name": "Python 3",
   "language": "python",
   "name": "python3"
  },
  "language_info": {
   "name": "python"
  }
 },
 "nbformat": 4,
 "nbformat_minor": 2
}
