{
 "cells": [
  {
   "cell_type": "markdown",
   "metadata": {},
   "source": [
    "# [TRI30466 - Prestiti (escluse sofferenze): numero medio di banche per affidato](https://infostat.bancaditalia.it/inquiry/home?spyglass/taxo:CUBESET=/PUBBL_00/PUBBL_00_06/PUBBL_00_06_03&ITEMSELEZ=TRI30466:true&OPEN=false/&ep:LC=IT&COMM=BANKITALIA&ENV=LIVE&CTX=DIFF&IDX=2&/view:CUBEIDS=TRI30466/&timestamp=1655281850537)\n",
    "\n"
   ]
  },
  {
   "cell_type": "raw",
   "metadata": {
    "vscode": {
     "languageId": "raw"
    }
   },
   "source": [
    "colonna\tCodice\tDescrizione\n",
    "0\tATECO_CTP\t0\t\n",
    "1\tATECO_CTP\t1004999\tTotale ateco al netto della sez. U\n",
    "2\tATECO_CTP\t1005001\tAttività industriali\n",
    "3\tATECO_CTP\t1005003\tServizi\n",
    "4\tATECO_CTP\t1005009\tTotale ateco al netto della sez. U comprese le attività non produttive\n",
    "5\tATECO_CTP\tF\tCostruzioni\n",
    "6\tCLASSE_ACCORD\t1011\t>= 25.000.000 euro\n",
    "7\tCLASSE_ACCORD\t222\tDa 30.000 a < 75.000 euro\n",
    "8\tCLASSE_ACCORD\t241\tDa 75.000 a < 125.000 euro\n",
    "9\tCLASSE_ACCORD\t242\tDa 125.000 a < 250.000 euro\n",
    "10\tCLASSE_ACCORD\t243\tDa 250.000 a < 500.000 euro\n",
    "11\tCLASSE_ACCORD\t245\tDa 2.500.000 a < 5.000.000 euro\n",
    "12\tCLASSE_ACCORD\t246\tDa 5.000.000 a < 25.000.000 euro\n",
    "13\tCLASSE_ACCORD\t249\tDa 500.000 a < 1.000.000 euro\n",
    "14\tCLASSE_ACCORD\t250\tDa 1.000.000 a < 2.500.000 euro\n",
    "15\tCLASSE_ACCORD\t9904\tTotale classi di grandezza compreso lo 0\n",
    "16\tENTE_SEGN\t1100010\tBanche\n",
    "17\tFENEC\t35107174\tPrestiti (escluse sofferenze): numero medio di banche per affidato\n",
    "18\tFENEC\t35107176\tPrestiti (escluse sofferenze): percentuale di concentrazione del fido accordato dalla prima banca\n",
    "19\tSET_CTP\tS11\tSocietà non finanziarie\n",
    "20\tSET_CTP\tS12BI7\tSocietà finanziarie diverse da istituzioni finanziarie monetarie\n",
    "21\tSET_CTP\