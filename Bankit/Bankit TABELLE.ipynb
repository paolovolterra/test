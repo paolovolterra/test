{
 "cells": [
  {
   "cell_type": "markdown",
   "id": "e6410189",
   "metadata": {},
   "source": [
    "# Banca d'Italia"
   ]
  },
  {
   "cell_type": "code",
   "execution_count": 1,
   "id": "36869ed6",
   "metadata": {
    "tags": []
   },
   "outputs": [],
   "source": [
    "import requests, pandas as pd, os, sqlalchemy, sqlite3, sys, duckdb\n",
    "from io import BytesIO\n",
    "from sqlalchemy import create_engine\n",
    "\n",
    "sqlite  = create_engine('sqlite:///D:/Bankit.sqlite')\n",
    "ddb     = duckdb.connect('D:/Bankit.duckdb')"
   ]
  },
  {
   "cell_type": "code",
   "execution_count": 6,
   "id": "8a3df344",
   "metadata": {},
   "outputs": [],
   "source": [
    "ddb.close()"
   ]
  },
  {
   "cell_type": "raw",
   "id": "65e554ac",
   "metadata": {
    "vscode": {
     "languageId": "raw"
    }
   },
   "source": [
    "df = pd.read_csv(\"D:/files/csv/Bankit/domain-stacoris-multicube.csv\", sep=\";\", encoding=\"utf-8\")\n",
    "ddb.execute(f\"DROP TABLE stacoris\") \n",
    "ddb.execute(f\"CREATE TABLE stacoris AS SELECT * FROM df LIMIT 0\")  # Crea una tabella vuota con la struttura del DataFrame\n",
    "ddb.execute(f\"INSERT INTO stacoris SELECT * FROM df\")\n",
    "\n",
    "df = pd.read_csv(\"D:/files/csv/Bankit/domain-stafinra-multicube.csv\", sep=\";\", encoding=\"utf-8\")\n",
    "ddb.execute(f\"DROP TABLE stafinra\") \n",
    "ddb.execute(f\"CREATE TABLE stafinra AS SELECT * FROM df LIMIT 0\")  # Crea una tabella vuota con la struttura del DataFrame\n",
    "ddb.execute(f\"INSERT INTO stafinra SELECT * FROM df\")\n",
    "\n",
    "df = pd.read_csv(\"D:/files/csv/Bankit/domain-stamen-multicube.csv\", sep=\";\", encoding=\"utf-8\")\n",
    "ddb.execute(f\"DROP TABLE stamen\") \n",
    "ddb.execute(f\"CREATE TABLE stamen AS SELECT * FROM df LIMIT 0\")  # Crea una tabella vuota con la struttura del DataFrame\n",
    "ddb.execute(f\"INSERT INTO stamen SELECT * FROM df\")\n",
    "\n",
    "df = pd.read_csv(\"D:/files/csv/Bankit/DOMAIN-STAATER-MULTICUBE.csv\", sep=\";\", encoding=\"utf-8\")\n",
    "ddb.execute(f\"DROP TABLE staater\") \n",
    "ddb.execute(f\"CREATE TABLE staater AS SELECT * FROM df LIMIT 0\")  # Crea una tabella vuota con la struttura del DataFrame\n",
    "ddb.execute(f\"INSERT INTO staater SELECT * FROM df\")\n"
   ]
  },
  {
   "cell_type": "code",
   "execution_count": 8,
   "id": "a11504e5",
   "metadata": {},
   "outputs": [],
   "source": [
    "# Banche e moneta: serie nazionali #BAM mese https://www.bancaditalia.it/pubblicazioni/moneta-banche/index.html\n",
    "STAMEN =['AGGM0100','AGGM0200','AGGM0300','AGGM0400','AGGM0500','ATECO100','BMON0100','BSIB0100','BSIB0200','BSIB0300','BSIB0400','BSIB0500','BSIB0600','BSIB0700', 'BSIB0800','BSIB1000','BSIB1010','BSIB1100','BSIB1110','BSID0100','BSID0200','BSIO0100',\n",
    "         'BSIO0200','CARB0100','CARB0200','CARB0300','CE00100','MID0100','MIR0100','MIR0200','MIR0300','MIR0400','MIR0500','MIR0600','MIR0700','MIR0800','MIR0900','ROB0100','SPBI0100','SPBI0200','TITD0100','TITD0200','TITP0100'] # fare check di 'OPM0100','TUFF0100'\n",
    "# Banche e istituzioni finanziarie: finanziamenti e raccolta per settori e territori  fine trimestre https://www.bancaditalia.it/pubblicazioni/finanziamenti-raccolta/\n",
    "STAFINRA = ['TDB10290','TDB10221','TDB10224','TDB10226','TDB10295','TDB20224','TDB20226','TDB20290','TDB20295', 'TFR40020','TFR20232','TFR20255','TFR20231','TFR30274','TFR10425','TFR10435','TFR20281','TFR10254','TFR30309','TFR30315','TFR20163',\n",
    "    'TFR20269','TFR20267','TFR40082','TFR40087','TFR40500','TFR40300','TFR40400','TFR30980','TFR30970','TFR10194','TFR10286','TFR10241','TFR10232','TFR10255','TFR10281','TFR10236','TFR10420','TFR10430','TFR10460','TFR10194','TFR10283','TFR10287',\n",
    "    'TFR10163','TFR10269','TFR10267','TFR40100','TFR10288','TFR10289','TFR20236']\n",
    "\n",
    "# Banche e istituzioni finanziarie: CONDIZIONI e RISCHIOSITA' del credito per settori e territori fine trimestre https://www.bancaditalia.it/pubblicazioni/condizioni-rischiosita/\n",
    "STACORIS = ['TRI30266','TRI30267','TRI30265','TRI30271','TRI30601','TRI30602','TRI30603','TRI30604','TRI30605','TRI30606','TRI30486','TRI30496','TRI30507','TRI30516','TRI30524','TRI30529',\n",
    "            'TRI30631','TRI30632','TRI30634','TRI30635','TRI30636','TRI30431','TRI30446','TRI30466','TRI30476','TRI30361','TRI30401','TRI30101','TRI30126','TRI30146','TRI30156',\n",
    "            'TRI30190','TRI30136','TRI30166','TRI30871','TRI30881','TRI30890','TRI30900','TRI30950','TRI30951','TRI30952','TRI31100','TRI31101','TRI30021','TRI30171','TRI30181','TRI30268',\n",
    "            'TRI30269','TRI30206','TRI30031','TRI30231','TRI30226','TRI30033','TRI30211','TRI30241','TRI30251','TRI30290','TRI30953','TRI30954','TRI30955','TRI31102','TRI31103']\n",
    "# 'TRI30633',\n",
    "AdHoc = ['TRI30634','TRI30635','TRI30636','TRI30431','TRI30446','TRI30466','TRI30476','TRI30361','TRI30401','TRI30101','TRI30126','TRI30146','TRI30156',\n",
    "            'TRI30190','TRI30136','TRI30166','TRI30871','TRI30881','TRI30890','TRI30900','TRI30950','TRI30951','TRI30952','TRI31100','TRI31101','TRI30021','TRI30171','TRI30181','TRI30268',\n",
    "            'TRI30269','TRI30206','TRI30031','TRI30231','TRI30226','TRI30033','TRI30211','TRI30241','TRI30251','TRI30290','TRI30953','TRI30954','TRI30955','TRI31102','TRI31103']\n",
    "\n",
    "STAATER = ['TDB20207','TDB20212','TDB20220','TDB10222','TDB10225','TDB10227','TDB20210','TDB20225','TDB20230','TDB10195']\n",
    "tabelle = ['TDB20207','TDB10219','TDB10224','TDB10226','TDB10232','TDB10295','TDB20212','TDB20220','TDB20224','TDB20290','TDB20295','TFR10194','TFR10232', 'TFR10241','TFR10255','TFR10420','TFR10425','TFR10430','TFR20231','TFR20232','TFR20236','TFR20255','TFR20267',\n",
    "           'TFR20281','TFR30309','TFR30315','TFR40100','TRI30021','TRI30171','TRI30211','TRI30431','TRI30446']\n",
    "singola = ['TFR40020']\n",
    "vecchie = ['TDB10194','TDB10255']"
   ]
  },
  {
   "cell_type": "markdown",
   "id": "2e9d42d8",
   "metadata": {},
   "source": [
    "## inquiry su tabelle/viste esistenti"
   ]
  },
  {
   "cell_type": "code",
   "execution_count": 77,
   "id": "ffab2f7f",
   "metadata": {},
   "outputs": [
    {
     "data": {
      "text/html": [
       "<div>\n",
       "<style scoped>\n",
       "    .dataframe tbody tr th:only-of-type {\n",
       "        vertical-align: middle;\n",
       "    }\n",
       "\n",
       "    .dataframe tbody tr th {\n",
       "        vertical-align: top;\n",
       "    }\n",
       "\n",
       "    .dataframe thead th {\n",
       "        text-align: right;\n",
       "    }\n",
       "</style>\n",
       "<table border=\"1\" class=\"dataframe\">\n",
       "  <thead>\n",
       "    <tr style=\"text-align: right;\">\n",
       "      <th></th>\n",
       "      <th>DATA_OSS</th>\n",
       "      <th>ENTE_SEGN</th>\n",
       "      <th>SEGNALANTE</th>\n",
       "      <th>LOC_CTP</th>\n",
       "      <th>AREA</th>\n",
       "      <th>SET_CTP</th>\n",
       "      <th>TARGET</th>\n",
       "      <th>FENEC</th>\n",
       "      <th>FENOMENO</th>\n",
       "      <th>ATECO_CTP</th>\n",
       "      <th>ATECO</th>\n",
       "      <th>VALORE</th>\n",
       "    </tr>\n",
       "  </thead>\n",
       "  <tbody>\n",
       "    <tr>\n",
       "      <th>0</th>\n",
       "      <td>2024-12-31</td>\n",
       "      <td>1070001</td>\n",
       "      <td>Banche e Cassa depositi e prestiti</td>\n",
       "      <td>ITG2E</td>\n",
       "      <td>None</td>\n",
       "      <td>SBI42</td>\n",
       "      <td>Totale residenti al netto delle Istituzioni fi...</td>\n",
       "      <td>52000139</td>\n",
       "      <td>None</td>\n",
       "      <td>1005009</td>\n",
       "      <td>Totale ateco al netto della sez. U comprese le...</td>\n",
       "      <td>2211368.0</td>\n",
       "    </tr>\n",
       "    <tr>\n",
       "      <th>1</th>\n",
       "      <td>2024-12-31</td>\n",
       "      <td>1070001</td>\n",
       "      <td>Banche e Cassa depositi e prestiti</td>\n",
       "      <td>ITG2E</td>\n",
       "      <td>None</td>\n",
       "      <td>SBI25</td>\n",
       "      <td>Società non finanziarie e famiglie produttrici</td>\n",
       "      <td>52000139</td>\n",
       "      <td>None</td>\n",
       "      <td>1005003</td>\n",
       "      <td>Servizi</td>\n",
       "      <td>567228.0</td>\n",
       "    </tr>\n",
       "    <tr>\n",
       "      <th>2</th>\n",
       "      <td>2024-12-31</td>\n",
       "      <td>1070001</td>\n",
       "      <td>Banche e Cassa depositi e prestiti</td>\n",
       "      <td>ITG2E</td>\n",
       "      <td>None</td>\n",
       "      <td>SBI25</td>\n",
       "      <td>Società non finanziarie e famiglie produttrici</td>\n",
       "      <td>52000139</td>\n",
       "      <td>None</td>\n",
       "      <td>F</td>\n",
       "      <td>Costruzioni</td>\n",
       "      <td>67010.0</td>\n",
       "    </tr>\n",
       "    <tr>\n",
       "      <th>3</th>\n",
       "      <td>2024-12-31</td>\n",
       "      <td>1070001</td>\n",
       "      <td>Banche e Cassa depositi e prestiti</td>\n",
       "      <td>ITG2E</td>\n",
       "      <td>None</td>\n",
       "      <td>SBI25</td>\n",
       "      <td>Società non finanziarie e famiglie produttrici</td>\n",
       "      <td>52000139</td>\n",
       "      <td>None</td>\n",
       "      <td>1004999</td>\n",
       "      <td>Totale ateco al netto della sez. U</td>\n",
       "      <td>938598.0</td>\n",
       "    </tr>\n",
       "    <tr>\n",
       "      <th>4</th>\n",
       "      <td>2024-12-31</td>\n",
       "      <td>1070001</td>\n",
       "      <td>Banche e Cassa depositi e prestiti</td>\n",
       "      <td>ITG2E</td>\n",
       "      <td>None</td>\n",
       "      <td>SBI25</td>\n",
       "      <td>Società non finanziarie e famiglie produttrici</td>\n",
       "      <td>52000139</td>\n",
       "      <td>None</td>\n",
       "      <td>1005001</td>\n",
       "      <td>Attività industriali</td>\n",
       "      <td>161246.0</td>\n",
       "    </tr>\n",
       "  </tbody>\n",
       "</table>\n",
       "</div>"
      ],
      "text/plain": [
       "    DATA_OSS ENTE_SEGN                          SEGNALANTE LOC_CTP  AREA  \\\n",
       "0 2024-12-31   1070001  Banche e Cassa depositi e prestiti   ITG2E  None   \n",
       "1 2024-12-31   1070001  Banche e Cassa depositi e prestiti   ITG2E  None   \n",
       "2 2024-12-31   1070001  Banche e Cassa depositi e prestiti   ITG2E  None   \n",
       "3 2024-12-31   1070001  Banche e Cassa depositi e prestiti   ITG2E  None   \n",
       "4 2024-12-31   1070001  Banche e Cassa depositi e prestiti   ITG2E  None   \n",
       "\n",
       "  SET_CTP                                             TARGET     FENEC  \\\n",
       "0   SBI42  Totale residenti al netto delle Istituzioni fi...  52000139   \n",
       "1   SBI25     Società non finanziarie e famiglie produttrici  52000139   \n",
       "2   SBI25     Società non finanziarie e famiglie produttrici  52000139   \n",
       "3   SBI25     Società non finanziarie e famiglie produttrici  52000139   \n",
       "4   SBI25     Società non finanziarie e famiglie produttrici  52000139   \n",
       "\n",
       "  FENOMENO ATECO_CTP                                              ATECO  \\\n",
       "0     None   1005009  Totale ateco al netto della sez. U comprese le...   \n",
       "1     None   1005003                                            Servizi   \n",
       "2     None         F                                        Costruzioni   \n",
       "3     None   1004999                 Totale ateco al netto della sez. U   \n",
       "4     None   1005001                               Attività industriali   \n",
       "\n",
       "      VALORE  \n",
       "0  2211368.0  \n",
       "1   567228.0  \n",
       "2    67010.0  \n",
       "3   938598.0  \n",
       "4   161246.0  "
      ]
     },
     "execution_count": 77,
     "metadata": {},
     "output_type": "execute_result"
    }
   ],
   "source": [
    "ddb.execute(f\"SELECT * from V_TDB10224_stafinra where LOC_CTP = 'ITG2E' order by DATA_OSS desc LIMIT 5\").df()\n"
   ]
  },
  {
   "cell_type": "code",
   "execution_count": 69,
   "id": "fb843914",
   "metadata": {},
   "outputs": [
    {
     "data": {
      "text/html": [
       "<div>\n",
       "<style scoped>\n",
       "    .dataframe tbody tr th:only-of-type {\n",
       "        vertical-align: middle;\n",
       "    }\n",
       "\n",
       "    .dataframe tbody tr th {\n",
       "        vertical-align: top;\n",
       "    }\n",
       "\n",
       "    .dataframe thead th {\n",
       "        text-align: right;\n",
       "    }\n",
       "</style>\n",
       "<table border=\"1\" class=\"dataframe\">\n",
       "  <thead>\n",
       "    <tr style=\"text-align: right;\">\n",
       "      <th></th>\n",
       "      <th>LOC_CTP</th>\n",
       "      <th>AREA</th>\n",
       "    </tr>\n",
       "  </thead>\n",
       "  <tbody>\n",
       "    <tr>\n",
       "      <th>0</th>\n",
       "      <td>ITG2G</td>\n",
       "      <td>None</td>\n",
       "    </tr>\n",
       "    <tr>\n",
       "      <th>1</th>\n",
       "      <td>ITG28</td>\n",
       "      <td>Oristano</td>\n",
       "    </tr>\n",
       "    <tr>\n",
       "      <th>2</th>\n",
       "      <td>ITG2H</td>\n",
       "      <td>Sud Sardegna</td>\n",
       "    </tr>\n",
       "    <tr>\n",
       "      <th>3</th>\n",
       "      <td>ITG2E</td>\n",
       "      <td>None</td>\n",
       "    </tr>\n",
       "    <tr>\n",
       "      <th>4</th>\n",
       "      <td>ITG2</td>\n",
       "      <td>Sardegna</td>\n",
       "    </tr>\n",
       "    <tr>\n",
       "      <th>5</th>\n",
       "      <td>ITG25</td>\n",
       "      <td>Sassari</td>\n",
       "    </tr>\n",
       "    <tr>\n",
       "      <th>6</th>\n",
       "      <td>ITG2D</td>\n",
       "      <td>None</td>\n",
       "    </tr>\n",
       "    <tr>\n",
       "      <th>7</th>\n",
       "      <td>ITG2B</td>\n",
       "      <td>Medio Campidano</td>\n",
       "    </tr>\n",
       "    <tr>\n",
       "      <th>8</th>\n",
       "      <td>ITG29</td>\n",
       "      <td>Olbia-Tempio</td>\n",
       "    </tr>\n",
       "    <tr>\n",
       "      <th>9</th>\n",
       "      <td>ITG2C</td>\n",
       "      <td>Carbonia-Iglesias</td>\n",
       "    </tr>\n",
       "    <tr>\n",
       "      <th>10</th>\n",
       "      <td>ITG2F</td>\n",
       "      <td>None</td>\n",
       "    </tr>\n",
       "    <tr>\n",
       "      <th>11</th>\n",
       "      <td>ITG27</td>\n",
       "      <td>Cagliari</td>\n",
       "    </tr>\n",
       "    <tr>\n",
       "      <th>12</th>\n",
       "      <td>ITG26</td>\n",
       "      <td>Nuoro</td>\n",
       "    </tr>\n",
       "    <tr>\n",
       "      <th>13</th>\n",
       "      <td>ITG2A</td>\n",
       "      <td>Ogliastra</td>\n",
       "    </tr>\n",
       "  </tbody>\n",
       "</table>\n",
       "</div>"
      ],
      "text/plain": [
       "   LOC_CTP               AREA\n",
       "0    ITG2G               None\n",
       "1    ITG28           Oristano\n",
       "2    ITG2H       Sud Sardegna\n",
       "3    ITG2E               None\n",
       "4     ITG2           Sardegna\n",
       "5    ITG25            Sassari\n",
       "6    ITG2D               None\n",
       "7    ITG2B    Medio Campidano\n",
       "8    ITG29       Olbia-Tempio\n",
       "9    ITG2C  Carbonia-Iglesias\n",
       "10   ITG2F               None\n",
       "11   ITG27           Cagliari\n",
       "12   ITG26              Nuoro\n",
       "13   ITG2A          Ogliastra"
      ]
     },
     "execution_count": 69,
     "metadata": {},
     "output_type": "execute_result"
    }
   ],
   "source": [
    "ddb.execute(f\"SELECT LOC_CTP, AREA from V_TDB10224_stafinra where LOC_CTP like 'ITG2%' group by 1,2\").df()\n"
   ]
  },
  {
   "cell_type": "markdown",
   "id": "fb888222",
   "metadata": {},
   "source": [
    "## aggiornamento tabella"
   ]
  },
  {
   "cell_type": "code",
   "execution_count": 78,
   "id": "7899b75b",
   "metadata": {},
   "outputs": [],
   "source": [
    "query_create = f\"\"\" UPDATE stafinra\n",
    "SET Descrizione = CASE Elemento\n",
    "    WHEN 'ITC2F' THEN 'Cagliari'\n",
    "    ELSE Descrizione\n",
    "END\n",
    "WHERE Elemento IN ('ITC2F');\"\"\""
   ]
  },
  {
   "cell_type": "markdown",
   "id": "972038df",
   "metadata": {},
   "source": [
    "## creazione una tantum di viste"
   ]
  },
  {
   "cell_type": "code",
   "execution_count": 4,
   "id": "4884fb46",
   "metadata": {},
   "outputs": [
    {
     "data": {
      "text/plain": [
       "<duckdb.duckdb.DuckDBPyConnection at 0x1964d1f18b0>"
      ]
     },
     "execution_count": 4,
     "metadata": {},
     "output_type": "execute_result"
    }
   ],
   "source": [
    "query_create = f\"\"\" UPDATE stafinra\n",
    "SET Descrizione = CASE Elemento\n",
    "    WHEN 'ITC20' THEN 'Liguria'\n",
    "    WHEN 'ITG2D' THEN 'Sardegna Sud'\n",
    "    WHEN 'ITG2E' THEN 'Sardegna Cagliari'\n",
    "    WHEN 'ITG2F' THEN 'Sardegna Nord'\n",
    "    WHEN 'ITG2G' THEN 'Sardegna Est'\n",
    "    ELSE Descrizione\n",
    "END\n",
    "WHERE Elemento IN ('ITC20', 'ITG2D', 'ITG2E', 'ITG2F', 'ITG2G');\"\"\""
   ]
  },
  {
   "cell_type": "code",
   "execution_count": 40,
   "id": "c3371ea4",
   "metadata": {},
   "outputs": [],
   "source": [
    "# script valido per 'TDB10224','TFR20232'\n",
    "tabella = 'TDB10224'\n",
    "dominio = 'stafinra'\n",
    "vista = f\"V_{tabella}_{dominio}\"  # Qui usiamo f-string per creare il nome dinamico della vista\n",
    "query_drop = f\"DROP VIEW IF EXISTS {vista};\"\n",
    "ddb.execute(query_drop)\n",
    "query_create = f\"\"\" CREATE VIEW {vista} AS SELECT  d.DATA_OSS,\n",
    "        d.ENTE_SEGN, s1.Descrizione AS SEGNALANTE,\n",
    "        d.LOC_CTP,   s2.Descrizione AS AREA,\n",
    "        d.SET_CTP,   s3.Descrizione AS TARGET,\n",
    "        d.FENEC,     s4.Descrizione AS FENOMENO,\n",
    "        d.ATECO_CTP, s5.Descrizione AS ATECO,\n",
    "        d.VALORE\n",
    "FROM {tabella} d\n",
    "LEFT JOIN {dominio} s1 ON d.ENTE_SEGN = s1.Elemento\n",
    "LEFT JOIN {dominio} s2 ON d.LOC_CTP = s2.Elemento\n",
    "LEFT JOIN {dominio} s3 ON d.SET_CTP = s3.Elemento\n",
    "LEFT JOIN {dominio} s4 ON d.FENEC = s4.Elemento\n",
    "LEFT JOIN {dominio} s5 ON d.ATECO_CTP = s5.Elemento; \"\"\"\n",
    "\n"
   ]
  },
  {
   "cell_type": "code",
   "execution_count": 42,
   "id": "49a59ba2",
   "metadata": {},
   "outputs": [
    {
     "ename": "CatalogException",
     "evalue": "Catalog Error: View with name \"V_TDB10224_stafinra\" already exists!",
     "output_type": "error",
     "traceback": [
      "\u001b[1;31m---------------------------------------------------------------------------\u001b[0m",
      "\u001b[1;31mCatalogException\u001b[0m                          Traceback (most recent call last)",
      "Cell \u001b[1;32mIn[42], line 1\u001b[0m\n\u001b[1;32m----> 1\u001b[0m \u001b[43mddb\u001b[49m\u001b[38;5;241;43m.\u001b[39;49m\u001b[43mexecute\u001b[49m\u001b[43m(\u001b[49m\u001b[43mquery_create\u001b[49m\u001b[43m)\u001b[49m\n\u001b[0;32m      2\u001b[0m df \u001b[38;5;241m=\u001b[39m ddb\u001b[38;5;241m.\u001b[39mexecute(\u001b[38;5;124mf\u001b[39m\u001b[38;5;124m\"\u001b[39m\u001b[38;5;124mSELECT * FROM \u001b[39m\u001b[38;5;132;01m{\u001b[39;00mvista\u001b[38;5;132;01m}\u001b[39;00m\u001b[38;5;124mlimit 5\u001b[39m\u001b[38;5;124m\"\u001b[39m)\u001b[38;5;241m.\u001b[39mfetchdf()\n\u001b[0;32m      3\u001b[0m df\n",
      "\u001b[1;31mCatalogException\u001b[0m: Catalog Error: View with name \"V_TDB10224_stafinra\" already exists!"
     ]
    }
   ],
   "source": [
    "ddb.execute(query_create)\n",
    "df = ddb.execute(f\"SELECT * FROM {vista} limit 5\").fetchdf()\n",
    "df"
   ]
  },
  {
   "cell_type": "code",
   "execution_count": 19,
   "id": "d963ad77",
   "metadata": {},
   "outputs": [],
   "source": [
    "# script valido per 'TDB10226','TDB10295'\n",
    "tabella = 'TFR20232'\n",
    "dominio = 'stafinra'\n",
    "vista = f\"V_{tabella}_{dominio}\"  # Qui usiamo f-string per creare il nome dinamico della vista\n",
    "query_drop = f\"DROP VIEW IF EXISTS {vista};\"\n",
    "ddb.execute(query_drop)\n",
    "query_create = f\"\"\" CREATE VIEW {vista} AS SELECT  d.DATA_OSS,\n",
    "        d.ENTE_SEGN, s1.Descrizione AS SEGNALANTE,\n",
    "        d.LOC_CTP,   s2.Descrizione AS AREA,\n",
    "        d.SET_CTP,   s3.Descrizione AS TARGET,\n",
    "        d.FENEC,     s4.Descrizione AS FENOMENO,\n",
    "        d.VALORE\n",
    "FROM {tabella} d\n",
    "LEFT JOIN {dominio} s1 ON d.ENTE_SEGN = s1.Elemento\n",
    "LEFT JOIN {dominio} s2 ON d.LOC_CTP = s2.Elemento\n",
    "LEFT JOIN {dominio} s3 ON d.SET_CTP = s3.Elemento\n",
    "LEFT JOIN {dominio} s4 ON d.FENEC = s4.Elemento; \"\"\""
   ]
  },
  {
   "cell_type": "code",
   "execution_count": 21,
   "id": "eacb6d38",
   "metadata": {},
   "outputs": [],
   "source": [
    "# script valido per 'TDB10224','TDB10226','TDB10295'\n",
    "tabella = 'TFR20232'\n",
    "dominio = 'stafinra'\n",
    "vista = f\"V_{tabella}_{dominio}\"  # Qui usiamo f-string per creare il nome dinamico della vista\n",
    "query_drop = f\"DROP VIEW IF EXISTS {vista};\"\n",
    "ddb.execute(query_drop)\n",
    "query_create = f\"\"\"CREATE VIEW {vista} AS SELECT d.DATA_OSS,\n",
    "    d.ENTE_SEGN,    s1.Descrizione AS SEGNALANTE,\n",
    "    d.LOC_SPORT,    s2.Descrizione AS AREA,\n",
    "    d.FENEC,        s3.Descrizione AS FENOMENO,\n",
    "    d.VALORE\n",
    "FROM {tabella} d\n",
    "LEFT JOIN {dominio} s1 ON d.ENTE_SEGN = s1.Elemento\n",
    "LEFT JOIN {dominio} s2 ON d.LOC_SPORT = s2.Elemento\n",
    "LEFT JOIN {dominio} s3 ON d.FENEC     = s3.Elemento;\"\"\"\n"
   ]
  },
  {
   "cell_type": "code",
   "execution_count": null,
   "id": "bd2fced1",
   "metadata": {},
   "outputs": [
    {
     "name": "stdout",
     "output_type": "stream",
     "text": [
      "✅ Vista 'V_TRI30156_stacoris' ricreata con successo!\n"
     ]
    }
   ],
   "source": [
    "# script valido per 'TRI30156',\n",
    "tabella = 'TRI30156'\n",
    "dominio = 'stacoris'\n",
    "vista = f\"V_{tabella}_{dominio}\"  # Qui usiamo f-string per creare il nome dinamico della vista\n",
    "query_drop = f\"DROP VIEW IF EXISTS {vista};\"\n",
    "ddb.execute(query_drop)\n",
    "\n",
    "query_create = f\"\"\"CREATE VIEW {vista} AS SELECT d.DATA_OSS,\n",
    "    d.ENTE_SEGN,     s1.Descrizione AS SEGNALANTE,\n",
    "    d.SET_CTP,     s2.Descrizione AS AREA,\n",
    "    d.FENEC,     s3.Descrizione AS FENOMENO,\n",
    "    d.ATECO_CTP,     s4.Descrizione AS SETTORE_ATECO,\n",
    "    d.CLASSE_ACCORD,     s5.Descrizione AS CLASSE_ACCORDO,\n",
    "    d.SEDELEG_SOGG,     s6.Descrizione AS SEDE_LEGALE,\n",
    "    d.VALORE\n",
    "FROM {tabella} d\n",
    "LEFT JOIN {dominio} s1 ON d.ENTE_SEGN = s1.Elemento\n",
    "LEFT JOIN {dominio} s2 ON d.SET_CTP   = s2.Elemento\n",
    "LEFT JOIN {dominio} s3 ON d.FENEC     = s3.Elemento\n",
    "LEFT JOIN {dominio} s4 ON d.ATECO_CTP = s4.Elemento\n",
    "LEFT JOIN {dominio} s5 ON CAST(d.CLASSE_ACCORD AS VARCHAR) = s5.Elemento\n",
    "LEFT JOIN {dominio} s6 ON d.SEDELEG_SOGG = s6.Elemento; \"\"\"\n",
    "ddb.execute(query_create)\n",
    "print(f\"✅ Vista '{vista}' ricreata con successo!\")"
   ]
  },
  {
   "cell_type": "code",
   "execution_count": 32,
   "id": "f4edd80b",
   "metadata": {},
   "outputs": [
    {
     "data": {
      "text/html": [
       "<div>\n",
       "<style scoped>\n",
       "    .dataframe tbody tr th:only-of-type {\n",
       "        vertical-align: middle;\n",
       "    }\n",
       "\n",
       "    .dataframe tbody tr th {\n",
       "        vertical-align: top;\n",
       "    }\n",
       "\n",
       "    .dataframe thead th {\n",
       "        text-align: right;\n",
       "    }\n",
       "</style>\n",
       "<table border=\"1\" class=\"dataframe\">\n",
       "  <thead>\n",
       "    <tr style=\"text-align: right;\">\n",
       "      <th></th>\n",
       "      <th>table_name</th>\n",
       "      <th>table_type</th>\n",
       "    </tr>\n",
       "  </thead>\n",
       "  <tbody>\n",
       "    <tr>\n",
       "      <th>0</th>\n",
       "      <td>V_TDB10224_stafinra</td>\n",
       "      <td>VIEW</td>\n",
       "    </tr>\n",
       "    <tr>\n",
       "      <th>1</th>\n",
       "      <td>V_TDB10226_stafinra</td>\n",
       "      <td>VIEW</td>\n",
       "    </tr>\n",
       "    <tr>\n",
       "      <th>2</th>\n",
       "      <td>V_TDB10295_stafinra</td>\n",
       "      <td>VIEW</td>\n",
       "    </tr>\n",
       "    <tr>\n",
       "      <th>3</th>\n",
       "      <td>V_TFR10194_stafinra</td>\n",
       "      <td>VIEW</td>\n",
       "    </tr>\n",
       "    <tr>\n",
       "      <th>4</th>\n",
       "      <td>V_TFR10255_stafinra</td>\n",
       "      <td>VIEW</td>\n",
       "    </tr>\n",
       "    <tr>\n",
       "      <th>5</th>\n",
       "      <td>V_TFR20232_stafinra</td>\n",
       "      <td>VIEW</td>\n",
       "    </tr>\n",
       "    <tr>\n",
       "      <th>6</th>\n",
       "      <td>V_TRI30156_stacoris</td>\n",
       "      <td>VIEW</td>\n",
       "    </tr>\n",
       "  </tbody>\n",
       "</table>\n",
       "</div>"
      ],
      "text/plain": [
       "            table_name table_type\n",
       "0  V_TDB10224_stafinra       VIEW\n",
       "1  V_TDB10226_stafinra       VIEW\n",
       "2  V_TDB10295_stafinra       VIEW\n",
       "3  V_TFR10194_stafinra       VIEW\n",
       "4  V_TFR10255_stafinra       VIEW\n",
       "5  V_TFR20232_stafinra       VIEW\n",
       "6  V_TRI30156_stacoris       VIEW"
      ]
     },
     "execution_count": 32,
     "metadata": {},
     "output_type": "execute_result"
    }
   ],
   "source": [
    "# vedere le viste memorizzate\n",
    "query_create = f\"\"\"SELECT table_name, table_type \n",
    "FROM information_schema.tables \n",
    "WHERE table_schema = 'main' AND table_type = 'VIEW';\"\"\"\n",
    "ddb.execute(query_create).fetchdf() "
   ]
  },
  {
   "cell_type": "code",
   "execution_count": 34,
   "id": "1f9c6a1f",
   "metadata": {},
   "outputs": [
    {
     "data": {
      "text/html": [
       "<div>\n",
       "<style scoped>\n",
       "    .dataframe tbody tr th:only-of-type {\n",
       "        vertical-align: middle;\n",
       "    }\n",
       "\n",
       "    .dataframe tbody tr th {\n",
       "        vertical-align: top;\n",
       "    }\n",
       "\n",
       "    .dataframe thead th {\n",
       "        text-align: right;\n",
       "    }\n",
       "</style>\n",
       "<table border=\"1\" class=\"dataframe\">\n",
       "  <thead>\n",
       "    <tr style=\"text-align: right;\">\n",
       "      <th></th>\n",
       "      <th>column_name</th>\n",
       "      <th>column_type</th>\n",
       "      <th>null</th>\n",
       "      <th>key</th>\n",
       "      <th>default</th>\n",
       "      <th>extra</th>\n",
       "    </tr>\n",
       "  </thead>\n",
       "  <tbody>\n",
       "    <tr>\n",
       "      <th>0</th>\n",
       "      <td>DATA_OSS</td>\n",
       "      <td>TIMESTAMP_NS</td>\n",
       "      <td>YES</td>\n",
       "      <td>None</td>\n",
       "      <td>None</td>\n",
       "      <td>None</td>\n",
       "    </tr>\n",
       "    <tr>\n",
       "      <th>1</th>\n",
       "      <td>ENTE_SEGN</td>\n",
       "      <td>VARCHAR</td>\n",
       "      <td>YES</td>\n",
       "      <td>None</td>\n",
       "      <td>None</td>\n",
       "      <td>None</td>\n",
       "    </tr>\n",
       "    <tr>\n",
       "      <th>2</th>\n",
       "      <td>SEGNALANTE</td>\n",
       "      <td>VARCHAR</td>\n",
       "      <td>YES</td>\n",
       "      <td>None</td>\n",
       "      <td>None</td>\n",
       "      <td>None</td>\n",
       "    </tr>\n",
       "    <tr>\n",
       "      <th>3</th>\n",
       "      <td>LOC_CTP</td>\n",
       "      <td>VARCHAR</td>\n",
       "      <td>YES</td>\n",
       "      <td>None</td>\n",
       "      <td>None</td>\n",
       "      <td>None</td>\n",
       "    </tr>\n",
       "    <tr>\n",
       "      <th>4</th>\n",
       "      <td>AREA</td>\n",
       "      <td>VARCHAR</td>\n",
       "      <td>YES</td>\n",
       "      <td>None</td>\n",
       "      <td>None</td>\n",
       "      <td>None</td>\n",
       "    </tr>\n",
       "    <tr>\n",
       "      <th>5</th>\n",
       "      <td>SET_CTP</td>\n",
       "      <td>VARCHAR</td>\n",
       "      <td>YES</td>\n",
       "      <td>None</td>\n",
       "      <td>None</td>\n",
       "      <td>None</td>\n",
       "    </tr>\n",
       "    <tr>\n",
       "      <th>6</th>\n",
       "      <td>TARGET</td>\n",
       "      <td>VARCHAR</td>\n",
       "      <td>YES</td>\n",
       "      <td>None</td>\n",
       "      <td>None</td>\n",
       "      <td>None</td>\n",
       "    </tr>\n",
       "    <tr>\n",
       "      <th>7</th>\n",
       "      <td>FENEC</td>\n",
       "      <td>VARCHAR</td>\n",
       "      <td>YES</td>\n",
       "      <td>None</td>\n",
       "      <td>None</td>\n",
       "      <td>None</td>\n",
       "    </tr>\n",
       "    <tr>\n",
       "      <th>8</th>\n",
       "      <td>FENOMENO</td>\n",
       "      <td>VARCHAR</td>\n",
       "      <td>YES</td>\n",
       "      <td>None</td>\n",
       "      <td>None</td>\n",
       "      <td>None</td>\n",
       "    </tr>\n",
       "    <tr>\n",
       "      <th>9</th>\n",
       "      <td>ATECO_CTP</td>\n",
       "      <td>VARCHAR</td>\n",
       "      <td>YES</td>\n",
       "      <td>None</td>\n",
       "      <td>None</td>\n",
       "      <td>None</td>\n",
       "    </tr>\n",
       "    <tr>\n",
       "      <th>10</th>\n",
       "      <td>ATECO</td>\n",
       "      <td>VARCHAR</td>\n",
       "      <td>YES</td>\n",
       "      <td>None</td>\n",
       "      <td>None</td>\n",
       "      <td>None</td>\n",
       "    </tr>\n",
       "    <tr>\n",
       "      <th>11</th>\n",
       "      <td>VALORE</td>\n",
       "      <td>DOUBLE</td>\n",
       "      <td>YES</td>\n",
       "      <td>None</td>\n",
       "      <td>None</td>\n",
       "      <td>None</td>\n",
       "    </tr>\n",
       "  </tbody>\n",
       "</table>\n",
       "</div>"
      ],
      "text/plain": [
       "   column_name   column_type null   key default extra\n",
       "0     DATA_OSS  TIMESTAMP_NS  YES  None    None  None\n",
       "1    ENTE_SEGN       VARCHAR  YES  None    None  None\n",
       "2   SEGNALANTE       VARCHAR  YES  None    None  None\n",
       "3      LOC_CTP       VARCHAR  YES  None    None  None\n",
       "4         AREA       VARCHAR  YES  None    None  None\n",
       "5      SET_CTP       VARCHAR  YES  None    None  None\n",
       "6       TARGET       VARCHAR  YES  None    None  None\n",
       "7        FENEC       VARCHAR  YES  None    None  None\n",
       "8     FENOMENO       VARCHAR  YES  None    None  None\n",
       "9    ATECO_CTP       VARCHAR  YES  None    None  None\n",
       "10       ATECO       VARCHAR  YES  None    None  None\n",
       "11      VALORE        DOUBLE  YES  None    None  None"
      ]
     },
     "execution_count": 34,
     "metadata": {},
     "output_type": "execute_result"
    }
   ],
   "source": [
    "# vedere le colonne\n",
    "query_create = f\"\"\"DESCRIBE {vista};\"\"\"\n",
    "ddb.execute(query_create).fetchdf() "
   ]
  },
  {
   "cell_type": "markdown",
   "id": "98443da4",
   "metadata": {},
   "source": [
    "## **aggiornamento periodico tabelle**"
   ]
  },
  {
   "cell_type": "markdown",
   "id": "a9166af2",
   "metadata": {},
   "source": [
    "|set|20250331|\n",
    "|-|-|\n",
    "|STAATER|x|\n",
    "|STAFINRA||\n",
    "|STACORIS||"
   ]
  },
  {
   "cell_type": "code",
   "execution_count": 3,
   "id": "3f76d380",
   "metadata": {},
   "outputs": [],
   "source": [
    "def carica_dati_in_sql(tabella):\n",
    "    file_url = f\"https://a2a.bancaditalia.it/infostat/dataservices/export/IT/CSV/DATA/CUBE/BANKITALIA/DIFF/{tabella}\"\n",
    "    result = requests.get(file_url)\n",
    "    date_column = ['DATA_OSS']\n",
    "    df = pd.read_csv(BytesIO(result.content),\n",
    "                 compression='zip',\n",
    "                 header=0,\n",
    "                 sep=';',\n",
    "                 quotechar='\"',\n",
    "                 encoding='utf-8',\n",
    "                 decimal=',',  # Gestisce numeri come \"-5,8\"\n",
    "                 dtype={'ENTE_SEGN': 'str', 'FENEC': 'str', 'VALORE': 'float64', 'LOC_SPORT': 'str'},\n",
    "                 parse_dates=date_column,\n",
    "                 dayfirst=False)\n",
    "    dtypes = {\n",
    "        \"DATA_OSS\": sqlalchemy.types.DATE(),\n",
    "        \"DESINV\": sqlalchemy.types.INTEGER(),\n",
    "        \"DURORI\": sqlalchemy.types.INTEGER(),\n",
    "        \"TIPTASSO\": sqlalchemy.types.INTEGER(),\n",
    "        \"VALORE\": sqlalchemy.types.INTEGER(),\n",
    "        \"CLASSE_ACCORD\":sqlalchemy.types.TEXT()\n",
    "    }\n",
    "    DataMax =df['DATA_OSS'].max()\n",
    "    print(f\"🔍 ok tabella: {tabella}...DataMax: {DataMax}\") \n",
    "    df.to_sql(tabella, sqlite, if_exists='replace', index=False, dtype=dtypes)\n",
    "    existing_tables = [row[0] for row in ddb.execute(\"SHOW TABLES\").fetchall()]\n",
    "    if tabella in existing_tables:\n",
    "        ddb.execute(f\"DROP TABLE {tabella}\") \n",
    "    ddb.execute(f\"CREATE TABLE {tabella} AS SELECT * FROM df LIMIT 0\")  # Crea una tabella vuota con la struttura del DataFrame\n",
    "    ddb.execute(f\"INSERT INTO {tabella} SELECT * FROM df\")\n",
    "    return df"
   ]
  },
  {
   "cell_type": "code",
   "execution_count": 11,
   "id": "4f78dd4b",
   "metadata": {},
   "outputs": [
    {
     "name": "stdout",
     "output_type": "stream",
     "text": [
      "🔍 ok tabella: TDB20207...DataMax: 2024-12-31 00:00:00\n",
      "🔍 ok tabella: TDB20212...DataMax: 2024-12-31 00:00:00\n",
      "🔍 ok tabella: TDB20220...DataMax: 2024-12-31 00:00:00\n",
      "🔍 ok tabella: TDB10222...DataMax: 2024-12-31 00:00:00\n",
      "🔍 ok tabella: TDB10225...DataMax: 2024-12-31 00:00:00\n",
      "🔍 ok tabella: TDB10227...DataMax: 2024-12-31 00:00:00\n",
      "🔍 ok tabella: TDB20210...DataMax: 2024-12-31 00:00:00\n",
      "🔍 ok tabella: TDB20225...DataMax: 2024-12-31 00:00:00\n",
      "🔍 ok tabella: TDB20230...DataMax: 2024-12-31 00:00:00\n",
      "🔍 ok tabella: TDB10195...DataMax: 2024-12-31 00:00:00\n"
     ]
    }
   ],
   "source": [
    "for tabella in STAATER:\n",
    "    df = carica_dati_in_sql(tabella)"
   ]
  },
  {
   "cell_type": "code",
   "execution_count": 5,
   "id": "4b155fdd",
   "metadata": {},
   "outputs": [
    {
     "data": {
      "text/plain": [
       "50"
      ]
     },
     "execution_count": 5,
     "metadata": {},
     "output_type": "execute_result"
    }
   ],
   "source": [
    "len(STAFINRA)"
   ]
  },
  {
   "cell_type": "markdown",
   "id": "c881445a",
   "metadata": {},
   "source": [
    "## STAATER\n",
    "\n",
    "- 🔍 ok tabella: TDB20207...DataMax: 2024-12-31 00:00:00\n",
    "- 🔍 ok tabella: TDB20212...DataMax: 2024-12-31 00:00:00\n",
    "- 🔍 ok tabella: TDB20220...DataMax: 2024-12-31 00:00:00\n",
    "- 🔍 ok tabella: TDB10222...DataMax: 2024-12-31 00:00:00\n",
    "- 🔍 ok tabella: TDB10225...DataMax: 2024-12-31 00:00:00\n",
    "- 🔍 ok tabella: TDB10227...DataMax: 2024-12-31 00:00:00\n",
    "- 🔍 ok tabella: TDB20210...DataMax: 2024-12-31 00:00:00\n",
    "- 🔍 ok tabella: TDB20225...DataMax: 2024-12-31 00:00:00\n",
    "- 🔍 ok tabella: TDB20230...DataMax: 2024-12-31 00:00:00\n",
    "- 🔍 ok tabella: TDB10195...DataMax: 2024-12-31 00:00:00\n",
    "\n",
    "## STACORIS\n",
    "63 tabelle\n",
    "\n",
    "- 🔍 ok tabella: TRI30266...DataMax: 2024-12-31 00:00:00\n",
    "- 🔍 ok tabella: TRI30267...DataMax: 2024-12-31 00:00:00\n",
    "- 🔍 ok tabella: TRI30265...DataMax: 2024-12-31 00:00:00\n",
    "- 🔍 ok tabella: TRI30271...DataMax: 2024-12-31 00:00:00\n",
    "- 🔍 ok tabella: TRI30601...DataMax: 2024-12-31 00:00:00\n",
    "- 🔍 ok tabella: TRI30602...DataMax: 2024-12-31 00:00:00\n",
    "- 🔍 ok tabella: TRI30603...DataMax: 2024-12-31 00:00:00\n",
    "- 🔍 ok tabella: TRI30604...DataMax: 2024-12-31 00:00:00\n",
    "- 🔍 ok tabella: TRI30605...DataMax: 2024-12-31 00:00:00\n",
    "- 🔍 ok tabella: TRI30606...DataMax: 2024-12-31 00:00:00\n",
    "- 🔍 ok tabella: TRI30486...DataMax: 2024-12-31 00:00:00\n",
    "- 🔍 ok tabella: TRI30496...DataMax: 2024-12-31 00:00:00\n",
    "- 🔍 ok tabella: TRI30507...DataMax: 2024-12-31 00:00:00\n",
    "- 🔍 ok tabella: TRI30516...DataMax: 2024-12-31 00:00:00\n",
    "- 🔍 ok tabella: TRI30524...DataMax: 2024-12-31 00:00:00\n",
    "- 🔍 ok tabella: TRI30529...DataMax: 2024-12-31 00:00:00\n",
    "- 🔍 ok tabella: TRI30631...DataMax: 2024-12-31 00:00:00\n",
    "- 🔍 ok tabella: TRI30632...DataMax: 2024-12-31 00:00:00\n",
    "- 🔍 ok tabella: TRI30633...DataMax: 2024-12-31 00:00:00\n",
    "- 🔍 ok tabella: TRI30634...DataMax: 2024-12-31 00:00:00\n",
    "- 🔍 ok tabella: TRI30635...DataMax: 2024-12-31 00:00:00\n",
    "- 🔍 ok tabella: TRI30636...DataMax: 2024-12-31 00:00:00\n",
    "- 🔍 ok tabella: TRI30431...DataMax: 2024-12-31 00:00:00\n",
    "- 🔍 ok tabella: TRI30446...DataMax: 2024-12-31 00:00:00\n",
    "- 🔍 ok tabella: TRI30466...DataMax: 2024-12-31 00:00:00\n",
    "- 🔍 ok tabella: TRI30476...DataMax: 2024-12-31 00:00:00\n",
    "- 🔍 ok tabella: TRI30361...DataMax: 2024-12-31 00:00:00\n",
    "- 🔍 ok tabella: TRI30401...DataMax: 2024-12-31 00:00:00\n",
    "- 🔍 ok tabella: TRI30101...DataMax: 2024-12-31 00:00:00\n",
    "- 🔍 ok tabella: TRI30126...DataMax: 2024-12-31 00:00:00\n",
    "- 🔍 ok tabella: TRI30146...DataMax: 2024-12-31 00:00:00\n",
    "- 🔍 ok tabella: TRI30156...DataMax: 2024-12-31 00:00:00\n",
    "- 🔍 ok tabella: TRI30190...DataMax: 2024-12-31 00:00:00\n",
    "- 🔍 ok tabella: TRI30136...DataMax: 2024-12-31 00:00:00\n",
    "- 🔍 ok tabella: TRI30166...DataMax: 2024-12-31 00:00:00\n",
    "- 🔍 ok tabella: TRI30871...DataMax: 2024-12-31 00:00:00\n",
    "- 🔍 ok tabella: TRI30881...DataMax: 2024-12-31 00:00:00\n",
    "- 🔍 ok tabella: TRI30890...DataMax: 2024-12-31 00:00:00\n",
    "- 🔍 ok tabella: TRI30900...DataMax: 2024-12-31 00:00:00\n",
    "- 🔍 ok tabella: TRI30950...DataMax: 2024-12-31 00:00:00\n",
    "- 🔍 ok tabella: TRI30951...DataMax: 2024-12-31 00:00:00\n",
    "- 🔍 ok tabella: TRI30952...DataMax: 2024-12-31 00:00:00\n",
    "- 🔍 ok tabella: TRI31100...DataMax: 2024-12-31 00:00:00\n",
    "- 🔍 ok tabella: TRI31101...DataMax: 2024-12-31 00:00:00\n",
    "- 🔍 ok tabella: TRI30021...DataMax: 2024-12-31 00:00:00\n",
    "- 🔍 ok tabella: TRI30171...DataMax: 2024-12-31 00:00:00\n",
    "- 🔍 ok tabella: TRI30181...DataMax: 2024-12-31 00:00:00\n",
    "- 🔍 ok tabella: TRI30268...DataMax: 2024-12-31 00:00:00\n",
    "- 🔍 ok tabella: TRI30269...DataMax: 2024-12-31 00:00:00\n",
    "- 🔍 ok tabella: TRI30206...DataMax: 2024-12-31 00:00:00\n",
    "- 🔍 ok tabella: TRI30031...DataMax: 2024-12-31 00:00:00\n",
    "- 🔍 ok tabella: TRI30231...DataMax: 2024-12-31 00:00:00\n",
    "- 🔍 ok tabella: TRI30226...DataMax: 2024-12-31 00:00:00\n",
    "- 🔍 ok tabella: TRI30033...DataMax: 2024-12-31 00:00:00\n",
    "- 🔍 ok tabella: TRI30211...DataMax: 2024-12-31 00:00:00\n",
    "- 🔍 ok tabella: TRI30241...DataMax: 2024-12-31 00:00:00\n",
    "- 🔍 ok tabella: TRI30251...DataMax: 2024-12-31 00:00:00\n",
    "- 🔍 ok tabella: TRI30290...DataMax: 2024-12-31 00:00:00\n",
    "- 🔍 ok tabella: TRI30953...DataMax: 2024-12-31 00:00:00\n",
    "- 🔍 ok tabella: TRI30954...DataMax: 2024-12-31 00:00:00\n",
    "- 🔍 ok tabella: TRI30955...DataMax: 2024-12-31 00:00:00\n",
    "- 🔍 ok tabella: TRI31102...DataMax: 2024-12-31 00:00:00\n",
    "- 🔍 ok tabella: TRI31103...DataMax: 2024-12-31 00:00:00\n",
    "\n",
    "\n",
    "## STASFINRA\n",
    "50 tabelle\n",
    "\n",
    "- 🔍 ok tabella: TDB10290...DataMax: 2025-01-31 00:00:00\n",
    "- 🔍 ok tabella: TDB10221...DataMax: 2025-01-31 00:00:00\n",
    "- 🔍 ok tabella: TDB10224...DataMax: 2025-01-31 00:00:00\n",
    "- 🔍 ok tabella: TDB10226...DataMax: 2025-01-31 00:00:00\n",
    "- 🔍 ok tabella: TDB10295...DataMax: 2025-01-31 00:00:00\n",
    "- 🔍 ok tabella: TDB20224...DataMax: 2025-01-31 00:00:00\n",
    "- 🔍 ok tabella: TDB20226...DataMax: 2025-01-31 00:00:00\n",
    "- 🔍 ok tabella: TDB20290...DataMax: 2025-01-31 00:00:00\n",
    "- 🔍 ok tabella: TDB20295...DataMax: 2025-01-31 00:00:00\n",
    "- 🔍 ok tabella: TFR40020...DataMax: 2024-12-31 00:00:00\n",
    "- 🔍 ok tabella: TFR20232...DataMax: 2024-12-31 00:00:00\n",
    "- 🔍 ok tabella: TFR20255...DataMax: 2024-12-31 00:00:00\n",
    "- 🔍 ok tabella: TFR20231...DataMax: 2024-12-31 00:00:00\n",
    "- 🔍 ok tabella: TFR30274...DataMax: 2024-12-31 00:00:00\n",
    "- 🔍 ok tabella: TFR10425...DataMax: 2024-12-31 00:00:00\n",
    "- 🔍 ok tabella: TFR10435...DataMax: 2024-12-31 00:00:00\n",
    "- 🔍 ok tabella: TFR20281...DataMax: 2024-12-31 00:00:00\n",
    "- 🔍 ok tabella: TFR10254...DataMax: 2024-12-31 00:00:00\n",
    "- 🔍 ok tabella: TFR30309...DataMax: 2024-12-31 00:00:00\n",
    "- 🔍 ok tabella: TFR30315...DataMax: 2024-12-31 00:00:00\n",
    "- 🔍 ok tabella: TFR20163...DataMax: 2024-12-31 00:00:00\n",
    "- 🔍 ok tabella: TFR20269...DataMax: 2024-12-31 00:00:00\n",
    "- 🔍 ok tabella: TFR20267...DataMax: 2024-12-31 00:00:00\n",
    "- 🔍 ok tabella: TFR40082...DataMax: 2024-12-31 00:00:00\n",
    "- 🔍 ok tabella: TFR40087...DataMax: 2024-12-31 00:00:00\n",
    "- 🔍 ok tabella: TFR40500...DataMax: 2024-12-31 00:00:00\n",
    "- 🔍 ok tabella: TFR40300...DataMax: 2024-12-31 00:00:00\n",
    "- 🔍 ok tabella: TFR40400...DataMax: 2024-12-31 00:00:00\n",
    "- 🔍 ok tabella: TFR30980...DataMax: 2024-12-31 00:00:00\n",
    "- 🔍 ok tabella: TFR30970...DataMax: 2024-12-31 00:00:00\n",
    "- 🔍 ok tabella: TFR10194...DataMax: 2024-12-31 00:00:00\n",
    "- 🔍 ok tabella: TFR10286...DataMax: 2024-12-31 00:00:00\n",
    "- 🔍 ok tabella: TFR10241...DataMax: 2024-12-31 00:00:00\n",
    "- 🔍 ok tabella: TFR10232...DataMax: 2024-12-31 00:00:00\n",
    "- 🔍 ok tabella: TFR10255...DataMax: 2024-12-31 00:00:00\n",
    "- 🔍 ok tabella: TFR10281...DataMax: 2024-12-31 00:00:00\n",
    "- 🔍 ok tabella: TFR10236...DataMax: 2024-12-31 00:00:00\n",
    "- 🔍 ok tabella: TFR10420...DataMax: 2024-12-31 00:00:00\n",
    "- 🔍 ok tabella: TFR10430...DataMax: 2024-12-31 00:00:00\n",
    "- 🔍 ok tabella: TFR10460...DataMax: 2024-12-31 00:00:00\n",
    "- 🔍 ok tabella: TFR10194...DataMax: 2024-12-31 00:00:00\n",
    "- 🔍 ok tabella: TFR10283...DataMax: 2024-12-31 00:00:00\n",
    "- 🔍 ok tabella: TFR10287...DataMax: 2024-12-31 00:00:00\n",
    "- 🔍 ok tabella: TFR10163...DataMax: 2024-12-31 00:00:00\n",
    "- 🔍 ok tabella: TFR10269...DataMax: 2024-12-31 00:00:00\n",
    "- 🔍 ok tabella: TFR10267...DataMax: 2024-12-31 00:00:00\n",
    "- 🔍 ok tabella: TFR40100...DataMax: 2024-12-31 00:00:00\n",
    "- 🔍 ok tabella: TFR10288...DataMax: 2024-12-31 00:00:00\n",
    "- 🔍 ok tabella: TFR10289...DataMax: 2024-12-31 00:00:00\n",
    "- 🔍 ok tabella: TFR20236...DataMax: 2024-12-31 00:00:00"
   ]
  },
  {
   "cell_type": "code",
   "execution_count": 5,
   "id": "feeea2cf",
   "metadata": {},
   "outputs": [],
   "source": [
    "ddb.close()"
   ]
  },
  {
   "cell_type": "code",
   "execution_count": null,
   "id": "0c0e140f",
   "metadata": {},
   "outputs": [],
   "source": [
    "query = \"\"\"SELECT * FROM TDB10295 limit 10;\"\"\"\n",
    "ddb.execute(query).fetchdf() \n"
   ]
  },
  {
   "cell_type": "code",
   "execution_count": null,
   "id": "29dcdc03",
   "metadata": {},
   "outputs": [],
   "source": [
    "query = \"\"\"SELECT * FROM STACORIS limit 10;\"\"\"\n",
    "ddb.execute(query).fetchdf() "
   ]
  },
  {
   "cell_type": "markdown",
   "id": "a1ec5445",
   "metadata": {},
   "source": [
    "## legend, domain, structure"
   ]
  },
  {
   "cell_type": "code",
   "execution_count": null,
   "id": "f1101a7a",
   "metadata": {},
   "outputs": [],
   "source": [
    "# merge di file informativi\n",
    "def merge_csv_files(folder_path, output_file, file):\n",
    "    all_files = [f for f in os.listdir(folder_path) if f.endswith(\".csv\") and f.startswith(file)]\n",
    "    df_list = []\n",
    "    \n",
    "    for file_name in all_files:\n",
    "        file_path = os.path.join(folder_path, file_name)\n",
    "        df = pd.read_csv(file_path, delimiter=';', dtype=str)  # Legge i CSV come stringhe\n",
    "        df['File_Origine'] = file_name  # Aggiunge la colonna con il nome del file\n",
    "        df_list.append(df)\n",
    "    \n",
    "    merged_df = pd.concat(df_list, ignore_index=True)\n",
    "    merged_df.to_csv(output_file, index=False, sep=';')\n",
    "    print(f\"File unito salvato in: {output_file}\")"
   ]
  },
  {
   "cell_type": "code",
   "execution_count": 17,
   "id": "ae2a3df1",
   "metadata": {},
   "outputs": [],
   "source": [
    "file = 'LEGEND'  # Cambiare"
   ]
  },
  {
   "cell_type": "code",
   "execution_count": null,
   "id": "4daf4936",
   "metadata": {},
   "outputs": [],
   "source": [
    "folder_path = f\"D:\\\\files\\\\csv\\\\Bankit\"\n",
    "output_file = f\"D:\\\\files\\\\csv\\\\Bankit\\\\{file}.csv\"\n",
    "merge_csv_files(folder_path, output_file, file)"
   ]
  },
  {
   "cell_type": "code",
   "execution_count": 18,
   "id": "b1108fcf",
   "metadata": {},
   "outputs": [
    {
     "data": {
      "text/plain": [
       "1203"
      ]
     },
     "execution_count": 18,
     "metadata": {},
     "output_type": "execute_result"
    }
   ],
   "source": [
    "df = pd.read_csv(file+'.csv', sep =';')\n",
    "df.to_sql(file, sqlite, if_exists='replace')"
   ]
  },
  {
   "cell_type": "code",
   "execution_count": 19,
   "id": "09b213c9",
   "metadata": {},
   "outputs": [
    {
     "data": {
      "text/plain": [
       "89"
      ]
     },
     "execution_count": 19,
     "metadata": {},
     "output_type": "execute_result"
    }
   ],
   "source": [
    "df = pd.read_csv('io_tavole.tsv', sep ='\\t')\n",
    "df.to_sql('tabelle', sqlite, if_exists='replace')"
   ]
  },
  {
   "cell_type": "markdown",
   "id": "74455631-967e-470e-9431-d0a2ec9a07fe",
   "metadata": {},
   "source": [
    "## **BAM**"
   ]
  },
  {
   "cell_type": "code",
   "execution_count": 21,
   "id": "5b02067e",
   "metadata": {},
   "outputs": [
    {
     "data": {
      "text/plain": [
       "2640"
      ]
     },
     "execution_count": 21,
     "metadata": {},
     "output_type": "execute_result"
    }
   ],
   "source": [
    "tabella = 'MIR0300' # ATECO100,BSIB0600,BSIB0700,BSIB1010,MIR0100\n",
    "file = f'https://a2a.bancaditalia.it/infostat/dataservices/export/IT/CSV/DATA/CUBE/BANKITALIA/DIFF/{tabella}'\n",
    "result = requests.get(file)\n",
    "date_column = ['DATA_OSS']\n",
    "data = pd.read_csv(BytesIO(result.content),compression='zip', header=0, sep=';', \n",
    "                   quotechar='\"', encoding='utf-8',parse_dates=date_column, dayfirst=False)\n",
    "df = data.melt(id_vars=['DATA_OSS'], var_name='variabile', value_name='valore')\n",
    "df.to_sql(tabella, sqlite, if_exists='replace')\n"
   ]
  },
  {
   "cell_type": "code",
   "execution_count": 32,
   "id": "d1427f9d-1926-4e4f-bafe-f4ce09ad0381",
   "metadata": {},
   "outputs": [],
   "source": [
    "data.columns = data.columns.str.replace(r'BAM_ATECO.M.1070001.52000700.101.IT.', '')\n",
    "data.dropna()\n",
    "melted_df = data.melt(id_vars=['DATA_OSS'], var_name='Elemento', value_name='VALORE')\n",
    "\n",
    "melted_df[['target','settore']] = melted_df['Elemento'].str.split('.', n=1, expand=True)\n",
    "melted_df['VALORE'] = melted_df['VALORE']*1000000"
   ]
  },
  {
   "cell_type": "code",
   "execution_count": 5,
   "id": "4cfd839c-f464-4426-ae17-880a99d77e81",
   "metadata": {},
   "outputs": [
    {
     "data": {
      "text/plain": [
       "21372"
      ]
     },
     "execution_count": 5,
     "metadata": {},
     "output_type": "execute_result"
    }
   ],
   "source": [
    "dtypes = {\"DIVISA1\": sqlalchemy.types.INTEGER(), \"DURORI\": sqlalchemy.types.INTEGER(),\"LOC_SPORT\": sqlalchemy.types.INTEGER(),\n",
    "         \"VALORE\": sqlalchemy.types.INTEGER()}\n",
    "melted_df[['DATA_OSS', 'target', 'settore', 'VALORE']].to_sql('ATECO100', sqlite, if_exists='replace', dtype=dtypes,index=False)"
   ]
  },
  {
   "cell_type": "markdown",
   "id": "96a4a253-2b63-4849-bccc-611bbd5ec877",
   "metadata": {
    "jp-MarkdownHeadingCollapsed": true
   },
   "source": [
    "### BSIB0800 - Prestiti ai residenti in Italia, per durata e tipologia "
   ]
  },
  {
   "cell_type": "markdown",
   "id": "e65d8ca2-3149-467d-b975-147b300265b2",
   "metadata": {},
   "source": [
    "### verifica punti di rottura"
   ]
  },
  {
   "cell_type": "code",
   "execution_count": null,
   "id": "3efff599-a149-4a57-8cdc-627b5f4e62b9",
   "metadata": {},
   "outputs": [],
   "source": [
    "SBI33 = data.query('SET_CTP == \"SBI33\"')[['DATA_OSS','LOC_CTP','VALORE']]\n",
    "# SBI33['DATA_OSS'] = pd.to_datetime(SBI33['DATA_OSS'])\n",
    "SBI33.set_index(SBI33['DATA_OSS'], inplace = True)\n",
    "ts = SBI33['VALORE']\n",
    "plt.plot(ts, linewidth=3, color='red')\n",
    "plt.title('')\n",
    "plt.grid()\n",
    "plt.show()"
   ]
  },
  {
   "cell_type": "code",
   "execution_count": null,
   "id": "290b48cf-f96c-48a7-8625-4f8c8013ba86",
   "metadata": {},
   "outputs": [],
   "source": [
    "import ruptures as rpt\n",
    "model = rpt.Dynp(model=\"l1\")  \n",
    "model.fit(y)\n",
    "result = model.predict()\n",
    "rpt.display(SBI33, result)\n",
    "plt.show()"
   ]
  },
  {
   "cell_type": "raw",
   "id": "6b4e0130",
   "metadata": {
    "vscode": {
     "languageId": "raw"
    }
   },
   "source": [
    "b = df['DATA_OSS'].max()\n",
    "df = df.query('DATA_OSS == @b')\n",
    "\n",
    "data = data[data['DATA_OSS'] == data['DATA_OSS'].max()]\n",
    "data['DATA_OSS'] = data['DATA_OSS'].dt.date\n",
    "data = data[data['LOC_CTP'].isin(nuts1)]\n",
    "\n",
    "data = pd.merge(data, stamen, how = 'left', left_on='ENTE_SEGN', right_on='Elemento').drop(columns=['ENTE_SEGN','STATUS','FENEC','index','Dominio','Elemento']).rename(columns={'Descrizione': 'segnalante'})\n",
    "data = pd.merge(data, stamen, how = 'left', left_on='LOC_CTP', right_on='Elemento').drop(columns=['index','Dominio', 'Elemento']).rename(columns={'Descrizione': 'area'})\n",
    "data = pd.merge(data, stamen, how = 'left', left_on='SET_CTP', right_on='Elemento').drop(columns=['index','Dominio', 'Elemento']).rename(columns={'Descrizione': 'target'})\n",
    "data = pd.merge(data, stamen, how = 'left', left_on = 'FENEC', right_on = 'Elemento').rename(columns={'Descrizione': 'FENOMENO'})[['DATA_OSS','SEGNALANTE', 'FENOMENO','LOC_CTP','SET_CTP', 'VALORE']]\n",
    "\n",
    "data = pd.merge(data, nuts, how='left', left_on='SEDELEG_SOGG', right_on='cod')\n",
    "data = pd.merge(data, EntiSegnalanti, how='left', left_on='ENTE_SEGN', right_on='ENTE_SEGN') # EntiSegnalanti = pd.DataFrame(data, columns=['ENTE_SEGN', 'Decod_Segnalante'])\n",
    "data = pd.merge(data, FenomenoEconomico, how='left', left_on='FENEC', right_on='FENEC') # FenomenoEconomico = pd.DataFrame(data, columns=['FENEC', 'Decod_FenEco'])\n",
    "data = pd.merge(data, controparte, how='left', left_on='SET_CTP', right_on='SET_CTP') # controparte = pd.DataFrame(data, columns=['SET_CTP', 'controp'])\n",
    "data = pd.merge(data, attività, how='left', left_on='ATECO_CTP', right_on='ATECO_CTP') # attività = pd.DataFrame(data, columns=['ATECO_CTP', 'ATECO'])'\n",
    "\n",
    "\n",
    "# 'IT' https://it.wikipedia.org/wiki/Nomenclatura_delle_unit%C3%A0_territoriali_per_le_statistiche_dell%27Italia\n",
    "# Nord Ovest = 'ITC', 'ITC1','ITC2','ITC3','ITC4'\n",
    "# NordEst = 'ITH','ITH3','ITH4','ITH5'\n",
    "# Centro = 'ITI','ITI1','ITI2','ITI3','ITI4'\n",
    "# sud = 'ITF','ITF1','ITF2','ITF3', 'ITF4','ITF5','ITF6'\n",
    "# isole = 'ITG','ITG1', 'ITG2'\n",
    "#  TRENTINO-ALTO ADIGE = 'ITHBI12' \n"
   ]
  },
  {
   "cell_type": "code",
   "execution_count": 11,
   "id": "cf689c8e",
   "metadata": {},
   "outputs": [
    {
     "data": {
      "text/html": [
       "<div>\n",
       "<style scoped>\n",
       "    .dataframe tbody tr th:only-of-type {\n",
       "        vertical-align: middle;\n",
       "    }\n",
       "\n",
       "    .dataframe tbody tr th {\n",
       "        vertical-align: top;\n",
       "    }\n",
       "\n",
       "    .dataframe thead th {\n",
       "        text-align: right;\n",
       "    }\n",
       "</style>\n",
       "<table border=\"1\" class=\"dataframe\">\n",
       "  <thead>\n",
       "    <tr style=\"text-align: right;\">\n",
       "      <th></th>\n",
       "      <th>column_name</th>\n",
       "      <th>column_type</th>\n",
       "      <th>null</th>\n",
       "      <th>key</th>\n",
       "      <th>default</th>\n",
       "      <th>extra</th>\n",
       "    </tr>\n",
       "  </thead>\n",
       "  <tbody>\n",
       "    <tr>\n",
       "      <th>0</th>\n",
       "      <td>DATA_OSS</td>\n",
       "      <td>TIMESTAMP_NS</td>\n",
       "      <td>YES</td>\n",
       "      <td>None</td>\n",
       "      <td>None</td>\n",
       "      <td>None</td>\n",
       "    </tr>\n",
       "    <tr>\n",
       "      <th>1</th>\n",
       "      <td>ENTE_SEGN</td>\n",
       "      <td>VARCHAR</td>\n",
       "      <td>YES</td>\n",
       "      <td>None</td>\n",
       "      <td>None</td>\n",
       "      <td>None</td>\n",
       "    </tr>\n",
       "    <tr>\n",
       "      <th>2</th>\n",
       "      <td>FENEC</td>\n",
       "      <td>VARCHAR</td>\n",
       "      <td>YES</td>\n",
       "      <td>None</td>\n",
       "      <td>None</td>\n",
       "      <td>None</td>\n",
       "    </tr>\n",
       "    <tr>\n",
       "      <th>3</th>\n",
       "      <td>LOC_CTP</td>\n",
       "      <td>VARCHAR</td>\n",
       "      <td>YES</td>\n",
       "      <td>None</td>\n",
       "      <td>None</td>\n",
       "      <td>None</td>\n",
       "    </tr>\n",
       "    <tr>\n",
       "      <th>4</th>\n",
       "      <td>SET_CTP</td>\n",
       "      <td>VARCHAR</td>\n",
       "      <td>YES</td>\n",
       "      <td>None</td>\n",
       "      <td>None</td>\n",
       "      <td>None</td>\n",
       "    </tr>\n",
       "    <tr>\n",
       "      <th>5</th>\n",
       "      <td>VALORE</td>\n",
       "      <td>DOUBLE</td>\n",
       "      <td>YES</td>\n",
       "      <td>None</td>\n",
       "      <td>None</td>\n",
       "      <td>None</td>\n",
       "    </tr>\n",
       "    <tr>\n",
       "      <th>6</th>\n",
       "      <td>STATUS</td>\n",
       "      <td>DOUBLE</td>\n",
       "      <td>YES</td>\n",
       "      <td>None</td>\n",
       "      <td>None</td>\n",
       "      <td>None</td>\n",
       "    </tr>\n",
       "  </tbody>\n",
       "</table>\n",
       "</div>"
      ],
      "text/plain": [
       "  column_name   column_type null   key default extra\n",
       "0    DATA_OSS  TIMESTAMP_NS  YES  None    None  None\n",
       "1   ENTE_SEGN       VARCHAR  YES  None    None  None\n",
       "2       FENEC       VARCHAR  YES  None    None  None\n",
       "3     LOC_CTP       VARCHAR  YES  None    None  None\n",
       "4     SET_CTP       VARCHAR  YES  None    None  None\n",
       "5      VALORE        DOUBLE  YES  None    None  None\n",
       "6      STATUS        DOUBLE  YES  None    None  None"
      ]
     },
     "execution_count": 11,
     "metadata": {},
     "output_type": "execute_result"
    }
   ],
   "source": [
    "ddb.execute(\"DESCRIBE TDB10295\").fetchdf()"
   ]
  },
  {
   "cell_type": "code",
   "execution_count": null,
   "id": "45893a26",
   "metadata": {},
   "outputs": [],
   "source": [
    "import duckdb\n",
    "\n",
    "# Connessione al database DuckDB\n",
    "ddb = duckdb.connect('D:/Bankit.duckdb')\n",
    "\n",
    "# Creazione della vista\n",
    "query = \"\"\"\n",
    "CREATE OR REPLACE VIEW V_TDB10295 AS\n",
    "SELECT \n",
    "*\n",
    "FROM data d\n",
    "LEFT JOIN stamen s1 ON d.ENTE_SEGN = s1.Elemento\n",
    "LEFT JOIN stamen s2 ON d.LOC_CTP = s2.Elemento\n",
    "LEFT JOIN stamen s3 ON d.SET_CTP = s3.Elemento\n",
    "LEFT JOIN stamen s4 ON d.FENEC = s4.Elemento;\n",
    "\"\"\"\n",
    "\n",
    "# Esegui la query per creare la vista\n",
    "ddb.execute(query)\n",
    "\n",
    "# Verifica che la vista sia stata creata correttamente\n",
    "print(ddb.execute(\"DESCRIBE data_enriched\").fetchdf())  # Mostra la struttura della vista\n"
   ]
  }
 ],
 "metadata": {
  "kernelspec": {
   "display_name": "Python 3",
   "language": "python",
   "name": "python3"
  },
  "language_info": {
   "codemirror_mode": {
    "name": "ipython",
    "version": 3
   },
   "file_extension": ".py",
   "mimetype": "text/x-python",
   "name": "python",
   "nbconvert_exporter": "python",
   "pygments_lexer": "ipython3",
   "version": "3.11.7"
  }
 },
 "nbformat": 4,
 "nbformat_minor": 5
}
