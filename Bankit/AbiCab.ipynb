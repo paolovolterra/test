{
 "cells": [
  {
   "cell_type": "markdown",
   "id": "f2e01e70-c246-4070-9695-97bfdf46526c",
   "metadata": {},
   "source": [
    "# Abi CAB\n",
    "vedi anche \"estrarre una tabella/altra prova\""
   ]
  },
  {
   "cell_type": "code",
   "execution_count": 1,
   "id": "59cef964-2aad-4e01-9204-ccb5e0684001",
   "metadata": {
    "tags": []
   },
   "outputs": [],
   "source": [
    "import pandas as pd\n",
    "import os\n",
    "os.chdir('D:/files/csv/AbiCab')\n",
    "df = pd.read_csv('ABICAB.csv',sep='|', dtype='str', index_col=[0])"
   ]
  },
  {
   "cell_type": "code",
   "execution_count": null,
   "id": "38679242-128f-476d-a31d-dfd4427c3691",
   "metadata": {
    "tags": []
   },
   "outputs": [],
   "source": [
    "df"
   ]
  },
  {
   "cell_type": "code",
   "execution_count": 2,
   "id": "cc49e087-5820-4489-9213-e6833e15f9d1",
   "metadata": {
    "tags": []
   },
   "outputs": [],
   "source": [
    "df['indirizzo_tot'] = df['Indirizzo']+', '+df['Comune']                     "
   ]
  },
  {
   "cell_type": "code",
   "execution_count": 3,
   "id": "326e6efb-8dca-439a-9267-c648be181e00",
   "metadata": {
    "tags": []
   },
   "outputs": [],
   "source": [
    "mask = (df['Regione'] != 'Sicilia')\n",
    "regione = df[~mask]"
   ]
  },
  {
   "cell_type": "code",
   "execution_count": null,
   "id": "ede34c48-b720-4aaf-9a04-d1592ac69cb1",
   "metadata": {},
   "outputs": [],
   "source": [
    "len(set(regione['Banca']))"
   ]
  },
  {
   "cell_type": "code",
   "execution_count": null,
   "id": "c1360ef8-d8d4-45b2-bfc4-f2abeb7a9f78",
   "metadata": {
    "tags": []
   },
   "outputs": [],
   "source": [
    "regione.sample(10)"
   ]
  },
  {
   "cell_type": "code",
   "execution_count": null,
   "id": "e6c7d3dd-d48a-4852-9bd3-5d13521f74b6",
   "metadata": {
    "tags": []
   },
   "outputs": [],
   "source": [
    "from geopy.geocoders import Nominatim\n",
    "import time\n",
    "\n",
    "# create a geolocator object\n",
    "geolocator = Nominatim(user_agent=\"giovu\")\n",
    "\n",
    "for index, value in campania['indirizzo'].items():\n",
    "    time.sleep(1)\n",
    "    location = geolocator.geocode(value)\n",
    "    if location:\n",
    "        latitude, longitude = location.latitude, location.longitude\n",
    "        print(index, location.address, (location.latitude, location.longitude))\n",
    "        campania.at[index, 'geopy'] = location.address\n",
    "        campania.at[index, 'lat'] = location.latitude\n",
    "        campania.at[index, 'long'] = location.longitude\n",
    "    else:\n",
    "        print(f\"Unable to geocode\")  "
   ]
  },
  {
   "cell_type": "code",
   "execution_count": null,
   "id": "29d6788d-273b-49e9-b0f2-32a879f7711c",
   "metadata": {
    "tags": []
   },
   "outputs": [],
   "source": [
    "campania.to_csv('AbiCabCampania.csv', sep='|',header=True, index=False)"
   ]
  }
 ],
 "metadata": {
  "kernelspec": {
   "display_name": "Python 3 (ipykernel)",
   "language": "python",
   "name": "python3"
  },
  "language_info": {
   "codemirror_mode": {
    "name": "ipython",
    "version": 3
   },
   "file_extension": ".py",
   "mimetype": "text/x-python",
   "name": "python",
   "nbconvert_exporter": "python",
   "pygments_lexer": "ipython3",
   "version": "3.11.0"
  }
 },
 "nbformat": 4,
 "nbformat_minor": 5
}
