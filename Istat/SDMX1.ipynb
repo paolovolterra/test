{
 "cells": [
  {
   "cell_type": "markdown",
   "id": "2166c80c-2bbd-4b08-a02b-3436099952b0",
   "metadata": {},
   "source": [
    "# [**SDMX1**](https://pypi.org/project/sdmx1/)\n",
    "\n",
    "- https://sebastianpaulo.net/blog/working-with-data-from-official-providers-a-brief-tour-of-pandasdmx/\n",
    "\n",
    "sdmxl is the name used on PyPI (because sdmx was already taken, by a package that's unmaintained). \n",
    "So to install, e.g. pip install sdmx1. \n",
    "Once installed, use import sdmx instead of import pandasdmx"
   ]
  },
  {
   "cell_type": "code",
   "execution_count": null,
   "id": "1ac9c2e8-f6d1-416d-96c4-76d262e96fa4",
   "metadata": {},
   "outputs": [
    {
     "name": "stderr",
     "output_type": "stream",
     "text": [
      "Request class will be removed in v3.0; use Client(…)\n"
     ]
    }
   ],
   "source": [
    "import sdmx # pip install sdmx1\n",
    "istat = sdmx.Request(\"ISTAT\")"
   ]
  },
  {
   "cell_type": "code",
   "execution_count": 2,
   "id": "aed38cb7-50ae-46bb-b846-1e2b5c069d25",
   "metadata": {},
   "outputs": [],
   "source": [
    "import pandas as pd\n",
    "pd.set_option('display.float_format', lambda x: '%.1f' % x)\n",
    "pd.set_option('display.max_columns', None)\n",
    "pd.set_option('display.max_rows', None)"
   ]
  },
  {
   "cell_type": "markdown",
   "id": "a0e78a35-d681-42b8-ab0a-d40d84df115a",
   "metadata": {
    "jp-MarkdownHeadingCollapsed": true
   },
   "source": [
    "## Elenco DataFlow Istat"
   ]
  },
  {
   "cell_type": "code",
   "execution_count": 4,
   "id": "154ba149-7641-4536-b6fa-13ae5644150e",
   "metadata": {},
   "outputs": [],
   "source": [
    "flow_msg = istat.dataflow() #We use sdmx to download the definitions for all data flows available from our chosen source. "
   ]
  },
  {
   "cell_type": "code",
   "execution_count": 37,
   "id": "86b64ba0-8d31-40bb-8e94-a89b1c3b111f",
   "metadata": {},
   "outputs": [
    {
     "name": "stdout",
     "output_type": "stream",
     "text": [
      "https://esploradati.istat.it/SDMXWS/rest/dataflow/all/all/latest\n"
     ]
    }
   ],
   "source": [
    "print(flow_msg.response.url) # see the URL that was queried "
   ]
  },
  {
   "cell_type": "code",
   "execution_count": 38,
   "id": "0da8ad0f-ce48-49bf-bc3f-f8cfc11bf27d",
   "metadata": {},
   "outputs": [
    {
     "name": "stdout",
     "output_type": "stream",
     "text": [
      "{'Cache-Control': 'no-store,no-cache', 'Pragma': 'no-cache', 'Transfer-Encoding': 'chunked', 'Content-Type': 'application/vnd.sdmx.structure+xml; version=2.1; charset=utf-8', 'Accept-Ranges': 'values', 'Vary': 'Accept,Accept-Encoding', 'Server': 'Microsoft-IIS/10.0, IIS', 'Strict-Transport-Security': 'max-age=2592000, max-age=31536000; includeSubDomains; preload', 'api-supported-versions': '1, 2', 'X-XSS-Protection': '1; mode=block', 'X-Frame-Options': 'SAMEORIGIN', 'X-Content-Type-Options': 'nosniff', 'X-Powered-By': 'ASP.NET', 'Server-Timing': 'dtSInfo;desc=\"0\", dtRpid;desc=\"1691568029\"', 'Set-Cookie': 'dtCookie=v_4_srv_4_sn_48EA650A7A0EE04E912F847C879A98B9_perc_100000_ol_0_mul_1_app-3A521fadc1a45e0215_1; Path=/; Domain=.istat.it', 'Date': 'Tue, 18 Jun 2024 22:00:45 GMT'}\n"
     ]
    }
   ],
   "source": [
    "print(flow_msg.response.headers) # see the response headers"
   ]
  },
  {
   "cell_type": "code",
   "execution_count": 39,
   "id": "f78874bc-30e3-4f95-87ae-f0387539d2c1",
   "metadata": {},
   "outputs": [
    {
     "name": "stdout",
     "output_type": "stream",
     "text": [
      "<sdmx.StructureMessage>\n",
      "  <Header>\n",
      "    id: 'IDREF260'\n",
      "    prepared: '2024-06-19T00:00:44.872409+02:00'\n",
      "    receiver: <Agency Unknown>\n",
      "    sender: <Agency Unknown>\n",
      "    source: \n",
      "    test: False\n",
      "  response: <Response [200]>\n",
      "  DataflowDefinition (3605): 101_1015 101_1015_DF_DCSP_COLTIVAZIONI_1 1...\n",
      "  DataStructureDefinition (682): DCSP_COLTIVAZIONI DCSP_DOPIGP DCSP_MAC...\n"
     ]
    }
   ],
   "source": [
    "print(flow_msg) #All the content of the response—SDMX data and metadata objects—has been parsed and is accessible from flow_msg. Let’s find out what we have received"
   ]
  },
  {
   "cell_type": "code",
   "execution_count": 40,
   "id": "045c7699-dfe9-44d1-8cee-14ff95c94461",
   "metadata": {},
   "outputs": [
    {
     "data": {
      "text/plain": [
       "pandas.core.series.Series"
      ]
     },
     "execution_count": 40,
     "metadata": {},
     "output_type": "execute_result"
    }
   ],
   "source": [
    "dataflows = sdmx.to_pandas(flow_msg.dataflow)\n",
    "type(dataflows)"
   ]
  },
  {
   "cell_type": "code",
   "execution_count": 41,
   "id": "c661841d-ab6b-4822-a7b3-fcdaacff698c",
   "metadata": {},
   "outputs": [
    {
     "name": "stdout",
     "output_type": "stream",
     "text": [
      "The file contains 3605 data flow definitions\n"
     ]
    }
   ],
   "source": [
    "print(\"The file contains\", len(dataflows), \"data flow definitions\")"
   ]
  },
  {
   "cell_type": "code",
   "execution_count": 42,
   "id": "b5fc6126-a1d7-404c-ba8f-f8ad4a9a1cf3",
   "metadata": {},
   "outputs": [
    {
     "data": {
      "text/plain": [
       "101_1015                                                                      Crops\n",
       "101_1015_DF_DCSP_COLTIVAZIONI_1                 Areas and production - overall data\n",
       "101_1015_DF_DCSP_COLTIVAZIONI_10                                    Sowing forecast\n",
       "101_1015_DF_DCSP_COLTIVAZIONI_2     Areas and production - overall data - provinces\n",
       "101_1030                                          PDO, PGI and TSG quality products\n",
       "dtype: object"
      ]
     },
     "execution_count": 42,
     "metadata": {},
     "output_type": "execute_result"
    }
   ],
   "source": [
    "dataflows.head() # sdmx.to_pandas(estat.dataflow).head()"
   ]
  },
  {
   "cell_type": "code",
   "execution_count": 43,
   "id": "12072936-c51b-4f8c-9e55-9c0daece6d57",
   "metadata": {},
   "outputs": [
    {
     "name": "stdout",
     "output_type": "stream",
     "text": [
      "101_1015                                                                      Crops\n",
      "101_1015_DF_DCSP_COLTIVAZIONI_1                 Areas and production - overall data\n",
      "101_1015_DF_DCSP_COLTIVAZIONI_10                                    Sowing forecast\n",
      "101_1015_DF_DCSP_COLTIVAZIONI_2     Areas and production - overall data - provinces\n",
      "101_1030                                          PDO, PGI and TSG quality products\n",
      "dtype: object\n"
     ]
    }
   ],
   "source": [
    "dataflows = sdmx.to_pandas(flow_msg.dataflow) # converting metadata to pandas.Series\n",
    "print(dataflows.head())"
   ]
  },
  {
   "cell_type": "raw",
   "id": "31ae6a67-01c8-46bf-b981-6bacd49a740a",
   "metadata": {
    "scrolled": true
   },
   "source": [
    "dataflows.to_csv('D:/Istat.csv', sep ='|')"
   ]
  },
  {
   "cell_type": "code",
   "execution_count": 44,
   "id": "d3cc2329-9876-42f6-89fc-b6d66323f0db",
   "metadata": {
    "scrolled": true
   },
   "outputs": [
    {
     "data": {
      "text/plain": [
       "121_393_DF_DCSC_TRAMAR_6               Goods, number and gross tonnage of vessel by i...\n",
       "149_327                                Annual gross hours, net hours, holidays and ot...\n",
       "149_327_DF_DCSC_RETRCONTR1O_1          Annual gross hours, net hours, holidays and ot...\n",
       "155_374                                      Gross earnings - Enterprises with employees\n",
       "155_374_DF_DCSC_RETRULAOROS_1_1        Gross earnings per full time equivalent unit (...\n",
       "155_374_DF_DCSC_RETRULAOROS_1_2        Gross earnings per full time equivalent unit (...\n",
       "155_374_DF_DCSC_RETRULAOROS_1_3        Gross earnings per full time equivalent unit (...\n",
       "161_267_DF_DCSP_SBSNAZ_12                                        Gross operating surplus\n",
       "161_267_DF_DCSP_SBSNAZ_9                                               Gross value added\n",
       "163_156                                Gross domestic product, expenditure components...\n",
       "163_156_DF_DCCN_SQCQ_1                 Gross domestic product and expenditure components\n",
       "163_156_DF_DCCN_SQCQ_3                 Gross domestic product and growth rates (preli...\n",
       "163_184                                      Gross Domestic Product  and main components\n",
       "163_184_DF_DCCN_PILQ_1                        Gross Domestic Product and main components\n",
       "163_247                                Gross domestic product supply side - editions ...\n",
       "163_24_DF_DCCN_QNA_2                              Gross fixed capital formation by asset\n",
       "163_250                                Gross fixed capital formation - editions until...\n",
       "163_253                                Gross domestic product and expenditure compone...\n",
       "18_157_DF_DCCV_BILENERG_2                                     Gross domestic consumption\n",
       "270_239                                Gross fixed capital formation breakdown by ind...\n",
       "270_248                                Gross domestic product supply side - editions ...\n",
       "270_303                                Gross fixed capital formation breakdown by ind...\n",
       "284_159                                Gross Domestic Product and main components - e...\n",
       "284_238                                Gross fixed capital formation, stocks of fixed...\n",
       "284_302                                Gross fixed capital formation, stocks of fixed...\n",
       "535_194                                Gross earnings - Enterprises with more than 50...\n",
       "669_1113_DF_DCCN_SPESAPROTAMB_B14_3    Gross fixed capital formation and ancillary ou...\n",
       "730_1047                               Gross Domestic Product and main components - e...\n",
       "730_1047_DF_DCCN_PILN_B14_1            Gross Domestic Product and main components - e...\n",
       "730_1048_DF_DCCN_ANA_B14_4             Gross fixed capital formation by asset and ind...\n",
       "732_1051                               Gross domestic product, expenditure components...\n",
       "732_1051_DF_DCCN_SQCQ_B14_1            Gross domestic product and expenditure compone...\n",
       "732_1051_DF_DCCN_SQCQ_B14_3            Gross domestic product and growth rates (preli...\n",
       "732_1052                               Gross Domestic Product and main components - e...\n",
       "732_1052_DF_DCCN_PILQ_B14_1            Gross Domestic Product and main components - e...\n",
       "732_1053_DF_DCCN_QNA_B14_2             Gross fixed capital formation by asset - editi...\n",
       "734_1060_DF_DCCN_FPA_B14_4             Gross fixed capital formation by subsector - e...\n",
       "737_1083                               Gross domestic product supply side - editions ...\n",
       "737_1083_DF_DCCN_PILT_B14_1            Gross domestic product supply side - editions ...\n",
       "737_1084_DF_DCCN_TNA_B14_5             Gross fixed capital formation breakdown by ind...\n",
       "92_504_DF_DCCN_ANA_4                   Gross fixed capital formation by asset and ind...\n",
       "92_506                                        Gross Domestic Product and main components\n",
       "92_506_DF_DCCN_PILN_1                         Gross Domestic Product and main components\n",
       "93_498                                                Gross domestic product supply side\n",
       "93_498_DF_DCCN_PILT_1                                 Gross domestic product supply side\n",
       "93_500_DF_DCCN_TNA_5                   Gross fixed capital formation breakdown by ind...\n",
       "94_1063_DF_DCCN_ISTITUZ_ANA1_4                    Gross fixed capital formation by asset\n",
       "95_815_DF_DCCN_FPA_4                          Gross fixed capital formation by subsector\n",
       "97_953_DF_DCCN_SPESAPROTAMB_3          Gross fixed capital formation, intermediate co...\n",
       "dtype: object"
      ]
     },
     "execution_count": 44,
     "metadata": {},
     "output_type": "execute_result"
    }
   ],
   "source": [
    "dataflows[dataflows.str.contains('Gross', case=False)] # True = case sensitive"
   ]
  },
  {
   "cell_type": "markdown",
   "id": "9e3b3e32-04e5-4cc0-b61e-e0ff88c9196d",
   "metadata": {},
   "source": [
    "## estrazione diretta"
   ]
  },
  {
   "cell_type": "code",
   "execution_count": null,
   "id": "149fadd8-8b87-4852-adf8-718833e3462d",
   "metadata": {},
   "outputs": [],
   "source": [
    "istat = sdmx.Client('Istat')\n",
    "key = dict(FREQ=\"A\", ITTER107=\"IT+ITC+ITD+ITE+ITF+ITG\", TIPO_AGGR ='B1G_B_W2_S1_R_PS', VAL = 'V' , EDI ='2023M12')\n",
    "params = dict(startPeriod='2010', endPeriod='2022')\n",
    "data_msg = istat.data('93_500', key=key, params=params)\n",
    "data = data_msg.data[0]\n",
    "data_df = data_msg.to_pandas()\n",
    "data_df2 = sdmx.to_pandas(data,\n",
    "        datetime={'dim': 'TIME_PERIOD',\n",
    "                'freq': 'FREQ',\n",
    "                'axis': 1})\n",
    "data_final = data_df2.xs(\n",
    "    level=(\"TIPO_AGGR\", \"VAL\", \"EDI\",\"ADJUSTMENT\", \"BRANCA_ATTIV_REV2\",\"DCCN_COICOP_COFOG\",\"PRODOTTI1\",\"TIPPREZ\"), # \n",
    "    key=(\"B1G_B_W2_S1_R_PS\", \"V\", \"2023M12\",\"N\",\"Z\",\"Z\",\"Z\",\"Z\"))        # \n",
    "data_final"
   ]
  },
  {
   "cell_type": "code",
   "execution_count": null,
   "id": "3c70ea3c-cb98-4fa5-ad49-76b4a5d1a568",
   "metadata": {},
   "outputs": [],
   "source": [
    "istat = sdmx.Client('Istat')\n",
    "key = dict(FREQ=\"A\", ITTER107=\"IT\", VAL = 'V' , EDI ='2023M12')\n",
    "params = dict(startPeriod='2010', endPeriod='2023')\n",
    "data_msg = istat.data('93_500', key=key, params=params)\n",
    "data = data_msg.data[0]\n",
    "data_df = data_msg.to_pandas()\n",
    "data_df2 = sdmx.to_pandas(data,\n",
    "        datetime={'dim': 'TIME_PERIOD',\n",
    "                'freq': 'FREQ',\n",
    "                'axis': 1})\n",
    "\n",
    "data_final = data_df2.xs(\n",
    "    level=(\"VAL\", \"EDI\",\"BRANCA_ATTIV_REV2\",\"ADJUSTMENT\", \"DCCN_COICOP_COFOG\",\"PRODOTTI1\",\"TIPPREZ\"),\n",
    "    key=(\"V\", \"2023M12\",\"Z\",\"N\",\"Z\",\"Z\",\"Z\"))        \n",
    "data_final"
   ]
  },
  {
   "cell_type": "code",
   "execution_count": null,
   "id": "9c0d8296-2e04-4b2e-be08-65f5c644bbd0",
   "metadata": {
    "scrolled": true
   },
   "outputs": [],
   "source": [
    "data_df2 = sdmx.to_pandas(\n",
    "        data,\n",
    "        datetime={\n",
    "                'dim': 'TIME_PERIOD',\n",
    "                'freq': 'FREQ',\n",
    "                'axis': 1\n",
    "            }\n",
    "    )\n",
    "data_df2"
   ]
  },
  {
   "cell_type": "markdown",
   "id": "6c66e7f9-c979-4300-b745-20a73fc04387",
   "metadata": {
    "jp-MarkdownHeadingCollapsed": true
   },
   "source": [
    "## 93_500 DataFlow ID - Principali aggregati territoriali di Contabilità Nazionale"
   ]
  },
  {
   "cell_type": "markdown",
   "id": "f6292a7d-203c-4fab-8452-f11198a8d120",
   "metadata": {},
   "source": [
    "- P3_D_W2_S1_R_POP\tconsumi finali interni per abitante\n",
    "- B1GQ_B_W2_S1_R_POP\tprodotto interno lordo ai prezzi di mercato per abitante\n",
    "- D1_D_W2_S1_R_PS\tredditi interni da lavoro dipendente per occupato dipendente\n",
    "- D1_D_W2_S1_R_HW\tredditi interni da lavoro dipendente per ora lavorata da occupato dipendente\n",
    "- D1_D_W2_S1_R_FT\tredditi interni da lavoro dipendente per unità di lavoro dipendente\n",
    "- B6G_B_W2_S14A_R_POP\treddito disponibile delle famiglie consumarici per abitante\n",
    "- D11_D_W2_S1_R_PS\tretribuzioni interne lorde per occupato dipendente\n",
    "- D11_D_W2_S1_R_HW\tretribuzioni interne lorde per ora lavorata da occupato dipendente\n",
    "- D11_D_W2_S1_R_FT\tretribuzioni interne lorde per unità di lavoro dipendente\n",
    "- B1G_B_W2_S1_R_POP\tvalore aggiunto per abitante\n",
    "- **B1G_B_W2_S1_R_PS\tvalore aggiunto per occupato**\n",
    "- B1G_B_W2_S1_R_HW\tvalore aggiunto per ora lavorata\n",
    "- B1G_B_W2_S1_R_FT\tvalore aggiunto per unità di lavoro\n",
    "\n",
    "\n",
    "- creiamo un Client che utilizzeremo per effettuare più query al servizio web SDMX-REST di questo provider:\n",
    "- scarichiamo un messaggio di struttura contenente il DSD e altre informazioni strutturali a cui fa riferimento. Questi includono metadati strutturali che insieme descrivono completamente i dati disponibili attraverso questo flusso di dati: concetti, elementi misurati, dimensioni, elenchi di codici utilizzati per etichettare ciascuna dimensione, attributi e così via"
   ]
  },
  {
   "cell_type": "code",
   "execution_count": 48,
   "id": "68415eda-6096-469f-8dc7-8efcace90a71",
   "metadata": {},
   "outputs": [
    {
     "data": {
      "text/plain": [
       "<DataflowDefinition IT1:93_500(1.0): National Accounts regional main aggregates>"
      ]
     },
     "execution_count": 48,
     "metadata": {},
     "output_type": "execute_result"
    }
   ],
   "source": [
    "istat = sdmx.Client(\"ISTAT\")\n",
    "flow_msg  = istat.dataflow('93_500')\n",
    "dfd = flow_msg.dataflow['93_500']\n",
    "dfd"
   ]
  },
  {
   "cell_type": "code",
   "execution_count": 49,
   "id": "a3397e52-3a29-40ea-bd01-d14875f6ccdc",
   "metadata": {},
   "outputs": [
    {
     "data": {
      "text/plain": [
       "<sdmx.StructureMessage>\n",
       "  <Header>\n",
       "    id: 'IDREF262'\n",
       "    prepared: '2024-06-19T00:02:27.498747+02:00'\n",
       "    receiver: <Agency Unknown>\n",
       "    sender: <Agency Unknown>\n",
       "    source: \n",
       "    test: False\n",
       "  response: <Response [200]>\n",
       "  Categorisation (1): CAT_93_500_99931\n",
       "  CategoryScheme (1): SEP\n",
       "  Codelist (16): CL_BASE_YEAR CL_BRANCA_ATTIVITAREV2 CL_CONTAB_NOTE CL_...\n",
       "  ConceptScheme (2): CROSS_DOMAIN CONTAB_DOMAIN\n",
       "  DataflowDefinition (1): 93_500\n",
       "  DataStructureDefinition (1): DCCN_TNA"
      ]
     },
     "execution_count": 49,
     "metadata": {},
     "output_type": "execute_result"
    }
   ],
   "source": [
    "flow_msg"
   ]
  },
  {
   "cell_type": "code",
   "execution_count": 50,
   "id": "ecc90473-fea1-47df-9fa8-6cd54c988e40",
   "metadata": {},
   "outputs": [
    {
     "data": {
      "text/plain": [
       "{'DCCN_TNA': <DataStructureDefinition IT1:DCCN_TNA(1.0): Principali aggregati territoriali di Contabilità Nazionale>}"
      ]
     },
     "execution_count": 50,
     "metadata": {},
     "output_type": "execute_result"
    }
   ],
   "source": [
    "flow_msg.structure "
   ]
  },
  {
   "cell_type": "code",
   "execution_count": 51,
   "id": "afbaf5aa-bb19-4af7-89e8-8b02e1565906",
   "metadata": {},
   "outputs": [
    {
     "data": {
      "text/plain": [
       "<DataStructureDefinition IT1:DCCN_TNA(1.0): Principali aggregati territoriali di Contabilità Nazionale>"
      ]
     },
     "execution_count": 51,
     "metadata": {},
     "output_type": "execute_result"
    }
   ],
   "source": [
    "dfd.structure "
   ]
  },
  {
   "cell_type": "code",
   "execution_count": 52,
   "id": "ca80cf06-288e-4e5f-982c-41f44efd14a4",
   "metadata": {},
   "outputs": [
    {
     "data": {
      "text/plain": [
       "{'DCCN_TNA': <DataStructureDefinition IT1:DCCN_TNA(1.0): Principali aggregati territoriali di Contabilità Nazionale>}"
      ]
     },
     "execution_count": 52,
     "metadata": {},
     "output_type": "execute_result"
    }
   ],
   "source": [
    "flow_msg.structure "
   ]
  },
  {
   "cell_type": "code",
   "execution_count": 53,
   "id": "b2fa6977-fc46-4fc0-9789-541f0f176f85",
   "metadata": {},
   "outputs": [
    {
     "name": "stdout",
     "output_type": "stream",
     "text": [
      "{'DCCN_TNA': <DataStructureDefinition IT1:DCCN_TNA(1.0): Principali aggregati territoriali di Contabilità Nazionale>}\n"
     ]
    }
   ],
   "source": [
    "dsd = flow_msg.structure \n",
    "print(dsd) # Show the data structure definition referred to by the data flow"
   ]
  },
  {
   "cell_type": "code",
   "execution_count": 54,
   "id": "3a17fcd9-aa48-4ba0-a6a7-b4c24a4e7aa6",
   "metadata": {
    "scrolled": true
   },
   "outputs": [
    {
     "data": {
      "text/plain": [
       "{'V': <Code V: total economic activities>,\n",
       " 'VNM': <Code VNM: non market economic activities>,\n",
       " 'VA': <Code VA: agriculture, forestry and fishing>,\n",
       " 'V01_02': <Code V01_02: crop and animal production, hunting and related service activities, forestry>,\n",
       " 'V01': <Code V01: crop and animal production, hunting and related service activities>,\n",
       " 'V02': <Code V02: forestry and logging>,\n",
       " 'V03': <Code V03: fishing and aquaculture>,\n",
       " 'VB_F': <Code VB_F: mining and quarrying, manufacturing, electricity, gas, steam and air conditioning supply, water supply, sewerage, waste management and remediation activities, construction>,\n",
       " 'VB_E': <Code VB_E: mining and quarrying, manufacturing, electricity, gas, steam and air conditioning supply, water supply, sewerage, waste management and remediation activities>,\n",
       " 'VBEVCDEVDEVE': <Code VBEVCDEVDEVE: mining and quarrying, manufacture of coke and refined petroleum products, electricity, gas, steam and air conditioning supply, water supply, sewerage, waste management and remediation activities>,\n",
       " 'VB': <Code VB: mining and quarrying>,\n",
       " 'VC': <Code VC: manufacturing>,\n",
       " 'VCA_CMNOCD': <Code VCA_CMNOCD: products of industrial transformation>,\n",
       " 'VCA': <Code VCA: manufacture of food products, beverages and tobacco products>,\n",
       " 'VCD_CF': <Code VCD_CF: manufacture of coke and refined petroleum products, manufacture of chemicals and chemical products,manufacture of basic pharmaceutical products and pharmaceutical preparations>,\n",
       " 'VCB_CC': <Code VCB_CC: manufacture of textiles, wearing apparel and leather products, manufacture of wood and paper products, and printing>,\n",
       " 'VCB': <Code VCB: manufacture of textiles, wearing apparel and leather products>,\n",
       " 'VCCEVCM': <Code VCCEVCM: manufacture of wood and paper products, and printing, manufacture of furniture, other manufacturing, repair and installation of machinery and equipment>,\n",
       " 'VCEEVCF': <Code VCEEVCF: manufacture of chemicals and chemical products, manufacture of basic pharmaceutical products and pharmaceutical preparations>,\n",
       " 'VCC': <Code VCC: manufacture of wood and paper products, and printing>,\n",
       " 'V16': <Code V16: manufacture of wood and of products of wood and cork, except furniture, manufacture of articles of straw and plaiting materials>,\n",
       " 'V17': <Code V17: manufacture of paper and paper products>,\n",
       " 'V18': <Code V18: printing and reproduction of recorded media>,\n",
       " 'VCD': <Code VCD: manufacture of coke and refined petroleum products>,\n",
       " 'VCE_CF': <Code VCE_CF: manufacture of chemicals and pharmaceutical products>,\n",
       " 'VCE': <Code VCE: manufacture of chemicals and chemical products>,\n",
       " 'VCF': <Code VCF: manufacture of basic pharmaceutical products and pharmaceutical preparations>,\n",
       " 'VCG_CH': <Code VCG_CH: manufacture of rubber and plastic products, other non-metallic mineral products, manufacture of basic metals and fabricated metal products, except machinery and equipment>,\n",
       " 'VCG': <Code VCG: manufacture of rubber and plastic products, and other non-metallic mineral products>,\n",
       " 'V22': <Code V22: manufacture of rubber and plastic products>,\n",
       " 'V23': <Code V23: manufacture of other non-metallic mineral products>,\n",
       " 'VCI_CK': <Code VCI_CK: manufacture of computer, electronic and optical products, manufacture of electrical equipment, manufacture of machinery and equipment n.e.c>,\n",
       " 'VCH': <Code VCH: manufacture of basic metals and fabricated metal products, except machinery and equipment>,\n",
       " 'V24': <Code V24: manufacture of basic metals>,\n",
       " 'V25': <Code V25: manufacture of fabricated metal products, except machinery and equipment>,\n",
       " 'VCI': <Code VCI: manufacture of computer, electronic and optical products>,\n",
       " 'VCJ': <Code VCJ: manufacture of electrical equipment>,\n",
       " 'VCK': <Code VCK: manufacture of machinery and equipment n.e.c.>,\n",
       " 'VCL': <Code VCL: manufacture of transport equipment>,\n",
       " 'V29': <Code V29: manufacture of motor vehicles, trailers and semi-trailers>,\n",
       " 'V30': <Code V30: manufacture of other transport equipment>,\n",
       " 'VCM': <Code VCM: manufacture of furniture, other manufacturing, repair and installation of machinery and equipment>,\n",
       " 'V31_32': <Code V31_32: manufacture of furniture, other manufacturing>,\n",
       " 'V33': <Code V33: repair and installation of machinery and equipment>,\n",
       " 'VD_E': <Code VD_E: electricity, gas, steam and air conditioning supply, water supply, sewerage, waste management and remediation activities>,\n",
       " 'VD': <Code VD: electricity, gas, steam and air conditioning supply>,\n",
       " 'VE': <Code VE: water supply, sewerage, waste management and remediation activities>,\n",
       " 'V36': <Code V36: water collection, treatment and supply>,\n",
       " 'V37_39': <Code V37_39: sewerage, waste collection, treatment and disposal activities, materials recovery, remediation activities and other waste management services>,\n",
       " 'VF': <Code VF: construction>,\n",
       " 'VG_U': <Code VG_U: services>,\n",
       " 'VG_J': <Code VG_J: wholesale and retail trade services, repair of vehicles and motorcycles, transportation and storage, accommodation and food service activities, information and communication>,\n",
       " 'VGEV53EVI': <Code VGEV53EVI: wholesale and retail trade services, repair of vehicles and motorcycles, postal and courier activities,>,\n",
       " 'VHNOV53': <Code VHNOV53: transportation and storage excluding postal and courier activities>,\n",
       " 'VK_N': <Code VK_N: financial and insurance activities, real estate activities, real estate activities, administrative and support service activities>,\n",
       " 'VO_U': <Code VO_U: public administration and defence, compulsory social security, education, human health and social work activities,arts, entertainment and recreation, repair of household goods and other services>,\n",
       " 'VG_I': <Code VG_I: wholesale and retail trade, repair of motor vehicles and motorcycles, transportation and storage, accommodation and food service activities>,\n",
       " 'VG': <Code VG: wholesale and retail trade services, repair of vehicles and motorcycles>,\n",
       " 'V45': <Code V45: wholesale and retail trade and repair of motor vehicles and motorcycles>,\n",
       " 'V46': <Code V46: wholesale trade, except of motor vehicles and motorcycles>,\n",
       " 'V47': <Code V47: retail trade, except of motor vehicles and motorcycles>,\n",
       " 'VH': <Code VH: transportation and storage>,\n",
       " 'V49': <Code V49: land transport and transport via pipelines>,\n",
       " 'V50': <Code V50: water transport>,\n",
       " 'V51': <Code V51: air transport>,\n",
       " 'V52': <Code V52: warehousing and support activities for transportation>,\n",
       " 'V53': <Code V53: postal and courier activities>,\n",
       " 'VI': <Code VI: accommodation and food service activities>,\n",
       " 'VJ': <Code VJ: information and communication>,\n",
       " 'VJA': <Code VJA: publishing, audiovisual and broadcasting activities>,\n",
       " 'V58': <Code V58: publishing activities>,\n",
       " 'V59_60': <Code V59_60: motion picture, video and television programme production, sound recording and music publishing activities, programming and broadcasting>,\n",
       " 'VJB': <Code VJB: telecommunications>,\n",
       " 'VJC': <Code VJC: computer programming, consultancy and related activities, information service activities>,\n",
       " 'VK': <Code VK: financial and insurance activities>,\n",
       " 'A64': <Code A64: financial service activities, except insurance and pension funding>,\n",
       " 'A65': <Code A65: insurance, reinsurance and pension funding, except compulsory social security>,\n",
       " 'A66': <Code A66: activities auxiliary to financial services and insurance activities>,\n",
       " 'VL_N': <Code VL_N: real estate activities, professional, scientific and technical activities, administrative and support service activities>,\n",
       " 'VL': <Code VL: real estate activities>,\n",
       " 'V68A': <Code V68A: real estate activities, of which:imputated rents of owner-occupied dwellings>,\n",
       " 'VM_N': <Code VM_N: professional, scientific and technical activities, administrative and support service activities>,\n",
       " 'VM': <Code VM: professional, scientific and technical activities>,\n",
       " 'VMA': <Code VMA: legal and accounting activities, activities of head offices, management consultancy activities, architectural and engineering activities, technical testing and analysis>,\n",
       " 'V69_70': <Code V69_70: legal and accounting activities, activities of head offices, management consultancy activities>,\n",
       " 'V71': <Code V71: architectural and engineering activities, technical testing and analysis>,\n",
       " 'VMB': <Code VMB: scientific research and development>,\n",
       " 'VMC': <Code VMC: advertising and market research, other professional, scientific and technical activities, veterinary activities>,\n",
       " 'V73': <Code V73: advertising and market research>,\n",
       " 'V74_75': <Code V74_75: other professional, scientific and technical activities, veterinary activities>,\n",
       " 'VN': <Code VN: administrative and support service activities>,\n",
       " 'V77': <Code V77: rental and leasing activities>,\n",
       " 'V78': <Code V78: employment activities>,\n",
       " 'V79': <Code V79: travel agency, tour operator reservation service and related activities>,\n",
       " 'V80_82': <Code V80_82: security and investigation activities, services to buildings and landscape activities, office administrative, office support and other business support activities>,\n",
       " 'VO_Q': <Code VO_Q: public administration and defence, compulsory social security, education, human health and social work activities>,\n",
       " 'VO': <Code VO: public administration and defence, compulsory social security>,\n",
       " 'VP': <Code VP: education>,\n",
       " 'VQ': <Code VQ: human health and social work activities>,\n",
       " 'VQA': <Code VQA: human health activities>,\n",
       " 'VQB': <Code VQB: social work activities>,\n",
       " 'VR_U': <Code VR_U: arts, entertainment and recreation, repair of household goods and other services>,\n",
       " 'VR': <Code VR: arts, entertainment and recreation>,\n",
       " 'V90_92': <Code V90_92: creative, arts and entertainment activities, libraries, archives, museums and other cultural activities, gambling and betting activities>,\n",
       " 'V93': <Code V93: sports activities and amusement and recreation activities>,\n",
       " 'VS': <Code VS: other service activities>,\n",
       " 'V94': <Code V94: activities of membership organisations>,\n",
       " 'V95': <Code V95: repair of computers and personal and household goods>,\n",
       " 'V96': <Code V96: other personal service activities>,\n",
       " 'VT': <Code VT: activities of households as employers, undifferentiated goods- and services-producing activities of households for own use>,\n",
       " 'VU': <Code VU: services provided by extraterritorial organisations and bodies>,\n",
       " 'VR_S': <Code VR_S: arts, entertainment and recreation, other service activities>,\n",
       " '_T': <Code _T: total economic activities>,\n",
       " 'NMKT': <Code NMKT: non market economic activities>,\n",
       " 'A': <Code A: agriculture, forestry and fishing>,\n",
       " 'A01_02': <Code A01_02: crop and animal production, hunting and related service activities, forestry and logging>,\n",
       " 'A01': <Code A01: crop and animal production, hunting and related service activities>,\n",
       " 'A02': <Code A02: forestry and logging>,\n",
       " 'A03': <Code A03: fishing and aquaculture>,\n",
       " 'BTF': <Code BTF: mining and quarrying, manufacturing, electricity, gas, steam and air conditioning supply, water supply, sewerage, waste management and remediation activities, construction>,\n",
       " 'BTE': <Code BTE: mining and quarrying, manufacturing, electricity, gas, steam and air conditioning supply, water supply, sewerage, waste management and remediation activities>,\n",
       " 'B_C19_D_E': <Code B_C19_D_E: mining and quarrying, manufacture of coke and refined petroleum products, electricity, gas, steam and air conditioning supply, water supply, sewerage, waste management and remediation activities>,\n",
       " 'B': <Code B: mining and quarrying>,\n",
       " 'C': <Code C: manufacturing>,\n",
       " 'CX19': <Code CX19: products of industrial transformation>,\n",
       " 'C10T12': <Code C10T12: manufacture of food products, beverages and tobacco products>,\n",
       " 'C13T18': <Code C13T18: manufacture of textiles, wearing apparel and leather products, manufacture of wood and paper products, and printing>,\n",
       " 'C13T15': <Code C13T15: manufacture of textiles, wearing apparel and leather products>,\n",
       " 'C16T18_C31T33': <Code C16T18_C31T33: manufacture of wood and paper products, and printing, manufacture of furniture, other manufacturing, repair and installation of machinery and equipment>,\n",
       " 'C16T18': <Code C16T18: manufacture of wood and paper products, and printing>,\n",
       " 'C16': <Code C16: manufacture of wood and of products of wood and cork, except furniture, manufacture of articles of straw and plaiting materials>,\n",
       " 'C17': <Code C17: manufacture of paper and paper products>,\n",
       " 'C18': <Code C18: printing and reproduction of recorded media>,\n",
       " 'C19T21': <Code C19T21: manufacture of coke and refined petroleum products, manufacture of chemicals and chemical products, manufacture of basic pharmaceutical products and pharmaceutical preparations>,\n",
       " 'C19': <Code C19: manufacture of coke and refined petroleum products>,\n",
       " 'C20_21': <Code C20_21: manufacture of chemicals and pharmaceutical products>,\n",
       " 'C20': <Code C20: manufacture of chemicals and chemical products>,\n",
       " 'C21': <Code C21: manufacture of basic pharmaceutical products and pharmaceutical preparations>,\n",
       " 'C22T25': <Code C22T25: manufacture of rubber and plastic products, other non-metallic mineral products, manufacture of basic metals and fabricated metal products, except machinery and equipment>,\n",
       " 'C22_23': <Code C22_23: manufacture of rubber and plastic products, and other non-metallic mineral products>,\n",
       " 'C22': <Code C22: manufacture of rubber and plastic products>,\n",
       " 'C23': <Code C23: manufacture of other non-metallic mineral products>,\n",
       " 'C24_25': <Code C24_25: manufacture of basic metals and fabricated metal products, except machinery and equipment>,\n",
       " 'C24': <Code C24: manufacture of basic metals>,\n",
       " 'C25': <Code C25: manufacture of fabricated metal products, except machinery and equipment>,\n",
       " 'C26T28': <Code C26T28: manufacture of computer, electronic and optical products, manufacture of electrical equipment, manufacture of machinery and equipment n.e.c>,\n",
       " 'C26': <Code C26: manufacture of computer, electronic and optical products>,\n",
       " 'C27': <Code C27: manufacture of electrical equipment>,\n",
       " 'C28': <Code C28: manufacture of machinery and equipment n.e.c.>,\n",
       " 'C29_30': <Code C29_30: manufacture of transport equipment>,\n",
       " 'C29': <Code C29: manufacture of motor vehicles, trailers and semi-trailers>,\n",
       " 'C30': <Code C30: manufacture of other transport equipment>,\n",
       " 'C31T33': <Code C31T33: manufacture of furniture, other manufacturing, repair and installation of machinery and equipment>,\n",
       " 'C31_32': <Code C31_32: manufacture of furniture, other manufacturing>,\n",
       " 'C33': <Code C33: repair and installation of machinery and equipment>,\n",
       " 'C19_20': <Code C19_20: manufacture of coke, chemicals and refined petroleum and chemical products>,\n",
       " 'C21T23': <Code C21T23: manufacture of pharmaceuticals, rubber, plastic and other non-metallic products>,\n",
       " 'C25T30': <Code C25T30: manufacture of fabricated metal products, including machinery and equipment>,\n",
       " 'C13T16_18_31T33': <Code C13T16_18_31T33: other manufacturing activities>,\n",
       " 'D_E': <Code D_E: electricity, gas, steam and air conditioning supply,  water supply, sewerage, waste management and remediation activities>,\n",
       " 'D': <Code D: electricity, gas, steam and air conditioning supply>,\n",
       " 'E': <Code E: water supply, sewerage, waste management and remediation activities>,\n",
       " 'E36': <Code E36: water collection, treatment and supply>,\n",
       " 'E37T39': <Code E37T39: sewerage, waste collection, treatment and disposal activities, materials recovery, remediation activities and other waste management services>,\n",
       " 'F': <Code F: construction>,\n",
       " 'GTU': <Code GTU: services>,\n",
       " 'GTJ': <Code GTJ: wholesale and retail trade services, repair of  vehicles and motorcycles, transportation and storage, accommodation and food service activities, information and communication>,\n",
       " 'G_H53_I': <Code G_H53_I: wholesale and retail trade services, repair of  vehicles and motorcycles, postal and courier activities,>,\n",
       " 'HX53': <Code HX53: transportation and storage excluding postal and courier activities>,\n",
       " 'GTI': <Code GTI: wholesale and retail trade, repair of motor vehicles and motorcycles, transportation and storage, accommodation and food service activities>,\n",
       " 'G': <Code G: wholesale and retail trade services, repair of  vehicles and motorcycles>,\n",
       " 'G45': <Code G45: wholesale and retail trade and repair of motor vehicles and motorcycles>,\n",
       " 'G46': <Code G46: wholesale trade, except of motor vehicles and motorcycles>,\n",
       " 'G47': <Code G47: retail trade, except of motor vehicles and motorcycles>,\n",
       " 'H': <Code H: transportation and storage>,\n",
       " 'H49': <Code H49: land transport and transport via pipelines>,\n",
       " 'H50': <Code H50: water transport>,\n",
       " 'H51': <Code H51: air transport>,\n",
       " 'H52': <Code H52: warehousing and support activities for transportation>,\n",
       " 'H53': <Code H53: postal and courier activities>,\n",
       " 'I': <Code I: accommodation and food service activities>,\n",
       " 'J': <Code J: information and communication>,\n",
       " 'J58T60': <Code J58T60: publishing, audiovisual and broadcasting activities>,\n",
       " 'J58': <Code J58: publishing activities>,\n",
       " 'J59T60': <Code J59T60: motion picture, video and television programme production, sound recording and music publishing activities, programming and broadcasting>,\n",
       " 'J61': <Code J61: telecommunications>,\n",
       " 'J62_63': <Code J62_63: computer programming, consultancy and related activities, information service activities>,\n",
       " 'KTN': <Code KTN: financial and insurance activities, real estate activities, real estate activities, administrative and support service activities>,\n",
       " 'K': <Code K: financial and insurance activities>,\n",
       " 'K64': <Code K64: financial service activities, except insurance and pension funding>,\n",
       " 'K65': <Code K65: insurance, reinsurance and pension funding, except compulsory social security>,\n",
       " 'K66': <Code K66: activities auxiliary to financial services and insurance activities>,\n",
       " 'LTN': <Code LTN: real estate activities, professional, scientific and technical activities, administrative and support service activities>,\n",
       " 'L': <Code L: real estate activities>,\n",
       " 'L68A': <Code L68A: real estate activities, of witch:imputated rents of owner-occupied dwellings>,\n",
       " 'L68B': <Code L68B: real estate activities excluding imputed rents>,\n",
       " 'M_N': <Code M_N: professional, scientific and technical activities, administrative and support service activities>,\n",
       " 'M': <Code M: professional, scientific and technical activities>,\n",
       " 'M69T71': <Code M69T71: legal and accounting activities, activities of head offices, management consultancy activities, architectural and engineering activities, technical testing and analysis>,\n",
       " 'M69_70': <Code M69_70: legal and accounting activities, activities of head offices, management consultancy activities>,\n",
       " 'M71': <Code M71: architectural and engineering activities, technical testing and analysis>,\n",
       " 'M72': <Code M72: scientific research and development>,\n",
       " 'M73T75': <Code M73T75: advertising and market research, other professional, scientific and technical activities, veterinary activities>,\n",
       " 'M73': <Code M73: advertising and market research>,\n",
       " 'M74_75': <Code M74_75: other professional, scientific and technical activities, veterinary activities>,\n",
       " 'N': <Code N: administrative and support service activities>,\n",
       " 'N77': <Code N77: rental and leasing activities>,\n",
       " 'N78': <Code N78: employment activities>,\n",
       " 'N79': <Code N79: travel agency, tour operator reservation service and related activities>,\n",
       " 'N80T82': <Code N80T82: security and investigation activities, services to buildings and landscape activities, office administrative, office support and other business support activities>,\n",
       " 'OTU': <Code OTU: public administration and defence, compulsory social security, education, human health and social work activities,arts, entertainment and recreation, repair of household goods and other services>,\n",
       " 'OTQ': <Code OTQ: public administration and defence, compulsory social security, education, human health and social work activities>,\n",
       " 'O': <Code O: public administration and defence, compulsory social security>,\n",
       " 'P': <Code P: education>,\n",
       " 'Q': <Code Q: human health and social work activities>,\n",
       " 'Q86': <Code Q86: human health activities>,\n",
       " 'Q87_88': <Code Q87_88: social work activities>,\n",
       " 'RTU': <Code RTU: arts, entertainment and recreation, repair of household goods and other services>,\n",
       " 'R_S': <Code R_S: arts, entertainment and recreation, other service activities>,\n",
       " 'R': <Code R: arts, entertainment and recreation>,\n",
       " 'R90T92': <Code R90T92: creative, arts and entertainment activities, libraries, archives, museums and other cultural activities, gambling and betting activities>,\n",
       " 'R93': <Code R93: sports activities and amusement and recreation activities>,\n",
       " 'S': <Code S: other service activities>,\n",
       " 'S94': <Code S94: activities of membership organisations>,\n",
       " 'S95': <Code S95: repair of computers and personal and household goods>,\n",
       " 'S96': <Code S96: other personal service activities>,\n",
       " 'T': <Code T: activities of households as employers, undifferentiated goods- and services-producing activities of households for own use>,\n",
       " 'U': <Code U: services provided by extraterritorial organisations and bodies>,\n",
       " 'G-I_K_L_N_Q-U': <Code G-I_K_L_N_Q-U: services (except information and communication, professional, scientific and technical activities, public administration and defence; compulsory social security and education)>,\n",
       " 'BTDAE36': <Code BTDAE36: industry (except construction, sewerage, waste management and remediation activities)>,\n",
       " 'Z': <Code Z: not applicable>,\n",
       " 'AAE37TU': <Code AAE37TU: agriculture, forestry and fishing; sewerage, waste collection, treatment and disposal activities, materials recovery, remediation activities and other waste management services; construction; services>}"
      ]
     },
     "execution_count": 54,
     "metadata": {},
     "output_type": "execute_result"
    }
   ],
   "source": [
    "flow_msg.codelist.CL_BRANCA_ATTIVITAREV2.items"
   ]
  },
  {
   "cell_type": "code",
   "execution_count": 55,
   "id": "d1f5405c-868a-41ab-a8da-02b5cac96798",
   "metadata": {},
   "outputs": [
    {
     "data": {
      "text/plain": [
       "{'0000': <Code 0000: unspecified>,\n",
       " '1980': <Code 1980: year 1980>,\n",
       " '1981': <Code 1981: year 1981>,\n",
       " '1982': <Code 1982: year 1982>,\n",
       " '1989': <Code 1989: year 1989>,\n",
       " '1990': <Code 1990: year 1990>,\n",
       " '1991': <Code 1991: year 1991>,\n",
       " '1992': <Code 1992: year 1992>,\n",
       " '1993': <Code 1993: year 1993>,\n",
       " '1994': <Code 1994: year 1994>,\n",
       " '1995': <Code 1995: year 1995>,\n",
       " '1996': <Code 1996: year 1996>,\n",
       " '1997': <Code 1997: year 1997>,\n",
       " '1998': <Code 1998: year 1998>,\n",
       " '1999': <Code 1999: year 1999>,\n",
       " '2000': <Code 2000: year 2000>,\n",
       " '2001': <Code 2001: year 2001>,\n",
       " '2002': <Code 2002: year 2002>,\n",
       " '2003': <Code 2003: year 2003>,\n",
       " '2004': <Code 2004: year 2004>,\n",
       " '2005': <Code 2005: year 2005>,\n",
       " '2005_12': <Code 2005_12: December 2005>,\n",
       " '2006': <Code 2006: year 2006>,\n",
       " '2007': <Code 2007: year 2007>,\n",
       " '2008': <Code 2008: year 2008>,\n",
       " '2009': <Code 2009: year 2009>,\n",
       " '2010': <Code 2010: year 2010>,\n",
       " '2011': <Code 2011: year 2011>,\n",
       " '2015': <Code 2015: year 2015>}"
      ]
     },
     "execution_count": 55,
     "metadata": {},
     "output_type": "execute_result"
    }
   ],
   "source": [
    "flow_msg.codelist.CL_BASE_YEAR.items"
   ]
  },
  {
   "cell_type": "code",
   "execution_count": 56,
   "id": "e31a5c50-05ca-4a4b-b56f-e0b0cd66b8fb",
   "metadata": {},
   "outputs": [
    {
     "ename": "HTTPError",
     "evalue": "404 Client Error: Not Found for url: https://esploradati.istat.it/SDMXWS/rest/data/93_500/.087015........",
     "output_type": "error",
     "traceback": [
      "\u001b[1;31m---------------------------------------------------------------------------\u001b[0m",
      "\u001b[1;31mHTTPError\u001b[0m                                 Traceback (most recent call last)",
      "Cell \u001b[1;32mIn[56], line 1\u001b[0m\n\u001b[1;32m----> 1\u001b[0m data_msg \u001b[38;5;241m=\u001b[39m \u001b[43mistat\u001b[49m\u001b[38;5;241;43m.\u001b[39;49m\u001b[43mdata\u001b[49m\u001b[43m(\u001b[49m\u001b[38;5;124;43m'\u001b[39;49m\u001b[38;5;124;43m93_500\u001b[39;49m\u001b[38;5;124;43m'\u001b[39;49m\u001b[43m,\u001b[49m\u001b[43m \u001b[49m\u001b[43mkey\u001b[49m\u001b[38;5;241;43m=\u001b[39;49m\u001b[43m{\u001b[49m\u001b[38;5;124;43m'\u001b[39;49m\u001b[38;5;124;43mREF_AREA\u001b[39;49m\u001b[38;5;124;43m'\u001b[39;49m\u001b[43m:\u001b[49m\u001b[43m \u001b[49m\u001b[38;5;124;43m'\u001b[39;49m\u001b[38;5;124;43m087015\u001b[39;49m\u001b[38;5;124;43m'\u001b[39;49m\u001b[43m}\u001b[49m\u001b[43m)\u001b[49m\n",
      "File \u001b[1;32m~\\AppData\\Local\\Programs\\Python\\Python312\\Lib\\site-packages\\sdmx\\client.py:463\u001b[0m, in \u001b[0;36mClient.get\u001b[1;34m(self, resource_type, resource_id, tofile, use_cache, dry_run, **kwargs)\u001b[0m\n\u001b[0;32m    460\u001b[0m \u001b[38;5;28;01mtry\u001b[39;00m:\n\u001b[0;32m    461\u001b[0m     \u001b[38;5;66;03m# Send the request\u001b[39;00m\n\u001b[0;32m    462\u001b[0m     response \u001b[38;5;241m=\u001b[39m \u001b[38;5;28mself\u001b[39m\u001b[38;5;241m.\u001b[39msession\u001b[38;5;241m.\u001b[39msend(req, \u001b[38;5;241m*\u001b[39m\u001b[38;5;241m*\u001b[39m\u001b[38;5;28mself\u001b[39m\u001b[38;5;241m.\u001b[39m_send_kwargs)\n\u001b[1;32m--> 463\u001b[0m     \u001b[43mresponse\u001b[49m\u001b[38;5;241;43m.\u001b[39;49m\u001b[43mraise_for_status\u001b[49m\u001b[43m(\u001b[49m\u001b[43m)\u001b[49m\n\u001b[0;32m    464\u001b[0m \u001b[38;5;28;01mexcept\u001b[39;00m requests\u001b[38;5;241m.\u001b[39mexceptions\u001b[38;5;241m.\u001b[39mConnectionError \u001b[38;5;28;01mas\u001b[39;00m e:\n\u001b[0;32m    465\u001b[0m     \u001b[38;5;28;01mraise\u001b[39;00m e \u001b[38;5;28;01mfrom\u001b[39;00m \u001b[38;5;28;01mNone\u001b[39;00m\n",
      "File \u001b[1;32m~\\AppData\\Local\\Programs\\Python\\Python312\\Lib\\site-packages\\requests\\models.py:1024\u001b[0m, in \u001b[0;36mResponse.raise_for_status\u001b[1;34m(self)\u001b[0m\n\u001b[0;32m   1019\u001b[0m     http_error_msg \u001b[38;5;241m=\u001b[39m (\n\u001b[0;32m   1020\u001b[0m         \u001b[38;5;124mf\u001b[39m\u001b[38;5;124m\"\u001b[39m\u001b[38;5;132;01m{\u001b[39;00m\u001b[38;5;28mself\u001b[39m\u001b[38;5;241m.\u001b[39mstatus_code\u001b[38;5;132;01m}\u001b[39;00m\u001b[38;5;124m Server Error: \u001b[39m\u001b[38;5;132;01m{\u001b[39;00mreason\u001b[38;5;132;01m}\u001b[39;00m\u001b[38;5;124m for url: \u001b[39m\u001b[38;5;132;01m{\u001b[39;00m\u001b[38;5;28mself\u001b[39m\u001b[38;5;241m.\u001b[39murl\u001b[38;5;132;01m}\u001b[39;00m\u001b[38;5;124m\"\u001b[39m\n\u001b[0;32m   1021\u001b[0m     )\n\u001b[0;32m   1023\u001b[0m \u001b[38;5;28;01mif\u001b[39;00m http_error_msg:\n\u001b[1;32m-> 1024\u001b[0m     \u001b[38;5;28;01mraise\u001b[39;00m HTTPError(http_error_msg, response\u001b[38;5;241m=\u001b[39m\u001b[38;5;28mself\u001b[39m)\n",
      "\u001b[1;31mHTTPError\u001b[0m: 404 Client Error: Not Found for url: https://esploradati.istat.it/SDMXWS/rest/data/93_500/.087015........"
     ]
    }
   ],
   "source": [
    "data_msg = istat.data('93_500', key={'REF_AREA': '087015'})"
   ]
  },
  {
   "cell_type": "code",
   "execution_count": 57,
   "id": "1b53ac05-fddd-4066-b8d0-4ad09b11de13",
   "metadata": {},
   "outputs": [
    {
     "ename": "NameError",
     "evalue": "name 'data_msg' is not defined",
     "output_type": "error",
     "traceback": [
      "\u001b[1;31m---------------------------------------------------------------------------\u001b[0m",
      "\u001b[1;31mNameError\u001b[0m                                 Traceback (most recent call last)",
      "Cell \u001b[1;32mIn[57], line 1\u001b[0m\n\u001b[1;32m----> 1\u001b[0m \u001b[43mdata_msg\u001b[49m\n",
      "\u001b[1;31mNameError\u001b[0m: name 'data_msg' is not defined"
     ]
    }
   ],
   "source": [
    "data_msg"
   ]
  },
  {
   "cell_type": "code",
   "execution_count": 58,
   "id": "da23ea4b-b53f-4434-b433-5733c1496cb1",
   "metadata": {},
   "outputs": [
    {
     "ename": "NameError",
     "evalue": "name 'data_msg' is not defined",
     "output_type": "error",
     "traceback": [
      "\u001b[1;31m---------------------------------------------------------------------------\u001b[0m",
      "\u001b[1;31mNameError\u001b[0m                                 Traceback (most recent call last)",
      "Cell \u001b[1;32mIn[58], line 1\u001b[0m\n\u001b[1;32m----> 1\u001b[0m sdmx\u001b[38;5;241m.\u001b[39mto_pandas(\u001b[43mdata_msg\u001b[49m)\n",
      "\u001b[1;31mNameError\u001b[0m: name 'data_msg' is not defined"
     ]
    }
   ],
   "source": [
    "sdmx.to_pandas(data_msg)"
   ]
  },
  {
   "cell_type": "markdown",
   "id": "2eef0fec-9a24-460e-904c-16734a43f4ba",
   "metadata": {
    "jp-MarkdownHeadingCollapsed": true
   },
   "source": [
    "## 161_267 - Risultati economici delle imprese"
   ]
  },
  {
   "cell_type": "code",
   "execution_count": null,
   "id": "ae80e295-c01c-433b-ae93-9f7835f2179e",
   "metadata": {},
   "outputs": [],
   "source": [
    "risultati = istat.dataflow('161_267')\n",
    "print(risultati) # The response includes several classes of SDMX objects"
   ]
  },
  {
   "cell_type": "code",
   "execution_count": null,
   "id": "85b92ee7-a38d-4843-ab2d-a68f55f2b762",
   "metadata": {},
   "outputs": [],
   "source": [
    "dsd = risultati.structure \n",
    "print(dsd) # Show the data structure definition referred to by the data flow"
   ]
  },
  {
   "cell_type": "markdown",
   "id": "f154b3af-04b1-445a-b0fe-a20730715b90",
   "metadata": {
    "jp-MarkdownHeadingCollapsed": true
   },
   "source": [
    "## 150_915 - Employment  rate|DCCV_TAXOCCU1"
   ]
  },
  {
   "cell_type": "code",
   "execution_count": null,
   "id": "de7b60ea-d4ce-4ee5-85fe-3e1a14a110e3",
   "metadata": {},
   "outputs": [],
   "source": [
    "prova = istat.dataflow(\"150_915\") # download the data flow definition with the ID \n",
    "print(prova) # The response includes several classes of SDMX objects. "
   ]
  },
  {
   "cell_type": "markdown",
   "id": "56bb5471-4ab6-45af-aa8b-641cd6629701",
   "metadata": {},
   "source": [
    "## 150_938 - [Occupati (migliaia) - Ateco 2007](https://esploradati.istat.it/databrowser/#/it/dw/categories/IT1,Z0500LAB,1.0/LAB_OFFER/LAB_OFF_EMPLOY/DCCV_OCCUPATIT1/DCCV_OCCUPATIT1_PROVDATA/IT1,150_938_DF_DCCV_OCCUPATIT1_22,1.0)"
   ]
  },
  {
   "cell_type": "code",
   "execution_count": 59,
   "id": "b91be3b6-9582-4018-adab-67e49a1c9564",
   "metadata": {},
   "outputs": [
    {
     "name": "stdout",
     "output_type": "stream",
     "text": [
      "<sdmx.StructureMessage>\n",
      "  <Header>\n",
      "    id: 'IDREF264'\n",
      "    prepared: '2024-06-19T00:02:57.652756+02:00'\n",
      "    receiver: <Agency Unknown>\n",
      "    sender: <Agency Unknown>\n",
      "    source: \n",
      "    test: False\n",
      "  response: <Response [200]>\n",
      "  Categorisation (1): CAT_150_938_80800\n",
      "  CategoryScheme (1): SEP\n",
      "  Codelist (20): CL_ATECO2002 CL_ATECO_2007 CL_BASE_YEAR CL_CARATT_OCC ...\n",
      "  ConceptScheme (2): CROSS_DOMAIN LABWAGES_DOMAIN\n",
      "  DataflowDefinition (1): 150_938\n",
      "  DataStructureDefinition (1): DCCV_OCCUPATIT1\n"
     ]
    }
   ],
   "source": [
    "prova = istat.dataflow(\"150_938\") # download the data flow definition with the ID \n",
    "print(prova) # The response includes several classes of SDMX objects. "
   ]
  },
  {
   "cell_type": "code",
   "execution_count": null,
   "id": "4e97b4d4-fd07-4e05-b9c8-2165b63d4c90",
   "metadata": {},
   "outputs": [],
   "source": [
    "istat = sdmx.Client('istat')\n",
    "cat_response = istat.categoryscheme() # con Istat non funziona"
   ]
  },
  {
   "cell_type": "code",
   "execution_count": null,
   "id": "be9b58f1-2764-490d-98ec-8bf049f2eb32",
   "metadata": {},
   "outputs": [],
   "source": [
    "cat_response"
   ]
  },
  {
   "cell_type": "code",
   "execution_count": null,
   "id": "d170c053-a955-4afa-b006-9aa5c50dff07",
   "metadata": {},
   "outputs": [],
   "source": [
    "sdmx.to_pandas(cat_response.category_scheme)"
   ]
  },
  {
   "cell_type": "code",
   "execution_count": null,
   "id": "cf92537b-e1c8-493a-b265-1688e4c0a0ca",
   "metadata": {},
   "outputs": [],
   "source": [
    "sdmx.to_pandas(cat_response.category_scheme.Z0400PRI)"
   ]
  },
  {
   "cell_type": "code",
   "execution_count": null,
   "id": "e62342e6-23af-4f4b-a0aa-6e6cb5a7efa5",
   "metadata": {},
   "outputs": [],
   "source": [
    "dsd = prova.structure\n",
    "print(dsd)"
   ]
  }
 ],
 "metadata": {
  "kernelspec": {
   "display_name": "Python 3",
   "language": "python",
   "name": "python3"
  },
  "language_info": {
   "name": "python"
  }
 },
 "nbformat": 4,
 "nbformat_minor": 5
}
