{
 "cells": [
  {
   "cell_type": "markdown",
   "metadata": {},
   "source": [
    "# 22_289 "
   ]
  },
  {
   "cell_type": "code",
   "execution_count": 5,
   "metadata": {},
   "outputs": [
    {
     "ename": "KeyError",
     "evalue": "'139_177'",
     "output_type": "error",
     "traceback": [
      "\u001b[1;31m---------------------------------------------------------------------------\u001b[0m\n",
      "\u001b[1;31mKeyError\u001b[0m                                  Traceback (most recent call last)\n",
      "Cell \u001b[1;32mIn[5], line 9\u001b[0m\n",
      "\u001b[0;32m      7\u001b[0m df_id \u001b[38;5;241m=\u001b[39m \u001b[38;5;124m\"\u001b[39m\u001b[38;5;124m139_177\u001b[39m\u001b[38;5;124m\"\u001b[39m\n",
      "\u001b[0;32m      8\u001b[0m dataflows \u001b[38;5;241m=\u001b[39m istat\u001b[38;5;241m.\u001b[39mdataflow()\n",
      "\u001b[1;32m----> 9\u001b[0m df \u001b[38;5;241m=\u001b[39m \u001b[43mdataflows\u001b[49m\u001b[38;5;241;43m.\u001b[39;49m\u001b[43mdataflow\u001b[49m\u001b[43m[\u001b[49m\u001b[43mdf_id\u001b[49m\u001b[43m]\u001b[49m\n",
      "\u001b[0;32m     11\u001b[0m \u001b[38;5;66;03m# Nome leggibile robusto\u001b[39;00m\n",
      "\u001b[0;32m     12\u001b[0m \u001b[38;5;28;01mif\u001b[39;00m df\u001b[38;5;241m.\u001b[39mname\u001b[38;5;241m.\u001b[39mlocalizations:\n",
      "\n",
      "File \u001b[1;32m~\\AppData\\Local\\Programs\\Python\\Python311\\Lib\\site-packages\\sdmx\\dictlike.py:36\u001b[0m, in \u001b[0;36mDictLike.__getitem__\u001b[1;34m(self, key)\u001b[0m\n",
      "\u001b[0;32m     34\u001b[0m \u001b[38;5;250m\u001b[39m\u001b[38;5;124;03m\"\"\":meth:`dict.__getitem__` with integer access.\"\"\"\u001b[39;00m\n",
      "\u001b[0;32m     35\u001b[0m \u001b[38;5;28;01mtry\u001b[39;00m:\n",
      "\u001b[1;32m---> 36\u001b[0m     \u001b[38;5;28;01mreturn\u001b[39;00m \u001b[38;5;28;43msuper\u001b[39;49m\u001b[43m(\u001b[49m\u001b[43m)\u001b[49m\u001b[38;5;241;43m.\u001b[39;49m\u001b[38;5;21;43m__getitem__\u001b[39;49m\u001b[43m(\u001b[49m\u001b[43mkey\u001b[49m\u001b[43m)\u001b[49m\n",
      "\u001b[0;32m     37\u001b[0m \u001b[38;5;28;01mexcept\u001b[39;00m \u001b[38;5;167;01mKeyError\u001b[39;00m:\n",
      "\u001b[0;32m     38\u001b[0m     \u001b[38;5;28;01mif\u001b[39;00m \u001b[38;5;28misinstance\u001b[39m(key, \u001b[38;5;28mint\u001b[39m):\n",
      "\u001b[0;32m     39\u001b[0m         \u001b[38;5;66;03m# int() index access\u001b[39;00m\n",
      "\n",
      "\u001b[1;31mKeyError\u001b[0m: '139_177'"
     ]
    }
   ],
   "source": [
    "from sdmx import Client\n",
    "\n",
    "# Inizializza il client ISTAT\n",
    "istat = Client(\"Istat\")\n",
    "\n",
    "# STEP 1 – Carica il dataflow e ottieni la struttura associata\n",
    "df_id = \"139_177\"\n",
    "dataflows = istat.dataflow()\n",
    "df = dataflows.dataflow[df_id]\n",
    "\n",
    "# Nome leggibile robusto\n",
    "if df.name.localizations:\n",
    "    nome_df = (\n",
    "        df.name.localizations.get(\"it\") or\n",
    "        df.name.localizations.get(\"en\") or\n",
    "        next(iter(df.name.localizations.values()))\n",
    "    )\n",
    "else:\n",
    "    nome_df = str(df.name)\n",
    "\n",
    "print(f\"\\n🧩 Dataflow ID: {df.id}\")\n",
    "print(f\"📘 Nome: {nome_df}\")\n",
    "print(f\"📎 DSD ID: {df.structure.id}\")"
   ]
  },
  {
   "cell_type": "code",
   "execution_count": null,
   "metadata": {},
   "outputs": [],
   "source": [
    "# STEP 2 – Scarica la struttura dati\n",
    "dsd_msg = istat.datastructure(df.structure.id)\n",
    "dsd = dsd_msg.structure[0]\n",
    "# STEP 3 – Elenca dimensioni e codelist associate\n",
    "print(\"\\n📐 Dimensioni e relative Codelist:\")\n",
    "for dim in dsd.dimensions:\n",
    "    cl = dim.local_representation.enumerated\n",
    "    cl_id = cl.id if cl else \"—\"\n",
    "    print(f\" - {dim.id} → {cl_id}\")"
   ]
  }
 ],
 "metadata": {
  "language_info": {
   "name": "python"
  }
 },
 "nbformat": 4,
 "nbformat_minor": 2
}
