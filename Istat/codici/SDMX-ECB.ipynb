{
 "cells": [
  {
   "cell_type": "markdown",
   "id": "20789f93-a6a5-4586-87e8-b24794172949",
   "metadata": {},
   "source": [
    "# [ECB](https://sdmx1.readthedocs.io/en/latest/walkthrough.html#walkthrough-dataflow)"
   ]
  },
  {
   "cell_type": "code",
   "execution_count": 1,
   "id": "e4ac11d6-dc92-477b-9962-7e0267fc4873",
   "metadata": {},
   "outputs": [],
   "source": [
    "import sdmx"
   ]
  },
  {
   "cell_type": "code",
   "execution_count": 2,
   "id": "da1a9c75-6257-4284-93fd-c2483cea3b57",
   "metadata": {},
   "outputs": [],
   "source": [
    "ecb = sdmx.Client(\"ECB\")"
   ]
  },
  {
   "cell_type": "code",
   "execution_count": 3,
   "id": "f295ba2b-4622-4aed-a4b4-0f9e15ff3129",
   "metadata": {},
   "outputs": [],
   "source": [
    "flow_msg = ecb.dataflow()"
   ]
  },
  {
   "cell_type": "code",
   "execution_count": 4,
   "id": "97345888-dcc8-4e2d-bcdd-ad549eab6872",
   "metadata": {},
   "outputs": [
    {
     "data": {
      "text/plain": [
       "'https://data-api.ecb.europa.eu/service/dataflow/ECB/all/latest'"
      ]
     },
     "execution_count": 4,
     "metadata": {},
     "output_type": "execute_result"
    }
   ],
   "source": [
    "flow_msg.response.url"
   ]
  },
  {
   "cell_type": "code",
   "execution_count": 5,
   "id": "4e683205-7946-486f-bf9d-d18f892d32a6",
   "metadata": {},
   "outputs": [
    {
     "data": {
      "text/plain": [
       "{'Server': 'myracloud', 'Date': 'Sat, 01 Jun 2024 18:59:29 GMT', 'Content-Type': 'application/vnd.sdmx.structure+xml;version=2.1', 'Transfer-Encoding': 'chunked', 'Connection': 'keep-alive', 'Expires': 'Sat, 01 Jun 2024 18:59:59 GMT', 'cache-control': 'max-age=30', 'ETag': '\"myra-cc0f3195\"'}"
      ]
     },
     "execution_count": 5,
     "metadata": {},
     "output_type": "execute_result"
    }
   ],
   "source": [
    "flow_msg.response.headers"
   ]
  },
  {
   "cell_type": "code",
   "execution_count": 6,
   "id": "1d755fca-5932-40a2-bf93-f053520cbab1",
   "metadata": {},
   "outputs": [
    {
     "data": {
      "text/plain": [
       "<sdmx.StructureMessage>\n",
       "  <Header>\n",
       "    id: 'IREF683616'\n",
       "    prepared: '2024-06-01T18:59:29+00:00'\n",
       "    receiver: <Agency not_supplied>\n",
       "    sender: <Agency Unknown>\n",
       "    source: \n",
       "    test: False\n",
       "  response: <Response [200]>\n",
       "  DataflowDefinition (95): AME BKN BLS BNT BOP BPS BSI BSP CBD CBD2 CCP...\n",
       "  DataStructureDefinition (73): ECB_AME1 ECB_BKN1 ECB_BLS1 ECB_BOP_BNT ..."
      ]
     },
     "execution_count": 6,
     "metadata": {},
     "output_type": "execute_result"
    }
   ],
   "source": [
    "flow_msg"
   ]
  },
  {
   "cell_type": "code",
   "execution_count": 7,
   "id": "21316d89-7137-453a-a91b-da1d8f0ccf64",
   "metadata": {},
   "outputs": [
    {
     "data": {
      "text/plain": [
       "<DataflowDefinition ECB:BOP(1.0): Euro Area Balance of Payments and International Investment Position Statistics>"
      ]
     },
     "execution_count": 7,
     "metadata": {},
     "output_type": "execute_result"
    }
   ],
   "source": [
    "flow_msg.dataflow.BOP"
   ]
  },
  {
   "cell_type": "code",
   "execution_count": 8,
   "id": "1bdd1d3f-05f1-4b91-bc22-31ad160ca376",
   "metadata": {},
   "outputs": [],
   "source": [
    "dataflows = sdmx.to_pandas(flow_msg.dataflow)"
   ]
  },
  {
   "cell_type": "code",
   "execution_count": 9,
   "id": "a015f14f-dd73-4ef0-9969-c48921c0bf0f",
   "metadata": {},
   "outputs": [
    {
     "data": {
      "text/plain": [
       "AME                                                AMECO\n",
       "BKN                                 Banknotes statistics\n",
       "BLS                       Bank Lending Survey Statistics\n",
       "BNT        Shipments of Euro Banknotes Statistics (ESCB)\n",
       "BOP    Euro Area Balance of Payments and Internationa...\n",
       "dtype: object"
      ]
     },
     "execution_count": 9,
     "metadata": {},
     "output_type": "execute_result"
    }
   ],
   "source": [
    "dataflows.head()"
   ]
  },
  {
   "cell_type": "code",
   "execution_count": 10,
   "id": "ac908763-cd78-44cc-9cf6-50a05677e8ee",
   "metadata": {},
   "outputs": [
    {
     "data": {
      "text/plain": [
       "95"
      ]
     },
     "execution_count": 10,
     "metadata": {},
     "output_type": "execute_result"
    }
   ],
   "source": [
    "\n",
    "len(dataflows)"
   ]
  },
  {
   "cell_type": "code",
   "execution_count": 12,
   "id": "95164f7e-2f9b-4bf3-b291-ed5116b52958",
   "metadata": {},
   "outputs": [
    {
     "data": {
      "text/plain": [
       "EXR                              Exchange Rates\n",
       "FXI                 Foreign Exchange Statistics\n",
       "SEE    Securities exchange - Trading Statistics\n",
       "dtype: object"
      ]
     },
     "execution_count": 12,
     "metadata": {},
     "output_type": "execute_result"
    }
   ],
   "source": [
    "dataflows[dataflows.str.contains(\"exchange\", case=False)]"
   ]
  },
  {
   "cell_type": "code",
   "execution_count": 13,
   "id": "09604ea3-c5b1-49a8-bc8b-e02efc387940",
   "metadata": {},
   "outputs": [
    {
     "data": {
      "text/plain": [
       "'https://data-api.ecb.europa.eu/service/dataflow/ECB/EXR/latest?references=all'"
      ]
     },
     "execution_count": 13,
     "metadata": {},
     "output_type": "execute_result"
    }
   ],
   "source": [
    "exr_msg = ecb.dataflow(resource=flow_msg.dataflow.EXR)\n",
    "\n",
    "exr_msg = ecb.dataflow(\"EXR\")\n",
    "\n",
    "exr_msg.response.url"
   ]
  },
  {
   "cell_type": "code",
   "execution_count": 14,
   "id": "d40294e1-b071-48f5-9b0d-7622f546347b",
   "metadata": {},
   "outputs": [
    {
     "data": {
      "text/plain": [
       "<sdmx.StructureMessage>\n",
       "  <Header>\n",
       "    id: 'IREF684828'\n",
       "    prepared: '2024-06-01T19:01:29+00:00'\n",
       "    receiver: <Agency not_supplied>\n",
       "    sender: <Agency Unknown>\n",
       "    source: \n",
       "    test: False\n",
       "  response: <Response [200]>\n",
       "  Categorisation (2): 21e97b57-5950-eaab-eead-1534306b28af 53A341E8-D48...\n",
       "  CategoryScheme (2): WDC_NAVI WDC_NAVI_OLD\n",
       "  Codelist (11): CL_COLLECTION CL_CURRENCY CL_DECIMALS CL_EXR_SUFFIX CL...\n",
       "  ConceptScheme (1): ECB_CONCEPTS\n",
       "  ContentConstraint (1): EXR_CONSTRAINTS\n",
       "  DataflowDefinition (1): EXR\n",
       "  AgencyScheme (1): AGENCIES\n",
       "  DataStructureDefinition (1): ECB_EXR1"
      ]
     },
     "execution_count": 14,
     "metadata": {},
     "output_type": "execute_result"
    }
   ],
   "source": [
    "exr_msg"
   ]
  },
  {
   "cell_type": "code",
   "execution_count": 15,
   "id": "5cf649b2-8251-41e3-bf95-d4ccc3afa8c9",
   "metadata": {},
   "outputs": [],
   "source": [
    "\n",
    "exr_flow = exr_msg.dataflow.EXR"
   ]
  },
  {
   "cell_type": "code",
   "execution_count": 16,
   "id": "5762f3f1-d762-446c-9b46-63c703f5cff2",
   "metadata": {},
   "outputs": [
    {
     "data": {
      "text/plain": [
       "<DataStructureDefinition ECB:ECB_EXR1(1.0): Exchange Rates>"
      ]
     },
     "execution_count": 16,
     "metadata": {},
     "output_type": "execute_result"
    }
   ],
   "source": [
    "dsd = exr_flow.structure\n",
    "dsd"
   ]
  },
  {
   "cell_type": "code",
   "execution_count": 17,
   "id": "ee7d8470-f264-43eb-8fc8-6d880a7f1e36",
   "metadata": {},
   "outputs": [
    {
     "data": {
      "text/plain": [
       "True"
      ]
     },
     "execution_count": 17,
     "metadata": {},
     "output_type": "execute_result"
    }
   ],
   "source": [
    "dsd is exr_msg.structure.ECB_EXR1"
   ]
  },
  {
   "cell_type": "code",
   "execution_count": 18,
   "id": "5ced8459-7269-4493-b3ee-e74ff030cfb4",
   "metadata": {},
   "outputs": [
    {
     "data": {
      "text/plain": [
       "[<Dimension FREQ>,\n",
       " <Dimension CURRENCY>,\n",
       " <Dimension CURRENCY_DENOM>,\n",
       " <Dimension EXR_TYPE>,\n",
       " <Dimension EXR_SUFFIX>,\n",
       " <TimeDimension TIME_PERIOD>]"
      ]
     },
     "execution_count": 18,
     "metadata": {},
     "output_type": "execute_result"
    }
   ],
   "source": [
    "dsd.dimensions.components"
   ]
  },
  {
   "cell_type": "code",
   "execution_count": 19,
   "id": "ceceefc3-dd8a-4e1a-950c-014f71e75f64",
   "metadata": {
    "scrolled": true
   },
   "outputs": [
    {
     "data": {
      "text/plain": [
       "[DataAttribute(annotations=[], id='TIME_FORMAT', uri=None, urn='urn:sdmx:org.sdmx.infomodel.datastructure.DataAttribute=ECB:ECB_EXR1(1.0).TIME_FORMAT', concept_identity=<Concept TIME_FORMAT: Time format code>, local_representation=<Representation: None, [Facet(type=FacetType(is_sequence=None, min_length=None, max_length=3, min_value=None, max_value=None, start_value=None, end_value=None, interval=None, time_interval=None, decimals=None, pattern=None, start_time=None, end_time=None, sentinel_values=None), value=None, value_type=<FacetValueType.string: 1>)]>, related_to=DimensionRelationship(dimensions=[<Dimension FREQ>, <Dimension CURRENCY>, <Dimension CURRENCY_DENOM>, <Dimension EXR_TYPE>, <Dimension EXR_SUFFIX>], group_key=None), usage_status=<UsageStatus.mandatory: 1>, concept_role=None),\n",
       " DataAttribute(annotations=[], id='OBS_STATUS', uri=None, urn='urn:sdmx:org.sdmx.infomodel.datastructure.DataAttribute=ECB:ECB_EXR1(1.0).OBS_STATUS', concept_identity=<Concept OBS_STATUS: Observation status>, local_representation=<Representation: CL_OBS_STATUS, [Facet(type=FacetType(is_sequence=None, min_length=1, max_length=1, min_value=None, max_value=None, start_value=None, end_value=None, interval=None, time_interval=None, decimals=None, pattern=None, start_time=None, end_time=None, sentinel_values=None), value=None, value_type=<FacetValueType.string: 1>)]>, related_to=<sdmx.model.v21.PrimaryMeasureRelationship object at 0x000002ADAE9F5B20>, usage_status=<UsageStatus.mandatory: 1>, concept_role=None),\n",
       " DataAttribute(annotations=[], id='OBS_CONF', uri=None, urn='urn:sdmx:org.sdmx.infomodel.datastructure.DataAttribute=ECB:ECB_EXR1(1.0).OBS_CONF', concept_identity=<Concept OBS_CONF: Observation confidentiality>, local_representation=<Representation: CL_OBS_CONF, [Facet(type=FacetType(is_sequence=None, min_length=1, max_length=1, min_value=None, max_value=None, start_value=None, end_value=None, interval=None, time_interval=None, decimals=None, pattern=None, start_time=None, end_time=None, sentinel_values=None), value=None, value_type=<FacetValueType.string: 1>)]>, related_to=<sdmx.model.v21.PrimaryMeasureRelationship object at 0x000002ADAE9F5DC0>, usage_status=<UsageStatus.conditional: 2>, concept_role=None),\n",
       " DataAttribute(annotations=[], id='OBS_PRE_BREAK', uri=None, urn='urn:sdmx:org.sdmx.infomodel.datastructure.DataAttribute=ECB:ECB_EXR1(1.0).OBS_PRE_BREAK', concept_identity=<Concept OBS_PRE_BREAK: Pre-break observation value>, local_representation=<Representation: None, [Facet(type=FacetType(is_sequence=None, min_length=None, max_length=30, min_value=None, max_value=None, start_value=None, end_value=None, interval=None, time_interval=None, decimals=None, pattern=None, start_time=None, end_time=None, sentinel_values=None), value=None, value_type=<FacetValueType.string: 1>)]>, related_to=<sdmx.model.v21.PrimaryMeasureRelationship object at 0x000002ADAE9F6090>, usage_status=<UsageStatus.conditional: 2>, concept_role=None),\n",
       " DataAttribute(annotations=[], id='OBS_COM', uri=None, urn='urn:sdmx:org.sdmx.infomodel.datastructure.DataAttribute=ECB:ECB_EXR1(1.0).OBS_COM', concept_identity=<Concept OBS_COM: Observation comment>, local_representation=<Representation: None, [Facet(type=FacetType(is_sequence=None, min_length=None, max_length=1050, min_value=None, max_value=None, start_value=None, end_value=None, interval=None, time_interval=None, decimals=None, pattern=None, start_time=None, end_time=None, sentinel_values=None), value=None, value_type=<FacetValueType.string: 1>)]>, related_to=<sdmx.model.v21.PrimaryMeasureRelationship object at 0x000002ADAE9F6330>, usage_status=<UsageStatus.conditional: 2>, concept_role=None),\n",
       " DataAttribute(annotations=[], id='BREAKS', uri=None, urn='urn:sdmx:org.sdmx.infomodel.datastructure.DataAttribute=ECB:ECB_EXR1(1.0).BREAKS', concept_identity=<Concept BREAKS: Breaks>, local_representation=<Representation: None, [Facet(type=FacetType(is_sequence=None, min_length=None, max_length=350, min_value=None, max_value=None, start_value=None, end_value=None, interval=None, time_interval=None, decimals=None, pattern=None, start_time=None, end_time=None, sentinel_values=None), value=None, value_type=<FacetValueType.string: 1>)]>, related_to=DimensionRelationship(dimensions=[<Dimension FREQ>, <Dimension CURRENCY>, <Dimension CURRENCY_DENOM>, <Dimension EXR_TYPE>, <Dimension EXR_SUFFIX>], group_key=None), usage_status=<UsageStatus.conditional: 2>, concept_role=None),\n",
       " DataAttribute(annotations=[], id='COLLECTION', uri=None, urn='urn:sdmx:org.sdmx.infomodel.datastructure.DataAttribute=ECB:ECB_EXR1(1.0).COLLECTION', concept_identity=<Concept COLLECTION: Collection indicator>, local_representation=<Representation: CL_COLLECTION, [Facet(type=FacetType(is_sequence=None, min_length=1, max_length=1, min_value=None, max_value=None, start_value=None, end_value=None, interval=None, time_interval=None, decimals=None, pattern=None, start_time=None, end_time=None, sentinel_values=None), value=None, value_type=<FacetValueType.string: 1>)]>, related_to=DimensionRelationship(dimensions=[<Dimension FREQ>, <Dimension CURRENCY>, <Dimension CURRENCY_DENOM>, <Dimension EXR_TYPE>, <Dimension EXR_SUFFIX>], group_key=None), usage_status=<UsageStatus.mandatory: 1>, concept_role=None),\n",
       " DataAttribute(annotations=[], id='COMPILING_ORG', uri=None, urn='urn:sdmx:org.sdmx.infomodel.datastructure.DataAttribute=ECB:ECB_EXR1(1.0).COMPILING_ORG', concept_identity=<Concept COMPILING_ORG: Compiling organisation>, local_representation=<Representation: CL_ORGANISATION, [Facet(type=FacetType(is_sequence=None, min_length=1, max_length=6, min_value=None, max_value=None, start_value=None, end_value=None, interval=None, time_interval=None, decimals=None, pattern=None, start_time=None, end_time=None, sentinel_values=None), value=None, value_type=<FacetValueType.string: 1>)]>, related_to=DimensionRelationship(dimensions=[<Dimension FREQ>, <Dimension CURRENCY>, <Dimension CURRENCY_DENOM>, <Dimension EXR_TYPE>, <Dimension EXR_SUFFIX>], group_key=None), usage_status=<UsageStatus.conditional: 2>, concept_role=None),\n",
       " DataAttribute(annotations=[], id='DISS_ORG', uri=None, urn='urn:sdmx:org.sdmx.infomodel.datastructure.DataAttribute=ECB:ECB_EXR1(1.0).DISS_ORG', concept_identity=<Concept DISS_ORG: Data dissemination organisation>, local_representation=<Representation: CL_ORGANISATION, [Facet(type=FacetType(is_sequence=None, min_length=1, max_length=6, min_value=None, max_value=None, start_value=None, end_value=None, interval=None, time_interval=None, decimals=None, pattern=None, start_time=None, end_time=None, sentinel_values=None), value=None, value_type=<FacetValueType.string: 1>)]>, related_to=DimensionRelationship(dimensions=[<Dimension FREQ>, <Dimension CURRENCY>, <Dimension CURRENCY_DENOM>, <Dimension EXR_TYPE>, <Dimension EXR_SUFFIX>], group_key=None), usage_status=<UsageStatus.conditional: 2>, concept_role=None),\n",
       " DataAttribute(annotations=[], id='DOM_SER_IDS', uri=None, urn='urn:sdmx:org.sdmx.infomodel.datastructure.DataAttribute=ECB:ECB_EXR1(1.0).DOM_SER_IDS', concept_identity=<Concept DOM_SER_IDS: Domestic series ids>, local_representation=<Representation: None, [Facet(type=FacetType(is_sequence=None, min_length=None, max_length=70, min_value=None, max_value=None, start_value=None, end_value=None, interval=None, time_interval=None, decimals=None, pattern=None, start_time=None, end_time=None, sentinel_values=None), value=None, value_type=<FacetValueType.string: 1>)]>, related_to=DimensionRelationship(dimensions=[<Dimension FREQ>, <Dimension CURRENCY>, <Dimension CURRENCY_DENOM>, <Dimension EXR_TYPE>, <Dimension EXR_SUFFIX>], group_key=None), usage_status=<UsageStatus.conditional: 2>, concept_role=None),\n",
       " DataAttribute(annotations=[], id='PUBL_ECB', uri=None, urn='urn:sdmx:org.sdmx.infomodel.datastructure.DataAttribute=ECB:ECB_EXR1(1.0).PUBL_ECB', concept_identity=<Concept PUBL_ECB: Source publication (ECB only)>, local_representation=<Representation: None, [Facet(type=FacetType(is_sequence=None, min_length=None, max_length=1050, min_value=None, max_value=None, start_value=None, end_value=None, interval=None, time_interval=None, decimals=None, pattern=None, start_time=None, end_time=None, sentinel_values=None), value=None, value_type=<FacetValueType.string: 1>)]>, related_to=DimensionRelationship(dimensions=[<Dimension FREQ>, <Dimension CURRENCY>, <Dimension CURRENCY_DENOM>, <Dimension EXR_TYPE>, <Dimension EXR_SUFFIX>], group_key=None), usage_status=<UsageStatus.conditional: 2>, concept_role=None),\n",
       " DataAttribute(annotations=[], id='PUBL_MU', uri=None, urn='urn:sdmx:org.sdmx.infomodel.datastructure.DataAttribute=ECB:ECB_EXR1(1.0).PUBL_MU', concept_identity=<Concept PUBL_MU: Source publication (Euro area only)>, local_representation=<Representation: None, [Facet(type=FacetType(is_sequence=None, min_length=None, max_length=1050, min_value=None, max_value=None, start_value=None, end_value=None, interval=None, time_interval=None, decimals=None, pattern=None, start_time=None, end_time=None, sentinel_values=None), value=None, value_type=<FacetValueType.string: 1>)]>, related_to=DimensionRelationship(dimensions=[<Dimension FREQ>, <Dimension CURRENCY>, <Dimension CURRENCY_DENOM>, <Dimension EXR_TYPE>, <Dimension EXR_SUFFIX>], group_key=None), usage_status=<UsageStatus.conditional: 2>, concept_role=None),\n",
       " DataAttribute(annotations=[], id='PUBL_PUBLIC', uri=None, urn='urn:sdmx:org.sdmx.infomodel.datastructure.DataAttribute=ECB:ECB_EXR1(1.0).PUBL_PUBLIC', concept_identity=<Concept PUBL_PUBLIC: Source publication (public)>, local_representation=<Representation: None, [Facet(type=FacetType(is_sequence=None, min_length=None, max_length=1050, min_value=None, max_value=None, start_value=None, end_value=None, interval=None, time_interval=None, decimals=None, pattern=None, start_time=None, end_time=None, sentinel_values=None), value=None, value_type=<FacetValueType.string: 1>)]>, related_to=DimensionRelationship(dimensions=[<Dimension FREQ>, <Dimension CURRENCY>, <Dimension CURRENCY_DENOM>, <Dimension EXR_TYPE>, <Dimension EXR_SUFFIX>], group_key=None), usage_status=<UsageStatus.conditional: 2>, concept_role=None),\n",
       " DataAttribute(annotations=[], id='UNIT_INDEX_BASE', uri=None, urn='urn:sdmx:org.sdmx.infomodel.datastructure.DataAttribute=ECB:ECB_EXR1(1.0).UNIT_INDEX_BASE', concept_identity=<Concept UNIT_INDEX_BASE: Unit index base>, local_representation=<Representation: None, [Facet(type=FacetType(is_sequence=None, min_length=None, max_length=35, min_value=None, max_value=None, start_value=None, end_value=None, interval=None, time_interval=None, decimals=None, pattern=None, start_time=None, end_time=None, sentinel_values=None), value=None, value_type=<FacetValueType.string: 1>)]>, related_to=DimensionRelationship(dimensions=[<Dimension FREQ>, <Dimension CURRENCY>, <Dimension CURRENCY_DENOM>, <Dimension EXR_TYPE>, <Dimension EXR_SUFFIX>], group_key=None), usage_status=<UsageStatus.conditional: 2>, concept_role=None),\n",
       " DataAttribute(annotations=[], id='COMPILATION', uri=None, urn='urn:sdmx:org.sdmx.infomodel.datastructure.DataAttribute=ECB:ECB_EXR1(1.0).COMPILATION', concept_identity=<Concept COMPILATION: Compilation>, local_representation=<Representation: None, [Facet(type=FacetType(is_sequence=None, min_length=None, max_length=1050, min_value=None, max_value=None, start_value=None, end_value=None, interval=None, time_interval=None, decimals=None, pattern=None, start_time=None, end_time=None, sentinel_values=None), value=None, value_type=<FacetValueType.string: 1>)]>, related_to=DimensionRelationship(dimensions=[<Dimension CURRENCY>, <Dimension CURRENCY_DENOM>, <Dimension EXR_TYPE>, <Dimension EXR_SUFFIX>], group_key=None), usage_status=<UsageStatus.conditional: 2>, concept_role=None),\n",
       " DataAttribute(annotations=[], id='COVERAGE', uri=None, urn='urn:sdmx:org.sdmx.infomodel.datastructure.DataAttribute=ECB:ECB_EXR1(1.0).COVERAGE', concept_identity=<Concept COVERAGE: Coverage>, local_representation=<Representation: None, [Facet(type=FacetType(is_sequence=None, min_length=None, max_length=350, min_value=None, max_value=None, start_value=None, end_value=None, interval=None, time_interval=None, decimals=None, pattern=None, start_time=None, end_time=None, sentinel_values=None), value=None, value_type=<FacetValueType.string: 1>)]>, related_to=DimensionRelationship(dimensions=[<Dimension CURRENCY>, <Dimension CURRENCY_DENOM>, <Dimension EXR_TYPE>, <Dimension EXR_SUFFIX>], group_key=None), usage_status=<UsageStatus.conditional: 2>, concept_role=None),\n",
       " DataAttribute(annotations=[], id='DECIMALS', uri=None, urn='urn:sdmx:org.sdmx.infomodel.datastructure.DataAttribute=ECB:ECB_EXR1(1.0).DECIMALS', concept_identity=<Concept DECIMALS: Decimals>, local_representation=<Representation: CL_DECIMALS, [Facet(type=FacetType(is_sequence=None, min_length=1, max_length=2, min_value=None, max_value=None, start_value=None, end_value=None, interval=None, time_interval=None, decimals=None, pattern=None, start_time=None, end_time=None, sentinel_values=None), value=None, value_type=<FacetValueType.bigInteger: 2>)]>, related_to=DimensionRelationship(dimensions=[<Dimension CURRENCY>, <Dimension CURRENCY_DENOM>, <Dimension EXR_TYPE>, <Dimension EXR_SUFFIX>], group_key=None), usage_status=<UsageStatus.mandatory: 1>, concept_role=None),\n",
       " DataAttribute(annotations=[], id='NAT_TITLE', uri=None, urn='urn:sdmx:org.sdmx.infomodel.datastructure.DataAttribute=ECB:ECB_EXR1(1.0).NAT_TITLE', concept_identity=<Concept NAT_TITLE: National language title>, local_representation=<Representation: None, [Facet(type=FacetType(is_sequence=None, min_length=None, max_length=350, min_value=None, max_value=None, start_value=None, end_value=None, interval=None, time_interval=None, decimals=None, pattern=None, start_time=None, end_time=None, sentinel_values=None), value=None, value_type=<FacetValueType.string: 1>)]>, related_to=DimensionRelationship(dimensions=[<Dimension CURRENCY>, <Dimension CURRENCY_DENOM>, <Dimension EXR_TYPE>, <Dimension EXR_SUFFIX>], group_key=None), usage_status=<UsageStatus.conditional: 2>, concept_role=None),\n",
       " DataAttribute(annotations=[], id='SOURCE_AGENCY', uri=None, urn='urn:sdmx:org.sdmx.infomodel.datastructure.DataAttribute=ECB:ECB_EXR1(1.0).SOURCE_AGENCY', concept_identity=<Concept SOURCE_AGENCY: Source agency>, local_representation=<Representation: CL_ORGANISATION, [Facet(type=FacetType(is_sequence=None, min_length=1, max_length=6, min_value=None, max_value=None, start_value=None, end_value=None, interval=None, time_interval=None, decimals=None, pattern=None, start_time=None, end_time=None, sentinel_values=None), value=None, value_type=<FacetValueType.string: 1>)]>, related_to=DimensionRelationship(dimensions=[<Dimension CURRENCY>, <Dimension CURRENCY_DENOM>, <Dimension EXR_TYPE>, <Dimension EXR_SUFFIX>], group_key=None), usage_status=<UsageStatus.conditional: 2>, concept_role=None),\n",
       " DataAttribute(annotations=[], id='SOURCE_PUB', uri=None, urn='urn:sdmx:org.sdmx.infomodel.datastructure.DataAttribute=ECB:ECB_EXR1(1.0).SOURCE_PUB', concept_identity=<Concept SOURCE_PUB: Publication source>, local_representation=<Representation: None, [Facet(type=FacetType(is_sequence=None, min_length=None, max_length=350, min_value=None, max_value=None, start_value=None, end_value=None, interval=None, time_interval=None, decimals=None, pattern=None, start_time=None, end_time=None, sentinel_values=None), value=None, value_type=<FacetValueType.string: 1>)]>, related_to=DimensionRelationship(dimensions=[<Dimension CURRENCY>, <Dimension CURRENCY_DENOM>, <Dimension EXR_TYPE>, <Dimension EXR_SUFFIX>], group_key=None), usage_status=<UsageStatus.conditional: 2>, concept_role=None),\n",
       " DataAttribute(annotations=[], id='TITLE', uri=None, urn='urn:sdmx:org.sdmx.infomodel.datastructure.DataAttribute=ECB:ECB_EXR1(1.0).TITLE', concept_identity=<Concept TITLE: Title>, local_representation=<Representation: None, [Facet(type=FacetType(is_sequence=None, min_length=None, max_length=200, min_value=None, max_value=None, start_value=None, end_value=None, interval=None, time_interval=None, decimals=None, pattern=None, start_time=None, end_time=None, sentinel_values=None), value=None, value_type=<FacetValueType.string: 1>)]>, related_to=DimensionRelationship(dimensions=[<Dimension CURRENCY>, <Dimension CURRENCY_DENOM>, <Dimension EXR_TYPE>, <Dimension EXR_SUFFIX>], group_key=None), usage_status=<UsageStatus.conditional: 2>, concept_role=None),\n",
       " DataAttribute(annotations=[], id='TITLE_COMPL', uri=None, urn='urn:sdmx:org.sdmx.infomodel.datastructure.DataAttribute=ECB:ECB_EXR1(1.0).TITLE_COMPL', concept_identity=<Concept TITLE_COMPL: Title complement>, local_representation=<Representation: None, [Facet(type=FacetType(is_sequence=None, min_length=1, max_length=1050, min_value=None, max_value=None, start_value=None, end_value=None, interval=None, time_interval=None, decimals=None, pattern=None, start_time=None, end_time=None, sentinel_values=None), value=None, value_type=<FacetValueType.string: 1>)]>, related_to=DimensionRelationship(dimensions=[<Dimension CURRENCY>, <Dimension CURRENCY_DENOM>, <Dimension EXR_TYPE>, <Dimension EXR_SUFFIX>], group_key=None), usage_status=<UsageStatus.mandatory: 1>, concept_role=None),\n",
       " DataAttribute(annotations=[], id='UNIT', uri=None, urn='urn:sdmx:org.sdmx.infomodel.datastructure.DataAttribute=ECB:ECB_EXR1(1.0).UNIT', concept_identity=<Concept UNIT: Unit>, local_representation=<Representation: CL_UNIT, [Facet(type=FacetType(is_sequence=None, min_length=1, max_length=13, min_value=None, max_value=None, start_value=None, end_value=None, interval=None, time_interval=None, decimals=None, pattern=None, start_time=None, end_time=None, sentinel_values=None), value=None, value_type=<FacetValueType.string: 1>)]>, related_to=DimensionRelationship(dimensions=[<Dimension CURRENCY>, <Dimension CURRENCY_DENOM>, <Dimension EXR_TYPE>, <Dimension EXR_SUFFIX>], group_key=None), usage_status=<UsageStatus.mandatory: 1>, concept_role=None),\n",
       " DataAttribute(annotations=[], id='UNIT_MULT', uri=None, urn='urn:sdmx:org.sdmx.infomodel.datastructure.DataAttribute=ECB:ECB_EXR1(1.0).UNIT_MULT', concept_identity=<Concept UNIT_MULT: Unit multiplier>, local_representation=<Representation: CL_UNIT_MULT, [Facet(type=FacetType(is_sequence=None, min_length=1, max_length=3, min_value=None, max_value=None, start_value=None, end_value=None, interval=None, time_interval=None, decimals=None, pattern=None, start_time=None, end_time=None, sentinel_values=None), value=None, value_type=<FacetValueType.string: 1>)]>, related_to=DimensionRelationship(dimensions=[<Dimension CURRENCY>, <Dimension CURRENCY_DENOM>, <Dimension EXR_TYPE>, <Dimension EXR_SUFFIX>], group_key=None), usage_status=<UsageStatus.mandatory: 1>, concept_role=None)]"
      ]
     },
     "execution_count": 19,
     "metadata": {},
     "output_type": "execute_result"
    }
   ],
   "source": [
    "\n",
    "dsd.attributes.components"
   ]
  },
  {
   "cell_type": "code",
   "execution_count": 20,
   "id": "64e9ce55-e198-4be6-b42a-8fb4201cdc06",
   "metadata": {},
   "outputs": [
    {
     "data": {
      "text/plain": [
       "[<PrimaryMeasure OBS_VALUE>]"
      ]
     },
     "execution_count": 20,
     "metadata": {},
     "output_type": "execute_result"
    }
   ],
   "source": [
    "dsd.measures.components"
   ]
  },
  {
   "cell_type": "code",
   "execution_count": 21,
   "id": "898b2aef-843e-4d6b-b121-e8e4c7a92e32",
   "metadata": {},
   "outputs": [],
   "source": [
    "cl = dsd.dimensions.get(\"FREQ\").local_representation.enumerated"
   ]
  },
  {
   "cell_type": "code",
   "execution_count": 22,
   "id": "54568e8f-8198-4806-9af5-cff58456cd2b",
   "metadata": {},
   "outputs": [
    {
     "data": {
      "text/plain": [
       "<Codelist ECB:CL_FREQ(1.0) (10 items): Frequency code list>"
      ]
     },
     "execution_count": 22,
     "metadata": {},
     "output_type": "execute_result"
    }
   ],
   "source": [
    "cl"
   ]
  },
  {
   "cell_type": "code",
   "execution_count": 23,
   "id": "4b2b7fe4-d70f-470f-9e42-ce50e68530ec",
   "metadata": {},
   "outputs": [
    {
     "data": {
      "text/plain": [
       "True"
      ]
     },
     "execution_count": 23,
     "metadata": {},
     "output_type": "execute_result"
    }
   ],
   "source": [
    "cl is exr_msg.codelist.CL_FREQ"
   ]
  },
  {
   "cell_type": "code",
   "execution_count": 24,
   "id": "5ad77b85-d047-4bb7-a249-3720a7f86aa6",
   "metadata": {},
   "outputs": [
    {
     "data": {
      "text/plain": [
       "CL_FREQ\n",
       "A                                               Annual\n",
       "B                                 Daily - businessweek\n",
       "D                                                Daily\n",
       "E                                Event (not supported)\n",
       "H                                          Half-yearly\n",
       "M                                              Monthly\n",
       "N                                             Minutely\n",
       "Q                                            Quarterly\n",
       "S    Half-yearly, semester (value introduced in 200...\n",
       "W                                               Weekly\n",
       "Name: Frequency code list, dtype: object"
      ]
     },
     "execution_count": 24,
     "metadata": {},
     "output_type": "execute_result"
    }
   ],
   "source": [
    "sdmx.to_pandas(cl)"
   ]
  },
  {
   "cell_type": "code",
   "execution_count": null,
   "id": "97ceef08-0c0c-4b79-b4b0-3a6c2f532ed8",
   "metadata": {},
   "outputs": [],
   "source": []
  }
 ],
 "metadata": {
  "kernelspec": {
   "display_name": "Python 3 (ipykernel)",
   "language": "python",
   "name": "python3"
  },
  "language_info": {
   "name": "python"
  }
 },
 "nbformat": 4,
 "nbformat_minor": 5
}
