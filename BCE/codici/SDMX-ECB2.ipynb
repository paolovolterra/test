{
 "cells": [
  {
   "attachments": {},
   "cell_type": "markdown",
   "id": "d19d42e0-27b9-4752-ae9a-20ab0aa26b79",
   "metadata": {},
   "source": [
    "## [BCE|ECB](https://medium.com/@julienroborel/connecting-to-international-institutions-data-the-sdmx-network-and-the-pandasdmx-library-4ee7c7bd385)\n",
    "[immagine.png](https://miro.medium.com/v2/resize:fit:720/format:webp/1*B482Dx5GQrDeRZtkzhkEFg.png)\n",
    "- https://pandasdmx.readthedocs.io/en/v0.9/usage.html\n",
    "- https://pandasdmx.readthedocs.io/en/v1.0/howto.html"
   ]
  },
  {
   "cell_type": "markdown",
   "id": "4db10fe9-7def-4462-8476-fdd36e73e954",
   "metadata": {},
   "source": [
    "### 1a prova"
   ]
  },
  {
   "cell_type": "code",
   "execution_count": 3,
   "id": "73814a5f-b802-45bf-9d6e-9d21bb872c67",
   "metadata": {},
   "outputs": [
    {
     "name": "stderr",
     "output_type": "stream",
     "text": [
      "Request class will be removed in v3.0; use Client(…)\n"
     ]
    }
   ],
   "source": [
    "import sdmx\n",
    "ecb = sdmx.Request('ecb')\n",
    "cat_response = ecb.categoryscheme()"
   ]
  },
  {
   "cell_type": "code",
   "execution_count": 4,
   "id": "48d26900-59ea-4b04-81ab-7c36af3c44ef",
   "metadata": {},
   "outputs": [
    {
     "data": {
      "text/plain": [
       "<sdmx.StructureMessage>\n",
       "  <Header>\n",
       "    id: 'IREF951111'\n",
       "    prepared: '2025-07-12T04:38:39+00:00'\n",
       "    receiver: <Agency not_supplied>\n",
       "    sender: <Agency Unknown>\n",
       "    source: \n",
       "    test: False\n",
       "  response: <Response [200]>\n",
       "  Categorisation (2): 146679AB-6A0F-F0EB-D566-6F63CE655365 7C64141B-4EC...\n",
       "  CategoryScheme (1): MOBILE_NAVI\n",
       "  DataflowDefinition (2): EON ILM\n",
       "  AgencyScheme (1): AGENCIES\n",
       "  DataStructureDefinition (2): ECB_EON1 ECB_ILM1"
      ]
     },
     "execution_count": null,
     "metadata": {},
     "output_type": "execute_result"
    }
   ],
   "source": [
    "cat_response"
   ]
  },
  {
   "cell_type": "code",
   "execution_count": 5,
   "id": "8221c076-5a1b-4263-8cb6-a91bd36ccb70",
   "metadata": {},
   "outputs": [
    {
     "data": {
      "text/plain": [
       "MOBILE_NAVI\n",
       "01                                  Monetary operations\n",
       "02             Prices, output, demand and labour market\n",
       "03                    Monetary and financial statistics\n",
       "04                                   Euro area accounts\n",
       "05                                   Government finance\n",
       "06                  External transactions and positions\n",
       "07                                       Exchange rates\n",
       "08    Payments and securities trading, clearing, set...\n",
       "09                                  Banknotes and Coins\n",
       "10                  Indicators of Financial Integration\n",
       "11               Real Time Database (research database)\n",
       "Name: Economic concepts, dtype: object"
      ]
     },
     "execution_count": null,
     "metadata": {},
     "output_type": "execute_result"
    }
   ],
   "source": [
    "sdmx.to_pandas(cat_response.category_scheme.MOBILE_NAVI)"
   ]
  },
  {
   "cell_type": "code",
   "execution_count": 6,
   "id": "3738f97b-0541-4489-8912-eb082af9a9f6",
   "metadata": {},
   "outputs": [
    {
     "data": {
      "text/plain": [
       "<CategoryScheme ECB:MOBILE_NAVI(1.0) (11 items): Economic concepts>"
      ]
     },
     "execution_count": null,
     "metadata": {},
     "output_type": "execute_result"
    }
   ],
   "source": [
    "cat_response.category_scheme.MOBILE_NAVI"
   ]
  },
  {
   "cell_type": "code",
   "execution_count": 7,
   "id": "e341db7c-86af-4e59-a7ab-644e32f3168b",
   "metadata": {},
   "outputs": [
    {
     "data": {
      "text/plain": [
       "<sdmx.StructureMessage>\n",
       "  <Header>\n",
       "    id: 'IREF951111'\n",
       "    prepared: '2025-07-12T04:38:39+00:00'\n",
       "    receiver: <Agency not_supplied>\n",
       "    sender: <Agency Unknown>\n",
       "    source: \n",
       "    test: False\n",
       "  response: <Response [200]>\n",
       "  Categorisation (2): 146679AB-6A0F-F0EB-D566-6F63CE655365 7C64141B-4EC...\n",
       "  CategoryScheme (1): MOBILE_NAVI\n",
       "  DataflowDefinition (2): EON ILM\n",
       "  AgencyScheme (1): AGENCIES\n",
       "  DataStructureDefinition (2): ECB_EON1 ECB_ILM1"
      ]
     },
     "execution_count": null,
     "metadata": {},
     "output_type": "execute_result"
    }
   ],
   "source": [
    "cat_response"
   ]
  },
  {
   "cell_type": "code",
   "execution_count": 8,
   "id": "a5d73434-7583-4686-bcaa-e3a924a856d7",
   "metadata": {},
   "outputs": [
    {
     "data": {
      "text/plain": [
       "<sdmx.StructureMessage>\n",
       "  <Header>\n",
       "    id: 'IREF951212'\n",
       "    prepared: '2025-07-12T04:38:47+00:00'\n",
       "    receiver: <Agency not_supplied>\n",
       "    sender: <Agency Unknown>\n",
       "    source: \n",
       "    test: False\n",
       "  response: <Response [200]>\n",
       "  DataflowDefinition (97): AGR AME BKN BLS BNT BOP BSI BSP CAR CBD CBD2...\n",
       "  DataStructureDefinition (77): ECB_BCS1 ECB_AME1 ECB_BKN1 ECB_BLS1 ECB..."
      ]
     },
     "execution_count": null,
     "metadata": {},
     "output_type": "execute_result"
    }
   ],
   "source": [
    "flow_msg = ecb.dataflow()\n",
    "flow_msg"
   ]
  },
  {
   "cell_type": "code",
   "execution_count": 9,
   "id": "ce092119-eb45-4072-a699-952304be864e",
   "metadata": {},
   "outputs": [
    {
     "data": {
      "text/plain": [
       "<sdmx.StructureMessage>\n",
       "  <Header>\n",
       "    id: 'IREF951213'\n",
       "    prepared: '2025-07-12T04:38:48+00:00'\n",
       "    receiver: <Agency not_supplied>\n",
       "    sender: <Agency Unknown>\n",
       "    source: \n",
       "    test: False\n",
       "  response: <Response [200]>\n",
       "  DataflowDefinition (97): AGR AME BKN BLS BNT BOP BSI BSP CAR CBD CBD2...\n",
       "  DataStructureDefinition (77): ECB_BCS1 ECB_AME1 ECB_BKN1 ECB_BLS1 ECB..."
      ]
     },
     "execution_count": null,
     "metadata": {},
     "output_type": "execute_result"
    }
   ],
   "source": [
    "flow_response = ecb.dataflow()\n",
    "flow_response"
   ]
  },
  {
   "cell_type": "code",
   "execution_count": 10,
   "id": "a4211ad4-d1eb-4ad6-a7a3-7e77d90d5e88",
   "metadata": {},
   "outputs": [
    {
     "data": {
      "text/plain": [
       "<sdmx.StructureMessage>\n",
       "  <Header>\n",
       "    id: 'IREF951214'\n",
       "    prepared: '2025-07-12T04:38:48+00:00'\n",
       "    receiver: <Agency not_supplied>\n",
       "    sender: <Agency Unknown>\n",
       "    source: \n",
       "    test: False\n",
       "  response: <Response [200]>\n",
       "  Categorisation (2): 21e97b57-5950-eaab-eead-1534306b28af 53A341E8-D48...\n",
       "  CategoryScheme (2): WDC_NAVI WDC_NAVI_OLD\n",
       "  Codelist (11): CL_COLLECTION CL_CURRENCY CL_DECIMALS CL_EXR_SUFFIX CL...\n",
       "  ConceptScheme (1): ECB_CONCEPTS\n",
       "  ContentConstraint (1): EXR_CONSTRAINTS\n",
       "  DataflowDefinition (1): EXR\n",
       "  AgencyScheme (1): AGENCIES\n",
       "  DataStructureDefinition (1): ECB_EXR1"
      ]
     },
     "execution_count": null,
     "metadata": {},
     "output_type": "execute_result"
    }
   ],
   "source": [
    "exr_flow = ecb.dataflow('EXR')\n",
    "exr_flow"
   ]
  },
  {
   "cell_type": "code",
   "execution_count": null,
   "id": "331e6ee6-d19b-49d3-bcca-4fcfb0cb1f9c",
   "metadata": {},
   "outputs": [],
   "source": []
  },
  {
   "cell_type": "markdown",
   "id": "a71911dd-beb2-4c4d-b6ca-409d0d3b8573",
   "metadata": {},
   "source": [
    "### [2a prova](https://pandasdmx.readthedocs.io/en/v0.9/usage.html) - ECB"
   ]
  },
  {
   "cell_type": "code",
   "execution_count": 14,
   "id": "f377c9e7-99e2-41a6-9b9a-ec7dbcd0eef1",
   "metadata": {},
   "outputs": [
    {
     "ename": "ImportError",
     "evalue": "cannot import name 'make_generic_validator' from 'pydantic.class_validators' (C:\\Users\\paolo\\AppData\\Local\\Programs\\Python\\Python311\\Lib\\site-packages\\pydantic\\class_validators.py)",
     "output_type": "error",
     "traceback": [
      "\u001b[1;31m---------------------------------------------------------------------------\u001b[0m\n",
      "\u001b[1;31mImportError\u001b[0m                               Traceback (most recent call last)\n",
      "Cell \u001b[1;32mIn[14], line 1\u001b[0m\n",
      "\u001b[1;32m----> 1\u001b[0m \u001b[38;5;28;01mfrom\u001b[39;00m\u001b[38;5;250m \u001b[39m\u001b[38;5;21;01mpandasdmx\u001b[39;00m\u001b[38;5;250m \u001b[39m\u001b[38;5;28;01mimport\u001b[39;00m Request \u001b[38;5;66;03m# '*' would do the same\u001b[39;00m\n",
      "\u001b[0;32m      2\u001b[0m ecb \u001b[38;5;241m=\u001b[39m Request(\u001b[38;5;124m'\u001b[39m\u001b[38;5;124mECB\u001b[39m\u001b[38;5;124m'\u001b[39m)\n",
      "\u001b[0;32m      3\u001b[0m flow_response \u001b[38;5;241m=\u001b[39m ecb\u001b[38;5;241m.\u001b[39mdataflow()\n",
      "\n",
      "File \u001b[1;32m~\\AppData\\Local\\Programs\\Python\\Python311\\Lib\\site-packages\\pandasdmx\\__init__.py:4\u001b[0m\n",
      "\u001b[0;32m      1\u001b[0m \u001b[38;5;124;03m\"\"\"Statistical Data and Metadata eXchange (SDMX) for the Python data ecosystem\"\"\"\u001b[39;00m\n",
      "\u001b[1;32m----> 4\u001b[0m \u001b[38;5;28;01mfrom\u001b[39;00m\u001b[38;5;250m \u001b[39m\u001b[38;5;21;01mpandasdmx\u001b[39;00m\u001b[38;5;21;01m.\u001b[39;00m\u001b[38;5;21;01mapi\u001b[39;00m\u001b[38;5;250m \u001b[39m\u001b[38;5;28;01mimport\u001b[39;00m Request, read_url, install_schemas\n",
      "\u001b[0;32m      5\u001b[0m \u001b[38;5;28;01mfrom\u001b[39;00m\u001b[38;5;250m \u001b[39m\u001b[38;5;21;01mpandasdmx\u001b[39;00m\u001b[38;5;21;01m.\u001b[39;00m\u001b[38;5;21;01mreader\u001b[39;00m\u001b[38;5;250m \u001b[39m\u001b[38;5;28;01mimport\u001b[39;00m read_sdmx\n",
      "\u001b[0;32m      6\u001b[0m \u001b[38;5;28;01mfrom\u001b[39;00m\u001b[38;5;250m \u001b[39m\u001b[38;5;21;01mpandasdmx\u001b[39;00m\u001b[38;5;21;01m.\u001b[39;00m\u001b[38;5;21;01msource\u001b[39;00m\u001b[38;5;250m \u001b[39m\u001b[38;5;28;01mimport\u001b[39;00m add_source, list_sources\n",
      "\n",
      "File \u001b[1;32m~\\AppData\\Local\\Programs\\Python\\Python311\\Lib\\site-packages\\pandasdmx\\api.py:16\u001b[0m\n",
      "\u001b[0;32m     13\u001b[0m \u001b[38;5;28;01mimport\u001b[39;00m\u001b[38;5;250m \u001b[39m\u001b[38;5;21;01mrequests\u001b[39;00m\n",
      "\u001b[0;32m     15\u001b[0m \u001b[38;5;28;01mfrom\u001b[39;00m\u001b[38;5;250m \u001b[39m\u001b[38;5;21;01m.\u001b[39;00m\u001b[38;5;250m \u001b[39m\u001b[38;5;28;01mimport\u001b[39;00m remote\n",
      "\u001b[1;32m---> 16\u001b[0m \u001b[38;5;28;01mfrom\u001b[39;00m\u001b[38;5;250m \u001b[39m\u001b[38;5;21;01m.\u001b[39;00m\u001b[38;5;21;01mreader\u001b[39;00m\u001b[38;5;250m \u001b[39m\u001b[38;5;28;01mimport\u001b[39;00m get_reader_for_content_type\n",
      "\u001b[0;32m     17\u001b[0m \u001b[38;5;28;01mfrom\u001b[39;00m\u001b[38;5;250m \u001b[39m\u001b[38;5;21;01m.\u001b[39;00m\u001b[38;5;21;01mmessage\u001b[39;00m\u001b[38;5;250m \u001b[39m\u001b[38;5;28;01mimport\u001b[39;00m Message\n",
      "\u001b[0;32m     18\u001b[0m \u001b[38;5;28;01mfrom\u001b[39;00m\u001b[38;5;250m \u001b[39m\u001b[38;5;21;01mpandasdmx\u001b[39;00m\u001b[38;5;250m \u001b[39m\u001b[38;5;28;01mimport\u001b[39;00m model\n",
      "\n",
      "File \u001b[1;32m~\\AppData\\Local\\Programs\\Python\\Python311\\Lib\\site-packages\\pandasdmx\\reader\\__init__.py:3\u001b[0m\n",
      "\u001b[0;32m      1\u001b[0m \u001b[38;5;28;01mfrom\u001b[39;00m\u001b[38;5;250m \u001b[39m\u001b[38;5;21;01mpathlib\u001b[39;00m\u001b[38;5;250m \u001b[39m\u001b[38;5;28;01mimport\u001b[39;00m Path\n",
      "\u001b[1;32m----> 3\u001b[0m \u001b[38;5;28;01mfrom\u001b[39;00m\u001b[38;5;250m \u001b[39m\u001b[38;5;21;01mpandasdmx\u001b[39;00m\u001b[38;5;21;01m.\u001b[39;00m\u001b[38;5;21;01mreader\u001b[39;00m\u001b[38;5;250m \u001b[39m\u001b[38;5;28;01mimport\u001b[39;00m sdmxjson \u001b[38;5;28;01mas\u001b[39;00m json, sdmxml \u001b[38;5;28;01mas\u001b[39;00m xml\n",
      "\u001b[0;32m      5\u001b[0m \u001b[38;5;66;03m#: Reader classes\u001b[39;00m\n",
      "\u001b[0;32m      6\u001b[0m READERS \u001b[38;5;241m=\u001b[39m [json\u001b[38;5;241m.\u001b[39mReader, xml\u001b[38;5;241m.\u001b[39mReader]\n",
      "\n",
      "File \u001b[1;32m~\\AppData\\Local\\Programs\\Python\\Python311\\Lib\\site-packages\\pandasdmx\\reader\\sdmxjson.py:5\u001b[0m\n",
      "\u001b[0;32m      2\u001b[0m \u001b[38;5;28;01mimport\u001b[39;00m\u001b[38;5;250m \u001b[39m\u001b[38;5;21;01mjson\u001b[39;00m\n",
      "\u001b[0;32m      3\u001b[0m \u001b[38;5;28;01mimport\u001b[39;00m\u001b[38;5;250m \u001b[39m\u001b[38;5;21;01mlogging\u001b[39;00m\n",
      "\u001b[1;32m----> 5\u001b[0m \u001b[38;5;28;01mfrom\u001b[39;00m\u001b[38;5;250m \u001b[39m\u001b[38;5;21;01mpandasdmx\u001b[39;00m\u001b[38;5;250m \u001b[39m\u001b[38;5;28;01mimport\u001b[39;00m model\n",
      "\u001b[0;32m      6\u001b[0m \u001b[38;5;28;01mfrom\u001b[39;00m\u001b[38;5;250m \u001b[39m\u001b[38;5;21;01mpandasdmx\u001b[39;00m\u001b[38;5;21;01m.\u001b[39;00m\u001b[38;5;21;01mformat\u001b[39;00m\u001b[38;5;21;01m.\u001b[39;00m\u001b[38;5;21;01mjson\u001b[39;00m\u001b[38;5;250m \u001b[39m\u001b[38;5;28;01mimport\u001b[39;00m CONTENT_TYPES\n",
      "\u001b[0;32m      7\u001b[0m \u001b[38;5;28;01mfrom\u001b[39;00m\u001b[38;5;250m \u001b[39m\u001b[38;5;21;01mpandasdmx\u001b[39;00m\u001b[38;5;21;01m.\u001b[39;00m\u001b[38;5;21;01mmessage\u001b[39;00m\u001b[38;5;250m \u001b[39m\u001b[38;5;28;01mimport\u001b[39;00m DataMessage, Header\n",
      "\n",
      "File \u001b[1;32m~\\AppData\\Local\\Programs\\Python\\Python311\\Lib\\site-packages\\pandasdmx\\model.py:52\u001b[0m\n",
      "\u001b[0;32m     34\u001b[0m \u001b[38;5;28;01mfrom\u001b[39;00m\u001b[38;5;250m \u001b[39m\u001b[38;5;21;01mtyping\u001b[39;00m\u001b[38;5;250m \u001b[39m\u001b[38;5;28;01mimport\u001b[39;00m (\n",
      "\u001b[0;32m     35\u001b[0m     Any,\n",
      "\u001b[0;32m     36\u001b[0m     Dict,\n",
      "\u001b[1;32m   (...)\u001b[0m\n",
      "\u001b[0;32m     48\u001b[0m     Union,\n",
      "\u001b[0;32m     49\u001b[0m )\n",
      "\u001b[0;32m     50\u001b[0m \u001b[38;5;28;01mfrom\u001b[39;00m\u001b[38;5;250m \u001b[39m\u001b[38;5;21;01mwarnings\u001b[39;00m\u001b[38;5;250m \u001b[39m\u001b[38;5;28;01mimport\u001b[39;00m warn\n",
      "\u001b[1;32m---> 52\u001b[0m \u001b[38;5;28;01mfrom\u001b[39;00m\u001b[38;5;250m \u001b[39m\u001b[38;5;21;01mpandasdmx\u001b[39;00m\u001b[38;5;21;01m.\u001b[39;00m\u001b[38;5;21;01mutil\u001b[39;00m\u001b[38;5;250m \u001b[39m\u001b[38;5;28;01mimport\u001b[39;00m (\n",
      "\u001b[0;32m     53\u001b[0m     BaseModel,\n",
      "\u001b[0;32m     54\u001b[0m     DictLike,\n",
      "\u001b[0;32m     55\u001b[0m     compare,\n",
      "\u001b[0;32m     56\u001b[0m     dictlike_field,\n",
      "\u001b[0;32m     57\u001b[0m     only,\n",
      "\u001b[0;32m     58\u001b[0m     Resource,\n",
      "\u001b[0;32m     59\u001b[0m     validate_dictlike,\n",
      "\u001b[0;32m     60\u001b[0m     validator,\n",
      "\u001b[0;32m     61\u001b[0m )\n",
      "\u001b[0;32m     63\u001b[0m log \u001b[38;5;241m=\u001b[39m logging\u001b[38;5;241m.\u001b[39mgetLogger(\u001b[38;5;18m__name__\u001b[39m)\n",
      "\u001b[0;32m     65\u001b[0m \u001b[38;5;66;03m# Used by writers to select from InternationalString.\u001b[39;00m\n",
      "\u001b[0;32m     66\u001b[0m \u001b[38;5;66;03m# Exposed through pandasdmx.api.Request.default_locale\u001b[39;00m\n",
      "\n",
      "File \u001b[1;32m~\\AppData\\Local\\Programs\\Python\\Python311\\Lib\\site-packages\\pandasdmx\\util.py:11\u001b[0m\n",
      "\u001b[0;32m      9\u001b[0m \u001b[38;5;28;01mimport\u001b[39;00m\u001b[38;5;250m \u001b[39m\u001b[38;5;21;01mrequests\u001b[39;00m\n",
      "\u001b[0;32m     10\u001b[0m \u001b[38;5;28;01mfrom\u001b[39;00m\u001b[38;5;250m \u001b[39m\u001b[38;5;21;01mpydantic\u001b[39;00m\u001b[38;5;250m \u001b[39m\u001b[38;5;28;01mimport\u001b[39;00m Field, ValidationError, validator\n",
      "\u001b[1;32m---> 11\u001b[0m \u001b[38;5;28;01mfrom\u001b[39;00m\u001b[38;5;250m \u001b[39m\u001b[38;5;21;01mpydantic\u001b[39;00m\u001b[38;5;21;01m.\u001b[39;00m\u001b[38;5;21;01mclass_validators\u001b[39;00m\u001b[38;5;250m \u001b[39m\u001b[38;5;28;01mimport\u001b[39;00m make_generic_validator\n",
      "\u001b[0;32m     12\u001b[0m \u001b[38;5;28;01mfrom\u001b[39;00m\u001b[38;5;250m \u001b[39m\u001b[38;5;21;01mpydantic\u001b[39;00m\u001b[38;5;21;01m.\u001b[39;00m\u001b[38;5;21;01mtyping\u001b[39;00m\u001b[38;5;250m \u001b[39m\u001b[38;5;28;01mimport\u001b[39;00m get_origin  \u001b[38;5;66;03m# type: ignore [attr-defined]\u001b[39;00m\n",
      "\u001b[0;32m     14\u001b[0m \u001b[38;5;28;01mtry\u001b[39;00m:\n",
      "\n",
      "\u001b[1;31mImportError\u001b[0m: cannot import name 'make_generic_validator' from 'pydantic.class_validators' (C:\\Users\\paolo\\AppData\\Local\\Programs\\Python\\Python311\\Lib\\site-packages\\pydantic\\class_validators.py)"
     ]
    }
   ],
   "source": [
    "from pandasdmx import Request # '*' would do the same\n",
    "ecb = Request('ECB')\n",
    "flow_response = ecb.dataflow()"
   ]
  },
  {
   "cell_type": "code",
   "execution_count": 15,
   "id": "cca81347-49ce-427d-9460-2e503c5208b4",
   "metadata": {
    "scrolled": true
   },
   "outputs": [
    {
     "name": "stdout",
     "output_type": "stream",
     "text": [
      "AGR                                              AGR\n",
      "AME                                            AMECO\n",
      "BKN                             Banknotes statistics\n",
      "BLS                   Bank Lending Survey Statistics\n",
      "BNT    Shipments of Euro Banknotes Statistics (ESCB)\n",
      "                           ...                      \n",
      "SUR                                  Opinion Surveys\n",
      "TGB                                  Target Balances\n",
      "TRD                                   External Trade\n",
      "WTS                                    Trade weights\n",
      "YC               Financial market data - yield curve\n",
      "Length: 97, dtype: object\n",
      "[<Dimension FREQ>, <Dimension CURRENCY>, <Dimension CURRENCY_DENOM>, <Dimension EXR_TYPE>, <Dimension EXR_SUFFIX>, <TimeDimension TIME_PERIOD>]\n"
     ]
    }
   ],
   "source": [
    "dataflows = sdmx.to_pandas(flow_msg.dataflow)\n",
    "print(dataflows)\n",
    "\n",
    "dataflows[dataflows.str.contains(\"Exchange\", case=False)]\n",
    "\n",
    "exr_msg = ecb.dataflow('EXR')\n",
    "exr_flow = exr_msg.dataflow.EXR\n",
    "dsd = exr_flow.structure\n",
    "print(dsd.dimensions.components)"
   ]
  },
  {
   "cell_type": "code",
   "execution_count": 17,
   "id": "0dfa7dad-d389-4764-8c39-24900a065f36",
   "metadata": {
    "scrolled": true
   },
   "outputs": [
    {
     "name": "stderr",
     "output_type": "stream",
     "text": [
      "Request class will be removed in v3.0; use Client(…)\n"
     ]
    },
    {
     "data": {
      "text/html": [
       "<div>\n",
       "<style scoped>\n",
       "    .dataframe tbody tr th:only-of-type {\n",
       "        vertical-align: middle;\n",
       "    }\n",
       "\n",
       "    .dataframe tbody tr th {\n",
       "        vertical-align: top;\n",
       "    }\n",
       "\n",
       "    .dataframe thead tr th {\n",
       "        text-align: left;\n",
       "    }\n",
       "\n",
       "    .dataframe thead tr:last-of-type th {\n",
       "        text-align: right;\n",
       "    }\n",
       "</style>\n",
       "<table border=\"1\" class=\"dataframe\">\n",
       "  <thead>\n",
       "    <tr>\n",
       "      <th>FREQ</th>\n",
       "      <th colspan=\"2\" halign=\"left\">D</th>\n",
       "    </tr>\n",
       "    <tr>\n",
       "      <th>CURRENCY</th>\n",
       "      <th>JPY</th>\n",
       "      <th>USD</th>\n",
       "    </tr>\n",
       "    <tr>\n",
       "      <th>CURRENCY_DENOM</th>\n",
       "      <th>EUR</th>\n",
       "      <th>EUR</th>\n",
       "    </tr>\n",
       "    <tr>\n",
       "      <th>EXR_TYPE</th>\n",
       "      <th>SP00</th>\n",
       "      <th>SP00</th>\n",
       "    </tr>\n",
       "    <tr>\n",
       "      <th>EXR_SUFFIX</th>\n",
       "      <th>A</th>\n",
       "      <th>A</th>\n",
       "    </tr>\n",
       "    <tr>\n",
       "      <th>TIME_PERIOD</th>\n",
       "      <th></th>\n",
       "      <th></th>\n",
       "    </tr>\n",
       "  </thead>\n",
       "  <tbody>\n",
       "    <tr>\n",
       "      <th>2016-01-04</th>\n",
       "      <td>129.78</td>\n",
       "      <td>1.0898</td>\n",
       "    </tr>\n",
       "    <tr>\n",
       "      <th>2016-01-05</th>\n",
       "      <td>127.88</td>\n",
       "      <td>1.0746</td>\n",
       "    </tr>\n",
       "    <tr>\n",
       "      <th>2016-01-06</th>\n",
       "      <td>127.19</td>\n",
       "      <td>1.0742</td>\n",
       "    </tr>\n",
       "    <tr>\n",
       "      <th>2016-01-07</th>\n",
       "      <td>127.74</td>\n",
       "      <td>1.0868</td>\n",
       "    </tr>\n",
       "    <tr>\n",
       "      <th>2016-01-08</th>\n",
       "      <td>128.51</td>\n",
       "      <td>1.0861</td>\n",
       "    </tr>\n",
       "    <tr>\n",
       "      <th>...</th>\n",
       "      <td>...</td>\n",
       "      <td>...</td>\n",
       "    </tr>\n",
       "    <tr>\n",
       "      <th>2025-07-07</th>\n",
       "      <td>170.71</td>\n",
       "      <td>1.1728</td>\n",
       "    </tr>\n",
       "    <tr>\n",
       "      <th>2025-07-08</th>\n",
       "      <td>171.70</td>\n",
       "      <td>1.1718</td>\n",
       "    </tr>\n",
       "    <tr>\n",
       "      <th>2025-07-09</th>\n",
       "      <td>171.63</td>\n",
       "      <td>1.1698</td>\n",
       "    </tr>\n",
       "    <tr>\n",
       "      <th>2025-07-10</th>\n",
       "      <td>171.33</td>\n",
       "      <td>1.1709</td>\n",
       "    </tr>\n",
       "    <tr>\n",
       "      <th>2025-07-11</th>\n",
       "      <td>171.81</td>\n",
       "      <td>1.1683</td>\n",
       "    </tr>\n",
       "  </tbody>\n",
       "</table>\n",
       "<p>2439 rows × 2 columns</p>\n",
       "</div>"
      ],
      "text/plain": [
       "FREQ                 D        \n",
       "CURRENCY           JPY     USD\n",
       "CURRENCY_DENOM     EUR     EUR\n",
       "EXR_TYPE          SP00    SP00\n",
       "EXR_SUFFIX           A       A\n",
       "TIME_PERIOD                   \n",
       "2016-01-04      129.78  1.0898\n",
       "2016-01-05      127.88  1.0746\n",
       "2016-01-06      127.19  1.0742\n",
       "2016-01-07      127.74  1.0868\n",
       "2016-01-08      128.51  1.0861\n",
       "...                ...     ...\n",
       "2025-07-07      170.71  1.1728\n",
       "2025-07-08      171.70  1.1718\n",
       "2025-07-09      171.63  1.1698\n",
       "2025-07-10      171.33  1.1709\n",
       "2025-07-11      171.81  1.1683\n",
       "\n",
       "[2439 rows x 2 columns]"
      ]
     },
     "execution_count": null,
     "metadata": {},
     "output_type": "execute_result"
    }
   ],
   "source": [
    "import pandas as pd\n",
    "\n",
    "key = '.USD+JPY...'\n",
    "params = dict(startPeriod = '2016')\n",
    "ecb = sdmx.Request('ECB')\n",
    "data_msg = ecb.data('EXR', key=key, params = params)\n",
    "data = data_msg.data[0]\n",
    "daily = [s for sk, s in data.series.items() if sk.FREQ == 'D']\n",
    "cur_df = pd.concat(sdmx.to_pandas(daily)).unstack().T\n",
    "cur_df.index = pd.DatetimeIndex(cur_df.index,)\n",
    "cur_df"
   ]
  },
  {
   "cell_type": "markdown",
   "id": "9358c52f-0706-4dd1-a763-a46d14133d17",
   "metadata": {},
   "source": [
    "### [ESTAT](https://sebastianpaulo.net/blog/working-with-data-from-official-providers-a-brief-tour-of-pandasdmx/)"
   ]
  },
  {
   "cell_type": "code",
   "execution_count": 18,
   "id": "5cc8f0e6-d66b-447d-a734-042210303c1b",
   "metadata": {},
   "outputs": [
    {
     "name": "stderr",
     "output_type": "stream",
     "text": [
      "Request class will be removed in v3.0; use Client(…)\n"
     ]
    },
    {
     "data": {
      "text/plain": [
       "<sdmx.StructureMessage>\n",
       "  <Header>\n",
       "    id: 'DF1752267615'\n",
       "    prepared: '2025-07-11T23:00:15.070000+02:00'\n",
       "    sender: <Agency ESTAT>\n",
       "    source: \n",
       "    test: False\n",
       "  response: <Response [200]>\n",
       "  DataflowDefinition (7950): LFST_R_LFE2EMP LFST_R_LFE2EMPRC LFST_R_LFE...\n",
       "  DataStructureDefinition (7501): LFST_R_LFE2EMP LFST_R_LFE2EMPRC LFST_..."
      ]
     },
     "execution_count": null,
     "metadata": {},
     "output_type": "execute_result"
    }
   ],
   "source": [
    "estat = sdmx.Request('ESTAT')\n",
    "flow_msg = estat.dataflow()\n",
    "flow_msg\n",
    "# https://sebastianpaulo.net/blog/working-with-data-from-official-providers-a-brief-tour-of-pandasdmx/"
   ]
  },
  {
   "cell_type": "code",
   "execution_count": 19,
   "id": "7a3f69f9-8a33-480b-bef1-20948998a148",
   "metadata": {},
   "outputs": [
    {
     "data": {
      "text/plain": [
       "pandas.core.series.Series"
      ]
     },
     "execution_count": null,
     "metadata": {},
     "output_type": "execute_result"
    }
   ],
   "source": [
    "dataflows = sdmx.to_pandas(flow_msg.dataflow)\n",
    "type(dataflows)"
   ]
  },
  {
   "cell_type": "code",
   "execution_count": 20,
   "id": "87aaf206-ec1d-43c0-be1d-785d2ed413a4",
   "metadata": {},
   "outputs": [
    {
     "data": {
      "text/plain": [
       "LFST_R_LFE2EMP        Employment by sex, age and NUTS 2 region (1 000)\n",
       "LFST_R_LFE2EMPRC     Employment rates by sex, age, educational atta...\n",
       "LFST_R_LFE2EMPRT     Employment rates by sex, age and NUTS 2 region...\n",
       "LFST_R_LFE2EMPRTN    Employment rates by sex, age, educational atta...\n",
       "LFST_R_LFE2EN1       Employment by sex, age, economic activity and ...\n",
       "dtype: object"
      ]
     },
     "execution_count": null,
     "metadata": {},
     "output_type": "execute_result"
    }
   ],
   "source": [
    "dataflows.head()"
   ]
  },
  {
   "cell_type": "code",
   "execution_count": 21,
   "id": "80ef4ad8-932e-4660-a9eb-66b0642e8a50",
   "metadata": {},
   "outputs": [
    {
     "data": {
      "text/plain": [
       "TIN00094    Individuals using the internet for sending/rec...\n",
       "TIN00095    Individuals using the internet for finding inf...\n",
       "TIN00096    Individuals using the internet for buying good...\n",
       "TIN00098    Individuals using the internet for selling goo...\n",
       "TIN00099    Individuals using the internet for internet ba...\n",
       "TIN00101    Individuals using the internet for seeking hea...\n",
       "TIN00102    Individuals using the internet for looking for...\n",
       "TIN00103    Individuals using the internet for doing an on...\n",
       "TIN00127    Individuals using the internet for participati...\n",
       "TIN00129    Individuals using the internet for taking part...\n",
       "dtype: object"
      ]
     },
     "execution_count": null,
     "metadata": {},
     "output_type": "execute_result"
    }
   ],
   "source": [
    "internet_use_flows = dataflows[dataflows.str.contains('Individuals using the internet', case=False)]\n",
    "internet_use_flows"
   ]
  },
  {
   "cell_type": "code",
   "execution_count": 22,
   "id": "a466b3a5-2c38-471a-8d38-72f706f2431a",
   "metadata": {},
   "outputs": [
    {
     "data": {
      "text/plain": [
       "<sdmx.StructureMessage>\n",
       "  <Header>\n",
       "    id: 'DF1750929217'\n",
       "    prepared: '2025-06-26T09:13:37.467000+00:00'\n",
       "    sender: <Agency ESTAT>\n",
       "    source: \n",
       "    test: False\n",
       "  response: <Response [200]>\n",
       "  Codelist (7): FREQ INDIC_IS UNIT IND_TYPE GEO OBS_FLAG CONF_STATUS\n",
       "  ConceptScheme (1): TIN00099\n",
       "  DataflowDefinition (1): TIN00099\n",
       "  DataStructureDefinition (1): TIN00099"
      ]
     },
     "execution_count": null,
     "metadata": {},
     "output_type": "execute_result"
    }
   ],
   "source": [
    "tin_msg = estat.dataflow('TIN00099')\n",
    "tin_msg"
   ]
  },
  {
   "cell_type": "code",
   "execution_count": 23,
   "id": "941c650b-f87a-44df-8d8c-44f879ce3cbd",
   "metadata": {},
   "outputs": [
    {
     "data": {
      "text/plain": [
       "<DataStructureDefinition ESTAT:TIN00099(47.0): TIN00099 data structure>"
      ]
     },
     "execution_count": null,
     "metadata": {},
     "output_type": "execute_result"
    }
   ],
   "source": [
    "tin_flow = tin_msg.dataflow.TIN00099\n",
    "dsd = tin_flow.structure\n",
    "dsd"
   ]
  },
  {
   "cell_type": "code",
   "execution_count": 24,
   "id": "85b0c65d-f081-40c7-ae57-46fd366ff551",
   "metadata": {},
   "outputs": [
    {
     "data": {
      "text/plain": [
       "[<Dimension freq>,\n",
       " <Dimension indic_is>,\n",
       " <Dimension unit>,\n",
       " <Dimension ind_type>,\n",
       " <Dimension geo>,\n",
       " <TimeDimension TIME_PERIOD>]"
      ]
     },
     "execution_count": null,
     "metadata": {},
     "output_type": "execute_result"
    }
   ],
   "source": [
    "dsd.dimensions.components"
   ]
  },
  {
   "cell_type": "code",
   "execution_count": 25,
   "id": "55479e80-e6cf-48a9-8578-23f723f77f18",
   "metadata": {},
   "outputs": [
    {
     "data": {
      "text/plain": [
       "<Codelist ESTAT:FREQ(3.7) (11 items): Time frequency>"
      ]
     },
     "execution_count": null,
     "metadata": {},
     "output_type": "execute_result"
    }
   ],
   "source": [
    "cl_freq = dsd.dimensions.get('freq').local_representation.enumerated\n",
    "cl_freq"
   ]
  },
  {
   "cell_type": "code",
   "execution_count": 26,
   "id": "c37b6024-27a3-40d9-8003-fababda727f2",
   "metadata": {},
   "outputs": [
    {
     "data": {
      "text/plain": [
       "[DataAttribute(annotations=[], id='OBS_FLAG', uri=None, urn='urn:sdmx:org.sdmx.infomodel.datastructure.DataAttribute=ESTAT:TIN00099(47.0).OBS_FLAG', concept_identity=<Concept OBS_FLAG: Observation status (Flag) V2 structure>, local_representation=<Representation: OBS_FLAG, []>, related_to=<sdmx.model.v21.PrimaryMeasureRelationship object at 0x000002312403B910>, usage_status=<UsageStatus.conditional: 2>, concept_role=None),\n",
       " DataAttribute(annotations=[], id='CONF_STATUS', uri=None, urn='urn:sdmx:org.sdmx.infomodel.datastructure.DataAttribute=ESTAT:TIN00099(47.0).CONF_STATUS', concept_identity=<Concept CONF_STATUS: Confidentiality status (flag)>, local_representation=<Representation: CONF_STATUS, []>, related_to=<sdmx.model.v21.PrimaryMeasureRelationship object at 0x00000231240A85D0>, usage_status=<UsageStatus.conditional: 2>, concept_role=None)]"
      ]
     },
     "execution_count": null,
     "metadata": {},
     "output_type": "execute_result"
    }
   ],
   "source": [
    "dsd.attributes.components"
   ]
  },
  {
   "cell_type": "code",
   "execution_count": 27,
   "id": "4180d6b2-4d0b-4d94-814c-4d36d2d0d609",
   "metadata": {},
   "outputs": [
    {
     "data": {
      "text/plain": [
       "[<PrimaryMeasure OBS_VALUE>]"
      ]
     },
     "execution_count": null,
     "metadata": {},
     "output_type": "execute_result"
    }
   ],
   "source": [
    "dsd.measures.components"
   ]
  },
  {
   "cell_type": "code",
   "execution_count": null,
   "id": "cbb74856",
   "metadata": {},
   "outputs": [],
   "source": []
  },
  {
   "cell_type": "code",
   "execution_count": null,
   "id": "17b28108",
   "metadata": {},
   "outputs": [],
   "source": []
  }
 ],
 "metadata": {
  "kernelspec": {
   "display_name": "Python 3 (ipykernel)",
   "language": "python",
   "name": "python3"
  },
  "language_info": {
   "codemirror_mode": {
    "name": "ipython",
    "version": 3
   },
   "file_extension": ".py",
   "mimetype": "text/x-python",
   "name": "python",
   "nbconvert_exporter": "python",
   "pygments_lexer": "ipython3",
   "version": "3.11.7"
  },
  "widgets": {
   "application/vnd.jupyter.widget-state+json": {
    "state": {},
    "version_major": 2,
    "version_minor": 0
   }
  }
 },
 "nbformat": 4,
 "nbformat_minor": 5
}
