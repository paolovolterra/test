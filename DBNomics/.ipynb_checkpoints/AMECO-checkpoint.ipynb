{
 "cells": [
  {
   "cell_type": "markdown",
   "id": "9bc8763d-1562-48d4-9184-599e93fe37a1",
   "metadata": {},
   "source": [
    "# [[AMECO] Annual macro-economic database of the European Commission's Directorate General for Economic and Financial Affairs](https://db.nomics.world/AMECO)"
   ]
  },
  {
   "cell_type": "code",
   "execution_count": 6,
   "id": "0fc191c6-7d67-486e-b7f5-eea60461b183",
   "metadata": {},
   "outputs": [],
   "source": [
    "import pandas as pd\n",
    "from dbnomics import fetch_series, fetch_series_by_api_link\n",
    "import altair as alt\n",
    "alt.renderers.enable('default')\n",
    "from altair import Chart, Scale, Y"
   ]
  },
  {
   "cell_type": "markdown",
   "id": "e3ee7a0d-39ae-4944-8a02-5aca15c0e8a6",
   "metadata": {},
   "source": [
    "For example, to fetch the time series `EA19.1.0.0.0.ZUTN` from the [\"Unemployment rate\" [ZUTN] dataset](https://db.nomics.world/AMECO/ZUTN) belonging to the [AMECO provider](https://db.nomics.world/AMECO):"
   ]
  },
  {
   "cell_type": "code",
   "execution_count": 3,
   "id": "6af4b64d-2a7f-482b-99f2-988eef80c106",
   "metadata": {},
   "outputs": [
    {
     "data": {
      "text/html": [
       "<div>\n",
       "<style scoped>\n",
       "    .dataframe tbody tr th:only-of-type {\n",
       "        vertical-align: middle;\n",
       "    }\n",
       "\n",
       "    .dataframe tbody tr th {\n",
       "        vertical-align: top;\n",
       "    }\n",
       "\n",
       "    .dataframe thead th {\n",
       "        text-align: right;\n",
       "    }\n",
       "</style>\n",
       "<table border=\"1\" class=\"dataframe\">\n",
       "  <thead>\n",
       "    <tr style=\"text-align: right;\">\n",
       "      <th></th>\n",
       "      <th>@frequency</th>\n",
       "      <th>provider_code</th>\n",
       "      <th>dataset_code</th>\n",
       "      <th>dataset_name</th>\n",
       "      <th>series_code</th>\n",
       "      <th>series_name</th>\n",
       "      <th>original_period</th>\n",
       "      <th>period</th>\n",
       "      <th>original_value</th>\n",
       "      <th>value</th>\n",
       "      <th>freq</th>\n",
       "      <th>unit</th>\n",
       "      <th>geo</th>\n",
       "      <th>Frequency</th>\n",
       "      <th>Unit</th>\n",
       "      <th>Country</th>\n",
       "    </tr>\n",
       "  </thead>\n",
       "  <tbody>\n",
       "    <tr>\n",
       "      <th>0</th>\n",
       "      <td>annual</td>\n",
       "      <td>AMECO</td>\n",
       "      <td>ZUTN</td>\n",
       "      <td>Unemployment rate: total :- Member States: def...</td>\n",
       "      <td>ITA.1.0.0.0.ZUTN</td>\n",
       "      <td>Annually – (Percentage of active population) –...</td>\n",
       "      <td>1960</td>\n",
       "      <td>1960-01-01</td>\n",
       "      <td>5.3</td>\n",
       "      <td>5.3</td>\n",
       "      <td>a</td>\n",
       "      <td>percentage-of-active-population</td>\n",
       "      <td>ita</td>\n",
       "      <td>Annually</td>\n",
       "      <td>(Percentage of active population)</td>\n",
       "      <td>Italy</td>\n",
       "    </tr>\n",
       "    <tr>\n",
       "      <th>1</th>\n",
       "      <td>annual</td>\n",
       "      <td>AMECO</td>\n",
       "      <td>ZUTN</td>\n",
       "      <td>Unemployment rate: total :- Member States: def...</td>\n",
       "      <td>ITA.1.0.0.0.ZUTN</td>\n",
       "      <td>Annually – (Percentage of active population) –...</td>\n",
       "      <td>1961</td>\n",
       "      <td>1961-01-01</td>\n",
       "      <td>4.8</td>\n",
       "      <td>4.8</td>\n",
       "      <td>a</td>\n",
       "      <td>percentage-of-active-population</td>\n",
       "      <td>ita</td>\n",
       "      <td>Annually</td>\n",
       "      <td>(Percentage of active population)</td>\n",
       "      <td>Italy</td>\n",
       "    </tr>\n",
       "    <tr>\n",
       "      <th>2</th>\n",
       "      <td>annual</td>\n",
       "      <td>AMECO</td>\n",
       "      <td>ZUTN</td>\n",
       "      <td>Unemployment rate: total :- Member States: def...</td>\n",
       "      <td>ITA.1.0.0.0.ZUTN</td>\n",
       "      <td>Annually – (Percentage of active population) –...</td>\n",
       "      <td>1962</td>\n",
       "      <td>1962-01-01</td>\n",
       "      <td>4.3</td>\n",
       "      <td>4.3</td>\n",
       "      <td>a</td>\n",
       "      <td>percentage-of-active-population</td>\n",
       "      <td>ita</td>\n",
       "      <td>Annually</td>\n",
       "      <td>(Percentage of active population)</td>\n",
       "      <td>Italy</td>\n",
       "    </tr>\n",
       "    <tr>\n",
       "      <th>3</th>\n",
       "      <td>annual</td>\n",
       "      <td>AMECO</td>\n",
       "      <td>ZUTN</td>\n",
       "      <td>Unemployment rate: total :- Member States: def...</td>\n",
       "      <td>ITA.1.0.0.0.ZUTN</td>\n",
       "      <td>Annually – (Percentage of active population) –...</td>\n",
       "      <td>1963</td>\n",
       "      <td>1963-01-01</td>\n",
       "      <td>3.6</td>\n",
       "      <td>3.6</td>\n",
       "      <td>a</td>\n",
       "      <td>percentage-of-active-population</td>\n",
       "      <td>ita</td>\n",
       "      <td>Annually</td>\n",
       "      <td>(Percentage of active population)</td>\n",
       "      <td>Italy</td>\n",
       "    </tr>\n",
       "    <tr>\n",
       "      <th>4</th>\n",
       "      <td>annual</td>\n",
       "      <td>AMECO</td>\n",
       "      <td>ZUTN</td>\n",
       "      <td>Unemployment rate: total :- Member States: def...</td>\n",
       "      <td>ITA.1.0.0.0.ZUTN</td>\n",
       "      <td>Annually – (Percentage of active population) –...</td>\n",
       "      <td>1964</td>\n",
       "      <td>1964-01-01</td>\n",
       "      <td>4.1</td>\n",
       "      <td>4.1</td>\n",
       "      <td>a</td>\n",
       "      <td>percentage-of-active-population</td>\n",
       "      <td>ita</td>\n",
       "      <td>Annually</td>\n",
       "      <td>(Percentage of active population)</td>\n",
       "      <td>Italy</td>\n",
       "    </tr>\n",
       "  </tbody>\n",
       "</table>\n",
       "</div>"
      ],
      "text/plain": [
       "  @frequency provider_code dataset_code  \\\n",
       "0     annual         AMECO         ZUTN   \n",
       "1     annual         AMECO         ZUTN   \n",
       "2     annual         AMECO         ZUTN   \n",
       "3     annual         AMECO         ZUTN   \n",
       "4     annual         AMECO         ZUTN   \n",
       "\n",
       "                                        dataset_name       series_code  \\\n",
       "0  Unemployment rate: total :- Member States: def...  ITA.1.0.0.0.ZUTN   \n",
       "1  Unemployment rate: total :- Member States: def...  ITA.1.0.0.0.ZUTN   \n",
       "2  Unemployment rate: total :- Member States: def...  ITA.1.0.0.0.ZUTN   \n",
       "3  Unemployment rate: total :- Member States: def...  ITA.1.0.0.0.ZUTN   \n",
       "4  Unemployment rate: total :- Member States: def...  ITA.1.0.0.0.ZUTN   \n",
       "\n",
       "                                         series_name original_period  \\\n",
       "0  Annually – (Percentage of active population) –...            1960   \n",
       "1  Annually – (Percentage of active population) –...            1961   \n",
       "2  Annually – (Percentage of active population) –...            1962   \n",
       "3  Annually – (Percentage of active population) –...            1963   \n",
       "4  Annually – (Percentage of active population) –...            1964   \n",
       "\n",
       "      period  original_value  value freq                             unit  \\\n",
       "0 1960-01-01             5.3    5.3    a  percentage-of-active-population   \n",
       "1 1961-01-01             4.8    4.8    a  percentage-of-active-population   \n",
       "2 1962-01-01             4.3    4.3    a  percentage-of-active-population   \n",
       "3 1963-01-01             3.6    3.6    a  percentage-of-active-population   \n",
       "4 1964-01-01             4.1    4.1    a  percentage-of-active-population   \n",
       "\n",
       "   geo Frequency                               Unit Country  \n",
       "0  ita  Annually  (Percentage of active population)   Italy  \n",
       "1  ita  Annually  (Percentage of active population)   Italy  \n",
       "2  ita  Annually  (Percentage of active population)   Italy  \n",
       "3  ita  Annually  (Percentage of active population)   Italy  \n",
       "4  ita  Annually  (Percentage of active population)   Italy  "
      ]
     },
     "execution_count": 3,
     "metadata": {},
     "output_type": "execute_result"
    }
   ],
   "source": [
    "df1 = fetch_series('AMECO/ZUTN/ITA.1.0.0.0.ZUTN')\n",
    "df1.head()"
   ]
  },
  {
   "cell_type": "code",
   "execution_count": 7,
   "id": "53518acd-36a5-40a8-8588-f517e8cfd528",
   "metadata": {},
   "outputs": [
    {
     "data": {
      "text/plain": [
       "<Axes: >"
      ]
     },
     "execution_count": 7,
     "metadata": {},
     "output_type": "execute_result"
    },
    {
     "data": {
      "image/png": "[encoded data removed]",
      "text/plain": [
       "<Figure size 640x480 with 1 Axes>"
      ]
     },
     "metadata": {},
     "output_type": "display_data"
    }
   ],
   "source": [
    "df1['value'].plot()"
   ]
  },
  {
   "cell_type": "code",
   "execution_count": null,
   "id": "db913b8d-6320-4108-8a5d-bb22c4c4243e",
   "metadata": {},
   "outputs": [],
   "source": []
  }
 ],
 "metadata": {
  "kernelspec": {
   "display_name": "Python 3 (ipykernel)",
   "language": "python",
   "name": "python3"
  },
  "language_info": {
   "codemirror_mode": {
    "name": "ipython",
    "version": 3
   },
   "file_extension": ".py",
   "mimetype": "text/x-python",
   "name": "python",
   "nbconvert_exporter": "python",
   "pygments_lexer": "ipython3",
   "version": "3.11.7"
  }
 },
 "nbformat": 4,
 "nbformat_minor": 5
}
