{
 "cells": [
  {
   "cell_type": "code",
   "execution_count": 2,
   "metadata": {},
   "outputs": [],
   "source": [
    "import requests, pandas as pd"
   ]
  },
  {
   "cell_type": "code",
   "execution_count": 4,
   "metadata": {},
   "outputs": [
    {
     "name": "stdout",
     "output_type": "stream",
     "text": [
      "📐 Dimensioni disponibili: dict_keys(['freq', 'unit', 's_adj', 'na_item', 'geo', 'time'])\n",
      "🔢 Numero di valori: 7881265\n"
     ]
    }
   ],
   "source": [
    "# tutto il dataset\n",
    "dataset = 'namq_10_gdp' \n",
    "url=f\"https://ec.europa.eu/eurostat/api/dissemination/statistics/1.0/data/{dataset}\"\n",
    "response = requests.get(url)\n",
    "data = response.json()\n",
    "print(\"📐 Dimensioni disponibili:\", data[\"dimension\"].keys())\n",
    "print(\"🔢 Numero di valori:\", len(data[\"value\"]))"
   ]
  },
  {
   "cell_type": "markdown",
   "metadata": {},
   "source": [
    "## unit"
   ]
  },
  {
   "cell_type": "code",
   "execution_count": 9,
   "metadata": {
    "scrolled": true
   },
   "outputs": [
    {
     "data": {
      "text/plain": [
       "{'CLV_I20': 'Chain linked volumes, index 2020=100',\n",
       " 'CLV_I15': 'Chain linked volumes, index 2015=100',\n",
       " 'CLV_I10': 'Chain linked volumes, index 2010=100',\n",
       " 'CLV_I05': 'Chain linked volumes, index 2005=100',\n",
       " 'PC_GDP': 'Percentage of gross domestic product (GDP)',\n",
       " 'PC_EU27_2020_MEUR_CP': 'Percentage of EU27 (from 2020) total (based on million euro), current prices',\n",
       " 'PC_EU27_2020_MPPS_CP': 'Percentage of EU27 (from 2020) total (based on million purchasing power standards), current prices',\n",
       " 'CP_MEUR': 'Current prices, million euro',\n",
       " 'CP_MNAC': 'Current prices, million units of national currency',\n",
       " 'CP_MPPS_EU27_2020': 'Current prices, million purchasing power standards (PPS, EU27 from 2020)',\n",
       " 'CLV20_MEUR': 'Chain linked volumes (2020), million euro',\n",
       " 'CLV15_MEUR': 'Chain linked volumes (2015), million euro',\n",
       " 'CLV10_MEUR': 'Chain linked volumes (2010), million euro',\n",
       " 'CLV05_MEUR': 'Chain linked volumes (2005), million euro',\n",
       " 'CLV20_MNAC': 'Chain linked volumes (2020), million units of national currency',\n",
       " 'CLV15_MNAC': 'Chain linked volumes (2015), million units of national currency',\n",
       " 'CLV10_MNAC': 'Chain linked volumes (2010), million units of national currency',\n",
       " 'CLV05_MNAC': 'Chain linked volumes (2005), million units of national currency',\n",
       " 'CLV_PCH_PRE': 'Chain linked volumes, percentage change on previous period',\n",
       " 'PYP_MEUR': 'Previous year prices, million euro',\n",
       " 'PYP_MNAC': 'Previous year prices, million units of national currency',\n",
       " 'CON_PPCH_PRE': 'Contribution to GDP growth, percentage point change on previous period',\n",
       " 'PD20_EUR': 'Price index (implicit deflator), 2020=100, euro',\n",
       " 'PD15_EUR': 'Price index (implicit deflator), 2015=100, euro',\n",
       " 'PD10_EUR': 'Price index (implicit deflator), 2010=100, euro',\n",
       " 'PD05_EUR': 'Price index (implicit deflator), 2005=100, euro',\n",
       " 'PD20_NAC': 'Price index (implicit deflator), 2020=100, national currency',\n",
       " 'PD15_NAC': 'Price index (implicit deflator), 2015=100, national currency',\n",
       " 'PD10_NAC': 'Price index (implicit deflator), 2010=100, national currency',\n",
       " 'PD05_NAC': 'Price index (implicit deflator), 2005=100, national currency',\n",
       " 'PD_PCH_PRE_EUR': 'Price index (implicit deflator), percentage change on previous period, euro',\n",
       " 'PD_PCH_PRE_NAC': 'Price index (implicit deflator), percentage change on previous period, national currency'}"
      ]
     },
     "execution_count": null,
     "metadata": {},
     "output_type": "execute_result"
    }
   ],
   "source": [
    "data[\"dimension\"][\"unit\"][\"category\"][\"label\"]"
   ]
  },
  {
   "cell_type": "code",
   "execution_count": 11,
   "metadata": {},
   "outputs": [
    {
     "name": "stdout",
     "output_type": "stream",
     "text": [
      "📐 Dimensioni disponibili: dict_keys(['freq', 'unit', 'na_item', 'geo', 'time'])\n",
      "🔢 Numero di valori: 29825\n"
     ]
    }
   ],
   "source": [
    "# filtro sulla dimensione unit\n",
    "url=f\"https://ec.europa.eu/eurostat/api/dissemination/statistics/1.0/data/{dataset}?unit=CLV_I20\"\n",
    "response = requests.get(url)\n",
    "data = response.json()\n",
    "print(\"📐 Dimensioni disponibili:\", data[\"dimension\"].keys())\n",
    "print(\"🔢 Numero di valori:\", len(data[\"value\"]))"
   ]
  },
  {
   "cell_type": "markdown",
   "metadata": {},
   "source": [
    "## s_adj"
   ]
  },
  {
   "cell_type": "code",
   "execution_count": 5,
   "metadata": {},
   "outputs": [
    {
     "data": {
      "text/plain": [
       "{'NSA': 'Unadjusted data (i.e. neither seasonally adjusted nor calendar adjusted data)',\n",
       " 'SA': 'Seasonally adjusted data, not calendar adjusted data',\n",
       " 'CA': 'Calendar adjusted data, not seasonally adjusted data',\n",
       " 'SCA': 'Seasonally and calendar adjusted data'}"
      ]
     },
     "execution_count": null,
     "metadata": {},
     "output_type": "execute_result"
    }
   ],
   "source": [
    "data[\"dimension\"][\"s_adj\"][\"category\"][\"label\"]"
   ]
  },
  {
   "cell_type": "markdown",
   "metadata": {},
   "source": [
    "## na_item"
   ]
  },
  {
   "cell_type": "code",
   "execution_count": 6,
   "metadata": {},
   "outputs": [
    {
     "name": "stdout",
     "output_type": "stream",
     "text": [
      "📐 Dimensioni disponibili: dict_keys(['freq', 'unit', 's_adj', 'na_item', 'geo', 'time'])\n",
      "🔢 Numero di valori: 105015\n"
     ]
    }
   ],
   "source": [
    "# filtro sulla dimensione na_item\n",
    "url=f\"https://ec.europa.eu/eurostat/api/dissemination/statistics/1.0/data/{dataset}?unit=CLV_I20&s_adj=SCA\"\n",
    "response = requests.get(url)\n",
    "data = response.json()\n",
    "print(\"📐 Dimensioni disponibili:\", data[\"dimension\"].keys())\n",
    "print(\"🔢 Numero di valori:\", len(data[\"value\"]))"
   ]
  },
  {
   "cell_type": "code",
   "execution_count": 14,
   "metadata": {
    "scrolled": true
   },
   "outputs": [
    {
     "data": {
      "text/plain": [
       "{'B1GQ': 'Gross domestic product at market prices',\n",
       " 'B1G': 'Value added, gross',\n",
       " 'P3': 'Final consumption expenditure',\n",
       " 'P3_S13': 'Final consumption expenditure of general government',\n",
       " 'P31_S13': 'Individual consumption expenditure of general government',\n",
       " 'P32_S13': 'Collective consumption expenditure of general government',\n",
       " 'P31_S14_S15': 'Household and NPISH final consumption expenditure',\n",
       " 'P31_S14': 'Final consumption expenditure of households',\n",
       " 'P31_S15': 'Final consumption expenditure of NPISH',\n",
       " 'P41': 'Actual individual consumption',\n",
       " 'P5G': 'Gross capital formation',\n",
       " 'P51G': 'Gross fixed capital formation',\n",
       " 'P52_P53': 'Changes in inventories and acquisitions less disposals of valuables',\n",
       " 'P52': 'Changes in inventories',\n",
       " 'P53': 'Acquisitions less disposals of valuables',\n",
       " 'P6': 'Exports of goods and services',\n",
       " 'P61': 'Exports of goods',\n",
       " 'P62': 'Exports of services',\n",
       " 'P7': 'Imports of goods and services',\n",
       " 'P71': 'Imports of goods',\n",
       " 'P72': 'Imports of services',\n",
       " 'B11': 'External balance of goods and services',\n",
       " 'B111': 'External balance - goods',\n",
       " 'B112': 'External balance - services',\n",
       " 'D1': 'Compensation of employees',\n",
       " 'D11': 'Wages and salaries',\n",
       " 'D12': \"Employers' social contributions\",\n",
       " 'B2A3G': 'Operating surplus and mixed income, gross',\n",
       " 'D2X3': 'Taxes on production and imports less subsidies',\n",
       " 'D2': 'Taxes on production and imports',\n",
       " 'D3': 'Subsidies',\n",
       " 'D21X31': 'Taxes less subsidies on products',\n",
       " 'D21': 'Taxes on products',\n",
       " 'D31': 'Subsidies on products',\n",
       " 'YA1': 'Statistical discrepancy (production approach)',\n",
       " 'YA0': 'Statistical discrepancy (expenditure approach)',\n",
       " 'YA2': 'Statistical discrepancy (income approach)',\n",
       " 'P3_P5': 'Final consumption expenditure and gross capital formation',\n",
       " 'P3_P6': 'Final consumption expenditure, gross capital formation and exports of goods and services'}"
      ]
     },
     "execution_count": null,
     "metadata": {},
     "output_type": "execute_result"
    }
   ],
   "source": [
    "data[\"dimension\"][\"na_item\"][\"category\"][\"label\"]\n"
   ]
  },
  {
   "cell_type": "markdown",
   "metadata": {},
   "source": [
    "## geo"
   ]
  },
  {
   "cell_type": "code",
   "execution_count": null,
   "metadata": {},
   "outputs": [
    {
     "name": "stdout",
     "output_type": "stream",
     "text": [
      "📐 Dimensioni disponibili: dict_keys(['freq', 'unit', 'na_item', 'geo', 'time'])\n",
      "🔢 Numero di valori: 1313\n"
     ]
    }
   ],
   "source": [
    "# filtro sulla nazione\n",
    "url=f\"https://ec.europa.eu/eurostat/api/dissemination/statistics/1.0/data/{dataset}?unit=CLV_I20&s_adj=SCA&na_item=B1G\"\n",
    "response = requests.get(url)\n",
    "data = response.json()\n",
    "print(\"📐 Dimensioni disponibili:\", data[\"dimension\"].keys())\n",
    "print(\"🔢 Numero di valori:\", len(data[\"value\"]))"
   ]
  },
  {
   "cell_type": "code",
   "execution_count": 55,
   "metadata": {
    "scrolled": true
   },
   "outputs": [
    {
     "data": {
      "text/plain": [
       "{'EU27_2020': 'European Union - 27 countries (from 2020)',\n",
       " 'EA': 'Euro area (EA11-1999, EA12-2001, EA13-2007, EA15-2008, EA16-2009, EA17-2011, EA18-2014, EA19-2015, EA20-2023)',\n",
       " 'EA20': 'Euro area – 20 countries (from 2023)',\n",
       " 'EA19': 'Euro area - 19 countries  (2015-2022)',\n",
       " 'EA12': 'Euro area - 12 countries (2001-2006)',\n",
       " 'BE': 'Belgium',\n",
       " 'BG': 'Bulgaria',\n",
       " 'CZ': 'Czechia',\n",
       " 'DK': 'Denmark',\n",
       " 'DE': 'Germany',\n",
       " 'EE': 'Estonia',\n",
       " 'IE': 'Ireland',\n",
       " 'EL': 'Greece',\n",
       " 'ES': 'Spain',\n",
       " 'FR': 'France',\n",
       " 'HR': 'Croatia',\n",
       " 'IT': 'Italy',\n",
       " 'CY': 'Cyprus',\n",
       " 'LV': 'Latvia',\n",
       " 'LT': 'Lithuania',\n",
       " 'LU': 'Luxembourg',\n",
       " 'HU': 'Hungary',\n",
       " 'MT': 'Malta',\n",
       " 'NL': 'Netherlands',\n",
       " 'AT': 'Austria',\n",
       " 'PL': 'Poland',\n",
       " 'PT': 'Portugal',\n",
       " 'RO': 'Romania',\n",
       " 'SI': 'Slovenia',\n",
       " 'SK': 'Slovakia',\n",
       " 'FI': 'Finland',\n",
       " 'SE': 'Sweden',\n",
       " 'IS': 'Iceland',\n",
       " 'NO': 'Norway',\n",
       " 'CH': 'Switzerland',\n",
       " 'UK': 'United Kingdom',\n",
       " 'BA': 'Bosnia and Herzegovina',\n",
       " 'ME': 'Montenegro',\n",
       " 'MK': 'North Macedonia',\n",
       " 'AL': 'Albania',\n",
       " 'RS': 'Serbia',\n",
       " 'TR': 'Türkiye',\n",
       " 'XK': 'Kosovo*'}"
      ]
     },
     "execution_count": 55,
     "metadata": {},
     "output_type": "execute_result"
    }
   ],
   "source": [
    "data[\"dimension\"][\"geo\"][\"category\"][\"label\"]"
   ]
  },
  {
   "cell_type": "code",
   "execution_count": null,
   "metadata": {},
   "outputs": [
    {
     "name": "stdout",
     "output_type": "stream",
     "text": [
      "📐 Dimensioni disponibili: dict_keys(['freq', 'unit', 'na_item', 'geo', 'time'])\n",
      "🔢 Numero di valori: 30\n"
     ]
    }
   ],
   "source": [
    "# filtro sulla nazione\n",
    "url=f\"https://ec.europa.eu/eurostat/api/dissemination/statistics/1.0/data/{dataset}?unit=CLV_I20&s_adj=SCA&na_item=B1G&geo=IT\"\n",
    "response = requests.get(url)\n",
    "data = response.json()\n",
    "print(\"📐 Dimensioni disponibili:\", data[\"dimension\"].keys())\n",
    "print(\"🔢 Numero di valori:\", len(data[\"value\"]))"
   ]
  },
  {
   "cell_type": "markdown",
   "metadata": {},
   "source": [
    "## time"
   ]
  },
  {
   "cell_type": "code",
   "execution_count": 57,
   "metadata": {
    "scrolled": true
   },
   "outputs": [
    {
     "data": {
      "text/plain": [
       "{'1975-Q1': '1975-Q1',\n",
       " '1975-Q2': '1975-Q2',\n",
       " '1975-Q3': '1975-Q3',\n",
       " '1975-Q4': '1975-Q4',\n",
       " '1976-Q1': '1976-Q1',\n",
       " '1976-Q2': '1976-Q2',\n",
       " '1976-Q3': '1976-Q3',\n",
       " '1976-Q4': '1976-Q4',\n",
       " '1977-Q1': '1977-Q1',\n",
       " '1977-Q2': '1977-Q2',\n",
       " '1977-Q3': '1977-Q3',\n",
       " '1977-Q4': '1977-Q4',\n",
       " '1978-Q1': '1978-Q1',\n",
       " '1978-Q2': '1978-Q2',\n",
       " '1978-Q3': '1978-Q3',\n",
       " '1978-Q4': '1978-Q4',\n",
       " '1979-Q1': '1979-Q1',\n",
       " '1979-Q2': '1979-Q2',\n",
       " '1979-Q3': '1979-Q3',\n",
       " '1979-Q4': '1979-Q4',\n",
       " '1980-Q1': '1980-Q1',\n",
       " '1980-Q2': '1980-Q2',\n",
       " '1980-Q3': '1980-Q3',\n",
       " '1980-Q4': '1980-Q4',\n",
       " '1981-Q1': '1981-Q1',\n",
       " '1981-Q2': '1981-Q2',\n",
       " '1981-Q3': '1981-Q3',\n",
       " '1981-Q4': '1981-Q4',\n",
       " '1982-Q1': '1982-Q1',\n",
       " '1982-Q2': '1982-Q2',\n",
       " '1982-Q3': '1982-Q3',\n",
       " '1982-Q4': '1982-Q4',\n",
       " '1983-Q1': '1983-Q1',\n",
       " '1983-Q2': '1983-Q2',\n",
       " '1983-Q3': '1983-Q3',\n",
       " '1983-Q4': '1983-Q4',\n",
       " '1984-Q1': '1984-Q1',\n",
       " '1984-Q2': '1984-Q2',\n",
       " '1984-Q3': '1984-Q3',\n",
       " '1984-Q4': '1984-Q4',\n",
       " '1985-Q1': '1985-Q1',\n",
       " '1985-Q2': '1985-Q2',\n",
       " '1985-Q3': '1985-Q3',\n",
       " '1985-Q4': '1985-Q4',\n",
       " '1986-Q1': '1986-Q1',\n",
       " '1986-Q2': '1986-Q2',\n",
       " '1986-Q3': '1986-Q3',\n",
       " '1986-Q4': '1986-Q4',\n",
       " '1987-Q1': '1987-Q1',\n",
       " '1987-Q2': '1987-Q2',\n",
       " '1987-Q3': '1987-Q3',\n",
       " '1987-Q4': '1987-Q4',\n",
       " '1988-Q1': '1988-Q1',\n",
       " '1988-Q2': '1988-Q2',\n",
       " '1988-Q3': '1988-Q3',\n",
       " '1988-Q4': '1988-Q4',\n",
       " '1989-Q1': '1989-Q1',\n",
       " '1989-Q2': '1989-Q2',\n",
       " '1989-Q3': '1989-Q3',\n",
       " '1989-Q4': '1989-Q4',\n",
       " '1990-Q1': '1990-Q1',\n",
       " '1990-Q2': '1990-Q2',\n",
       " '1990-Q3': '1990-Q3',\n",
       " '1990-Q4': '1990-Q4',\n",
       " '1991-Q1': '1991-Q1',\n",
       " '1991-Q2': '1991-Q2',\n",
       " '1991-Q3': '1991-Q3',\n",
       " '1991-Q4': '1991-Q4',\n",
       " '1992-Q1': '1992-Q1',\n",
       " '1992-Q2': '1992-Q2',\n",
       " '1992-Q3': '1992-Q3',\n",
       " '1992-Q4': '1992-Q4',\n",
       " '1993-Q1': '1993-Q1',\n",
       " '1993-Q2': '1993-Q2',\n",
       " '1993-Q3': '1993-Q3',\n",
       " '1993-Q4': '1993-Q4',\n",
       " '1994-Q1': '1994-Q1',\n",
       " '1994-Q2': '1994-Q2',\n",
       " '1994-Q3': '1994-Q3',\n",
       " '1994-Q4': '1994-Q4',\n",
       " '1995-Q1': '1995-Q1',\n",
       " '1995-Q2': '1995-Q2',\n",
       " '1995-Q3': '1995-Q3',\n",
       " '1995-Q4': '1995-Q4',\n",
       " '1996-Q1': '1996-Q1',\n",
       " '1996-Q2': '1996-Q2',\n",
       " '1996-Q3': '1996-Q3',\n",
       " '1996-Q4': '1996-Q4',\n",
       " '1997-Q1': '1997-Q1',\n",
       " '1997-Q2': '1997-Q2',\n",
       " '1997-Q3': '1997-Q3',\n",
       " '1997-Q4': '1997-Q4',\n",
       " '1998-Q1': '1998-Q1',\n",
       " '1998-Q2': '1998-Q2',\n",
       " '1998-Q3': '1998-Q3',\n",
       " '1998-Q4': '1998-Q4',\n",
       " '1999-Q1': '1999-Q1',\n",
       " '1999-Q2': '1999-Q2',\n",
       " '1999-Q3': '1999-Q3',\n",
       " '1999-Q4': '1999-Q4',\n",
       " '2000-Q1': '2000-Q1',\n",
       " '2000-Q2': '2000-Q2',\n",
       " '2000-Q3': '2000-Q3',\n",
       " '2000-Q4': '2000-Q4',\n",
       " '2001-Q1': '2001-Q1',\n",
       " '2001-Q2': '2001-Q2',\n",
       " '2001-Q3': '2001-Q3',\n",
       " '2001-Q4': '2001-Q4',\n",
       " '2002-Q1': '2002-Q1',\n",
       " '2002-Q2': '2002-Q2',\n",
       " '2002-Q3': '2002-Q3',\n",
       " '2002-Q4': '2002-Q4',\n",
       " '2003-Q1': '2003-Q1',\n",
       " '2003-Q2': '2003-Q2',\n",
       " '2003-Q3': '2003-Q3',\n",
       " '2003-Q4': '2003-Q4',\n",
       " '2004-Q1': '2004-Q1',\n",
       " '2004-Q2': '2004-Q2',\n",
       " '2004-Q3': '2004-Q3',\n",
       " '2004-Q4': '2004-Q4',\n",
       " '2005-Q1': '2005-Q1',\n",
       " '2005-Q2': '2005-Q2',\n",
       " '2005-Q3': '2005-Q3',\n",
       " '2005-Q4': '2005-Q4',\n",
       " '2006-Q1': '2006-Q1',\n",
       " '2006-Q2': '2006-Q2',\n",
       " '2006-Q3': '2006-Q3',\n",
       " '2006-Q4': '2006-Q4',\n",
       " '2007-Q1': '2007-Q1',\n",
       " '2007-Q2': '2007-Q2',\n",
       " '2007-Q3': '2007-Q3',\n",
       " '2007-Q4': '2007-Q4',\n",
       " '2008-Q1': '2008-Q1',\n",
       " '2008-Q2': '2008-Q2',\n",
       " '2008-Q3': '2008-Q3',\n",
       " '2008-Q4': '2008-Q4',\n",
       " '2009-Q1': '2009-Q1',\n",
       " '2009-Q2': '2009-Q2',\n",
       " '2009-Q3': '2009-Q3',\n",
       " '2009-Q4': '2009-Q4',\n",
       " '2010-Q1': '2010-Q1',\n",
       " '2010-Q2': '2010-Q2',\n",
       " '2010-Q3': '2010-Q3',\n",
       " '2010-Q4': '2010-Q4',\n",
       " '2011-Q1': '2011-Q1',\n",
       " '2011-Q2': '2011-Q2',\n",
       " '2011-Q3': '2011-Q3',\n",
       " '2011-Q4': '2011-Q4',\n",
       " '2012-Q1': '2012-Q1',\n",
       " '2012-Q2': '2012-Q2',\n",
       " '2012-Q3': '2012-Q3',\n",
       " '2012-Q4': '2012-Q4',\n",
       " '2013-Q1': '2013-Q1',\n",
       " '2013-Q2': '2013-Q2',\n",
       " '2013-Q3': '2013-Q3',\n",
       " '2013-Q4': '2013-Q4',\n",
       " '2014-Q1': '2014-Q1',\n",
       " '2014-Q2': '2014-Q2',\n",
       " '2014-Q3': '2014-Q3',\n",
       " '2014-Q4': '2014-Q4',\n",
       " '2015-Q1': '2015-Q1',\n",
       " '2015-Q2': '2015-Q2',\n",
       " '2015-Q3': '2015-Q3',\n",
       " '2015-Q4': '2015-Q4',\n",
       " '2016-Q1': '2016-Q1',\n",
       " '2016-Q2': '2016-Q2',\n",
       " '2016-Q3': '2016-Q3',\n",
       " '2016-Q4': '2016-Q4',\n",
       " '2017-Q1': '2017-Q1',\n",
       " '2017-Q2': '2017-Q2',\n",
       " '2017-Q3': '2017-Q3',\n",
       " '2017-Q4': '2017-Q4',\n",
       " '2018-Q1': '2018-Q1',\n",
       " '2018-Q2': '2018-Q2',\n",
       " '2018-Q3': '2018-Q3',\n",
       " '2018-Q4': '2018-Q4',\n",
       " '2019-Q1': '2019-Q1',\n",
       " '2019-Q2': '2019-Q2',\n",
       " '2019-Q3': '2019-Q3',\n",
       " '2019-Q4': '2019-Q4',\n",
       " '2020-Q1': '2020-Q1',\n",
       " '2020-Q2': '2020-Q2',\n",
       " '2020-Q3': '2020-Q3',\n",
       " '2020-Q4': '2020-Q4',\n",
       " '2021-Q1': '2021-Q1',\n",
       " '2021-Q2': '2021-Q2',\n",
       " '2021-Q3': '2021-Q3',\n",
       " '2021-Q4': '2021-Q4',\n",
       " '2022-Q1': '2022-Q1',\n",
       " '2022-Q2': '2022-Q2',\n",
       " '2022-Q3': '2022-Q3',\n",
       " '2022-Q4': '2022-Q4',\n",
       " '2023-Q1': '2023-Q1',\n",
       " '2023-Q2': '2023-Q2',\n",
       " '2023-Q3': '2023-Q3',\n",
       " '2023-Q4': '2023-Q4',\n",
       " '2024-Q1': '2024-Q1',\n",
       " '2024-Q2': '2024-Q2',\n",
       " '2024-Q3': '2024-Q3',\n",
       " '2024-Q4': '2024-Q4',\n",
       " '2025-Q1': '2025-Q1'}"
      ]
     },
     "execution_count": 57,
     "metadata": {},
     "output_type": "execute_result"
    }
   ],
   "source": [
    "data[\"dimension\"][\"time\"][\"category\"][\"label\"]"
   ]
  },
  {
   "cell_type": "code",
   "execution_count": null,
   "metadata": {},
   "outputs": [
    {
     "name": "stdout",
     "output_type": "stream",
     "text": [
      "📐 Dimensioni disponibili: dict_keys(['freq', 'unit', 'na_item', 'geo', 'time'])\n",
      "🔢 Numero di valori: 1\n"
     ]
    }
   ],
   "source": [
    "# filtro sulla dimensione na_item\n",
    "url=f\"https://ec.europa.eu/eurostat/api/dissemination/statistics/1.0/data/{dataset}?unit=CLV_I20&s_adj=SCA&na_item=B1G&geo=IT&time=2025-Q1\"\n",
    "response = requests.get(url)\n",
    "data = response.json()\n",
    "print(\"📐 Dimensioni disponibili:\", data[\"dimension\"].keys())\n",
    "print(\"🔢 Numero di valori:\", len(data[\"value\"]))"
   ]
  },
  {
   "cell_type": "code",
   "execution_count": 20,
   "metadata": {},
   "outputs": [
    {
     "data": {
      "text/plain": [
       "'https://ec.europa.eu/eurostat/api/dissemination/statistics/1.0/data/nama_10_gdp?unit=CLV_I20&na_item=B1G&geo=IT&time=2024'"
      ]
     },
     "execution_count": null,
     "metadata": {},
     "output_type": "execute_result"
    }
   ],
   "source": [
    "url"
   ]
  },
  {
   "cell_type": "code",
   "execution_count": 59,
   "metadata": {},
   "outputs": [
    {
     "data": {
      "text/plain": [
       "{'version': '2.0',\n",
       " 'class': 'dataset',\n",
       " 'label': 'Gross domestic product (GDP) and main components (output, expenditure and income)',\n",
       " 'source': 'ESTAT',\n",
       " 'updated': '2025-06-19T23:00:00+0200',\n",
       " 'value': {'0': 116.239},\n",
       " 'id': ['freq', 'unit', 's_adj', 'na_item', 'geo', 'time'],\n",
       " 'size': [1, 1, 1, 1, 1, 1],\n",
       " 'dimension': {'freq': {'label': 'Time frequency',\n",
       "   'category': {'index': {'Q': 0}, 'label': {'Q': 'Quarterly'}}},\n",
       "  'unit': {'label': 'Unit of measure',\n",
       "   'category': {'index': {'CLV_I20': 0},\n",
       "    'label': {'CLV_I20': 'Chain linked volumes, index 2020=100'}}},\n",
       "  's_adj': {'label': 'Seasonal adjustment',\n",
       "   'category': {'index': {'SCA': 0},\n",
       "    'label': {'SCA': 'Seasonally and calendar adjusted data'}}},\n",
       "  'na_item': {'label': 'National accounts indicator (ESA 2010)',\n",
       "   'category': {'index': {'B1G': 0}, 'label': {'B1G': 'Value added, gross'}}},\n",
       "  'geo': {'label': 'Geopolitical entity (reporting)',\n",
       "   'category': {'index': {'IT': 0}, 'label': {'IT': 'Italy'}}},\n",
       "  'time': {'label': 'Time',\n",
       "   'category': {'index': {'2025-Q1': 0}, 'label': {'2025-Q1': '2025-Q1'}}}},\n",
       " 'extension': {'lang': 'EN',\n",
       "  'id': 'NAMQ_10_GDP',\n",
       "  'agencyId': 'ESTAT',\n",
       "  'version': '1.0',\n",
       "  'datastructure': {'id': 'NAMQ_10_GDP',\n",
       "   'agencyId': 'ESTAT',\n",
       "   'version': '128.0'},\n",
       "  'annotation': [{'type': 'CREATED', 'date': '2014-09-04T14:58:29+0200'},\n",
       "   {'type': 'DISSEMINATION_DOI_XML',\n",
       "    'title': '<adms:identifier xmlns:adms=\"http://www.w3.org/ns/adms#\" xmlns:skos=\"http://www.w3.org/2004/02/skos/core.html\" xmlns:dct=\"http://purl.org/dc/terms/\" xmlns:rdf=\"http://www.w3.org/1999/02/22-rdf-syntax-ns#\"><adms:Identifier rdf:about=\"https://doi.org/10.2908/NAMQ_10_GDP\"><skos:notation rdf:datatype=\"http://purl.org/spar/datacite/doi\">10.2908/NAMQ_10_GDP</skos:notation><dct:creator rdf:resource=\"http://publications.europa.eu/resource/authority/corporate-body/ESTAT\"/><dct:issued rdf:datatype=\"http://www.w3.org/2001/XMLSchema#date\">2023-01-23</dct:issued></adms:Identifier></adms:identifier>'},\n",
       "   {'type': 'DISSEMINATION_OBJECT_TYPE', 'title': 'DATASET'},\n",
       "   {'type': 'DISSEMINATION_TIMESTAMP_DATA',\n",
       "    'date': '2025-06-19T23:00:00+0200'},\n",
       "   {'type': 'DISSEMINATION_TIMESTAMP_GLOBAL',\n",
       "    'date': '2025-06-19T23:00:00+0200'},\n",
       "   {'type': 'DISSEMINATION_TIMESTAMP_PLANNED',\n",
       "    'date': '2025-06-19T23:00:00+0200'},\n",
       "   {'type': 'ESMS_HTML',\n",
       "    'title': 'Explanatory texts (metadata)',\n",
       "    'href': 'https://ec.europa.eu/eurostat/cache/metadata/en/namq_10_gdp_esms.htm'},\n",
       "   {'type': 'ESMS_SDMX',\n",
       "    'title': 'Explanatory texts (metadata)',\n",
       "    'href': 'https://ec.europa.eu/eurostat/api/dissemination/files?file=metadata/namq_10_gdp_esms.sdmx.zip'},\n",
       "   {'type': 'FOOTNOTE',\n",
       "    'title': 'Footnote (metadata)',\n",
       "    'href': 'https://ec.europa.eu/eurostat/cache/metadata/Annexes/namq_10_gdp_esms_an_namq_10_gdp.xlsx'},\n",
       "   {'type': 'OBS_COUNT', 'title': '7881265'},\n",
       "   {'type': 'OBS_PERIOD_OVERALL_LATEST', 'title': '2025-Q1'},\n",
       "   {'type': 'OBS_PERIOD_OVERALL_OLDEST', 'title': '1975-Q1'},\n",
       "   {'type': 'SOURCE_INSTITUTIONS', 'text': 'Eurostat'},\n",
       "   {'type': 'UPDATE_DATA', 'date': '2025-06-19T23:00:00+0200'},\n",
       "   {'type': 'UPDATE_FOOTNOTES', 'date': '2025-06-18T13:30:02Z'},\n",
       "   {'type': 'UPDATE_STRUCTURE', 'date': '2025-04-29T23:00:00+0200'}],\n",
       "  'positions-with-no-data': {'freq': [],\n",
       "   'unit': [],\n",
       "   's_adj': [],\n",
       "   'na_item': [],\n",
       "   'geo': [],\n",
       "   'time': []}}}"
      ]
     },
     "execution_count": 59,
     "metadata": {},
     "output_type": "execute_result"
    }
   ],
   "source": [
    "data"
   ]
  },
  {
   "cell_type": "markdown",
   "metadata": {},
   "source": [
    "## costruiamo il filtro "
   ]
  },
  {
   "cell_type": "code",
   "execution_count": 72,
   "metadata": {},
   "outputs": [],
   "source": [
    "def eurostat_url(dataset, filters: dict, fmt=\"JSON\"):\n",
    "    # Costruisce i parametri con chiavi ripetute per ogni valore\n",
    "    param_list = []\n",
    "    for key, val in filters.items():\n",
    "        values = val if isinstance(val, list) else [val]\n",
    "        for v in values:\n",
    "            param_list.append(f\"{key}={v}\")\n",
    "    params = \"&\".join(param_list)\n",
    "    return f\"https://ec.europa.eu/eurostat/api/dissemination/statistics/1.0/data/{dataset}?{params}&format={fmt}\"\n"
   ]
  },
  {
   "cell_type": "code",
   "execution_count": 75,
   "metadata": {},
   "outputs": [
    {
     "name": "stdout",
     "output_type": "stream",
     "text": [
      "https://ec.europa.eu/eurostat/api/dissemination/statistics/1.0/data/namq_10_gdp?freq=Q&unit=CLV_I20&s_adj=SCA&na_item=B1GQ&geo=IT&geo=DE&format=JSON\n"
     ]
    }
   ],
   "source": [
    "url = eurostat_url(\n",
    "    dataset=\"namq_10_gdp\",\n",
    "    filters={\n",
    "        'freq': [\"Q\"], \n",
    "        'unit': [\"CLV_I20\"],\n",
    "        's_adj':[\"SCA\"],\n",
    "        'na_item':[\"B1GQ\"],\n",
    "        'geo': ['IT', 'DE'],\n",
    "#        'time': ['2024-Q4','2025-Q1']\n",
    "    }\n",
    ")\n",
    "\n",
    "print(url)"
   ]
  }
 ],
 "metadata": {
  "kernelspec": {
   "display_name": "Python 3 (ipykernel)",
   "language": "python",
   "name": "python3"
  },
  "language_info": {
   "name": "python"
  }
 },
 "nbformat": 4,
 "nbformat_minor": 4
}
