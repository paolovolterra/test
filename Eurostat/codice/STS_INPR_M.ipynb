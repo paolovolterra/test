{
 "cells": [
  {
   "cell_type": "markdown",
   "metadata": {},
   "source": [
    "# Produzione industriale\n",
    "\n",
    "![|300](../media/produzione_industriale.png)\n",
    "\n",
    "Fonte: _Luigi dell’Olio. 2025. «Innovazione e distretti Le eccellenze nascoste del made in Italy». la Repubblica Affari & Finanza, 7 luglio 2025._\n"
   ]
  },
  {
   "cell_type": "markdown",
   "metadata": {},
   "source": [
    "## ricreare questo grafico utilizzando i dati Eurostat.\n",
    "\n",
    "### Il grafico mostra:\n",
    "\n",
    "* **Indice della produzione industriale** (base 2021=100)\n",
    "* **Periodo**: gennaio 2020 – aprile 2025\n",
    "* **Linee**:\n",
    "\n",
    "  * Nera = valore mensile\n",
    "  * Rossa = media mobile a 3 mesi\n",
    "\n",
    "\n",
    "### Passaggi per rifarlo con dati Eurostat:\n",
    "\n",
    "1. **Scaricare il dataset Eurostat** giusto:\n",
    "\n",
    "   * Codice: `STS_INPR_M`\n",
    "   * Indicatori: \"Production in industry, total\" (`I15`),\n",
    "   * Frequenza: mensile\n",
    "   * Paese: Italia\n",
    "   * Base: 2021 = 100 (già disponibile tra le opzioni di normalizzazione)\n",
    "\n",
    "2. **Pulizia dati**:\n",
    "\n",
    "   * Filtrare la serie `I15` per l’Italia (`geo = IT`)\n",
    "   * Frequenza mensile\n",
    "   * Periodo: `2020-01` a `2025-04`\n",
    "\n",
    "3. **Creare le due curve**:\n",
    "\n",
    "   * `Indice mensile` = valori originali\n",
    "   * `Media mobile a 3 mesi` = `.rolling(3).mean()`\n",
    "\n",
    "4. **Plot con stile simile**:\n",
    "\n",
    "   * Asse y: da 50 a 110\n",
    "   * Asse x: anni con tick su gennaio\n",
    "   * Colori: nero e rosso"
   ]
  }
 ],
 "metadata": {
  "language_info": {
   "name": "plaintext"
  }
 },
 "nbformat": 4,
 "nbformat_minor": 2
}
