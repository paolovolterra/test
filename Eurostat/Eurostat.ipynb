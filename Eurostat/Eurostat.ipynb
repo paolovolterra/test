{
 "cells": [
  {
   "cell_type": "markdown",
   "metadata": {},
   "source": [
    "#  dataset Eurostat e dimensioni \n",
    "(geo, time, unit, ecc.):\n",
    "\n",
    "\n",
    "Eurostat offre un file `.txt` contenente l’inventario completo dei dataset con informazioni sul titolo, codice e gerarchia:\n",
    "\n",
    "* URL: `https://ec.europa.eu/eurostat/api/dissemination/catalogue/toc/txt?lang=en`\n",
    "* È un file delimitato da tabulazioni, facilmente leggibile con Pandas.\n",
    "\n",
    "\n",
    "\n",
    "[1]: https://ec.europa.eu/eurostat/data/web-services?utm_source=chatgpt.com \"Web services - Eurostat - European Commission\"\n",
    "[2]: https://ec.europa.eu/eurostat/web/user-guides/data-browser/api-data-access/api-getting-started/catalogue-api?utm_source=chatgpt.com \"Getting started with catalogue API - User guides - Eurostat\"\n",
    "[3]: https://ec.europa.eu/eurostat/web/user-guides/data-browser/api-data-access/api-getting-started/api?utm_source=chatgpt.com \"Getting started with statistics API - User guides - Eurostat\"\n",
    "[4]: https://ec.europa.eu/eurostat/web/user-guides/data-browser/api-data-access/api-detailed-guidelines/api-statistics?utm_source=chatgpt.com \"Detailed guidelines - API Statistics - User guides - Eurostat\"\n"
   ]
  },
  {
   "cell_type": "code",
   "execution_count": 1,
   "metadata": {},
   "outputs": [],
   "source": [
    "import pandas as pd\n",
    "\n",
    "# 1️⃣ Scarica e carica il TOC\n",
    "toc = pd.read_csv(\n",
    "    \"https://ec.europa.eu/eurostat/api/dissemination/catalogue/toc/txt?lang=en\",\n",
    "    sep='\\t'\n",
    ")\n",
    "\n",
    "# 2️⃣ Filtra solo i dataset (esclude folder/table)\n",
    "datasets = toc[toc['type'] == 'dataset'].copy()\n",
    "\n",
    "# 3️⃣ Per ogni dataset, estrai le dimensioni via API Statistiche (JSON-stat)\n",
    "import requests\n",
    "\n",
    "def get_dimensions(ds):\n",
    "    url = f\"https://ec.europa.eu/eurostat/api/dissemination/statistics/1.0/data/{ds}?format=JSON\"\n",
    "    resp = requests.get(url)\n",
    "    if resp.status_code != 200:\n",
    "        return None\n",
    "    meta = resp.json().get('id', [])\n",
    "    return '|'.join(meta)\n",
    "\n",
    "datasets['dimensions'] = datasets['code'].apply(get_dimensions)\n",
    "\n",
    "# 4️⃣ Salva in CSV\n",
    "datasets[['code', 'title', 'dimensions']].to_csv(\"D:/eurostat_datasets_dims.csv\", index=False)\n",
    "print(\"✅ File generato: eurostat_datasets_dims.csv\")\n"
   ]
  }
 ],
 "metadata": {
  "language_info": {
   "name": "python"
  }
 },
 "nbformat": 4,
 "nbformat_minor": 2
}
