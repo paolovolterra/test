{
 "cells": [
  {
   "cell_type": "markdown",
   "metadata": {},
   "source": [
    "# Eurostat - produzione\n",
    "\n",
    "riproduciamo questo grafico ![](https://www.confartigianato.it/wp-content/uploads/2025/05/Dinamica-produzione-alimentare-e-bevande-nei-maggiori-paesi-Ue.png) preso da [qui](https://www.confartigianato.it/2025/05/studi-alimentare-e-bevande-produzione-19-export-55-occupati-24-resilienza-grazie-allalta-vocazione-artigiana/)\n",
    " con i dati \"Industry (sts_ind)/Production in industry - quarterly data (sts_inpr_q)\" presi da [database Eurostat](https://ec.europa.eu/eurostat/databrowser/explore/all/icts?lang=en&subtheme=sts.sts_ind&display=list&sort=category)"
   ]
  },
  {
   "cell_type": "markdown",
   "metadata": {},
   "source": [
    "Il dataset Eurostat `sts_inpr_q` raccoglie le **Statistiche Trimestrali della Produzione Industriale (STS - Industrial Production Index, IPI)**:\n",
    "\n",
    "\n",
    "## 📦 **Nome del dataset**\n",
    "\n",
    "**`sts_inpr_q`** – *Short-Term Statistics, Industrial Production – Quarterly*\n",
    "\n",
    "\n",
    "## 🧭 **Contenuto**\n",
    "\n",
    "Questo dataset fornisce **indici trimestrali** che misurano l’**evoluzione nel tempo della produzione industriale** in volume, per:\n",
    "\n",
    "* **Settore economico**: secondo la **classificazione NACE Rev. 2** (es. C10 = Industria alimentare, C11 = Bevande)\n",
    "* **Paese** o **area geografica aggregata** (es. IT, DE, FR, EA19, EU27)\n",
    "* **Tipo di correzione** (es. giorni lavorativi, destagionalizzazione)\n",
    "* **Tipo di variazione** (livello indice, var. % congiunturale o tendenziale)\n",
    "\n",
    "\n",
    "## 🧮 **Struttura delle dimensioni (SDMX key)**\n",
    "\n",
    "Ogni riga è identificata da una combinazione di **chiavi SDMX**:\n",
    "\n",
    "| Chiave     | Significato           | Esempio                                                   |\n",
    "| ---------- | --------------------- | --------------------------------------------------------- |\n",
    "| `freq`     | Frequenza             | `Q` = trimestrale                                         |\n",
    "| `indic_bt` | Tipo di indicatore    | `PRD` = produzione                                        |\n",
    "| `nace_r2`  | Settore NACE Rev.2    | `C10`, `C11`, `C10_C11`                                   |\n",
    "| `s_adj`    | Correzione stagionale | `CA` = giorni lavorativi, `SCA` = stag./giorni lavorativi |\n",
    "| `unit`     | Tipo di unità         | `I10`, `PCH_PRE`, `PCH_SM`                                |\n",
    "| `geo`      | Area geografica       | `IT`, `FR`, `EA20`                                        |\n",
    "| `time`     | Periodo               | `2024-Q1`, `2024-Q2`                                      |\n",
    "\n",
    "\n",
    "## 🧾 **Le unità disponibili (`unit`)**\n",
    "\n",
    "| Codice       | Significato                                                                 |\n",
    "| ------------ | --------------------------------------------------------------------------- |\n",
    "| `I10`        | Indice produzione (base 100)                                                |\n",
    "| `I15`, `I21` | Varianti di indice (a volte settoriali)                                     |\n",
    "| `PCH_PRE`    | Variazione % rispetto allo stesso trimestre anno precedente (*tendenziale*) |\n",
    "| `PCH_SM`     | Variazione % rispetto al trimestre precedente (*congiunturale*)             |\n",
    "\n",
    "\n",
    "## 📊 **Esempio di utilizzo**\n",
    "\n",
    "Se vuoi confrontare la produzione alimentare trimestrale in Italia, Francia e Germania nel periodo 2023–2025 filtra il dataset con:\n",
    "\n",
    "```python\n",
    "(nace_r2 == \"C10\") & \n",
    "(unit == \"PCH_PRE\") & \n",
    "(s_adj == \"CA\") & \n",
    "(geo in [\"IT\", \"FR\", \"DE\"]) & \n",
    "(periodo >= \"2023-Q1\")\n",
    "```\n",
    "\n",
    "\n",
    "## 📁 **Formato e accesso**\n",
    "\n",
    "* URL API: `https://ec.europa.eu/eurostat/api/dissemination/sdmx/2.1/data/sts_inpr_q`\n",
    "* Formati: TSV compresso (`.tsv.gz`), SDMX-ML, JSON-stat, CSV\n",
    "* Può essere scaricato manualmente o via script (es. Python con `pandas.read_csv` e `gzip`)\n",
    "\n",
    "\n",
    "## 🧩 **Limitazioni**\n",
    "\n",
    "* **Solo a livello nazionale** (no regioni NUTS 2 o 3)\n",
    "* Le variazioni recenti possono essere soggette a **revisione**\n",
    "* I codici aggregati NACE (`C10_C11`, `C13_C14`, ecc.) sono **costruzioni Eurostat**, non standard internazionali"
   ]
  },
  {
   "cell_type": "markdown",
   "metadata": {},
   "source": [
    "lo script include:\n",
    "- download da Eurostat (sts_inpr_q)\n",
    "- pulizia e trasformazione dati\n",
    "- filtro per C10_C11, IT/DE/FR, PCH_SM, CA\n",
    "- grafico con valori finali annotati"
   ]
  },
  {
   "cell_type": "code",
   "execution_count": null,
   "metadata": {},
   "outputs": [],
   "source": [
    "import pandas as pd\n",
    "import matplotlib.pyplot as plt\n",
    "import requests\n",
    "from pathlib import Path\n",
    "import numpy as np"
   ]
  },
  {
   "cell_type": "code",
   "execution_count": 34,
   "metadata": {},
   "outputs": [],
   "source": [
    "# === Configurazione ===\n",
    "dataset = \"sts_inpr_q\"\n",
    "url = f\"https://ec.europa.eu/eurostat/api/dissemination/sdmx/2.1/data/{dataset}?format=TSV&compressed=true\"\n",
    "folder = Path(\"D:/files/csv/Eurostat\")\n",
    "folder.mkdir(parents=True, exist_ok=True)\n",
    "file_path = folder / f\"{dataset}.tsv.gz\""
   ]
  },
  {
   "cell_type": "code",
   "execution_count": null,
   "metadata": {},
   "outputs": [],
   "source": [
    "# === Download ===\n",
    "print(\"🔽 Download in corso...\")\n",
    "response = requests.get(url)\n",
    "response.raise_for_status()\n",
    "with open(file_path, \"wb\") as f:\n",
    "    f.write(response.content)\n",
    "print(f\"✅ File salvato in: {file_path}\")"
   ]
  },
  {
   "cell_type": "code",
   "execution_count": 40,
   "metadata": {},
   "outputs": [
    {
     "data": {
      "text/html": [
       "<div>\n",
       "<style scoped>\n",
       "    .dataframe tbody tr th:only-of-type {\n",
       "        vertical-align: middle;\n",
       "    }\n",
       "\n",
       "    .dataframe tbody tr th {\n",
       "        vertical-align: top;\n",
       "    }\n",
       "\n",
       "    .dataframe thead th {\n",
       "        text-align: right;\n",
       "    }\n",
       "</style>\n",
       "<table border=\"1\" class=\"dataframe\">\n",
       "  <thead>\n",
       "    <tr style=\"text-align: right;\">\n",
       "      <th>geo</th>\n",
       "      <th>DE</th>\n",
       "      <th>FR</th>\n",
       "      <th>IT</th>\n",
       "    </tr>\n",
       "    <tr>\n",
       "      <th>periodo</th>\n",
       "      <th></th>\n",
       "      <th></th>\n",
       "      <th></th>\n",
       "    </tr>\n",
       "  </thead>\n",
       "  <tbody>\n",
       "    <tr>\n",
       "      <th>2024-Q1</th>\n",
       "      <td>0.5</td>\n",
       "      <td>1.0</td>\n",
       "      <td>1.4</td>\n",
       "    </tr>\n",
       "    <tr>\n",
       "      <th>2024-Q2</th>\n",
       "      <td>0.6</td>\n",
       "      <td>-0.2</td>\n",
       "      <td>2.2</td>\n",
       "    </tr>\n",
       "    <tr>\n",
       "      <th>2024-Q3</th>\n",
       "      <td>0.6</td>\n",
       "      <td>0.9</td>\n",
       "      <td>2.5</td>\n",
       "    </tr>\n",
       "    <tr>\n",
       "      <th>2024-Q4</th>\n",
       "      <td>1.0</td>\n",
       "      <td>0.9</td>\n",
       "      <td>2.7</td>\n",
       "    </tr>\n",
       "    <tr>\n",
       "      <th>2025-Q1</th>\n",
       "      <td>1.5</td>\n",
       "      <td>0.0</td>\n",
       "      <td>1.9</td>\n",
       "    </tr>\n",
       "  </tbody>\n",
       "</table>\n",
       "</div>"
      ],
      "text/plain": [
       "geo       DE   FR   IT\n",
       "periodo               \n",
       "2024-Q1  0.5  1.0  1.4\n",
       "2024-Q2  0.6 -0.2  2.2\n",
       "2024-Q3  0.6  0.9  2.5\n",
       "2024-Q4  1.0  0.9  2.7\n",
       "2025-Q1  1.5  0.0  1.9"
      ]
     },
     "execution_count": null,
     "metadata": {},
     "output_type": "execute_result"
    }
   ],
   "source": [
    "# === Lettura e normalizzazione ===\n",
    "df_raw = pd.read_csv(file_path, sep=\"\\t\", compression=\"gzip\")\n",
    "df_raw.columns = [col.strip() for col in df_raw.columns]\n",
    "df_long = df_raw.rename(columns={df_raw.columns[0]: \"dim_key\"})\n",
    "dim_split = df_long[\"dim_key\"].str.split(\",\", expand=True)\n",
    "dim_split.columns = [\"freq\", \"indic_bt\", \"nace_r2\", \"s_adj\", \"unit\", \"geo\"]\n",
    "df_clean = pd.concat([dim_split, df_long.drop(columns=[\"dim_key\"])], axis=1)\n",
    "df_clean.replace(\":\", np.nan, inplace=True)\n",
    "\n",
    "# === Filtro per C10_C11 alimentare/bevande, DE/IT/FR, PCH_SM con correzione CA ===\n",
    "df_target = df_clean[\n",
    "    (df_clean[\"nace_r2\"] == \"C10_C11\") &\n",
    "    (df_clean[\"geo\"].isin([\"IT\", \"DE\", \"FR\"])) &\n",
    "    (df_clean[\"unit\"] == \"PCH_SM\") &\n",
    "    (df_clean[\"s_adj\"].isin([\"CA\", \"SCA\"]))\n",
    "].copy()\n",
    "\n",
    "# === Melt e pulizia ===\n",
    "df_melt = df_target.melt(\n",
    "    id_vars=[\"geo\"],\n",
    "    value_vars=[col for col in df_target.columns if col.startswith(\"20\")],\n",
    "    var_name=\"periodo\",\n",
    "    value_name=\"valore\"\n",
    ")\n",
    "df_melt = df_melt[~df_melt[\"valore\"].astype(str).str.contains(\"p\", na=False)]\n",
    "df_melt[\"valore\"] = df_melt[\"valore\"].str.extract(r\"([-+]?[0-9]*\\.?[0-9]+)\").astype(float)\n",
    "df_melt = df_melt[df_melt[\"periodo\"].between(\"2023-Q1\", \"2025-Q1\")]\n",
    "\n",
    "# === Pivot e grafico ===\n",
    "df_pivot = df_melt.pivot(index=\"periodo\", columns=\"geo\", values=\"valore\").sort_index()\n",
    "df_pivot.tail()"
   ]
  },
  {
   "cell_type": "code",
   "execution_count": 41,
   "metadata": {},
   "outputs": [
    {
     "data": {
      "image/png": "[encoded data removed]",
      "text/plain": [
       "<Figure size 1000x500 with 1 Axes>"
      ]
     },
     "metadata": {},
     "output_type": "display_data"
    }
   ],
   "source": [
    "fig, ax = plt.subplots(figsize=(10, 5))\n",
    "colori = {\"DE\": \"navy\", \"IT\": \"limegreen\", \"FR\": \"red\"}\n",
    "for paese in [\"DE\", \"IT\", \"FR\"]:\n",
    "    ax.plot(df_pivot.index, df_pivot[paese], label=paese, linewidth=2, color=colori[paese])\n",
    "    ultimo_periodo = df_pivot[paese].last_valid_index()\n",
    "    ultimo_valore = df_pivot.loc[ultimo_periodo, paese]\n",
    "    ax.text(ultimo_periodo, ultimo_valore, f\"{ultimo_valore:.1f}\", color=colori[paese], fontsize=9, va='bottom')\n",
    "\n",
    "fig.suptitle(\"Dinamica produzione alimentare e bevande nei maggiori paesi UE\", fontsize=14, fontweight=\"bold\", y=1.03)\n",
    "ax.set_title(\"var. % congiunturale – Elaborazione su dati Eurostat\", fontsize=10)\n",
    "\n",
    "ax.set_ylim(-4, 5.5)\n",
    "ax.axhline(0, color=\"gray\", linewidth=0.8)\n",
    "ax.set_xticks(range(len(df_pivot.index)))\n",
    "ax.set_xticklabels(df_pivot.index, rotation=45)\n",
    "ax.legend(title=\"\", loc=\"lower right\")\n",
    "plt.tight_layout()\n",
    "plt.show()\n",
    "\n"
   ]
  },
  {
   "cell_type": "markdown",
   "metadata": {},
   "source": [
    "## backup"
   ]
  },
  {
   "cell_type": "markdown",
   "metadata": {},
   "source": [
    "### i NACE"
   ]
  },
  {
   "cell_type": "code",
   "execution_count": 15,
   "metadata": {},
   "outputs": [
    {
     "name": "stdout",
     "output_type": "stream",
     "text": [
      "B  B-D  B-D_X_FOOD  B05  B051  B052  B06  B061  B062  B07  B071  B072  B08  B081  B089  B0891\n",
      "B0892  B0893  B0899  B09  B_C  B_C_X_FD_MIG_NRG  B_C_X_MIG_NRG  C  C10  C10-C12  C101  C1011  C1012  C1013  C102  C103\n",
      "C1031  C1032  C1039  C104  C1041  C1042  C105  C1051  C1052  C106  C1061  C1062  C107  C1071  C1072  C1073\n",
      "C108  C1081  C1082  C1083  C1084  C1085  C1086  C1089  C109  C1091  C1092  C10_C11  C11  C1101  C1102  C1103\n",
      "C1104  C1105  C1106  C1107  C12  C13  C13-C15  C131  C132  C133  C139  C1391  C1392  C1393  C1394  C1395\n",
      "C1396  C1399  C13_C14  C14  C141  C1411  C1412  C1413  C1414  C1419  C142  C143  C1431  C1439  C15  C151\n",
      "C1511  C1512  C152  C16  C16-C18  C161  C162  C1621  C1622  C1623  C1624  C1629  C17  C171  C1711  C1712\n",
      "C172  C1721  C1722  C1723  C1724  C1729  C17_C18  C18  C181  C1811  C1812  C1813  C1814  C182  C19  C191\n",
      "C192  C20  C201  C2011  C2012  C2013  C2014  C2015  C2016  C2017  C202  C203  C204  C2041  C2042  C205\n",
      "C2051  C2052  C2053  C2059  C206  C20_C21  C21  C211  C212  C22  C221  C2211  C2219  C222  C2221  C2222\n",
      "C2223  C2229  C22_C23  C23  C231  C2311  C2312  C2313  C2314  C2319  C232  C233  C2331  C2332  C234  C2341\n",
      "C2342  C2343  C2344  C2349  C235  C2351  C2352  C236  C2361  C2362  C2363  C2364  C2365  C2369  C237  C239\n",
      "C2391  C2399  C24  C241  C242  C243  C2431  C2432  C2433  C2434  C244  C2441  C2442  C2443  C2444  C2445\n",
      "C245  C2451  C2452  C2453  C2454  C24_C25  C25  C251  C2511  C2512  C252  C2521  C2529  C253  C254  C255\n",
      "C256  C2561  C2562  C257  C2571  C2572  C2573  C259  C2591  C2592  C2593  C2594  C2599  C26  C261  C2611\n",
      "C2612  C262  C263  C264  C265  C2651  C2652  C266  C267  C268  C26_C27  C27  C271  C2711  C2712  C272\n",
      "C273  C2731  C2732  C2733  C274  C275  C2751  C2752  C279  C28  C281  C2811  C2812  C2813  C2814  C2815\n",
      "C282  C2821  C2822  C2823  C2824  C2825  C2829  C283  C284  C2841  C2849  C289  C2891  C2892  C2893  C2894\n",
      "C2895  C2896  C2899  C29  C291  C292  C293  C2931  C2932  C29_C30  C30  C301  C3011  C3012  C302  C303\n",
      "C304  C309  C3091  C3092  C3099  C31  C31-C33  C310  C3101  C3102  C3103  C3109  C31_C32  C32  C321  C3211\n",
      "C3212  C3213  C322  C323  C324  C325  C329  C3291  C3299  C33  C331  C3311  C3312  C3313  C3314  C3315\n",
      "C3316  C3317  C3319  C332  C_HTC  C_HTC_M  C_LTC  C_LTC_M  D  D35  D351  D352  D353  E36  F  F_CC1\n",
      "F_CC2  MIG_CAG  MIG_COG  MIG_COG_X_FOOD  MIG_DCOG  MIG_ING  MIG_ING_CAG  MIG_NDCOG  MIG_NRG_X_D_E  MIG_NRG_X_E\n"
     ]
    }
   ],
   "source": [
    "nace_list = df_clean['nace_r2'].unique().tolist()\n",
    "\n",
    "# Imposta ogni quanti elementi andare a capo\n",
    "per_riga = 16\n",
    "\n",
    "for i in range(0, len(nace_list), per_riga):\n",
    "    blocco = nace_list[i:i+per_riga]\n",
    "    print(\"  \".join(blocco))\n",
    "\n"
   ]
  },
  {
   "cell_type": "code",
   "execution_count": 16,
   "metadata": {},
   "outputs": [],
   "source": [
    "nace_aggregati_it = {\n",
    "    \"B-D\": \"Estrazione, manifattura, fornitura energia\",\n",
    "    \"B-D_X_FOOD\": \"Estrazione-manifattura-energia (escluso alimentare)\",\n",
    "    \"B_C\": \"Estrazione e manifattura\",\n",
    "    \"B_C_X_FD_MIG_NRG\": \"Estrazione e manifattura (esclusi alimentari, MIG ed energia)\",\n",
    "    \"B_C_X_MIG_NRG\": \"Estrazione e manifattura (escluso energia e beni industriali)\",\n",
    "    \"C10-C12\": \"Industria alimentare, bevande, tabacco\",\n",
    "    \"C10_C11\": \"Alimentari e bevande\",\n",
    "    \"C13_C14\": \"Tessile e abbigliamento\",\n",
    "    \"C16-C18\": \"Legno, carta, stampa\",\n",
    "    \"C17_C18\": \"Carta e stampa\",\n",
    "    \"C20_C21\": \"Chimica e farmaceutica\",\n",
    "    \"C31_C32\": \"Mobili e altre manifatture\",\n",
    "    \"C26_C27\": \"Elettronica ed elettrotecnica\",\n",
    "    \"_HTC\": \"Manifattura ad alta tecnologia\",\n",
    "    \"C_HTC_M\": \"Manifattura ad alta tecnologia (modificata)\",\n",
    "    \"C_LTC\": \"Manifattura a bassa tecnologia\",\n",
    "    \"C_LTC_M\": \"Manifattura a bassa tecnologia (modificata)\",\n",
    "    \"F_CC1\": \"Costruzioni civili - cluster 1\",\n",
    "    \"F_CC2\": \"Costruzioni civili - cluster 2\",\n",
    "    \"MIG_CAG\": \"Beni di consumo durevoli e semidurevoli\",\n",
    "    \"MIG_COG\": \"Beni di consumo\",\n",
    "    \"MIG_COG_X_FOOD\": \"Beni di consumo (esclusi alimentari)\",\n",
    "    \"MIG_DCOG\": \"Beni di consumo durevoli\",\n",
    "    \"MIG_ING\": \"Beni intermedi\",\n",
    "    \"MIG_ING_CAG\": \"Beni intermedi e beni strumentali\",\n",
    "    \"MIG_NDCOG\": \"Beni di consumo non durevoli\",\n",
    "    \"MIG_NRG_X_D_E\": \"Energia (esclusi settori D ed E)\",\n",
    "    \"MIG_NRG_X_E\": \"Energia (escluso settore E)\"\n",
    "}\n",
    "df_clean[\"settore_it\"] = df_clean[\"nace_r2\"].map(nace_aggregati_it)"
   ]
  },
  {
   "cell_type": "markdown",
   "metadata": {},
   "source": [
    "### i geo\n",
    "\n",
    "['AT', 'BA', 'BE', 'BG', 'CY', 'CZ', 'DE', 'DK', 'EA19', 'EE', 'EL', 'ES', 'EU28', 'FI', 'FR', 'HR', 'HU', 'IE', 'IT', 'LT', 'LU', 'LV', 'ME', 'MK', 'MT', 'NL', 'NO', 'PL', 'PT', 'RO', 'RS', 'SE', 'SI', 'SK', 'TR', 'UK', 'CH', 'EA20', 'EU27_2020']"
   ]
  },
  {
   "cell_type": "code",
   "execution_count": 19,
   "metadata": {},
   "outputs": [],
   "source": [
    "geo_labels_it = {\n",
    "    \"EA19\": \"Area Euro (19)\",\n",
    "    \"EA20\": \"Area Euro (20)\",\n",
    "    \"EU28\": \"UE a 28\",\n",
    "    \"EU27_2020\": \"UE a 27\",\n",
    "    \"AT\": \"Austria\",\n",
    "    \"BE\": \"Belgio\",\n",
    "    \"BG\": \"Bulgaria\",\n",
    "    \"CY\": \"Cipro\",\n",
    "    \"CZ\": \"Cechia\",\n",
    "    \"DE\": \"Germania\",\n",
    "    \"DK\": \"Danimarca\",\n",
    "    \"EE\": \"Estonia\",\n",
    "    \"EL\": \"Grecia\",\n",
    "    \"ES\": \"Spagna\",\n",
    "    \"FI\": \"Finlandia\",\n",
    "    \"FR\": \"Francia\",\n",
    "    \"HR\": \"Croazia\",\n",
    "    \"HU\": \"Ungheria\",\n",
    "    \"IE\": \"Irlanda\",\n",
    "    \"IT\": \"Italia\",\n",
    "    \"LT\": \"Lituania\",\n",
    "    \"LU\": \"Lussemburgo\",\n",
    "    \"LV\": \"Lettonia\",\n",
    "    \"MT\": \"Malta\",\n",
    "    \"NL\": \"Paesi Bassi\",\n",
    "    \"PL\": \"Polonia\",\n",
    "    \"PT\": \"Portogallo\",\n",
    "    \"RO\": \"Romania\",\n",
    "    \"SE\": \"Svezia\",\n",
    "    \"SI\": \"Slovenia\",\n",
    "    \"SK\": \"Slovacchia\",\n",
    "    \"BA\": \"Bosnia-Erzegovina\",\n",
    "    \"ME\": \"Montenegro\",\n",
    "    \"MK\": \"Macedonia del Nord\",\n",
    "    \"RS\": \"Serbia\",\n",
    "    \"TR\": \"Turchia\",\n",
    "    \"UK\": \"Regno Unito\",\n",
    "    \"NO\": \"Norvegia\",\n",
    "    \"CH\": \"Svizzera\"\n",
    "}\n"
   ]
  },
  {
   "cell_type": "code",
   "execution_count": 18,
   "metadata": {},
   "outputs": [
    {
     "ename": "AttributeError",
     "evalue": "'numpy.ndarray' object has no attribute 'to_markdown'",
     "output_type": "error",
     "traceback": [
      "\u001b[1;31m---------------------------------------------------------------------------\u001b[0m\n",
      "\u001b[1;31mAttributeError\u001b[0m                            Traceback (most recent call last)\n",
      "Cell \u001b[1;32mIn[18], line 1\u001b[0m\n",
      "\u001b[1;32m----> 1\u001b[0m \u001b[43mdf_clean\u001b[49m\u001b[43m[\u001b[49m\u001b[38;5;124;43m'\u001b[39;49m\u001b[38;5;124;43ms_adj\u001b[39;49m\u001b[38;5;124;43m'\u001b[39;49m\u001b[43m]\u001b[49m\u001b[38;5;241;43m.\u001b[39;49m\u001b[43munique\u001b[49m\u001b[43m(\u001b[49m\u001b[43m)\u001b[49m\u001b[38;5;241;43m.\u001b[39;49m\u001b[43mto_markdown\u001b[49m()\n",
      "\n",
      "\u001b[1;31mAttributeError\u001b[0m: 'numpy.ndarray' object has no attribute 'to_markdown'"
     ]
    }
   ],
   "source": [
    "df_clean['s_adj'].unique().to_markdown()"
   ]
  },
  {
   "cell_type": "markdown",
   "metadata": {},
   "source": [
    "## La colonna `unit` \n",
    "nel dataset Eurostat (`sts_inpr_q`) indica **l'unità di misura** o la **forma della variabile osservata**. Ecco cosa significano i valori che hai trovato:\n",
    "\n",
    "\n",
    "### 🧾 Significato dei codici `unit`\n",
    "\n",
    "| Codice       | Significato completo                                               | Interpretazione pratica                                                     |\n",
    "| ------------ | ------------------------------------------------------------------ | --------------------------------------------------------------------------- |\n",
    "| **I10**      | **Index (2015 = 100)**                                             | Indice grezzo o corretto, base 2015 = 100                                   |\n",
    "| **I15**      | **Index (previous year = 100)**                                    | Indice base anno precedente = 100                                           |\n",
    "| **I21**      | **Index (2021 = 100)**                                             | Indice con base anno 2021 = 100                                             |\n",
    "| **PCH\\_SM**  | **Percentage change compared to previous month/quarter**           | Variazione percentuale **congiunturale** (rispetto al trimestre precedente) |\n",
    "| **PCH\\_PRE** | **Percentage change compared to the same period of previous year** | Variazione percentuale **tendenziale** (anno su anno, stesso trimestre)     |\n",
    "\n",
    "\n",
    "### 📌 Uso tipico:\n",
    "\n",
    "* **Analisi congiunturale (PCH\\_SM)**: utile per vedere la variazione a breve termine.\n",
    "* **Analisi tendenziale (PCH\\_PRE)**: usata nei report Eurostat, ISTAT, Bankitalia per evidenziare cicli.\n",
    "* **Index (I10, I15, I21)**: utile per confronti lunghi nel tempo o tra paesi/settori."
   ]
  },
  {
   "cell_type": "code",
   "execution_count": null,
   "metadata": {},
   "outputs": [],
   "source": [
    "df_clean['unit'].unique().tolist()"
   ]
  },
  {
   "cell_type": "code",
   "execution_count": null,
   "metadata": {},
   "outputs": [],
   "source": [
    "val_francia = df_clean[\n",
    "    (df_clean[\"nace_r2\"] == \"C10_C11\") &\n",
    "    (df_clean[\"geo\"] == \"FR\") &\n",
    "    (df_clean[\"unit\"] == \"PCH_PRE\") &\n",
    "    (df_clean[\"s_adj\"].isin([\"CA\", \"SCA\"]))\n",
    "][\"2024-Q2\"].dropna()\n",
    "\n",
    "print(\"🇫🇷 Francia C10_C11 – 2024-Q2:\", val_francia.values)"
   ]
  },
  {
   "cell_type": "code",
   "execution_count": null,
   "metadata": {},
   "outputs": [],
   "source": [
    "# Filtra i settori C10 e C11 (alimentari e bevande)\n",
    "df_filtered = df_long[df_long[\"nace_r2\"].isin([\"C10\", \"C11\"])]\n",
    "\n",
    "# Filtra per i principali paesi UE\n",
    "paesi_ue = [\"IT\", \"DE\", \"FR\", \"ES\", \"NL\"]\n",
    "df_filtered = df_filtered[df_filtered[\"geo\"].isin(paesi_ue)]"
   ]
  },
  {
   "cell_type": "markdown",
   "metadata": {},
   "source": [
    "il DataFrame in formato long contiene:\n",
    "- Produzione alimentare (C10) e bevande (C11),\n",
    "- Indicatori diversi, tra cui: \n",
    "    - CA → dati corretti per giorni lavorativi (livelli)\n",
    "    - SCA, PCH_PRE → variazioni percentuali tendenziali\n",
    "\n"
   ]
  },
  {
   "cell_type": "code",
   "execution_count": null,
   "metadata": {},
   "outputs": [],
   "source": [
    "df_filtered"
   ]
  },
  {
   "cell_type": "markdown",
   "metadata": {},
   "source": [
    "estrarre la variazione tendenziale (%) della produzione di alimenti e bevande per i principali paesi UE\n",
    "Per farlo, selezioniamo:\n",
    "- indic_bt = PRD (produzione),\n",
    "- unit = PCH_PRE (variazione %),\n",
    "- s_adj = CA o SCA (dipende da cosa Eurostat ha caricato),\n",
    "- nace_r2 = C10 (alimenti) + C11 (bevande),\n",
    "- geo ∈ [IT, DE, FR, ES, NL],\n",
    "- periodo ∈ [\"2023-Q1\", ..., \"2025-Q1\"]"
   ]
  },
  {
   "cell_type": "code",
   "execution_count": null,
   "metadata": {},
   "outputs": [],
   "source": [
    "# Filtra solo variazioni percentuali tendenziali (% rispetto allo stesso trimestre anno precedente)\n",
    "df_var_tendenziale = df_filtered[\n",
    "    (df_filtered[\"unit\"] == \"PCH_PRE\") &\n",
    "    (df_filtered[\"indic_bt\"] == \"PRD\") &\n",
    "    (df_filtered[\"s_adj\"].isin([\"CA\", \"SCA\"])) &  # correzione per giorni lavorativi\n",
    "    (df_filtered[\"periodo\"].between(\"2023-Q1\", \"2025-Q1\"))\n",
    "]\n",
    "\n",
    "# Rinomina chiavi per chiarezza\n",
    "df_var_tendenziale = df_var_tendenziale.assign(\n",
    "    settore = df_var_tendenziale[\"nace_r2\"].map({\"C10\": \"Alimenti\", \"C11\": \"Bevande\"})\n",
    ")\n",
    "\n",
    "\n",
    "\n",
    "# Pivot per avere: righe = periodo, colonne = (paese, settore)\n",
    "df_pivot = df_var_tendenziale.pivot_table(\n",
    "    index=\"periodo\",\n",
    "    columns=[\"geo\", \"settore\"],\n",
    "    values=\"valore\"\n",
    ").sort_index()\n",
    "df_pivot\n"
   ]
  }
 ],
 "metadata": {
  "language_info": {
   "name": "python"
  }
 },
 "nbformat": 4,
 "nbformat_minor": 2
}
