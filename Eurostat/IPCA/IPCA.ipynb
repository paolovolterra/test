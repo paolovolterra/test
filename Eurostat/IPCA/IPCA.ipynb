{
 "cells": [
  {
   "cell_type": "markdown",
   "metadata": {},
   "source": [
    "# Eurostat IPCA \n",
    "\n",
    "|dataset|numero di valori|\n",
    "|-|-:|\n",
    "|teicp000      |    1.851|\n",
    "|prc_hicp_manr |3.381.206|\n",
    "|prc_hicp_midx |7.480.674|\n",
    "|prc_hicp_mmor |3.576.459|\n",
    "|prc_hicp_mv12r|3.186.181|"
   ]
  },
  {
   "cell_type": "raw",
   "metadata": {
    "vscode": {
     "languageId": "raw"
    }
   },
   "source": [
    "from sqlalchemy import create_engine\n",
    "sqlite_path = 'sqlite:///D:/files/Eurostat.sqlite'\n",
    "sqlite = create_engine(sqlite_path)"
   ]
  },
  {
   "cell_type": "raw",
   "metadata": {
    "vscode": {
     "languageId": "raw"
    }
   },
   "source": [
    "pd.set_option(\"display.max_columns\", None)  # Mostra tutte le colonne\n",
    "pd.set_option(\"display.width\", 0)           # Disattiva il limite di larghezza\n",
    "pd.set_option(\"display.max_colwidth\", None) # Mostra intero contenuto delle celle"
   ]
  },
  {
   "cell_type": "code",
   "execution_count": null,
   "metadata": {},
   "outputs": [],
   "source": []
  },
  {
   "cell_type": "code",
   "execution_count": null,
   "metadata": {},
   "outputs": [],
   "source": [
    "import requests, pandas as pd\n",
    "from itertools import product\n",
    "from tabulate import tabulate\n",
    "\n",
    "def parse_eurostat_data(data):\n",
    "    \"\"\"\n",
    "    Estrae e organizza i dati Eurostat in un DataFrame a partire dal JSON originale.\n",
    "\n",
    "    Parametri:\n",
    "    - data: dict, risposta JSON da Eurostat API\n",
    "\n",
    "    Ritorna:\n",
    "    - pd.DataFrame con colonne: freq_code, freq_label, unit_code, unit_label, \n",
    "      coicop_code, coicop_label, geo_code, geo_label, time, value\n",
    "    \"\"\"\n",
    "    dimensions = data[\"dimension\"]\n",
    "    \n",
    "    # Etichette\n",
    "    freq_labels = dimensions[\"freq\"][\"category\"][\"label\"]\n",
    "    unit_labels = dimensions[\"unit\"][\"category\"][\"label\"]\n",
    "    coicop_labels = dimensions[\"coicop\"][\"category\"][\"label\"]\n",
    "    geo_labels = dimensions[\"geo\"][\"category\"][\"label\"]\n",
    "    time_labels = dimensions[\"time\"][\"category\"][\"label\"]\n",
    "    \n",
    "    # Ordine dimensioni e combinazioni\n",
    "    freq_keys = list(freq_labels.keys())\n",
    "    unit_keys = list(unit_labels.keys())\n",
    "    coicop_keys = list(coicop_labels.keys())\n",
    "    geo_keys = list(geo_labels.keys())\n",
    "    time_keys = list(time_labels.keys())\n",
    "    \n",
    "    combinations = list(product(freq_keys, unit_keys, coicop_keys, geo_keys, time_keys))\n",
    "    \n",
    "    # Ricostruzione dati\n",
    "    records = []\n",
    "    for i, (f, u, c, g, t) in enumerate(combinations):\n",
    "        if str(i) in data[\"value\"]:\n",
    "            records.append({\n",
    "                \"freq_code\": f,\n",
    "                \"freq_label\": freq_labels[f],\n",
    "                \"unit_code\": u,\n",
    "                \"unit_label\": unit_labels[u],\n",
    "                \"coicop_code\": c,\n",
    "                \"coicop_label\": coicop_labels[c],\n",
    "                \"geo_code\": g,\n",
    "                \"geo_label\": geo_labels[g],\n",
    "                \"time\": time_labels[t],\n",
    "                \"value\": data[\"value\"][str(i)]\n",
    "            })\n",
    "    \n",
    "    return pd.DataFrame(records)"
   ]
  },
  {
   "cell_type": "markdown",
   "metadata": {},
   "source": [
    "## estrazioni massive"
   ]
  },
  {
   "cell_type": "code",
   "execution_count": null,
   "metadata": {},
   "outputs": [
    {
     "name": "stdout",
     "output_type": "stream",
     "text": [
      "- 📦 Chiavi: dict_keys(['version', 'class', 'label', 'source', 'updated', 'value', 'status', 'id', 'size', 'dimension', 'extension']) \n",
      "\n",
      "- 📐 Dimensioni disponibili: dict_keys(['freq', 'indic_bt', 'nace_r2', 's_adj', 'unit', 'geo', 'time']) \n",
      "\n",
      "- 🔢 Numero di valori: 4043318 \n",
      "\n"
     ]
    }
   ],
   "source": [
    "dataset = 'teicp000' # prc_hicp_manr   prc_hicp_midx    prc_hicp_mv12r\n",
    "url = f\"https://ec.europa.eu/eurostat/api/dissemination/statistics/1.0/data/{dataset}?format=JSON\"\n",
    "\n",
    "response = requests.get(url)\n",
    "\n",
    "if response.status_code == 200:\n",
    "    data = response.json()\n",
    "    # print(\"- ✅ Connessione riuscita.\")\n",
    "    print(\"- 📦 Chiavi:\", data.keys(), \"\\n\")\n",
    "    print(\"- 📐 Dimensioni disponibili:\", data[\"dimension\"].keys(), \"\\n\")\n",
    "    print(\"- 🔢 Numero di valori:\", len(data[\"value\"]), \"\\n\")\n",
    "else:\n",
    "    print(\"❌ Errore:\", response.status_code)\n",
    "    print(response.text)"
   ]
  },
  {
   "cell_type": "code",
   "execution_count": 6,
   "metadata": {},
   "outputs": [
    {
     "data": {
      "text/html": [
       "<div>\n",
       "<style scoped>\n",
       "    .dataframe tbody tr th:only-of-type {\n",
       "        vertical-align: middle;\n",
       "    }\n",
       "\n",
       "    .dataframe tbody tr th {\n",
       "        vertical-align: top;\n",
       "    }\n",
       "\n",
       "    .dataframe thead th {\n",
       "        text-align: right;\n",
       "    }\n",
       "</style>\n",
       "<table border=\"1\" class=\"dataframe\">\n",
       "  <thead>\n",
       "    <tr style=\"text-align: right;\">\n",
       "      <th></th>\n",
       "      <th>freq_code</th>\n",
       "      <th>freq_label</th>\n",
       "      <th>unit_code</th>\n",
       "      <th>unit_label</th>\n",
       "      <th>coicop_code</th>\n",
       "      <th>coicop_label</th>\n",
       "      <th>geo_code</th>\n",
       "      <th>geo_label</th>\n",
       "      <th>time</th>\n",
       "      <th>value</th>\n",
       "    </tr>\n",
       "  </thead>\n",
       "  <tbody>\n",
       "    <tr>\n",
       "      <th>0</th>\n",
       "      <td>M</td>\n",
       "      <td>Monthly</td>\n",
       "      <td>RCH_MV12MAVR</td>\n",
       "      <td>Moving 12 months average rate of change</td>\n",
       "      <td>CP00</td>\n",
       "      <td>All-items HICP</td>\n",
       "      <td>IT</td>\n",
       "      <td>Italy</td>\n",
       "      <td>1997-12</td>\n",
       "      <td>1.9</td>\n",
       "    </tr>\n",
       "    <tr>\n",
       "      <th>1</th>\n",
       "      <td>M</td>\n",
       "      <td>Monthly</td>\n",
       "      <td>RCH_MV12MAVR</td>\n",
       "      <td>Moving 12 months average rate of change</td>\n",
       "      <td>CP00</td>\n",
       "      <td>All-items HICP</td>\n",
       "      <td>IT</td>\n",
       "      <td>Italy</td>\n",
       "      <td>1998-01</td>\n",
       "      <td>1.8</td>\n",
       "    </tr>\n",
       "    <tr>\n",
       "      <th>2</th>\n",
       "      <td>M</td>\n",
       "      <td>Monthly</td>\n",
       "      <td>RCH_MV12MAVR</td>\n",
       "      <td>Moving 12 months average rate of change</td>\n",
       "      <td>CP00</td>\n",
       "      <td>All-items HICP</td>\n",
       "      <td>IT</td>\n",
       "      <td>Italy</td>\n",
       "      <td>1998-02</td>\n",
       "      <td>1.8</td>\n",
       "    </tr>\n",
       "    <tr>\n",
       "      <th>3</th>\n",
       "      <td>M</td>\n",
       "      <td>Monthly</td>\n",
       "      <td>RCH_MV12MAVR</td>\n",
       "      <td>Moving 12 months average rate of change</td>\n",
       "      <td>CP00</td>\n",
       "      <td>All-items HICP</td>\n",
       "      <td>IT</td>\n",
       "      <td>Italy</td>\n",
       "      <td>1998-03</td>\n",
       "      <td>1.8</td>\n",
       "    </tr>\n",
       "    <tr>\n",
       "      <th>4</th>\n",
       "      <td>M</td>\n",
       "      <td>Monthly</td>\n",
       "      <td>RCH_MV12MAVR</td>\n",
       "      <td>Moving 12 months average rate of change</td>\n",
       "      <td>CP00</td>\n",
       "      <td>All-items HICP</td>\n",
       "      <td>IT</td>\n",
       "      <td>Italy</td>\n",
       "      <td>1998-04</td>\n",
       "      <td>1.8</td>\n",
       "    </tr>\n",
       "  </tbody>\n",
       "</table>\n",
       "</div>"
      ],
      "text/plain": [
       "  freq_code freq_label     unit_code                               unit_label  \\\n",
       "0         M    Monthly  RCH_MV12MAVR  Moving 12 months average rate of change   \n",
       "1         M    Monthly  RCH_MV12MAVR  Moving 12 months average rate of change   \n",
       "2         M    Monthly  RCH_MV12MAVR  Moving 12 months average rate of change   \n",
       "3         M    Monthly  RCH_MV12MAVR  Moving 12 months average rate of change   \n",
       "4         M    Monthly  RCH_MV12MAVR  Moving 12 months average rate of change   \n",
       "\n",
       "  coicop_code    coicop_label geo_code geo_label     time  value  \n",
       "0        CP00  All-items HICP       IT     Italy  1997-12    1.9  \n",
       "1        CP00  All-items HICP       IT     Italy  1998-01    1.8  \n",
       "2        CP00  All-items HICP       IT     Italy  1998-02    1.8  \n",
       "3        CP00  All-items HICP       IT     Italy  1998-03    1.8  \n",
       "4        CP00  All-items HICP       IT     Italy  1998-04    1.8  "
      ]
     },
     "execution_count": null,
     "metadata": {},
     "output_type": "execute_result"
    }
   ],
   "source": [
    "df = parse_eurostat_data(data)\n",
    "(df.head())\n"
   ]
  },
  {
   "cell_type": "code",
   "execution_count": 12,
   "metadata": {},
   "outputs": [
    {
     "name": "stdout",
     "output_type": "stream",
     "text": [
      "| freq_code   | freq_label   | unit_code   | unit_label            | coicop_code   | coicop_label                | geo_code   | geo_label   | time    |   value |\n",
      "|-------------|--------------|-------------|-----------------------|---------------|-----------------------------|------------|-------------|---------|---------|\n",
      "| M           | Monthly      | RCH_A       | Annual rate of change | NRG_FOOD_S    | Energy and seasonal food    | IT         | Italy       | 2002-11 |     3   |\n",
      "| M           | Monthly      | RCH_A       | Annual rate of change | CP0942        | Cultural services           | IT         | Italy       | 2003-03 |     2.9 |\n",
      "| M           | Monthly      | RCH_A       | Annual rate of change | CP0442        | Refuse collection           | IT         | Italy       | 1998-12 |     3   |\n",
      "| M           | Monthly      | RCH_A       | Annual rate of change | CP12322       | Articles for babies         | IT         | Italy       | 2020-05 |     0   |\n",
      "| M           | Monthly      | RCH_A       | Annual rate of change | CP0322        | Repair and hire of footwear | IT         | Italy       | 2023-07 |     3.9 |\n",
      "| M           | Monthly      | RCH_A       | Annual rate of change | CP126         | Financial services n.e.c.   | IT         | Italy       | 2014-08 |     2.4 |\n",
      "| M           | Monthly      | RCH_A       | Annual rate of change | CP01117       | Breakfast cereals           | IT         | Italy       | 2017-04 |    -1.2 |\n",
      "| M           | Monthly      | RCH_A       | Annual rate of change | CP0452        | Gas                         | IT         | Italy       | 2008-03 |     1.9 |\n",
      "| M           | Monthly      | RCH_A       | Annual rate of change | CP0611        | Pharmaceutical products     | IT         | Italy       | 2022-07 |     1.6 |\n",
      "| M           | Monthly      | RCH_A       | Annual rate of change | CP104         | Tertiary education          | IT         | Italy       | 2024-07 |     1.9 |\n"
     ]
    }
   ],
   "source": [
    "print(tabulate(df.sample(10), headers='keys', tablefmt='github', showindex=False))"
   ]
  },
  {
   "cell_type": "markdown",
   "metadata": {},
   "source": [
    "## Italia"
   ]
  },
  {
   "cell_type": "code",
   "execution_count": 1,
   "metadata": {},
   "outputs": [
    {
     "ename": "NameError",
     "evalue": "name 'requests' is not defined",
     "output_type": "error",
     "traceback": [
      "\u001b[1;31m---------------------------------------------------------------------------\u001b[0m\n",
      "\u001b[1;31mNameError\u001b[0m                                 Traceback (most recent call last)\n",
      "Cell \u001b[1;32mIn[1], line 3\u001b[0m\n",
      "\u001b[0;32m      1\u001b[0m dataset \u001b[38;5;241m=\u001b[39m \u001b[38;5;124m'\u001b[39m\u001b[38;5;124mteicp000\u001b[39m\u001b[38;5;124m'\u001b[39m \u001b[38;5;66;03m# 'teicp000'    prc_hicp_manr   prc_hicp_midx    prc_hicp_mv12r\u001b[39;00m\n",
      "\u001b[0;32m      2\u001b[0m url \u001b[38;5;241m=\u001b[39m \u001b[38;5;124mf\u001b[39m\u001b[38;5;124m\"\u001b[39m\u001b[38;5;124mhttps://ec.europa.eu/eurostat/api/dissemination/statistics/1.0/data/\u001b[39m\u001b[38;5;132;01m{\u001b[39;00mdataset\u001b[38;5;132;01m}\u001b[39;00m\u001b[38;5;124m?geo=IT&format=JSON\u001b[39m\u001b[38;5;124m\"\u001b[39m\n",
      "\u001b[1;32m----> 3\u001b[0m response \u001b[38;5;241m=\u001b[39m \u001b[43mrequests\u001b[49m\u001b[38;5;241m.\u001b[39mget(url)\n",
      "\u001b[0;32m      4\u001b[0m data \u001b[38;5;241m=\u001b[39m response\u001b[38;5;241m.\u001b[39mjson()\n",
      "\n",
      "\u001b[1;31mNameError\u001b[0m: name 'requests' is not defined"
     ]
    }
   ],
   "source": [
    "dataset = 'teicp000' # 'teicp000'    prc_hicp_manr   prc_hicp_midx    prc_hicp_mv12r\n",
    "url = f\"https://ec.europa.eu/eurostat/api/dissemination/statistics/1.0/data/{dataset}?geo=IT&format=JSON\"\n",
    "response = requests.get(url)\n",
    "data = response.json()"
   ]
  },
  {
   "cell_type": "code",
   "execution_count": 2,
   "metadata": {},
   "outputs": [
    {
     "data": {
      "text/plain": [
       "'https://ec.europa.eu/eurostat/api/dissemination/statistics/1.0/data/teicp000?geo=IT&format=JSON'"
      ]
     },
     "execution_count": null,
     "metadata": {},
     "output_type": "execute_result"
    }
   ],
   "source": [
    "url"
   ]
  },
  {
   "cell_type": "code",
   "execution_count": 10,
   "metadata": {},
   "outputs": [
    {
     "name": "stdout",
     "output_type": "stream",
     "text": [
      "- 📦 Chiavi: dict_keys(['version', 'class', 'label', 'source', 'updated', 'value', 'status', 'id', 'size', 'dimension', 'extension']) \n",
      "\n",
      "- 📐 Dimensioni disponibili: dict_keys(['freq', 'indic_bt', 'nace_r2', 's_adj', 'unit', 'geo', 'time']) \n",
      "\n",
      "- 🔢 Numero di valori: 393758 \n",
      "\n"
     ]
    }
   ],
   "source": [
    "response = requests.get(url)\n",
    "\n",
    "if response.status_code == 200:\n",
    "    data = response.json()\n",
    "    # print(\"- ✅ Connessione riuscita.\")\n",
    "    print(\"- 📦 Chiavi:\", data.keys(), \"\\n\")\n",
    "    print(\"- 📐 Dimensioni disponibili:\", data[\"dimension\"].keys(), \"\\n\")\n",
    "    print(\"- 🔢 Numero di valori:\", len(data[\"value\"]), \"\\n\")\n",
    "else:\n",
    "    print(\"❌ Errore:\", response.status_code)\n",
    "    print(response.text)"
   ]
  },
  {
   "cell_type": "code",
   "execution_count": null,
   "metadata": {},
   "outputs": [
    {
     "name": "stdout",
     "output_type": "stream",
     "text": [
      "- 🔢 Numero di valori: 393758 \n",
      "\n"
     ]
    },
    {
     "ename": "KeyError",
     "evalue": "'coicop'",
     "output_type": "error",
     "traceback": [
      "\u001b[1;31m---------------------------------------------------------------------------\u001b[0m\n",
      "\u001b[1;31mKeyError\u001b[0m                                  Traceback (most recent call last)\n",
      "Cell \u001b[1;32mIn[11], line 3\u001b[0m\n",
      "\u001b[0;32m      1\u001b[0m \u001b[38;5;28mprint\u001b[39m(\u001b[38;5;124m\"\u001b[39m\u001b[38;5;124m- 🔢 Numero di valori:\u001b[39m\u001b[38;5;124m\"\u001b[39m, \u001b[38;5;28mlen\u001b[39m(data[\u001b[38;5;124m\"\u001b[39m\u001b[38;5;124mvalue\u001b[39m\u001b[38;5;124m\"\u001b[39m]), \u001b[38;5;124m\"\u001b[39m\u001b[38;5;130;01m\\n\u001b[39;00m\u001b[38;5;124m\"\u001b[39m)\n",
      "\u001b[1;32m----> 3\u001b[0m df \u001b[38;5;241m=\u001b[39m \u001b[43mparse_eurostat_data\u001b[49m\u001b[43m(\u001b[49m\u001b[43mdata\u001b[49m\u001b[43m)\u001b[49m\n",
      "\u001b[0;32m      4\u001b[0m df[\u001b[38;5;124m'\u001b[39m\u001b[38;5;124mdataset\u001b[39m\u001b[38;5;124m'\u001b[39m] \u001b[38;5;241m=\u001b[39m dataset\n",
      "\u001b[0;32m      5\u001b[0m \u001b[38;5;28mprint\u001b[39m(df\u001b[38;5;241m.\u001b[39mhead())\n",
      "\n",
      "Cell \u001b[1;32mIn[5], line 17\u001b[0m, in \u001b[0;36mparse_eurostat_data\u001b[1;34m(data)\u001b[0m\n",
      "\u001b[0;32m     15\u001b[0m freq_labels \u001b[38;5;241m=\u001b[39m dimensions[\u001b[38;5;124m\"\u001b[39m\u001b[38;5;124mfreq\u001b[39m\u001b[38;5;124m\"\u001b[39m][\u001b[38;5;124m\"\u001b[39m\u001b[38;5;124mcategory\u001b[39m\u001b[38;5;124m\"\u001b[39m][\u001b[38;5;124m\"\u001b[39m\u001b[38;5;124mlabel\u001b[39m\u001b[38;5;124m\"\u001b[39m]\n",
      "\u001b[0;32m     16\u001b[0m unit_labels \u001b[38;5;241m=\u001b[39m dimensions[\u001b[38;5;124m\"\u001b[39m\u001b[38;5;124munit\u001b[39m\u001b[38;5;124m\"\u001b[39m][\u001b[38;5;124m\"\u001b[39m\u001b[38;5;124mcategory\u001b[39m\u001b[38;5;124m\"\u001b[39m][\u001b[38;5;124m\"\u001b[39m\u001b[38;5;124mlabel\u001b[39m\u001b[38;5;124m\"\u001b[39m]\n",
      "\u001b[1;32m---> 17\u001b[0m coicop_labels \u001b[38;5;241m=\u001b[39m \u001b[43mdimensions\u001b[49m\u001b[43m[\u001b[49m\u001b[38;5;124;43m\"\u001b[39;49m\u001b[38;5;124;43mcoicop\u001b[39;49m\u001b[38;5;124;43m\"\u001b[39;49m\u001b[43m]\u001b[49m[\u001b[38;5;124m\"\u001b[39m\u001b[38;5;124mcategory\u001b[39m\u001b[38;5;124m\"\u001b[39m][\u001b[38;5;124m\"\u001b[39m\u001b[38;5;124mlabel\u001b[39m\u001b[38;5;124m\"\u001b[39m]\n",
      "\u001b[0;32m     18\u001b[0m geo_labels \u001b[38;5;241m=\u001b[39m dimensions[\u001b[38;5;124m\"\u001b[39m\u001b[38;5;124mgeo\u001b[39m\u001b[38;5;124m\"\u001b[39m][\u001b[38;5;124m\"\u001b[39m\u001b[38;5;124mcategory\u001b[39m\u001b[38;5;124m\"\u001b[39m][\u001b[38;5;124m\"\u001b[39m\u001b[38;5;124mlabel\u001b[39m\u001b[38;5;124m\"\u001b[39m]\n",
      "\u001b[0;32m     19\u001b[0m time_labels \u001b[38;5;241m=\u001b[39m dimensions[\u001b[38;5;124m\"\u001b[39m\u001b[38;5;124mtime\u001b[39m\u001b[38;5;124m\"\u001b[39m][\u001b[38;5;124m\"\u001b[39m\u001b[38;5;124mcategory\u001b[39m\u001b[38;5;124m\"\u001b[39m][\u001b[38;5;124m\"\u001b[39m\u001b[38;5;124mlabel\u001b[39m\u001b[38;5;124m\"\u001b[39m]\n",
      "\n",
      "\u001b[1;31mKeyError\u001b[0m: 'coicop'"
     ]
    }
   ],
   "source": [
    "df = parse_eurostat_data(data)\n",
    "df['dataset'] = dataset\n",
    "print(df.head())\n",
    "\n",
    "import sqlite3\n",
    "conn = sqlite3.connect('D:/files/Eurostat.sqlite')  # o altro percorso\n",
    "df.to_sql(f\"ITA_{dataset}\", conn, if_exists='replace', index=False)\n",
    "print(f\"✅ Tabella 'ITA_{dataset}' salvata con {len(df)} righe.\")\n",
    "conn.close()"
   ]
  },
  {
   "cell_type": "markdown",
   "metadata": {},
   "source": [
    "## backup\n"
   ]
  },
  {
   "cell_type": "code",
   "execution_count": null,
   "metadata": {},
   "outputs": [],
   "source": [
    "labels = data[\"dimension\"][\"geo\"][\"category\"][\"label\"]\n",
    "for code, label in sorted(labels.items()):\n",
    "    print(f\"{code}: {label}\")"
   ]
  },
  {
   "cell_type": "code",
   "execution_count": 21,
   "metadata": {},
   "outputs": [
    {
     "name": "stdout",
     "output_type": "stream",
     "text": [
      "📁 csv salvato\n"
     ]
    }
   ],
   "source": [
    "    # === Estrai geo ===\n",
    "    geo_labels = data[\"dimension\"][\"coicop\"][\"category\"][\"label\"]\n",
    "    df_geo = pd.DataFrame(sorted(geo_labels.items()), columns=[\"code\", \"label\"])\n",
    "\n",
    "    # === Salva in CSV ===\n",
    "    df_geo.to_csv(\"D:/coicop_labels.csv\", index=False)\n",
    "    print(\"📁 csv salvato\")"
   ]
  },
  {
   "cell_type": "raw",
   "metadata": {
    "vscode": {
     "languageId": "raw"
    }
   },
   "source": [
    "for dim, details in data[\"dimension\"].items():\n",
    "    print(f\"{dim}: {len(details['category']['index'])} items\")\n",
    "    print(\"Categorie:\")\n",
    "    labels = details[\"category\"][\"label\"]\n",
    "    for code, label in sorted(labels.items()):\n",
    "        print(f\"  {code}: {label}\")\n",
    "    print()\n"
   ]
  },
  {
   "cell_type": "code",
   "execution_count": 3,
   "metadata": {},
   "outputs": [
    {
     "name": "stdout",
     "output_type": "stream",
     "text": [
      "freq (1):\n",
      "  M: Monthly\n",
      "\n",
      "unit (1):\n",
      "  RCH_A: Annual rate of change\n",
      "\n",
      "coicop (467):\n",
      "  AP: Administered prices | APF: Fully administered prices | APM: Mainly administered prices | AP_NNRG: Administered prices, non-energy | AP_NRG: Administered prices, energy | CP00: All-items HICP | CP01: Food and non-alcoholic beverages | CP011: Food | CP0111: Bread and cereals | CP01111: Rice | CP01112: Flours and other cereals | CP01113: Bread | CP01114: Other bakery products | CP01115: Pizza and quiche | CP01116: Pasta products and couscous | CP01117: Breakfast cereals | CP01118: Other cereal products | CP0112: Meat | CP01121: Beef and veal | CP01122: Pork | CP01123: Lamb and goat | CP01124: Poultry | CP01125: Other meats | CP01126: Edible offal | CP01127: Dried, salted or smoked meat | CP01128: Other meat preparations | CP0113: Fish and seafood | CP01131: Fresh or chilled fish | CP01132: Frozen fish | CP01133: Fresh or chilled seafood | CP01134: Frozen seafood | CP01135: Dried, smoked or salted fish and seafood | CP01136: Other preserved or processed fish and seafood and fish and seafood preparations | CP0114: Milk, cheese and eggs | CP01141: Fresh whole milk | CP01142: Fresh low fat milk | CP01143: Preserved milk | CP01144: Yoghurt | CP01145: Cheese and curd | CP01146: Other milk products | CP01147: Eggs | CP0115: Oils and fats | CP01151: Butter | CP01152: Margarine and other vegetable fats | CP01153: Olive oil | CP01154: Other edible oils | CP01155: Other edible animal fats | CP0116: Fruit | CP01161: Fresh or chilled fruit | CP01162: Frozen fruit | CP01163: Dried fruit and nuts | CP01164: Preserved fruit and fruit-based products | CP0117: Vegetables | CP01171: Fresh or chilled vegetables other than potatoes and other tubers | CP01172: Frozen vegetables other than potatoes and other tubers | CP01173: Dried vegetables, other preserved or processed vegetables | CP01174: Potatoes | CP01175: Crisps | CP01176: Other tubers and products of tuber vegetables | CP0118: Sugar, jam, honey, chocolate and confectionery | CP01181: Sugar | CP01182: Jams, marmalades and honey | CP01183: Chocolate | CP01184: Confectionery products | CP01185: Edible ices and ice cream | CP01186: Artificial sugar substitutes | CP0119: Food products n.e.c. | CP01191: Sauces, condiments | CP01192: Salt, spices and culinary herbs | CP01193: Baby food | CP01194: Ready-made meals | CP01199: Other food products n.e.c. | CP012: Non-alcoholic beverages | CP0121: Coffee, tea and cocoa | CP01211: Coffee | CP01212: Tea | CP01213: Cocoa and powdered chocolate | CP0122: Mineral waters, soft drinks, fruit and vegetable juices | CP01221: Mineral or spring waters | CP01222: Soft drinks | CP01223: Fruit and vegetables juices | CP02: Alcoholic beverages, tobacco and narcotics | CP021: Alcoholic beverages | CP0211: Spirits | CP02111: Spirits and liqueurs | CP02112: Alcoholic soft drinks | CP0212: Wine | CP02121: Wine from grapes | CP02122: Wine from other fruits | CP02123: Fortified wines | CP02124: Wine-based drinks | CP0213: Beer | CP02131: Lager beer | CP02132: Other alcoholic beer | CP02133: Low and non-alcoholic beer | CP02134: Beer-based drinks | CP022: Tobacco | CP02201: Cigarettes | CP02202: Cigars | CP02203: Other tobacco products | CP03: Clothing and footwear | CP031: Clothing | CP0311: Clothing materials | CP0312: Garments | CP03121: Garments for men | CP03122: Garments for women | CP03123: Garments for infants (0 to 2 years) and children (3 to 13 years) | CP0313: Other articles of clothing and clothing accessories | CP03131: Other articles of clothing | CP03132: Clothing accessories | CP0314: Cleaning, repair and hire of clothing | CP03141: Cleaning of clothing | CP03142: Repair and hire of clothing | CP032: Footwear | CP0321: Shoes and other footwear | CP03211: Footwear for men | CP03212: Footwear for women | CP03213: Footwear for infants and children | CP0322: Repair and hire of footwear | CP04: Housing, water, electricity, gas and other fuels | CP041: Actual rentals for housing | CP0411: Actual rentals paid by tenants | CP0412: Other actual rentals | CP04121: Actual rentals paid by tenants for secondary residences | CP04122: Garage rentals and other rentals paid by tenants | CP043: Maintenance and repair of the dwelling | CP0431: Materials for the maintenance and repair of the dwelling | CP0432: Services for the maintenance and repair of the dwelling | CP04321: Services of plumbers | CP04322: Services of electricians | CP04323: Maintenance services for heating systems | CP04324: Services of painters | CP04325: Services of carpenters | CP04329: Other services for maintenance and repair of the dwelling | CP044: Water supply and miscellaneous services relating to the dwelling | CP0441: Water supply | CP0442: Refuse collection | CP0443: Sewerage collection | CP0444: Other services relating to the dwelling n.e.c. | CP04441: Maintenance charges in multi-occupied buildings | CP04442: Security services | CP04449: Other services related to dwelling | CP045: Electricity, gas and other fuels | CP0451: Electricity | CP0452: Gas | CP04521: Natural gas and town gas | CP04522: Liquefied hydrocarbons (butane, propane, etc.) | CP0453: Liquid fuels | CP0454: Solid fuels | CP04541: Coal | CP04549: Other solid fuels | CP0455: Heat energy | CP05: Furnishings, household equipment and routine household maintenance | CP051: Furniture and furnishings, carpets and other floor coverings | CP0511: Furniture and furnishings | CP05111: Household furniture | CP05112: Garden furniture | CP05113: Lighting equipment | CP05119: Other furniture and furnishings | CP0512: Carpets and other floor coverings | CP05121: Carpet and rugs | CP05122: Other floor coverings | CP05123: Services of laying of fitted carpets and floor coverings | CP0513: Repair of furniture, furnishings and floor coverings | CP052: Household textiles | CP05201: Furnishings fabrics and curtains | CP05202: Bed linen | CP05203: Table linen and bathroom linen | CP05204: Repair of household textiles | CP05209: Other household textiles | CP053: Household appliances | CP0531: Major household appliances whether electric or not | CP05311: Refrigerators, freezers and fridge-freezers | CP05312: Clothes washing machines, clothes drying machines and dish washing machines | CP05313: Cookers | CP05314: Heaters, air conditioners | CP05315: Cleaning equipment | CP05319: Other major household appliances | CP0531_0532: Major household appliances whether electric or not and small electric household appliances | CP0532: Small electric household appliances | CP05321: Food processing appliances | CP05322: Coffee machines, tea-makers and similar appliances | CP05323: Irons | CP05324: Toasters and grills | CP05329: Other small electric household appliances | CP0533: Repair of household appliances | CP054: Glassware, tableware and household utensils | CP05401: Glassware, crystal-ware, ceramic ware and chinaware | CP05402: Cutlery, flatware and silverware | CP05403: Non-electric kitchen utensils and articles | CP05404: Repair of glassware, tableware and household utensils | CP055: Tools and equipment for house and garden | CP0551: Major tools and equipment | CP05511: Motorized major tools and equipment | CP05512: Repair, leasing and rental of major tools and equipment | CP0552: Small tools and miscellaneous accessories | CP05521: Non-motorised small tools | CP05522: Miscellaneous small tool accessories | CP05523: Repair of non-motorised small tools and miscellaneous accessories | CP056: Goods and services for routine household maintenance | CP0561: Non-durable household goods | CP05611: Cleaning and maintenance products | CP05612: Other non-durable small household articles | CP0562: Domestic services and household services | CP05621: Domestic services by paid staff | CP05622: Cleaning services | CP05623: Hire of furniture and furnishings | CP05629: Other domestic services and household services | CP06: Health | CP061: Medical products, appliances and equipment | CP0611: Pharmaceutical products | CP0612: Other medical products | CP06121: Pregnancy tests and mechanical contraceptive devices | CP06129: Other medical products n.e.c. | CP0612_0613: Other medical products, therapeutic appliances and equipment | CP0613: Therapeutic appliances and equipment | CP06131: Corrective eye-glasses and contact lenses | CP06132: Hearing aids | CP06133: Repair of therapeutic appliances and equipment | CP06139: Other therapeutic appliances and equipment | CP062: Out-patient services | CP0621: Medical services | CP06211: General practice | CP06212: Specialist practice | CP0621_0623: Medical services and paramedical services | CP0622: Dental services | CP0623: Paramedical services | CP06231: Services of medical analysis laboratories and X-ray centres | CP06232: Thermal-baths, corrective-gymnastic therapy, ambulance and hire of therapeutic equipment | CP06239: Other paramedical services | CP063: Hospital services | CP07: Transport | CP071: Purchase of vehicles | CP0711: Motor cars | CP07111: New motor cars | CP07112: Second-hand motor cars | CP0712: Motor cycles | CP0712-0714: Motor cycles, bicycles and animal drawn vehicles | CP0713: Bicycles | CP072: Operation of personal transport equipment | CP0721: Spare parts and accessories for personal transport equipment | CP07211: Tyres | CP07212: Spare parts for personal transport equipment | CP07213: Accessories for personal transport equipment | CP0722: Fuels and lubricants for personal transport equipment | CP07221: Diesel | CP07222: Petrol | CP07223: Other fuels for personal transport equipment | CP07224: Lubricants | CP0723: Maintenance and repair of personal transport equipment | CP0724: Other services in respect of personal transport equipment | CP07241: Hire of garages, parking spaces and personal transport equipment | CP07242: Toll facilities and parking meters | CP07243: Driving lessons, tests, licences and road worthiness tests | CP073: Transport services | CP0731: Passenger transport by railway | CP07311: Passenger transport by train | CP07312: Passenger transport by underground and tram | CP0732: Passenger transport by road | CP07321: Passenger transport by bus and coach | CP07322: Passenger transport by taxi and hired car with driver | CP0733: Passenger transport by air | CP07331: Domestic flights | CP07332: International flights | CP0734: Passenger transport by sea and inland waterway | CP07341: Passenger transport by sea | CP07342: Passenger transport by inland waterway | CP0735: Combined passenger transport | CP0736: Other purchased transport services | CP07361: Funicular, cable-car and chair-lift transport | CP07362: Removal and storage services | CP07369: Other purchased transport services n.e.c. | CP08: Communications | CP081: Postal services | CP08101: Letter handling services | CP08109: Other postal services | CP0820: Telephone and telefax equipment | CP08201: Fixed telephone equipment | CP08202: Mobile telephone equipment | CP08203: Other equipment of telephone and telefax equipment | CP08204: Repair of telephone or telefax equipment | CP082_083: Telephone and telefax equipment and services | CP0830: Telephone and telefax services | CP08301: Wired telephone services | CP08302: Wireless telephone services | CP08303: Internet access provision services | CP08304: Bundled telecommunication services | CP08305: Other information transmission services | CP09: Recreation and culture | CP091: Audio-visual, photographic and information processing equipment | CP0911: Equipment for the reception, recording and reproduction of sound and picture | CP09111: Equipment for the reception, recording and reproduction of sound | CP09112: Equipment for the reception, recording and reproduction of sound and vision | CP09113: Portable sound and vision devices | CP09119: Other equipment for the reception, recording and reproduction of sound and picture | CP0912: Photographic and cinematographic equipment and optical instruments | CP09121: Cameras | CP09122: Accessories for photographic and cinematographic equipment | CP09123: Optical instruments | CP0913: Information processing equipment | CP09131: Personal computers | CP09132: Accessories for information processing equipment | CP09133: Software | CP09134: Calculators and other information processing equipment | CP0914: Recording media | CP09141: Pre-recorded recording media | CP09142: Unrecorded recording media | CP09149: Other recording media | CP0915: Repair of audio-visual, photographic and information processing equipment | CP092: Other major durables for recreation and culture | CP0921: Major durables for outdoor recreation | CP09211: Camper vans, caravans and trailers | CP09212: Aeroplanes, microlight aircraft, gliders, hang-gliders and hot-air balloons | CP09213: Boats, outboard motors and fitting out of boats | CP09214: Horses, ponies and accessories | CP09215: Major items for games and sport | CP0921_0922: Major durables for indoor and outdoor recreation including musical instruments | CP0922: Musical instruments and major durables for indoor recreation | CP09221: Musical instruments | CP09222: Major durables for indoor recreation | CP0923: Maintenance and repair of other major durables for recreation and culture | CP093: Other recreational items and equipment, gardens and pets | CP0931: Games, toys and hobbies | CP09311: Games and hobbies | CP09312: Toys and celebration articles | CP0932: Equipment for sport, camping and open-air recreation | CP09321: Equipment for sport | CP09322: Equipment for camping and open-air recreation | CP09323: Repair of equipment for sport, camping and open-air recreation | CP0933: Gardens, plants and flowers | CP09331: Garden products | CP09332: Plants and flowers | CP0934: Pets and related products | CP09341: Purchase of pets | CP09342: Products for pets | CP0934_0935: Pets and related products; veterinary and other services for pets | CP0935: Veterinary and other services for pets | CP094: Recreational and cultural services | CP0941: Recreational and sporting services | CP09411: Recreational and sporting services - attendance | CP09412: Recreational and sporting services - participation | CP0942: Cultural services | CP09421: Cinemas, theatres, concerts | CP09422: Museums, libraries, zoological gardens | CP09423: Television and radio licence fees, subscriptions | CP09424: Hire of equipment and accessories for culture | CP09425: Photographic services | CP09429: Other cultural services | CP095: Newspapers, books and stationery | CP0951: Books | CP09511: Fiction books | CP09512: Educational text books | CP09513: Other non-fiction books | CP09514: Binding services and E-book downloads | CP0952: Newspapers and periodicals | CP09521: Newspapers | CP09522: Magazines and periodicals | CP0953: Miscellaneous printed matter | CP0953_0954: Miscellaneous printed matter; stationery and drawing materials | CP0954: Stationery and drawing materials | CP09541: Paper products | CP09549: Other stationery and drawing materials | CP096: Package holidays | CP09601: Package domestic holidays | CP09602: Package international holidays | CP10: Education | CP101: Pre-primary and primary education | CP10101: Pre-primary education | CP10102: Primary education | CP102: Secondary education | CP103: Post-secondary non-tertiary education | CP104: Tertiary education | CP105: Education not definable by level | CP11: Restaurants and hotels | CP111: Catering services | CP1111: Restaurants, cafés and the like | CP11111: Restaurants, cafés and dancing establishments | CP11112: Fast food and take away food services | CP1112: Canteens | CP112: Accommodation services | CP11201: Hotels, motels, inns and similar accommodation services | CP11202: Holiday centres, camping sites, youth hostels and similar accommodation services | CP11203: Accommodation services of other establishments | CP12: Miscellaneous goods and services | CP121: Personal care | CP1211: Hairdressing salons and personal grooming establishments | CP12111: Hairdressing for men and children | CP12112: Hairdressing for women | CP12113: Personal grooming treatments | CP1212: Electrical appliances for personal care | CP12121: Electric appliances for personal care | CP12122: Repair of electric appliances for personal care | CP1212_1213: Electrical appliances for personal care; other appliances, articles and products for personal care | CP1213: Other appliances, articles and products for personal care | CP12131: Non-electrical appliances | CP12132: Articles for personal hygiene and wellness, esoteric products and beauty products | CP123: Personal effects n.e.c. | CP1231: Jewellery, clocks and watches | CP12311: Jewellery | CP12312: Clocks and watches | CP12313: Repair of jewellery, clocks and watches | CP1232: Other personal effects | CP12321: Travel goods | CP12322: Articles for babies | CP12323: Repair of other personal effects | CP12329: Other personal effects n.e.c. | CP124: Social protection | CP12401: Child care services | CP12402: Retirement homes for elderly persons and residences for disabled persons | CP12403: Services to maintain people in their private homes | CP12404: Counselling | CP125: Insurance | CP1252: Insurance connected with the dwelling | CP1253: Insurance connected with health | CP12532: Private insurance connected with health | CP1254: Insurance connected with transport | CP12541: Motor vehicle insurance | CP12542: Travel insurance | CP1255: Other insurance | CP126: Financial services n.e.c. | CP12621: Charges by banks and post offices | CP12622: Fees and service charges of brokers, investment counsellors | CP127: Other services n.e.c. | CP12701: Administrative fees | CP12702: Legal services and accountancy | CP12703: Funeral services | CP12704: Other fees and services | EDUC_HLTH_SPR: Education, health and social protection | ELC_GAS: Electricity, gas, solid fuels and heat energy | FOOD: Food including alcohol and tobacco | FOOD_NP: Unprocessed food | FOOD_P: Processed food including alcohol and tobacco | FOOD_P_X_ALC_TBC: Processed food excluding alcohol and tobacco | FOOD_S: Seasonal food | FROOPP: Frequent out-of-pocket purchases | FUEL: Liquid fuels and fuels and lubricants for personal transport equipment | GD: Goods (overall index excluding services) | IGD: Industrial goods | IGD_NNRG: Non-energy industrial goods | IGD_NNRG_D: Non-energy industrial goods, durables only | IGD_NNRG_ND: Non-energy industrial goods, non-durables only | IGD_NNRG_SD: Non-energy industrial goods, semi-durables only | NRG: Energy | NRG_FOOD_NP: Energy and unprocessed food | NRG_FOOD_S: Energy and seasonal food | SERV: Services (overall index excluding goods) | SERV_COM: Services related to communication | SERV_HOUS: Services related to housing | SERV_MSC: Services - miscellaneous | SERV_REC: Services related to recreation, including repairs and personal care | SERV_REC_HOA: Services related to package holidays and accommodation | SERV_REC_X_HOA: Services related to recreation and personal care, excluding package holidays and accommodation | SERV_TRA: Services related to transport | TOT_X_ALC_TBC: Overall index excluding alcohol and tobacco | TOT_X_AP: Overall index excluding administered prices | TOT_X_APF: Overall index excluding fully administered prices | TOT_X_APM: Overall index excluding mainly administered prices | TOT_X_EDUC_HLTH_SPR: Overall index excluding education, health and social protection | TOT_X_FOOD_S: Overall index excluding seasonal food | TOT_X_FROOPP: Overall index excluding frequent out-of-pocket purchases | TOT_X_FUEL: Overall index excluding liquid fuels and lubricants for personal transport equipment | TOT_X_HOUS: Overall index excluding housing, water, electricity, gas and other fuels | TOT_X_NRG: Overall index excluding energy | TOT_X_NRG_FOOD: Overall index excluding energy, food, alcohol and tobacco | TOT_X_NRG_FOOD_NP: Overall index excluding energy and unprocessed food | TOT_X_NRG_FOOD_S: Overall index excluding energy and seasonal food | TOT_X_TBC: Overall index excluding tobacco\n",
      "\n",
      "geo (45):\n",
      "  AL: Albania | AT: Austria | BE: Belgium | BG: Bulgaria | CH: Switzerland | CY: Cyprus | CZ: Czechia | DE: Germany | DK: Denmark | EA: Euro area (EA11-1999, EA12-2001, EA13-2007, EA15-2008, EA16-2009, EA17-2011, EA18-2014, EA19-2015, EA20-2023) | EA19: Euro area - 19 countries  (2015-2022) | EA20: Euro area – 20 countries (from 2023) | EE: Estonia | EEA: European Economic Area (EEA18-1995, EEA28-2004, EEA30-2007, EEA31-2013, EEA30-2020) | EL: Greece | ES: Spain | EU: European Union (EU6-1958, EU9-1973, EU10-1981, EU12-1986, EU15-1995, EU25-2004, EU27-2007, EU28-2013, EU27-2020) | EU27_2020: European Union - 27 countries (from 2020) | EU28: European Union - 28 countries (2013-2020) | FI: Finland | FR: France | HR: Croatia | HU: Hungary | IE: Ireland | IS: Iceland | IT: Italy | LT: Lithuania | LU: Luxembourg | LV: Latvia | ME: Montenegro | MK: North Macedonia | MT: Malta | NL: Netherlands | NO: Norway | PL: Poland | PT: Portugal | RO: Romania | RS: Serbia | SE: Sweden | SI: Slovenia | SK: Slovakia | TR: Türkiye | UK: United Kingdom | US: United States | XK: Kosovo*\n",
      "\n",
      "time (341):\n",
      "  1997-01: 1997-01 | 1997-02: 1997-02 | 1997-03: 1997-03 | 1997-04: 1997-04 | 1997-05: 1997-05 | 1997-06: 1997-06 | 1997-07: 1997-07 | 1997-08: 1997-08 | 1997-09: 1997-09 | 1997-10: 1997-10 | 1997-11: 1997-11 | 1997-12: 1997-12 | 1998-01: 1998-01 | 1998-02: 1998-02 | 1998-03: 1998-03 | 1998-04: 1998-04 | 1998-05: 1998-05 | 1998-06: 1998-06 | 1998-07: 1998-07 | 1998-08: 1998-08 | 1998-09: 1998-09 | 1998-10: 1998-10 | 1998-11: 1998-11 | 1998-12: 1998-12 | 1999-01: 1999-01 | 1999-02: 1999-02 | 1999-03: 1999-03 | 1999-04: 1999-04 | 1999-05: 1999-05 | 1999-06: 1999-06 | 1999-07: 1999-07 | 1999-08: 1999-08 | 1999-09: 1999-09 | 1999-10: 1999-10 | 1999-11: 1999-11 | 1999-12: 1999-12 | 2000-01: 2000-01 | 2000-02: 2000-02 | 2000-03: 2000-03 | 2000-04: 2000-04 | 2000-05: 2000-05 | 2000-06: 2000-06 | 2000-07: 2000-07 | 2000-08: 2000-08 | 2000-09: 2000-09 | 2000-10: 2000-10 | 2000-11: 2000-11 | 2000-12: 2000-12 | 2001-01: 2001-01 | 2001-02: 2001-02 | 2001-03: 2001-03 | 2001-04: 2001-04 | 2001-05: 2001-05 | 2001-06: 2001-06 | 2001-07: 2001-07 | 2001-08: 2001-08 | 2001-09: 2001-09 | 2001-10: 2001-10 | 2001-11: 2001-11 | 2001-12: 2001-12 | 2002-01: 2002-01 | 2002-02: 2002-02 | 2002-03: 2002-03 | 2002-04: 2002-04 | 2002-05: 2002-05 | 2002-06: 2002-06 | 2002-07: 2002-07 | 2002-08: 2002-08 | 2002-09: 2002-09 | 2002-10: 2002-10 | 2002-11: 2002-11 | 2002-12: 2002-12 | 2003-01: 2003-01 | 2003-02: 2003-02 | 2003-03: 2003-03 | 2003-04: 2003-04 | 2003-05: 2003-05 | 2003-06: 2003-06 | 2003-07: 2003-07 | 2003-08: 2003-08 | 2003-09: 2003-09 | 2003-10: 2003-10 | 2003-11: 2003-11 | 2003-12: 2003-12 | 2004-01: 2004-01 | 2004-02: 2004-02 | 2004-03: 2004-03 | 2004-04: 2004-04 | 2004-05: 2004-05 | 2004-06: 2004-06 | 2004-07: 2004-07 | 2004-08: 2004-08 | 2004-09: 2004-09 | 2004-10: 2004-10 | 2004-11: 2004-11 | 2004-12: 2004-12 | 2005-01: 2005-01 | 2005-02: 2005-02 | 2005-03: 2005-03 | 2005-04: 2005-04 | 2005-05: 2005-05 | 2005-06: 2005-06 | 2005-07: 2005-07 | 2005-08: 2005-08 | 2005-09: 2005-09 | 2005-10: 2005-10 | 2005-11: 2005-11 | 2005-12: 2005-12 | 2006-01: 2006-01 | 2006-02: 2006-02 | 2006-03: 2006-03 | 2006-04: 2006-04 | 2006-05: 2006-05 | 2006-06: 2006-06 | 2006-07: 2006-07 | 2006-08: 2006-08 | 2006-09: 2006-09 | 2006-10: 2006-10 | 2006-11: 2006-11 | 2006-12: 2006-12 | 2007-01: 2007-01 | 2007-02: 2007-02 | 2007-03: 2007-03 | 2007-04: 2007-04 | 2007-05: 2007-05 | 2007-06: 2007-06 | 2007-07: 2007-07 | 2007-08: 2007-08 | 2007-09: 2007-09 | 2007-10: 2007-10 | 2007-11: 2007-11 | 2007-12: 2007-12 | 2008-01: 2008-01 | 2008-02: 2008-02 | 2008-03: 2008-03 | 2008-04: 2008-04 | 2008-05: 2008-05 | 2008-06: 2008-06 | 2008-07: 2008-07 | 2008-08: 2008-08 | 2008-09: 2008-09 | 2008-10: 2008-10 | 2008-11: 2008-11 | 2008-12: 2008-12 | 2009-01: 2009-01 | 2009-02: 2009-02 | 2009-03: 2009-03 | 2009-04: 2009-04 | 2009-05: 2009-05 | 2009-06: 2009-06 | 2009-07: 2009-07 | 2009-08: 2009-08 | 2009-09: 2009-09 | 2009-10: 2009-10 | 2009-11: 2009-11 | 2009-12: 2009-12 | 2010-01: 2010-01 | 2010-02: 2010-02 | 2010-03: 2010-03 | 2010-04: 2010-04 | 2010-05: 2010-05 | 2010-06: 2010-06 | 2010-07: 2010-07 | 2010-08: 2010-08 | 2010-09: 2010-09 | 2010-10: 2010-10 | 2010-11: 2010-11 | 2010-12: 2010-12 | 2011-01: 2011-01 | 2011-02: 2011-02 | 2011-03: 2011-03 | 2011-04: 2011-04 | 2011-05: 2011-05 | 2011-06: 2011-06 | 2011-07: 2011-07 | 2011-08: 2011-08 | 2011-09: 2011-09 | 2011-10: 2011-10 | 2011-11: 2011-11 | 2011-12: 2011-12 | 2012-01: 2012-01 | 2012-02: 2012-02 | 2012-03: 2012-03 | 2012-04: 2012-04 | 2012-05: 2012-05 | 2012-06: 2012-06 | 2012-07: 2012-07 | 2012-08: 2012-08 | 2012-09: 2012-09 | 2012-10: 2012-10 | 2012-11: 2012-11 | 2012-12: 2012-12 | 2013-01: 2013-01 | 2013-02: 2013-02 | 2013-03: 2013-03 | 2013-04: 2013-04 | 2013-05: 2013-05 | 2013-06: 2013-06 | 2013-07: 2013-07 | 2013-08: 2013-08 | 2013-09: 2013-09 | 2013-10: 2013-10 | 2013-11: 2013-11 | 2013-12: 2013-12 | 2014-01: 2014-01 | 2014-02: 2014-02 | 2014-03: 2014-03 | 2014-04: 2014-04 | 2014-05: 2014-05 | 2014-06: 2014-06 | 2014-07: 2014-07 | 2014-08: 2014-08 | 2014-09: 2014-09 | 2014-10: 2014-10 | 2014-11: 2014-11 | 2014-12: 2014-12 | 2015-01: 2015-01 | 2015-02: 2015-02 | 2015-03: 2015-03 | 2015-04: 2015-04 | 2015-05: 2015-05 | 2015-06: 2015-06 | 2015-07: 2015-07 | 2015-08: 2015-08 | 2015-09: 2015-09 | 2015-10: 2015-10 | 2015-11: 2015-11 | 2015-12: 2015-12 | 2016-01: 2016-01 | 2016-02: 2016-02 | 2016-03: 2016-03 | 2016-04: 2016-04 | 2016-05: 2016-05 | 2016-06: 2016-06 | 2016-07: 2016-07 | 2016-08: 2016-08 | 2016-09: 2016-09 | 2016-10: 2016-10 | 2016-11: 2016-11 | 2016-12: 2016-12 | 2017-01: 2017-01 | 2017-02: 2017-02 | 2017-03: 2017-03 | 2017-04: 2017-04 | 2017-05: 2017-05 | 2017-06: 2017-06 | 2017-07: 2017-07 | 2017-08: 2017-08 | 2017-09: 2017-09 | 2017-10: 2017-10 | 2017-11: 2017-11 | 2017-12: 2017-12 | 2018-01: 2018-01 | 2018-02: 2018-02 | 2018-03: 2018-03 | 2018-04: 2018-04 | 2018-05: 2018-05 | 2018-06: 2018-06 | 2018-07: 2018-07 | 2018-08: 2018-08 | 2018-09: 2018-09 | 2018-10: 2018-10 | 2018-11: 2018-11 | 2018-12: 2018-12 | 2019-01: 2019-01 | 2019-02: 2019-02 | 2019-03: 2019-03 | 2019-04: 2019-04 | 2019-05: 2019-05 | 2019-06: 2019-06 | 2019-07: 2019-07 | 2019-08: 2019-08 | 2019-09: 2019-09 | 2019-10: 2019-10 | 2019-11: 2019-11 | 2019-12: 2019-12 | 2020-01: 2020-01 | 2020-02: 2020-02 | 2020-03: 2020-03 | 2020-04: 2020-04 | 2020-05: 2020-05 | 2020-06: 2020-06 | 2020-07: 2020-07 | 2020-08: 2020-08 | 2020-09: 2020-09 | 2020-10: 2020-10 | 2020-11: 2020-11 | 2020-12: 2020-12 | 2021-01: 2021-01 | 2021-02: 2021-02 | 2021-03: 2021-03 | 2021-04: 2021-04 | 2021-05: 2021-05 | 2021-06: 2021-06 | 2021-07: 2021-07 | 2021-08: 2021-08 | 2021-09: 2021-09 | 2021-10: 2021-10 | 2021-11: 2021-11 | 2021-12: 2021-12 | 2022-01: 2022-01 | 2022-02: 2022-02 | 2022-03: 2022-03 | 2022-04: 2022-04 | 2022-05: 2022-05 | 2022-06: 2022-06 | 2022-07: 2022-07 | 2022-08: 2022-08 | 2022-09: 2022-09 | 2022-10: 2022-10 | 2022-11: 2022-11 | 2022-12: 2022-12 | 2023-01: 2023-01 | 2023-02: 2023-02 | 2023-03: 2023-03 | 2023-04: 2023-04 | 2023-05: 2023-05 | 2023-06: 2023-06 | 2023-07: 2023-07 | 2023-08: 2023-08 | 2023-09: 2023-09 | 2023-10: 2023-10 | 2023-11: 2023-11 | 2023-12: 2023-12 | 2024-01: 2024-01 | 2024-02: 2024-02 | 2024-03: 2024-03 | 2024-04: 2024-04 | 2024-05: 2024-05 | 2024-06: 2024-06 | 2024-07: 2024-07 | 2024-08: 2024-08 | 2024-09: 2024-09 | 2024-10: 2024-10 | 2024-11: 2024-11 | 2024-12: 2024-12 | 2025-01: 2025-01 | 2025-02: 2025-02 | 2025-03: 2025-03 | 2025-04: 2025-04 | 2025-05: 2025-05\n",
      "\n"
     ]
    }
   ],
   "source": [
    "for dim, details in data[\"dimension\"].items():\n",
    "    labels = details[\"category\"][\"label\"]\n",
    "    print(f\"{dim} ({len(labels)}):\")\n",
    "    print(\"  \" + \" | \".join(f\"{code}: {label}\" for code, label in sorted(labels.items())))\n",
    "    print()\n"
   ]
  },
  {
   "cell_type": "code",
   "execution_count": 22,
   "metadata": {},
   "outputs": [
    {
     "name": "stdout",
     "output_type": "stream",
     "text": [
      "freq: 1 items\n",
      "unit: 3 items\n",
      "coicop: 468 items\n",
      "geo: 45 items\n",
      "time: 353 items\n",
      "I05: Index, 2005=100\n",
      "I15: Index, 2015=100\n",
      "I96: Index, 1996=100\n"
     ]
    }
   ],
   "source": [
    "# Guarda quante categorie ci sono per ogni dimensione\n",
    "for dim, details in data[\"dimension\"].items():\n",
    "    print(f\"{dim}: {len(details['category']['index'])} items\")\n",
    "\n",
    "labels = data[\"dimension\"][\"unit\"][\"category\"][\"label\"]\n",
    "for code, label in sorted(labels.items()):\n",
    "    print(f\"{code}: {label}\")"
   ]
  },
  {
   "cell_type": "raw",
   "metadata": {
    "vscode": {
     "languageId": "raw"
    }
   },
   "source": [
    "#script universale \n",
    "\n",
    "import pandas as pd\n",
    "from itertools import product\n",
    "\n",
    "# Estrai struttura dimensionale\n",
    "dimensions = data[\"dimension\"]\n",
    "dimension_order = data[\"id\"]  # es. ['freq', 'unit', 'geo', 'time']\n",
    "dimension_labels = {\n",
    "    dim: dimensions[dim][\"category\"][\"label\"] for dim in dimension_order\n",
    "}\n",
    "dimension_keys = {\n",
    "    dim: list(dimension_labels[dim].keys()) for dim in dimension_order\n",
    "}\n",
    "\n",
    "# Crea combinazioni di indici (es. [0, 1, 0, 2, 5])\n",
    "index_combinations = list(product(*[range(len(dimension_keys[dim])) for dim in dimension_order]))\n",
    "\n",
    "# Crea combinazioni di etichette leggibili\n",
    "label_combinations = list(product(*[dimension_keys[dim] for dim in dimension_order]))\n",
    "\n",
    "# Ricostruzione valori\n",
    "records = []\n",
    "value_dict = data[\"value\"]\n",
    "for i, keys in enumerate(label_combinations):\n",
    "    if str(i) in value_dict:\n",
    "        entry = {\n",
    "            dim: dimension_labels[dim][key] for dim, key in zip(dimension_order, keys)\n",
    "        }\n",
    "        entry[\"value\"] = value_dict[str(i)]\n",
    "        records.append(entry)\n",
    "\n",
    "# Costruzione finale\n",
    "df = pd.DataFrame(records)\n",
    "print(df.columns.tolist())\n"
   ]
  },
  {
   "cell_type": "code",
   "execution_count": 11,
   "metadata": {},
   "outputs": [
    {
     "data": {
      "text/plain": [
       "(1851, 6)"
      ]
     },
     "execution_count": null,
     "metadata": {},
     "output_type": "execute_result"
    }
   ],
   "source": [
    "df.shape"
   ]
  },
  {
   "cell_type": "code",
   "execution_count": null,
   "metadata": {},
   "outputs": [],
   "source": [
    "print(len(data[\"value\"]))  # Dovrebbe essere 13916\n",
    "print(df[\"geo\"].unique())  # Controlla se hai solo 'IT'\n",
    "print(df[\"coicop\"].nunique())  # Quanti coicop diversi sono rimasti?\n",
    "print(df[\"time\"].nunique())  # Dovrebbero essere 341 mesi\n"
   ]
  }
 ],
 "metadata": {
  "language_info": {
   "name": "python"
  }
 },
 "nbformat": 4,
 "nbformat_minor": 2
}
