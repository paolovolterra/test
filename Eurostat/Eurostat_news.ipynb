{
 "cells": [
  {
   "cell_type": "code",
   "execution_count": 5,
   "metadata": {},
   "outputs": [],
   "source": [
    "import feedparser\n",
    "import pandas as pd\n",
    "from datetime import datetime\n",
    "\n",
    "# URL del feed RSS ufficiale Eurostat\n",
    "rss_url = \"https://ec.europa.eu/eurostat/api/dissemination/catalogue/rss/en/statistics-update.rss\"\n",
    "today_str = datetime.utcnow().strftime('%Y-%m-%d')\n",
    "csv_file = f\"eurostat_updates_{today_str}.csv\""
   ]
  },
  {
   "cell_type": "code",
   "execution_count": 4,
   "metadata": {},
   "outputs": [
    {
     "ename": "KeyError",
     "evalue": "'title'",
     "output_type": "error",
     "traceback": [
      "\u001b[1;31m---------------------------------------------------------------------------\u001b[0m\n",
      "\u001b[1;31mKeyError\u001b[0m                                  Traceback (most recent call last)\n",
      "Cell \u001b[1;32mIn[4], line 14\u001b[0m\n",
      "\u001b[0;32m     12\u001b[0m \u001b[38;5;66;03m# DataFrame e dataset_id\u001b[39;00m\n",
      "\u001b[0;32m     13\u001b[0m df \u001b[38;5;241m=\u001b[39m pd\u001b[38;5;241m.\u001b[39mDataFrame(records)\n",
      "\u001b[1;32m---> 14\u001b[0m df[\u001b[38;5;124m'\u001b[39m\u001b[38;5;124mdataset_id\u001b[39m\u001b[38;5;124m'\u001b[39m] \u001b[38;5;241m=\u001b[39m \u001b[43mdf\u001b[49m\u001b[43m[\u001b[49m\u001b[38;5;124;43m'\u001b[39;49m\u001b[38;5;124;43mtitle\u001b[39;49m\u001b[38;5;124;43m'\u001b[39;49m\u001b[43m]\u001b[49m\u001b[38;5;241m.\u001b[39mstr\u001b[38;5;241m.\u001b[39msplit(\u001b[38;5;124m'\u001b[39m\u001b[38;5;124m - \u001b[39m\u001b[38;5;124m'\u001b[39m)\u001b[38;5;241m.\u001b[39mstr[\u001b[38;5;241m0\u001b[39m]\u001b[38;5;241m.\u001b[39mstr\u001b[38;5;241m.\u001b[39mstrip()\n",
      "\u001b[0;32m     16\u001b[0m \u001b[38;5;66;03m# Riordina le colonne\u001b[39;00m\n",
      "\u001b[0;32m     17\u001b[0m df \u001b[38;5;241m=\u001b[39m df[[\u001b[38;5;124m'\u001b[39m\u001b[38;5;124mpublished\u001b[39m\u001b[38;5;124m'\u001b[39m, \u001b[38;5;124m'\u001b[39m\u001b[38;5;124mdataset_id\u001b[39m\u001b[38;5;124m'\u001b[39m, \u001b[38;5;124m'\u001b[39m\u001b[38;5;124mtitle\u001b[39m\u001b[38;5;124m'\u001b[39m, \u001b[38;5;124m'\u001b[39m\u001b[38;5;124mdescription\u001b[39m\u001b[38;5;124m'\u001b[39m, \u001b[38;5;124m'\u001b[39m\u001b[38;5;124mlink\u001b[39m\u001b[38;5;124m'\u001b[39m]]\n",
      "\n",
      "File \u001b[1;32m~\\AppData\\Local\\Programs\\Python\\Python311\\Lib\\site-packages\\pandas\\core\\frame.py:4102\u001b[0m, in \u001b[0;36mDataFrame.__getitem__\u001b[1;34m(self, key)\u001b[0m\n",
      "\u001b[0;32m   4100\u001b[0m \u001b[38;5;28;01mif\u001b[39;00m \u001b[38;5;28mself\u001b[39m\u001b[38;5;241m.\u001b[39mcolumns\u001b[38;5;241m.\u001b[39mnlevels \u001b[38;5;241m>\u001b[39m \u001b[38;5;241m1\u001b[39m:\n",
      "\u001b[0;32m   4101\u001b[0m     \u001b[38;5;28;01mreturn\u001b[39;00m \u001b[38;5;28mself\u001b[39m\u001b[38;5;241m.\u001b[39m_getitem_multilevel(key)\n",
      "\u001b[1;32m-> 4102\u001b[0m indexer \u001b[38;5;241m=\u001b[39m \u001b[38;5;28;43mself\u001b[39;49m\u001b[38;5;241;43m.\u001b[39;49m\u001b[43mcolumns\u001b[49m\u001b[38;5;241;43m.\u001b[39;49m\u001b[43mget_loc\u001b[49m\u001b[43m(\u001b[49m\u001b[43mkey\u001b[49m\u001b[43m)\u001b[49m\n",
      "\u001b[0;32m   4103\u001b[0m \u001b[38;5;28;01mif\u001b[39;00m is_integer(indexer):\n",
      "\u001b[0;32m   4104\u001b[0m     indexer \u001b[38;5;241m=\u001b[39m [indexer]\n",
      "\n",
      "File \u001b[1;32m~\\AppData\\Local\\Programs\\Python\\Python311\\Lib\\site-packages\\pandas\\core\\indexes\\range.py:417\u001b[0m, in \u001b[0;36mRangeIndex.get_loc\u001b[1;34m(self, key)\u001b[0m\n",
      "\u001b[0;32m    415\u001b[0m         \u001b[38;5;28;01mraise\u001b[39;00m \u001b[38;5;167;01mKeyError\u001b[39;00m(key) \u001b[38;5;28;01mfrom\u001b[39;00m\u001b[38;5;250m \u001b[39m\u001b[38;5;21;01merr\u001b[39;00m\n",
      "\u001b[0;32m    416\u001b[0m \u001b[38;5;28;01mif\u001b[39;00m \u001b[38;5;28misinstance\u001b[39m(key, Hashable):\n",
      "\u001b[1;32m--> 417\u001b[0m     \u001b[38;5;28;01mraise\u001b[39;00m \u001b[38;5;167;01mKeyError\u001b[39;00m(key)\n",
      "\u001b[0;32m    418\u001b[0m \u001b[38;5;28mself\u001b[39m\u001b[38;5;241m.\u001b[39m_check_indexing_error(key)\n",
      "\u001b[0;32m    419\u001b[0m \u001b[38;5;28;01mraise\u001b[39;00m \u001b[38;5;167;01mKeyError\u001b[39;00m(key)\n",
      "\n",
      "\u001b[1;31mKeyError\u001b[0m: 'title'"
     ]
    }
   ],
   "source": [
    "# Parsing feed RSS\n",
    "feed = feedparser.parse(rss_url)\n",
    "records = []\n",
    "for entry in feed.entries:\n",
    "    records.append({\n",
    "        'published': entry.published,\n",
    "        'title': entry.title,\n",
    "        'description': entry.get('description', '').strip(),\n",
    "        'link': entry.link\n",
    "    })\n",
    "\n",
    "# DataFrame e dataset_id\n",
    "df = pd.DataFrame(records)\n",
    "df['dataset_id'] = df['title'].str.split(' - ').str[0].str.strip()\n",
    "\n",
    "# Riordina le colonne\n",
    "df = df[['published', 'dataset_id', 'title', 'description', 'link']]\n",
    "df = df.sort_values('published', ascending=False)\n",
    "\n",
    "# Salva su CSV\n",
    "df.to_csv(csv_file, index=False)\n",
    "\n",
    "# Calcolo larghezze colonne per allineamento a sinistra\n",
    "col_widths = {\n",
    "    'published': 20,\n",
    "    'dataset_id': max(df['dataset_id'].str.len().max(), 10),\n",
    "    'title': min(max(df['title'].str.len().max(), 40), 60),\n",
    "    'description': min(max(df['description'].str.len().max(), 50), 80),\n",
    "    'link': min(max(df['link'].str.len().max(), 40), 80)\n",
    "}\n",
    "\n",
    "# Intestazioni\n",
    "print(\n",
    "    f\"{'published'.ljust(col_widths['published'])}  \"\n",
    "    f\"{'dataset_id'.ljust(col_widths['dataset_id'])}  \"\n",
    "    f\"{'title'.ljust(col_widths['title'])}  \"\n",
    "    f\"{'description'.ljust(col_widths['description'])}  \"\n",
    "    f\"{'link'.ljust(col_widths['link'])}\"\n",
    ")\n",
    "\n",
    "# Separatore\n",
    "total_width = sum(col_widths.values()) + 8\n",
    "print('-' * total_width)\n",
    "\n",
    "# Prime righe\n",
    "for _, row in df.head(1000).iterrows():\n",
    "    print(\n",
    "        f\"{row['published'].ljust(col_widths['published'])}  \"\n",
    "        f\"{row['dataset_id'].ljust(col_widths['dataset_id'])}  \"\n",
    "        f\"{row['description'].ljust(col_widths['description'])}  \"\n",
    "        f\"{row['link'].ljust(col_widths['link'])}\"\n",
    "    )\n"
   ]
  },
  {
   "cell_type": "code",
   "execution_count": null,
   "metadata": {},
   "outputs": [],
   "source": []
  }
 ],
 "metadata": {
  "language_info": {
   "name": "python"
  }
 },
 "nbformat": 4,
 "nbformat_minor": 2
}
